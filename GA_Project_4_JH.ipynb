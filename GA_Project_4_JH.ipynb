{
 "cells": [
  {
   "cell_type": "markdown",
   "metadata": {
    "id": "2N9RHJ8foS8n"
   },
   "source": [
    "# GA Project 4: West Nile virus\n",
    "by: Nicholas Lim, Kwek Jun Hong, Malcolm Lau\n",
    "***\n",
    "\n",
    "[workflow gsheet](https://docs.google.com/spreadsheets/d/1-xSVNsQZX-uWmbI-ublY9yNhlsWAwXqziErKFpnPgpg/edit?usp=sharing)"
   ]
  },
  {
   "cell_type": "markdown",
   "metadata": {
    "id": "HbeW-JbtqKN7"
   },
   "source": [
    "# Background\n",
    "***\n",
    "The city of Chicago has been having to deal with seasonal upticks of incidences of the West Nile virus, and it is becoming a health hazard. We have been tasked by the Chicago Department of Public Health to come up with a predictive model to identify locations where mosquitoes would have a higher chance of carrying the disease, so that resources can be effectively allocated to stop its spread.\n",
    "\n",
    "One of the more efficient ways to prevent the disease would be to spray Zenivex, a pesticide, and by identifying the potential hotspots we can find an effective balance between preventability and cost. To this end, we will be examining the [West Nile Virus dataset](www.kaggle.com/c/predict-west-nile-virus/data) to train a model which can effectively predict the prevalence of the virus in certain areas.\n",
    "\n"
   ]
  },
  {
   "cell_type": "markdown",
   "metadata": {
    "id": "Xnt4uGqkqMU7"
   },
   "source": [
    "# Problem Statement\n",
    "***\n",
    "To train a model which can predict the prevalence of the West Nile virus amongst mosquitoes within the Chicago city area, and to run a cost-benefit analysis to determine the most effective way to apply pesticides."
   ]
  },
  {
   "cell_type": "markdown",
   "metadata": {
    "id": "pBNKkV3h9CqU"
   },
   "source": [
    "# Imports"
   ]
  },
  {
   "cell_type": "code",
   "execution_count": 36,
   "metadata": {
    "ExecuteTime": {
     "end_time": "2022-01-31T02:10:05.181448Z",
     "start_time": "2022-01-31T02:10:05.177467Z"
    },
    "id": "4Z--CRVh9FBU"
   },
   "outputs": [],
   "source": [
    "# fabulous four\n",
    "import numpy as np\n",
    "import pandas as pd\n",
    "import matplotlib.pyplot as plt\n",
    "import seaborn as sns\n",
    "\n",
    "import re\n",
    "import time\n",
    "\n",
    "# Machine Learning Libraries\n",
    "from sklearn.model_selection import train_test_split , GridSearchCV\n",
    "from sklearn.metrics import f1_score , recall_score , accuracy_score , precision_score , roc_auc_score , confusion_matrix , plot_roc_curve\n",
    "from sklearn.ensemble import RandomForestClassifier , GradientBoostingClassifier\n",
    "from xgboost import XGBClassifier\n",
    "from sklearn.linear_model import LogisticRegression\n",
    "from sklearn.svm import LinearSVC, SVC\n",
    "from sklearn.naive_bayes import BernoulliNB\n",
    "from sklearn.pipeline import Pipeline\n",
    "from sklearn.preprocessing import StandardScaler\n",
    "from imblearn.over_sampling import SMOTE\n",
    "from imblearn.pipeline import Pipeline as imblearnpipe"
   ]
  },
  {
   "cell_type": "markdown",
   "metadata": {
    "id": "ZFrxlDZd85yu"
   },
   "source": [
    "# Load Data"
   ]
  },
  {
   "cell_type": "markdown",
   "metadata": {
    "id": "WbXXoH5YJDfH"
   },
   "source": [
    "We can start by cleaning up the column names. We can create a function to clean them at one go. This function will\n",
    "1. remove whitespaces at the front and end\n",
    "2. change whitespaces in the middle to `_`\n",
    "3. change capitals to lowercase"
   ]
  },
  {
   "cell_type": "code",
   "execution_count": 37,
   "metadata": {
    "ExecuteTime": {
     "end_time": "2022-01-31T02:10:06.292593Z",
     "start_time": "2022-01-31T02:10:06.279592Z"
    },
    "id": "d_bL6tfRBMCI"
   },
   "outputs": [],
   "source": [
    "def pythonic_cols(df):\n",
    "  new_cols = [re.sub(r'(?<!^)(?=[A-Z])', '_', name).strip().lower() for name in df.columns]\n",
    "  df.columns = new_cols"
   ]
  },
  {
   "cell_type": "code",
   "execution_count": 38,
   "metadata": {
    "ExecuteTime": {
     "end_time": "2022-01-31T02:10:07.431776Z",
     "start_time": "2022-01-31T02:10:07.398866Z"
    },
    "colab": {
     "base_uri": "https://localhost:8080/",
     "height": 206
    },
    "id": "caiqLYuTJOBx",
    "outputId": "d6a330ee-1a98-47cc-aa02-3b4b0f7f60d5"
   },
   "outputs": [
    {
     "data": {
      "text/html": [
       "<div>\n",
       "<style scoped>\n",
       "    .dataframe tbody tr th:only-of-type {\n",
       "        vertical-align: middle;\n",
       "    }\n",
       "\n",
       "    .dataframe tbody tr th {\n",
       "        vertical-align: top;\n",
       "    }\n",
       "\n",
       "    .dataframe thead th {\n",
       "        text-align: right;\n",
       "    }\n",
       "</style>\n",
       "<table border=\"1\" class=\"dataframe\">\n",
       "  <thead>\n",
       "    <tr style=\"text-align: right;\">\n",
       "      <th></th>\n",
       "      <th>date</th>\n",
       "      <th>address</th>\n",
       "      <th>species</th>\n",
       "      <th>block</th>\n",
       "      <th>street</th>\n",
       "      <th>trap</th>\n",
       "      <th>address_number_and_street</th>\n",
       "      <th>latitude</th>\n",
       "      <th>longitude</th>\n",
       "      <th>address_accuracy</th>\n",
       "      <th>num_mosquitos</th>\n",
       "      <th>wnv_present</th>\n",
       "    </tr>\n",
       "  </thead>\n",
       "  <tbody>\n",
       "    <tr>\n",
       "      <th>0</th>\n",
       "      <td>2007-05-29</td>\n",
       "      <td>4100 North Oak Park Avenue, Chicago, IL 60634,...</td>\n",
       "      <td>CULEX PIPIENS/RESTUANS</td>\n",
       "      <td>41</td>\n",
       "      <td>N OAK PARK AVE</td>\n",
       "      <td>T002</td>\n",
       "      <td>4100  N OAK PARK AVE, Chicago, IL</td>\n",
       "      <td>41.954690</td>\n",
       "      <td>-87.800991</td>\n",
       "      <td>9</td>\n",
       "      <td>1</td>\n",
       "      <td>0</td>\n",
       "    </tr>\n",
       "    <tr>\n",
       "      <th>1</th>\n",
       "      <td>2007-05-29</td>\n",
       "      <td>4100 North Oak Park Avenue, Chicago, IL 60634,...</td>\n",
       "      <td>CULEX RESTUANS</td>\n",
       "      <td>41</td>\n",
       "      <td>N OAK PARK AVE</td>\n",
       "      <td>T002</td>\n",
       "      <td>4100  N OAK PARK AVE, Chicago, IL</td>\n",
       "      <td>41.954690</td>\n",
       "      <td>-87.800991</td>\n",
       "      <td>9</td>\n",
       "      <td>1</td>\n",
       "      <td>0</td>\n",
       "    </tr>\n",
       "    <tr>\n",
       "      <th>2</th>\n",
       "      <td>2007-05-29</td>\n",
       "      <td>6200 North Mandell Avenue, Chicago, IL 60646, USA</td>\n",
       "      <td>CULEX RESTUANS</td>\n",
       "      <td>62</td>\n",
       "      <td>N MANDELL AVE</td>\n",
       "      <td>T007</td>\n",
       "      <td>6200  N MANDELL AVE, Chicago, IL</td>\n",
       "      <td>41.994991</td>\n",
       "      <td>-87.769279</td>\n",
       "      <td>9</td>\n",
       "      <td>1</td>\n",
       "      <td>0</td>\n",
       "    </tr>\n",
       "    <tr>\n",
       "      <th>3</th>\n",
       "      <td>2007-05-29</td>\n",
       "      <td>7900 West Foster Avenue, Chicago, IL 60656, USA</td>\n",
       "      <td>CULEX PIPIENS/RESTUANS</td>\n",
       "      <td>79</td>\n",
       "      <td>W FOSTER AVE</td>\n",
       "      <td>T015</td>\n",
       "      <td>7900  W FOSTER AVE, Chicago, IL</td>\n",
       "      <td>41.974089</td>\n",
       "      <td>-87.824812</td>\n",
       "      <td>8</td>\n",
       "      <td>1</td>\n",
       "      <td>0</td>\n",
       "    </tr>\n",
       "    <tr>\n",
       "      <th>4</th>\n",
       "      <td>2007-05-29</td>\n",
       "      <td>7900 West Foster Avenue, Chicago, IL 60656, USA</td>\n",
       "      <td>CULEX RESTUANS</td>\n",
       "      <td>79</td>\n",
       "      <td>W FOSTER AVE</td>\n",
       "      <td>T015</td>\n",
       "      <td>7900  W FOSTER AVE, Chicago, IL</td>\n",
       "      <td>41.974089</td>\n",
       "      <td>-87.824812</td>\n",
       "      <td>8</td>\n",
       "      <td>4</td>\n",
       "      <td>0</td>\n",
       "    </tr>\n",
       "  </tbody>\n",
       "</table>\n",
       "</div>"
      ],
      "text/plain": [
       "         date                                            address  \\\n",
       "0  2007-05-29  4100 North Oak Park Avenue, Chicago, IL 60634,...   \n",
       "1  2007-05-29  4100 North Oak Park Avenue, Chicago, IL 60634,...   \n",
       "2  2007-05-29  6200 North Mandell Avenue, Chicago, IL 60646, USA   \n",
       "3  2007-05-29    7900 West Foster Avenue, Chicago, IL 60656, USA   \n",
       "4  2007-05-29    7900 West Foster Avenue, Chicago, IL 60656, USA   \n",
       "\n",
       "                  species  block           street  trap  \\\n",
       "0  CULEX PIPIENS/RESTUANS     41   N OAK PARK AVE  T002   \n",
       "1          CULEX RESTUANS     41   N OAK PARK AVE  T002   \n",
       "2          CULEX RESTUANS     62    N MANDELL AVE  T007   \n",
       "3  CULEX PIPIENS/RESTUANS     79     W FOSTER AVE  T015   \n",
       "4          CULEX RESTUANS     79     W FOSTER AVE  T015   \n",
       "\n",
       "           address_number_and_street   latitude  longitude  address_accuracy  \\\n",
       "0  4100  N OAK PARK AVE, Chicago, IL  41.954690 -87.800991                 9   \n",
       "1  4100  N OAK PARK AVE, Chicago, IL  41.954690 -87.800991                 9   \n",
       "2   6200  N MANDELL AVE, Chicago, IL  41.994991 -87.769279                 9   \n",
       "3    7900  W FOSTER AVE, Chicago, IL  41.974089 -87.824812                 8   \n",
       "4    7900  W FOSTER AVE, Chicago, IL  41.974089 -87.824812                 8   \n",
       "\n",
       "   num_mosquitos  wnv_present  \n",
       "0              1            0  \n",
       "1              1            0  \n",
       "2              1            0  \n",
       "3              1            0  \n",
       "4              4            0  "
      ]
     },
     "execution_count": 38,
     "metadata": {},
     "output_type": "execute_result"
    }
   ],
   "source": [
    "train = pd.read_csv('data/train.csv')\n",
    "pythonic_cols(train)\n",
    "train.head()"
   ]
  },
  {
   "cell_type": "code",
   "execution_count": 39,
   "metadata": {
    "ExecuteTime": {
     "end_time": "2022-01-31T02:10:09.378552Z",
     "start_time": "2022-01-31T02:10:09.335542Z"
    },
    "colab": {
     "base_uri": "https://localhost:8080/",
     "height": 424
    },
    "id": "EJLPKdz79zI6",
    "outputId": "299fd3e3-facb-4e65-da9a-05ac0562bc46",
    "tags": []
   },
   "outputs": [
    {
     "data": {
      "text/html": [
       "<div>\n",
       "<style scoped>\n",
       "    .dataframe tbody tr th:only-of-type {\n",
       "        vertical-align: middle;\n",
       "    }\n",
       "\n",
       "    .dataframe tbody tr th {\n",
       "        vertical-align: top;\n",
       "    }\n",
       "\n",
       "    .dataframe thead th {\n",
       "        text-align: right;\n",
       "    }\n",
       "</style>\n",
       "<table border=\"1\" class=\"dataframe\">\n",
       "  <thead>\n",
       "    <tr style=\"text-align: right;\">\n",
       "      <th></th>\n",
       "      <th>station</th>\n",
       "      <th>date</th>\n",
       "      <th>tmax</th>\n",
       "      <th>tmin</th>\n",
       "      <th>tavg</th>\n",
       "      <th>depart</th>\n",
       "      <th>dew_point</th>\n",
       "      <th>wet_bulb</th>\n",
       "      <th>heat</th>\n",
       "      <th>cool</th>\n",
       "      <th>...</th>\n",
       "      <th>code_sum</th>\n",
       "      <th>depth</th>\n",
       "      <th>water1</th>\n",
       "      <th>snow_fall</th>\n",
       "      <th>precip_total</th>\n",
       "      <th>stn_pressure</th>\n",
       "      <th>sea_level</th>\n",
       "      <th>result_speed</th>\n",
       "      <th>result_dir</th>\n",
       "      <th>avg_speed</th>\n",
       "    </tr>\n",
       "  </thead>\n",
       "  <tbody>\n",
       "    <tr>\n",
       "      <th>0</th>\n",
       "      <td>1</td>\n",
       "      <td>2007-05-01</td>\n",
       "      <td>83</td>\n",
       "      <td>50</td>\n",
       "      <td>67</td>\n",
       "      <td>14</td>\n",
       "      <td>51</td>\n",
       "      <td>56</td>\n",
       "      <td>0</td>\n",
       "      <td>2</td>\n",
       "      <td>...</td>\n",
       "      <td></td>\n",
       "      <td>0</td>\n",
       "      <td>M</td>\n",
       "      <td>0.0</td>\n",
       "      <td>0.00</td>\n",
       "      <td>29.10</td>\n",
       "      <td>29.82</td>\n",
       "      <td>1.7</td>\n",
       "      <td>27</td>\n",
       "      <td>9.2</td>\n",
       "    </tr>\n",
       "    <tr>\n",
       "      <th>1</th>\n",
       "      <td>2</td>\n",
       "      <td>2007-05-01</td>\n",
       "      <td>84</td>\n",
       "      <td>52</td>\n",
       "      <td>68</td>\n",
       "      <td>M</td>\n",
       "      <td>51</td>\n",
       "      <td>57</td>\n",
       "      <td>0</td>\n",
       "      <td>3</td>\n",
       "      <td>...</td>\n",
       "      <td></td>\n",
       "      <td>M</td>\n",
       "      <td>M</td>\n",
       "      <td>M</td>\n",
       "      <td>0.00</td>\n",
       "      <td>29.18</td>\n",
       "      <td>29.82</td>\n",
       "      <td>2.7</td>\n",
       "      <td>25</td>\n",
       "      <td>9.6</td>\n",
       "    </tr>\n",
       "    <tr>\n",
       "      <th>2</th>\n",
       "      <td>1</td>\n",
       "      <td>2007-05-02</td>\n",
       "      <td>59</td>\n",
       "      <td>42</td>\n",
       "      <td>51</td>\n",
       "      <td>-3</td>\n",
       "      <td>42</td>\n",
       "      <td>47</td>\n",
       "      <td>14</td>\n",
       "      <td>0</td>\n",
       "      <td>...</td>\n",
       "      <td>BR</td>\n",
       "      <td>0</td>\n",
       "      <td>M</td>\n",
       "      <td>0.0</td>\n",
       "      <td>0.00</td>\n",
       "      <td>29.38</td>\n",
       "      <td>30.09</td>\n",
       "      <td>13.0</td>\n",
       "      <td>4</td>\n",
       "      <td>13.4</td>\n",
       "    </tr>\n",
       "    <tr>\n",
       "      <th>3</th>\n",
       "      <td>2</td>\n",
       "      <td>2007-05-02</td>\n",
       "      <td>60</td>\n",
       "      <td>43</td>\n",
       "      <td>52</td>\n",
       "      <td>M</td>\n",
       "      <td>42</td>\n",
       "      <td>47</td>\n",
       "      <td>13</td>\n",
       "      <td>0</td>\n",
       "      <td>...</td>\n",
       "      <td>BR HZ</td>\n",
       "      <td>M</td>\n",
       "      <td>M</td>\n",
       "      <td>M</td>\n",
       "      <td>0.00</td>\n",
       "      <td>29.44</td>\n",
       "      <td>30.08</td>\n",
       "      <td>13.3</td>\n",
       "      <td>2</td>\n",
       "      <td>13.4</td>\n",
       "    </tr>\n",
       "    <tr>\n",
       "      <th>4</th>\n",
       "      <td>1</td>\n",
       "      <td>2007-05-03</td>\n",
       "      <td>66</td>\n",
       "      <td>46</td>\n",
       "      <td>56</td>\n",
       "      <td>2</td>\n",
       "      <td>40</td>\n",
       "      <td>48</td>\n",
       "      <td>9</td>\n",
       "      <td>0</td>\n",
       "      <td>...</td>\n",
       "      <td></td>\n",
       "      <td>0</td>\n",
       "      <td>M</td>\n",
       "      <td>0.0</td>\n",
       "      <td>0.00</td>\n",
       "      <td>29.39</td>\n",
       "      <td>30.12</td>\n",
       "      <td>11.7</td>\n",
       "      <td>7</td>\n",
       "      <td>11.9</td>\n",
       "    </tr>\n",
       "    <tr>\n",
       "      <th>...</th>\n",
       "      <td>...</td>\n",
       "      <td>...</td>\n",
       "      <td>...</td>\n",
       "      <td>...</td>\n",
       "      <td>...</td>\n",
       "      <td>...</td>\n",
       "      <td>...</td>\n",
       "      <td>...</td>\n",
       "      <td>...</td>\n",
       "      <td>...</td>\n",
       "      <td>...</td>\n",
       "      <td>...</td>\n",
       "      <td>...</td>\n",
       "      <td>...</td>\n",
       "      <td>...</td>\n",
       "      <td>...</td>\n",
       "      <td>...</td>\n",
       "      <td>...</td>\n",
       "      <td>...</td>\n",
       "      <td>...</td>\n",
       "      <td>...</td>\n",
       "    </tr>\n",
       "    <tr>\n",
       "      <th>2939</th>\n",
       "      <td>2</td>\n",
       "      <td>2014-10-29</td>\n",
       "      <td>49</td>\n",
       "      <td>40</td>\n",
       "      <td>45</td>\n",
       "      <td>M</td>\n",
       "      <td>34</td>\n",
       "      <td>42</td>\n",
       "      <td>20</td>\n",
       "      <td>0</td>\n",
       "      <td>...</td>\n",
       "      <td></td>\n",
       "      <td>M</td>\n",
       "      <td>M</td>\n",
       "      <td>M</td>\n",
       "      <td>0.00</td>\n",
       "      <td>29.42</td>\n",
       "      <td>30.07</td>\n",
       "      <td>8.5</td>\n",
       "      <td>29</td>\n",
       "      <td>9.0</td>\n",
       "    </tr>\n",
       "    <tr>\n",
       "      <th>2940</th>\n",
       "      <td>1</td>\n",
       "      <td>2014-10-30</td>\n",
       "      <td>51</td>\n",
       "      <td>32</td>\n",
       "      <td>42</td>\n",
       "      <td>-4</td>\n",
       "      <td>34</td>\n",
       "      <td>40</td>\n",
       "      <td>23</td>\n",
       "      <td>0</td>\n",
       "      <td>...</td>\n",
       "      <td></td>\n",
       "      <td>0</td>\n",
       "      <td>M</td>\n",
       "      <td>0.0</td>\n",
       "      <td>0.00</td>\n",
       "      <td>29.34</td>\n",
       "      <td>30.09</td>\n",
       "      <td>5.1</td>\n",
       "      <td>24</td>\n",
       "      <td>5.5</td>\n",
       "    </tr>\n",
       "    <tr>\n",
       "      <th>2941</th>\n",
       "      <td>2</td>\n",
       "      <td>2014-10-30</td>\n",
       "      <td>53</td>\n",
       "      <td>37</td>\n",
       "      <td>45</td>\n",
       "      <td>M</td>\n",
       "      <td>35</td>\n",
       "      <td>42</td>\n",
       "      <td>20</td>\n",
       "      <td>0</td>\n",
       "      <td>...</td>\n",
       "      <td>RA</td>\n",
       "      <td>M</td>\n",
       "      <td>M</td>\n",
       "      <td>M</td>\n",
       "      <td>T</td>\n",
       "      <td>29.41</td>\n",
       "      <td>30.10</td>\n",
       "      <td>5.9</td>\n",
       "      <td>23</td>\n",
       "      <td>6.5</td>\n",
       "    </tr>\n",
       "    <tr>\n",
       "      <th>2942</th>\n",
       "      <td>1</td>\n",
       "      <td>2014-10-31</td>\n",
       "      <td>47</td>\n",
       "      <td>33</td>\n",
       "      <td>40</td>\n",
       "      <td>-6</td>\n",
       "      <td>25</td>\n",
       "      <td>33</td>\n",
       "      <td>25</td>\n",
       "      <td>0</td>\n",
       "      <td>...</td>\n",
       "      <td>RA SN</td>\n",
       "      <td>0</td>\n",
       "      <td>M</td>\n",
       "      <td>0.1</td>\n",
       "      <td>0.03</td>\n",
       "      <td>29.49</td>\n",
       "      <td>30.20</td>\n",
       "      <td>22.6</td>\n",
       "      <td>34</td>\n",
       "      <td>22.9</td>\n",
       "    </tr>\n",
       "    <tr>\n",
       "      <th>2943</th>\n",
       "      <td>2</td>\n",
       "      <td>2014-10-31</td>\n",
       "      <td>49</td>\n",
       "      <td>34</td>\n",
       "      <td>42</td>\n",
       "      <td>M</td>\n",
       "      <td>29</td>\n",
       "      <td>36</td>\n",
       "      <td>23</td>\n",
       "      <td>0</td>\n",
       "      <td>...</td>\n",
       "      <td>RA SN BR</td>\n",
       "      <td>M</td>\n",
       "      <td>M</td>\n",
       "      <td>M</td>\n",
       "      <td>0.04</td>\n",
       "      <td>29.54</td>\n",
       "      <td>30.20</td>\n",
       "      <td>21.7</td>\n",
       "      <td>34</td>\n",
       "      <td>22.6</td>\n",
       "    </tr>\n",
       "  </tbody>\n",
       "</table>\n",
       "<p>2944 rows × 22 columns</p>\n",
       "</div>"
      ],
      "text/plain": [
       "      station        date  tmax  tmin tavg depart  dew_point wet_bulb heat  \\\n",
       "0           1  2007-05-01    83    50   67     14         51       56    0   \n",
       "1           2  2007-05-01    84    52   68      M         51       57    0   \n",
       "2           1  2007-05-02    59    42   51     -3         42       47   14   \n",
       "3           2  2007-05-02    60    43   52      M         42       47   13   \n",
       "4           1  2007-05-03    66    46   56      2         40       48    9   \n",
       "...       ...         ...   ...   ...  ...    ...        ...      ...  ...   \n",
       "2939        2  2014-10-29    49    40   45      M         34       42   20   \n",
       "2940        1  2014-10-30    51    32   42     -4         34       40   23   \n",
       "2941        2  2014-10-30    53    37   45      M         35       42   20   \n",
       "2942        1  2014-10-31    47    33   40     -6         25       33   25   \n",
       "2943        2  2014-10-31    49    34   42      M         29       36   23   \n",
       "\n",
       "     cool  ...  code_sum depth water1 snow_fall precip_total stn_pressure  \\\n",
       "0       2  ...               0      M       0.0         0.00        29.10   \n",
       "1       3  ...               M      M         M         0.00        29.18   \n",
       "2       0  ...        BR     0      M       0.0         0.00        29.38   \n",
       "3       0  ...     BR HZ     M      M         M         0.00        29.44   \n",
       "4       0  ...               0      M       0.0         0.00        29.39   \n",
       "...   ...  ...       ...   ...    ...       ...          ...          ...   \n",
       "2939    0  ...               M      M         M         0.00        29.42   \n",
       "2940    0  ...               0      M       0.0         0.00        29.34   \n",
       "2941    0  ...        RA     M      M         M            T        29.41   \n",
       "2942    0  ...     RA SN     0      M       0.1         0.03        29.49   \n",
       "2943    0  ...  RA SN BR     M      M         M         0.04        29.54   \n",
       "\n",
       "     sea_level result_speed result_dir  avg_speed  \n",
       "0        29.82          1.7         27        9.2  \n",
       "1        29.82          2.7         25        9.6  \n",
       "2        30.09         13.0          4       13.4  \n",
       "3        30.08         13.3          2       13.4  \n",
       "4        30.12         11.7          7       11.9  \n",
       "...        ...          ...        ...        ...  \n",
       "2939     30.07          8.5         29        9.0  \n",
       "2940     30.09          5.1         24        5.5  \n",
       "2941     30.10          5.9         23        6.5  \n",
       "2942     30.20         22.6         34       22.9  \n",
       "2943     30.20         21.7         34       22.6  \n",
       "\n",
       "[2944 rows x 22 columns]"
      ]
     },
     "execution_count": 39,
     "metadata": {},
     "output_type": "execute_result"
    }
   ],
   "source": [
    "weather = pd.read_csv('data/weather.csv')\n",
    "pythonic_cols(weather)\n",
    "weather"
   ]
  },
  {
   "cell_type": "code",
   "execution_count": 40,
   "metadata": {
    "ExecuteTime": {
     "end_time": "2022-01-31T02:10:10.766373Z",
     "start_time": "2022-01-31T02:10:10.739419Z"
    },
    "colab": {
     "base_uri": "https://localhost:8080/",
     "height": 206
    },
    "id": "St_yvbAZ96hk",
    "outputId": "bfac411a-0ceb-4f66-97db-c816fec33d1c"
   },
   "outputs": [
    {
     "data": {
      "text/html": [
       "<div>\n",
       "<style scoped>\n",
       "    .dataframe tbody tr th:only-of-type {\n",
       "        vertical-align: middle;\n",
       "    }\n",
       "\n",
       "    .dataframe tbody tr th {\n",
       "        vertical-align: top;\n",
       "    }\n",
       "\n",
       "    .dataframe thead th {\n",
       "        text-align: right;\n",
       "    }\n",
       "</style>\n",
       "<table border=\"1\" class=\"dataframe\">\n",
       "  <thead>\n",
       "    <tr style=\"text-align: right;\">\n",
       "      <th></th>\n",
       "      <th>date</th>\n",
       "      <th>time</th>\n",
       "      <th>latitude</th>\n",
       "      <th>longitude</th>\n",
       "    </tr>\n",
       "  </thead>\n",
       "  <tbody>\n",
       "    <tr>\n",
       "      <th>0</th>\n",
       "      <td>2011-08-29</td>\n",
       "      <td>6:56:58 PM</td>\n",
       "      <td>42.391623</td>\n",
       "      <td>-88.089163</td>\n",
       "    </tr>\n",
       "    <tr>\n",
       "      <th>1</th>\n",
       "      <td>2011-08-29</td>\n",
       "      <td>6:57:08 PM</td>\n",
       "      <td>42.391348</td>\n",
       "      <td>-88.089163</td>\n",
       "    </tr>\n",
       "    <tr>\n",
       "      <th>2</th>\n",
       "      <td>2011-08-29</td>\n",
       "      <td>6:57:18 PM</td>\n",
       "      <td>42.391022</td>\n",
       "      <td>-88.089157</td>\n",
       "    </tr>\n",
       "    <tr>\n",
       "      <th>3</th>\n",
       "      <td>2011-08-29</td>\n",
       "      <td>6:57:28 PM</td>\n",
       "      <td>42.390637</td>\n",
       "      <td>-88.089158</td>\n",
       "    </tr>\n",
       "    <tr>\n",
       "      <th>4</th>\n",
       "      <td>2011-08-29</td>\n",
       "      <td>6:57:38 PM</td>\n",
       "      <td>42.390410</td>\n",
       "      <td>-88.088858</td>\n",
       "    </tr>\n",
       "  </tbody>\n",
       "</table>\n",
       "</div>"
      ],
      "text/plain": [
       "         date        time   latitude  longitude\n",
       "0  2011-08-29  6:56:58 PM  42.391623 -88.089163\n",
       "1  2011-08-29  6:57:08 PM  42.391348 -88.089163\n",
       "2  2011-08-29  6:57:18 PM  42.391022 -88.089157\n",
       "3  2011-08-29  6:57:28 PM  42.390637 -88.089158\n",
       "4  2011-08-29  6:57:38 PM  42.390410 -88.088858"
      ]
     },
     "execution_count": 40,
     "metadata": {},
     "output_type": "execute_result"
    }
   ],
   "source": [
    "spray = pd.read_csv('data/spray.csv')\n",
    "pythonic_cols(spray)\n",
    "spray.head()"
   ]
  },
  {
   "cell_type": "code",
   "execution_count": 41,
   "metadata": {
    "ExecuteTime": {
     "end_time": "2022-01-31T02:10:11.919307Z",
     "start_time": "2022-01-31T02:10:11.720837Z"
    },
    "colab": {
     "base_uri": "https://localhost:8080/"
    },
    "id": "u93lFijkRyLP",
    "outputId": "7f717e9c-cea8-4ac7-d4ce-648da79bc468"
   },
   "outputs": [
    {
     "data": {
      "text/html": [
       "<div>\n",
       "<style scoped>\n",
       "    .dataframe tbody tr th:only-of-type {\n",
       "        vertical-align: middle;\n",
       "    }\n",
       "\n",
       "    .dataframe tbody tr th {\n",
       "        vertical-align: top;\n",
       "    }\n",
       "\n",
       "    .dataframe thead th {\n",
       "        text-align: right;\n",
       "    }\n",
       "</style>\n",
       "<table border=\"1\" class=\"dataframe\">\n",
       "  <thead>\n",
       "    <tr style=\"text-align: right;\">\n",
       "      <th></th>\n",
       "      <th>id</th>\n",
       "      <th>date</th>\n",
       "      <th>address</th>\n",
       "      <th>species</th>\n",
       "      <th>block</th>\n",
       "      <th>street</th>\n",
       "      <th>trap</th>\n",
       "      <th>address_number_and_street</th>\n",
       "      <th>latitude</th>\n",
       "      <th>longitude</th>\n",
       "      <th>address_accuracy</th>\n",
       "    </tr>\n",
       "  </thead>\n",
       "  <tbody>\n",
       "    <tr>\n",
       "      <th>0</th>\n",
       "      <td>1</td>\n",
       "      <td>2008-06-11</td>\n",
       "      <td>4100 North Oak Park Avenue, Chicago, IL 60634,...</td>\n",
       "      <td>CULEX PIPIENS/RESTUANS</td>\n",
       "      <td>41</td>\n",
       "      <td>N OAK PARK AVE</td>\n",
       "      <td>T002</td>\n",
       "      <td>4100  N OAK PARK AVE, Chicago, IL</td>\n",
       "      <td>41.95469</td>\n",
       "      <td>-87.800991</td>\n",
       "      <td>9</td>\n",
       "    </tr>\n",
       "    <tr>\n",
       "      <th>1</th>\n",
       "      <td>2</td>\n",
       "      <td>2008-06-11</td>\n",
       "      <td>4100 North Oak Park Avenue, Chicago, IL 60634,...</td>\n",
       "      <td>CULEX RESTUANS</td>\n",
       "      <td>41</td>\n",
       "      <td>N OAK PARK AVE</td>\n",
       "      <td>T002</td>\n",
       "      <td>4100  N OAK PARK AVE, Chicago, IL</td>\n",
       "      <td>41.95469</td>\n",
       "      <td>-87.800991</td>\n",
       "      <td>9</td>\n",
       "    </tr>\n",
       "    <tr>\n",
       "      <th>2</th>\n",
       "      <td>3</td>\n",
       "      <td>2008-06-11</td>\n",
       "      <td>4100 North Oak Park Avenue, Chicago, IL 60634,...</td>\n",
       "      <td>CULEX PIPIENS</td>\n",
       "      <td>41</td>\n",
       "      <td>N OAK PARK AVE</td>\n",
       "      <td>T002</td>\n",
       "      <td>4100  N OAK PARK AVE, Chicago, IL</td>\n",
       "      <td>41.95469</td>\n",
       "      <td>-87.800991</td>\n",
       "      <td>9</td>\n",
       "    </tr>\n",
       "    <tr>\n",
       "      <th>3</th>\n",
       "      <td>4</td>\n",
       "      <td>2008-06-11</td>\n",
       "      <td>4100 North Oak Park Avenue, Chicago, IL 60634,...</td>\n",
       "      <td>CULEX SALINARIUS</td>\n",
       "      <td>41</td>\n",
       "      <td>N OAK PARK AVE</td>\n",
       "      <td>T002</td>\n",
       "      <td>4100  N OAK PARK AVE, Chicago, IL</td>\n",
       "      <td>41.95469</td>\n",
       "      <td>-87.800991</td>\n",
       "      <td>9</td>\n",
       "    </tr>\n",
       "    <tr>\n",
       "      <th>4</th>\n",
       "      <td>5</td>\n",
       "      <td>2008-06-11</td>\n",
       "      <td>4100 North Oak Park Avenue, Chicago, IL 60634,...</td>\n",
       "      <td>CULEX TERRITANS</td>\n",
       "      <td>41</td>\n",
       "      <td>N OAK PARK AVE</td>\n",
       "      <td>T002</td>\n",
       "      <td>4100  N OAK PARK AVE, Chicago, IL</td>\n",
       "      <td>41.95469</td>\n",
       "      <td>-87.800991</td>\n",
       "      <td>9</td>\n",
       "    </tr>\n",
       "  </tbody>\n",
       "</table>\n",
       "</div>"
      ],
      "text/plain": [
       "   id        date                                            address  \\\n",
       "0   1  2008-06-11  4100 North Oak Park Avenue, Chicago, IL 60634,...   \n",
       "1   2  2008-06-11  4100 North Oak Park Avenue, Chicago, IL 60634,...   \n",
       "2   3  2008-06-11  4100 North Oak Park Avenue, Chicago, IL 60634,...   \n",
       "3   4  2008-06-11  4100 North Oak Park Avenue, Chicago, IL 60634,...   \n",
       "4   5  2008-06-11  4100 North Oak Park Avenue, Chicago, IL 60634,...   \n",
       "\n",
       "                  species  block           street  trap  \\\n",
       "0  CULEX PIPIENS/RESTUANS     41   N OAK PARK AVE  T002   \n",
       "1          CULEX RESTUANS     41   N OAK PARK AVE  T002   \n",
       "2           CULEX PIPIENS     41   N OAK PARK AVE  T002   \n",
       "3        CULEX SALINARIUS     41   N OAK PARK AVE  T002   \n",
       "4         CULEX TERRITANS     41   N OAK PARK AVE  T002   \n",
       "\n",
       "           address_number_and_street  latitude  longitude  address_accuracy  \n",
       "0  4100  N OAK PARK AVE, Chicago, IL  41.95469 -87.800991                 9  \n",
       "1  4100  N OAK PARK AVE, Chicago, IL  41.95469 -87.800991                 9  \n",
       "2  4100  N OAK PARK AVE, Chicago, IL  41.95469 -87.800991                 9  \n",
       "3  4100  N OAK PARK AVE, Chicago, IL  41.95469 -87.800991                 9  \n",
       "4  4100  N OAK PARK AVE, Chicago, IL  41.95469 -87.800991                 9  "
      ]
     },
     "execution_count": 41,
     "metadata": {},
     "output_type": "execute_result"
    }
   ],
   "source": [
    "test = pd.read_csv('data/test.csv')\n",
    "pythonic_cols(test)\n",
    "test.head()"
   ]
  },
  {
   "cell_type": "markdown",
   "metadata": {},
   "source": [
    "# Dependent Variable\n",
    "\n",
    "Let's first take a look at the dependent variable. We can see that it is severely imbalanced, which would be a problem later."
   ]
  },
  {
   "cell_type": "code",
   "execution_count": 42,
   "metadata": {
    "ExecuteTime": {
     "end_time": "2022-01-31T02:10:13.294335Z",
     "start_time": "2022-01-31T02:10:13.273324Z"
    }
   },
   "outputs": [
    {
     "data": {
      "text/plain": [
       "0    0.947554\n",
       "1    0.052446\n",
       "Name: wnv_present, dtype: float64"
      ]
     },
     "execution_count": 42,
     "metadata": {},
     "output_type": "execute_result"
    }
   ],
   "source": [
    "train.wnv_present.value_counts(normalize=True)"
   ]
  },
  {
   "cell_type": "markdown",
   "metadata": {
    "id": "3mDzeeE8rubm"
   },
   "source": [
    "# Feature Selection\n",
    "\n",
    "We can choose the features that are relevant to our analysis from each dataset and combine them for easier data cleaning and analysis."
   ]
  },
  {
   "cell_type": "markdown",
   "metadata": {},
   "source": [
    "## `train`/`test` datasets"
   ]
  },
  {
   "cell_type": "code",
   "execution_count": 43,
   "metadata": {
    "ExecuteTime": {
     "end_time": "2022-01-31T02:10:14.555871Z",
     "start_time": "2022-01-31T02:10:14.532904Z"
    }
   },
   "outputs": [
    {
     "data": {
      "text/html": [
       "<div>\n",
       "<style scoped>\n",
       "    .dataframe tbody tr th:only-of-type {\n",
       "        vertical-align: middle;\n",
       "    }\n",
       "\n",
       "    .dataframe tbody tr th {\n",
       "        vertical-align: top;\n",
       "    }\n",
       "\n",
       "    .dataframe thead th {\n",
       "        text-align: right;\n",
       "    }\n",
       "</style>\n",
       "<table border=\"1\" class=\"dataframe\">\n",
       "  <thead>\n",
       "    <tr style=\"text-align: right;\">\n",
       "      <th></th>\n",
       "      <th>date</th>\n",
       "      <th>address</th>\n",
       "      <th>species</th>\n",
       "      <th>block</th>\n",
       "      <th>street</th>\n",
       "      <th>trap</th>\n",
       "      <th>address_number_and_street</th>\n",
       "      <th>latitude</th>\n",
       "      <th>longitude</th>\n",
       "      <th>address_accuracy</th>\n",
       "      <th>num_mosquitos</th>\n",
       "      <th>wnv_present</th>\n",
       "    </tr>\n",
       "  </thead>\n",
       "  <tbody>\n",
       "    <tr>\n",
       "      <th>0</th>\n",
       "      <td>2007-05-29</td>\n",
       "      <td>4100 North Oak Park Avenue, Chicago, IL 60634,...</td>\n",
       "      <td>CULEX PIPIENS/RESTUANS</td>\n",
       "      <td>41</td>\n",
       "      <td>N OAK PARK AVE</td>\n",
       "      <td>T002</td>\n",
       "      <td>4100  N OAK PARK AVE, Chicago, IL</td>\n",
       "      <td>41.954690</td>\n",
       "      <td>-87.800991</td>\n",
       "      <td>9</td>\n",
       "      <td>1</td>\n",
       "      <td>0</td>\n",
       "    </tr>\n",
       "    <tr>\n",
       "      <th>1</th>\n",
       "      <td>2007-05-29</td>\n",
       "      <td>4100 North Oak Park Avenue, Chicago, IL 60634,...</td>\n",
       "      <td>CULEX RESTUANS</td>\n",
       "      <td>41</td>\n",
       "      <td>N OAK PARK AVE</td>\n",
       "      <td>T002</td>\n",
       "      <td>4100  N OAK PARK AVE, Chicago, IL</td>\n",
       "      <td>41.954690</td>\n",
       "      <td>-87.800991</td>\n",
       "      <td>9</td>\n",
       "      <td>1</td>\n",
       "      <td>0</td>\n",
       "    </tr>\n",
       "    <tr>\n",
       "      <th>2</th>\n",
       "      <td>2007-05-29</td>\n",
       "      <td>6200 North Mandell Avenue, Chicago, IL 60646, USA</td>\n",
       "      <td>CULEX RESTUANS</td>\n",
       "      <td>62</td>\n",
       "      <td>N MANDELL AVE</td>\n",
       "      <td>T007</td>\n",
       "      <td>6200  N MANDELL AVE, Chicago, IL</td>\n",
       "      <td>41.994991</td>\n",
       "      <td>-87.769279</td>\n",
       "      <td>9</td>\n",
       "      <td>1</td>\n",
       "      <td>0</td>\n",
       "    </tr>\n",
       "    <tr>\n",
       "      <th>3</th>\n",
       "      <td>2007-05-29</td>\n",
       "      <td>7900 West Foster Avenue, Chicago, IL 60656, USA</td>\n",
       "      <td>CULEX PIPIENS/RESTUANS</td>\n",
       "      <td>79</td>\n",
       "      <td>W FOSTER AVE</td>\n",
       "      <td>T015</td>\n",
       "      <td>7900  W FOSTER AVE, Chicago, IL</td>\n",
       "      <td>41.974089</td>\n",
       "      <td>-87.824812</td>\n",
       "      <td>8</td>\n",
       "      <td>1</td>\n",
       "      <td>0</td>\n",
       "    </tr>\n",
       "    <tr>\n",
       "      <th>4</th>\n",
       "      <td>2007-05-29</td>\n",
       "      <td>7900 West Foster Avenue, Chicago, IL 60656, USA</td>\n",
       "      <td>CULEX RESTUANS</td>\n",
       "      <td>79</td>\n",
       "      <td>W FOSTER AVE</td>\n",
       "      <td>T015</td>\n",
       "      <td>7900  W FOSTER AVE, Chicago, IL</td>\n",
       "      <td>41.974089</td>\n",
       "      <td>-87.824812</td>\n",
       "      <td>8</td>\n",
       "      <td>4</td>\n",
       "      <td>0</td>\n",
       "    </tr>\n",
       "  </tbody>\n",
       "</table>\n",
       "</div>"
      ],
      "text/plain": [
       "         date                                            address  \\\n",
       "0  2007-05-29  4100 North Oak Park Avenue, Chicago, IL 60634,...   \n",
       "1  2007-05-29  4100 North Oak Park Avenue, Chicago, IL 60634,...   \n",
       "2  2007-05-29  6200 North Mandell Avenue, Chicago, IL 60646, USA   \n",
       "3  2007-05-29    7900 West Foster Avenue, Chicago, IL 60656, USA   \n",
       "4  2007-05-29    7900 West Foster Avenue, Chicago, IL 60656, USA   \n",
       "\n",
       "                  species  block           street  trap  \\\n",
       "0  CULEX PIPIENS/RESTUANS     41   N OAK PARK AVE  T002   \n",
       "1          CULEX RESTUANS     41   N OAK PARK AVE  T002   \n",
       "2          CULEX RESTUANS     62    N MANDELL AVE  T007   \n",
       "3  CULEX PIPIENS/RESTUANS     79     W FOSTER AVE  T015   \n",
       "4          CULEX RESTUANS     79     W FOSTER AVE  T015   \n",
       "\n",
       "           address_number_and_street   latitude  longitude  address_accuracy  \\\n",
       "0  4100  N OAK PARK AVE, Chicago, IL  41.954690 -87.800991                 9   \n",
       "1  4100  N OAK PARK AVE, Chicago, IL  41.954690 -87.800991                 9   \n",
       "2   6200  N MANDELL AVE, Chicago, IL  41.994991 -87.769279                 9   \n",
       "3    7900  W FOSTER AVE, Chicago, IL  41.974089 -87.824812                 8   \n",
       "4    7900  W FOSTER AVE, Chicago, IL  41.974089 -87.824812                 8   \n",
       "\n",
       "   num_mosquitos  wnv_present  \n",
       "0              1            0  \n",
       "1              1            0  \n",
       "2              1            0  \n",
       "3              1            0  \n",
       "4              4            0  "
      ]
     },
     "execution_count": 43,
     "metadata": {},
     "output_type": "execute_result"
    }
   ],
   "source": [
    "train.head()"
   ]
  },
  {
   "cell_type": "code",
   "execution_count": 44,
   "metadata": {
    "ExecuteTime": {
     "end_time": "2022-01-31T02:10:16.113946Z",
     "start_time": "2022-01-31T02:10:16.086021Z"
    }
   },
   "outputs": [
    {
     "name": "stdout",
     "output_type": "stream",
     "text": [
      "<class 'pandas.core.frame.DataFrame'>\n",
      "RangeIndex: 10506 entries, 0 to 10505\n",
      "Data columns (total 12 columns):\n",
      " #   Column                     Non-Null Count  Dtype  \n",
      "---  ------                     --------------  -----  \n",
      " 0   date                       10506 non-null  object \n",
      " 1   address                    10506 non-null  object \n",
      " 2   species                    10506 non-null  object \n",
      " 3   block                      10506 non-null  int64  \n",
      " 4   street                     10506 non-null  object \n",
      " 5   trap                       10506 non-null  object \n",
      " 6   address_number_and_street  10506 non-null  object \n",
      " 7   latitude                   10506 non-null  float64\n",
      " 8   longitude                  10506 non-null  float64\n",
      " 9   address_accuracy           10506 non-null  int64  \n",
      " 10  num_mosquitos              10506 non-null  int64  \n",
      " 11  wnv_present                10506 non-null  int64  \n",
      "dtypes: float64(2), int64(4), object(6)\n",
      "memory usage: 985.1+ KB\n"
     ]
    }
   ],
   "source": [
    "train.info()"
   ]
  },
  {
   "cell_type": "markdown",
   "metadata": {},
   "source": [
    "### Drop Duplicates\n",
    "\n",
    "We can first define a function to print the duplicated rows and remove them."
   ]
  },
  {
   "cell_type": "code",
   "execution_count": 45,
   "metadata": {
    "ExecuteTime": {
     "end_time": "2022-01-31T02:10:17.566360Z",
     "start_time": "2022-01-31T02:10:17.560376Z"
    }
   },
   "outputs": [],
   "source": [
    "def remove_dupe(df):\n",
    "    dupe = df[df.duplicated()]\n",
    "    print(f'The number of removed duplicated rows is: {len(dupe)}')\n",
    "    df.drop_duplicates(inplace=True, ignore_index=True)\n",
    "    return df"
   ]
  },
  {
   "cell_type": "code",
   "execution_count": 46,
   "metadata": {
    "ExecuteTime": {
     "end_time": "2022-01-31T02:10:18.180966Z",
     "start_time": "2022-01-31T02:10:18.145061Z"
    }
   },
   "outputs": [
    {
     "name": "stdout",
     "output_type": "stream",
     "text": [
      "The number of removed duplicated rows is: 813\n"
     ]
    },
    {
     "data": {
      "text/html": [
       "<div>\n",
       "<style scoped>\n",
       "    .dataframe tbody tr th:only-of-type {\n",
       "        vertical-align: middle;\n",
       "    }\n",
       "\n",
       "    .dataframe tbody tr th {\n",
       "        vertical-align: top;\n",
       "    }\n",
       "\n",
       "    .dataframe thead th {\n",
       "        text-align: right;\n",
       "    }\n",
       "</style>\n",
       "<table border=\"1\" class=\"dataframe\">\n",
       "  <thead>\n",
       "    <tr style=\"text-align: right;\">\n",
       "      <th></th>\n",
       "      <th>date</th>\n",
       "      <th>address</th>\n",
       "      <th>species</th>\n",
       "      <th>block</th>\n",
       "      <th>street</th>\n",
       "      <th>trap</th>\n",
       "      <th>address_number_and_street</th>\n",
       "      <th>latitude</th>\n",
       "      <th>longitude</th>\n",
       "      <th>address_accuracy</th>\n",
       "      <th>num_mosquitos</th>\n",
       "      <th>wnv_present</th>\n",
       "    </tr>\n",
       "  </thead>\n",
       "  <tbody>\n",
       "    <tr>\n",
       "      <th>0</th>\n",
       "      <td>2007-05-29</td>\n",
       "      <td>4100 North Oak Park Avenue, Chicago, IL 60634,...</td>\n",
       "      <td>CULEX PIPIENS/RESTUANS</td>\n",
       "      <td>41</td>\n",
       "      <td>N OAK PARK AVE</td>\n",
       "      <td>T002</td>\n",
       "      <td>4100  N OAK PARK AVE, Chicago, IL</td>\n",
       "      <td>41.954690</td>\n",
       "      <td>-87.800991</td>\n",
       "      <td>9</td>\n",
       "      <td>1</td>\n",
       "      <td>0</td>\n",
       "    </tr>\n",
       "    <tr>\n",
       "      <th>1</th>\n",
       "      <td>2007-05-29</td>\n",
       "      <td>4100 North Oak Park Avenue, Chicago, IL 60634,...</td>\n",
       "      <td>CULEX RESTUANS</td>\n",
       "      <td>41</td>\n",
       "      <td>N OAK PARK AVE</td>\n",
       "      <td>T002</td>\n",
       "      <td>4100  N OAK PARK AVE, Chicago, IL</td>\n",
       "      <td>41.954690</td>\n",
       "      <td>-87.800991</td>\n",
       "      <td>9</td>\n",
       "      <td>1</td>\n",
       "      <td>0</td>\n",
       "    </tr>\n",
       "    <tr>\n",
       "      <th>2</th>\n",
       "      <td>2007-05-29</td>\n",
       "      <td>6200 North Mandell Avenue, Chicago, IL 60646, USA</td>\n",
       "      <td>CULEX RESTUANS</td>\n",
       "      <td>62</td>\n",
       "      <td>N MANDELL AVE</td>\n",
       "      <td>T007</td>\n",
       "      <td>6200  N MANDELL AVE, Chicago, IL</td>\n",
       "      <td>41.994991</td>\n",
       "      <td>-87.769279</td>\n",
       "      <td>9</td>\n",
       "      <td>1</td>\n",
       "      <td>0</td>\n",
       "    </tr>\n",
       "    <tr>\n",
       "      <th>3</th>\n",
       "      <td>2007-05-29</td>\n",
       "      <td>7900 West Foster Avenue, Chicago, IL 60656, USA</td>\n",
       "      <td>CULEX PIPIENS/RESTUANS</td>\n",
       "      <td>79</td>\n",
       "      <td>W FOSTER AVE</td>\n",
       "      <td>T015</td>\n",
       "      <td>7900  W FOSTER AVE, Chicago, IL</td>\n",
       "      <td>41.974089</td>\n",
       "      <td>-87.824812</td>\n",
       "      <td>8</td>\n",
       "      <td>1</td>\n",
       "      <td>0</td>\n",
       "    </tr>\n",
       "    <tr>\n",
       "      <th>4</th>\n",
       "      <td>2007-05-29</td>\n",
       "      <td>7900 West Foster Avenue, Chicago, IL 60656, USA</td>\n",
       "      <td>CULEX RESTUANS</td>\n",
       "      <td>79</td>\n",
       "      <td>W FOSTER AVE</td>\n",
       "      <td>T015</td>\n",
       "      <td>7900  W FOSTER AVE, Chicago, IL</td>\n",
       "      <td>41.974089</td>\n",
       "      <td>-87.824812</td>\n",
       "      <td>8</td>\n",
       "      <td>4</td>\n",
       "      <td>0</td>\n",
       "    </tr>\n",
       "    <tr>\n",
       "      <th>...</th>\n",
       "      <td>...</td>\n",
       "      <td>...</td>\n",
       "      <td>...</td>\n",
       "      <td>...</td>\n",
       "      <td>...</td>\n",
       "      <td>...</td>\n",
       "      <td>...</td>\n",
       "      <td>...</td>\n",
       "      <td>...</td>\n",
       "      <td>...</td>\n",
       "      <td>...</td>\n",
       "      <td>...</td>\n",
       "    </tr>\n",
       "    <tr>\n",
       "      <th>9688</th>\n",
       "      <td>2013-09-26</td>\n",
       "      <td>5100 West 72nd Street, Chicago, IL 60638, USA</td>\n",
       "      <td>CULEX PIPIENS/RESTUANS</td>\n",
       "      <td>51</td>\n",
       "      <td>W 72ND ST</td>\n",
       "      <td>T035</td>\n",
       "      <td>5100  W 72ND ST, Chicago, IL</td>\n",
       "      <td>41.763733</td>\n",
       "      <td>-87.742302</td>\n",
       "      <td>8</td>\n",
       "      <td>6</td>\n",
       "      <td>1</td>\n",
       "    </tr>\n",
       "    <tr>\n",
       "      <th>9689</th>\n",
       "      <td>2013-09-26</td>\n",
       "      <td>5800 North Ridge Avenue, Chicago, IL 60660, USA</td>\n",
       "      <td>CULEX PIPIENS/RESTUANS</td>\n",
       "      <td>58</td>\n",
       "      <td>N RIDGE AVE</td>\n",
       "      <td>T231</td>\n",
       "      <td>5800  N RIDGE AVE, Chicago, IL</td>\n",
       "      <td>41.987280</td>\n",
       "      <td>-87.666066</td>\n",
       "      <td>8</td>\n",
       "      <td>5</td>\n",
       "      <td>0</td>\n",
       "    </tr>\n",
       "    <tr>\n",
       "      <th>9690</th>\n",
       "      <td>2013-09-26</td>\n",
       "      <td>1700 North Ashland Avenue, Chicago, IL 60622, USA</td>\n",
       "      <td>CULEX PIPIENS/RESTUANS</td>\n",
       "      <td>17</td>\n",
       "      <td>N ASHLAND AVE</td>\n",
       "      <td>T232</td>\n",
       "      <td>1700  N ASHLAND AVE, Chicago, IL</td>\n",
       "      <td>41.912563</td>\n",
       "      <td>-87.668055</td>\n",
       "      <td>9</td>\n",
       "      <td>1</td>\n",
       "      <td>0</td>\n",
       "    </tr>\n",
       "    <tr>\n",
       "      <th>9691</th>\n",
       "      <td>2013-09-26</td>\n",
       "      <td>7100 North Harlem Avenue, Chicago, IL 60631, USA</td>\n",
       "      <td>CULEX PIPIENS/RESTUANS</td>\n",
       "      <td>71</td>\n",
       "      <td>N HARLEM AVE</td>\n",
       "      <td>T233</td>\n",
       "      <td>7100  N HARLEM AVE, Chicago, IL</td>\n",
       "      <td>42.009876</td>\n",
       "      <td>-87.807277</td>\n",
       "      <td>9</td>\n",
       "      <td>5</td>\n",
       "      <td>0</td>\n",
       "    </tr>\n",
       "    <tr>\n",
       "      <th>9692</th>\n",
       "      <td>2013-09-26</td>\n",
       "      <td>4200 West 65th Street, Chicago, IL 60621, USA</td>\n",
       "      <td>CULEX PIPIENS/RESTUANS</td>\n",
       "      <td>42</td>\n",
       "      <td>W 65TH ST</td>\n",
       "      <td>T235</td>\n",
       "      <td>4200  W 65TH ST, Chicago, IL</td>\n",
       "      <td>41.776428</td>\n",
       "      <td>-87.627096</td>\n",
       "      <td>8</td>\n",
       "      <td>1</td>\n",
       "      <td>0</td>\n",
       "    </tr>\n",
       "  </tbody>\n",
       "</table>\n",
       "<p>9693 rows × 12 columns</p>\n",
       "</div>"
      ],
      "text/plain": [
       "            date                                            address  \\\n",
       "0     2007-05-29  4100 North Oak Park Avenue, Chicago, IL 60634,...   \n",
       "1     2007-05-29  4100 North Oak Park Avenue, Chicago, IL 60634,...   \n",
       "2     2007-05-29  6200 North Mandell Avenue, Chicago, IL 60646, USA   \n",
       "3     2007-05-29    7900 West Foster Avenue, Chicago, IL 60656, USA   \n",
       "4     2007-05-29    7900 West Foster Avenue, Chicago, IL 60656, USA   \n",
       "...          ...                                                ...   \n",
       "9688  2013-09-26      5100 West 72nd Street, Chicago, IL 60638, USA   \n",
       "9689  2013-09-26    5800 North Ridge Avenue, Chicago, IL 60660, USA   \n",
       "9690  2013-09-26  1700 North Ashland Avenue, Chicago, IL 60622, USA   \n",
       "9691  2013-09-26   7100 North Harlem Avenue, Chicago, IL 60631, USA   \n",
       "9692  2013-09-26      4200 West 65th Street, Chicago, IL 60621, USA   \n",
       "\n",
       "                     species  block           street  trap  \\\n",
       "0     CULEX PIPIENS/RESTUANS     41   N OAK PARK AVE  T002   \n",
       "1             CULEX RESTUANS     41   N OAK PARK AVE  T002   \n",
       "2             CULEX RESTUANS     62    N MANDELL AVE  T007   \n",
       "3     CULEX PIPIENS/RESTUANS     79     W FOSTER AVE  T015   \n",
       "4             CULEX RESTUANS     79     W FOSTER AVE  T015   \n",
       "...                      ...    ...              ...   ...   \n",
       "9688  CULEX PIPIENS/RESTUANS     51        W 72ND ST  T035   \n",
       "9689  CULEX PIPIENS/RESTUANS     58      N RIDGE AVE  T231   \n",
       "9690  CULEX PIPIENS/RESTUANS     17    N ASHLAND AVE  T232   \n",
       "9691  CULEX PIPIENS/RESTUANS     71     N HARLEM AVE  T233   \n",
       "9692  CULEX PIPIENS/RESTUANS     42        W 65TH ST  T235   \n",
       "\n",
       "              address_number_and_street   latitude  longitude  \\\n",
       "0     4100  N OAK PARK AVE, Chicago, IL  41.954690 -87.800991   \n",
       "1     4100  N OAK PARK AVE, Chicago, IL  41.954690 -87.800991   \n",
       "2      6200  N MANDELL AVE, Chicago, IL  41.994991 -87.769279   \n",
       "3       7900  W FOSTER AVE, Chicago, IL  41.974089 -87.824812   \n",
       "4       7900  W FOSTER AVE, Chicago, IL  41.974089 -87.824812   \n",
       "...                                 ...        ...        ...   \n",
       "9688       5100  W 72ND ST, Chicago, IL  41.763733 -87.742302   \n",
       "9689     5800  N RIDGE AVE, Chicago, IL  41.987280 -87.666066   \n",
       "9690   1700  N ASHLAND AVE, Chicago, IL  41.912563 -87.668055   \n",
       "9691    7100  N HARLEM AVE, Chicago, IL  42.009876 -87.807277   \n",
       "9692       4200  W 65TH ST, Chicago, IL  41.776428 -87.627096   \n",
       "\n",
       "      address_accuracy  num_mosquitos  wnv_present  \n",
       "0                    9              1            0  \n",
       "1                    9              1            0  \n",
       "2                    9              1            0  \n",
       "3                    8              1            0  \n",
       "4                    8              4            0  \n",
       "...                ...            ...          ...  \n",
       "9688                 8              6            1  \n",
       "9689                 8              5            0  \n",
       "9690                 9              1            0  \n",
       "9691                 9              5            0  \n",
       "9692                 8              1            0  \n",
       "\n",
       "[9693 rows x 12 columns]"
      ]
     },
     "execution_count": 46,
     "metadata": {},
     "output_type": "execute_result"
    }
   ],
   "source": [
    "remove_dupe(train)"
   ]
  },
  {
   "cell_type": "markdown",
   "metadata": {
    "id": "2MSEWJ19A4sd"
   },
   "source": [
    "### Satellite Traps\n",
    "\n",
    "Let's examine the \"satellite traps\" - traps that are set up near an established trap to enhance surveillance efforts. These have alphabets behind their trap numbers."
   ]
  },
  {
   "cell_type": "code",
   "execution_count": 47,
   "metadata": {
    "ExecuteTime": {
     "end_time": "2022-01-31T02:10:20.526228Z",
     "start_time": "2022-01-31T02:10:20.504240Z"
    },
    "colab": {
     "base_uri": "https://localhost:8080/"
    },
    "id": "DDOAJ-xA-JDG",
    "outputId": "5ade9d08-7769-4d6b-f912-1d30e50b00ef"
   },
   "outputs": [
    {
     "data": {
      "text/plain": [
       "date                         14\n",
       "address                      14\n",
       "species                      14\n",
       "block                        14\n",
       "street                       14\n",
       "trap                         14\n",
       "address_number_and_street    14\n",
       "latitude                     14\n",
       "longitude                    14\n",
       "address_accuracy             14\n",
       "num_mosquitos                14\n",
       "wnv_present                  14\n",
       "dtype: int64"
      ]
     },
     "execution_count": 47,
     "metadata": {},
     "output_type": "execute_result"
    }
   ],
   "source": [
    "train[train.trap.str.contains(r'(?<=[1-9])[A-Z]$', na=False)].count()"
   ]
  },
  {
   "cell_type": "markdown",
   "metadata": {},
   "source": [
    "### Address Columns\n",
    "\n",
    "The address details are not as important to us because we can compare the coordinates with the ones provided in the `spray` dataset, so we will remove them. "
   ]
  },
  {
   "cell_type": "markdown",
   "metadata": {},
   "source": [
    "### `num_mosquitoes` column\n"
   ]
  },
  {
   "cell_type": "code",
   "execution_count": 48,
   "metadata": {
    "ExecuteTime": {
     "end_time": "2022-01-31T02:10:22.180062Z",
     "start_time": "2022-01-31T02:10:22.015591Z"
    }
   },
   "outputs": [
    {
     "name": "stdout",
     "output_type": "stream",
     "text": [
      "            num_mosquitos  wnv_present\n",
      "date                                  \n",
      "2007-05-29             40            0\n",
      "2007-06-05            127            0\n",
      "2007-06-26            215            0\n",
      "2007-06-29             85            0\n",
      "2007-07-02            240            0\n",
      "...                   ...          ...\n",
      "2013-08-29           2345           35\n",
      "2013-09-06           2451           31\n",
      "2013-09-12           2160           23\n",
      "2013-09-19           1017           11\n",
      "2013-09-26            505            4\n",
      "\n",
      "[95 rows x 2 columns]\n"
     ]
    },
    {
     "data": {
      "image/png": "[encoded data removed]",
      "text/plain": [
       "<Figure size 720x576 with 1 Axes>"
      ]
     },
     "metadata": {
      "needs_background": "light"
     },
     "output_type": "display_data"
    }
   ],
   "source": [
    "num_mos = train.groupby('date').sum()[['num_mosquitos','wnv_present']]\n",
    "print(num_mos)\n",
    "\n",
    "plt.figure(figsize = (10,8))\n",
    "sns.scatterplot(x = 'num_mosquitos', y = 'wnv_present', data = num_mos)\n",
    "plt.title('Number of mosquitoes vs Presence of West Nile Virus', fontsize = 15);"
   ]
  },
  {
   "cell_type": "markdown",
   "metadata": {},
   "source": [
    "The scatter plot above shows the relatioship between the `num_mosquitoes` and `wnv_present`. It can be seen that there is no discernible pattern between the number of mosquitoes and the presence of West Nile Virus. Thus, we will drop the `num_mosquitoes` column."
   ]
  },
  {
   "cell_type": "markdown",
   "metadata": {
    "id": "500sUBwAInZW"
   },
   "source": [
    "### Features selected for `train`/`test`\n",
    "\n",
    "Based on the above analysis and our domain knowledge, we will keep the features that are most relevant to us:\n",
    "1. date\n",
    "2. species\n",
    "3. latitude\n",
    "4. longitude\n",
    "5. wnv_present (dependent variable)"
   ]
  },
  {
   "cell_type": "code",
   "execution_count": 49,
   "metadata": {
    "ExecuteTime": {
     "end_time": "2022-01-31T02:10:23.907309Z",
     "start_time": "2022-01-31T02:10:23.885376Z"
    },
    "colab": {
     "base_uri": "https://localhost:8080/",
     "height": 206
    },
    "id": "9eREEzQZJe72",
    "outputId": "2815e2e4-40e0-4532-dbde-ff95f17a7578"
   },
   "outputs": [
    {
     "data": {
      "text/html": [
       "<div>\n",
       "<style scoped>\n",
       "    .dataframe tbody tr th:only-of-type {\n",
       "        vertical-align: middle;\n",
       "    }\n",
       "\n",
       "    .dataframe tbody tr th {\n",
       "        vertical-align: top;\n",
       "    }\n",
       "\n",
       "    .dataframe thead th {\n",
       "        text-align: right;\n",
       "    }\n",
       "</style>\n",
       "<table border=\"1\" class=\"dataframe\">\n",
       "  <thead>\n",
       "    <tr style=\"text-align: right;\">\n",
       "      <th></th>\n",
       "      <th>date</th>\n",
       "      <th>species</th>\n",
       "      <th>latitude</th>\n",
       "      <th>longitude</th>\n",
       "      <th>wnv_present</th>\n",
       "    </tr>\n",
       "  </thead>\n",
       "  <tbody>\n",
       "    <tr>\n",
       "      <th>0</th>\n",
       "      <td>2007-05-29</td>\n",
       "      <td>CULEX PIPIENS/RESTUANS</td>\n",
       "      <td>41.954690</td>\n",
       "      <td>-87.800991</td>\n",
       "      <td>0</td>\n",
       "    </tr>\n",
       "    <tr>\n",
       "      <th>1</th>\n",
       "      <td>2007-05-29</td>\n",
       "      <td>CULEX RESTUANS</td>\n",
       "      <td>41.954690</td>\n",
       "      <td>-87.800991</td>\n",
       "      <td>0</td>\n",
       "    </tr>\n",
       "    <tr>\n",
       "      <th>2</th>\n",
       "      <td>2007-05-29</td>\n",
       "      <td>CULEX RESTUANS</td>\n",
       "      <td>41.994991</td>\n",
       "      <td>-87.769279</td>\n",
       "      <td>0</td>\n",
       "    </tr>\n",
       "    <tr>\n",
       "      <th>3</th>\n",
       "      <td>2007-05-29</td>\n",
       "      <td>CULEX PIPIENS/RESTUANS</td>\n",
       "      <td>41.974089</td>\n",
       "      <td>-87.824812</td>\n",
       "      <td>0</td>\n",
       "    </tr>\n",
       "    <tr>\n",
       "      <th>4</th>\n",
       "      <td>2007-05-29</td>\n",
       "      <td>CULEX RESTUANS</td>\n",
       "      <td>41.974089</td>\n",
       "      <td>-87.824812</td>\n",
       "      <td>0</td>\n",
       "    </tr>\n",
       "  </tbody>\n",
       "</table>\n",
       "</div>"
      ],
      "text/plain": [
       "         date                 species   latitude  longitude  wnv_present\n",
       "0  2007-05-29  CULEX PIPIENS/RESTUANS  41.954690 -87.800991            0\n",
       "1  2007-05-29          CULEX RESTUANS  41.954690 -87.800991            0\n",
       "2  2007-05-29          CULEX RESTUANS  41.994991 -87.769279            0\n",
       "3  2007-05-29  CULEX PIPIENS/RESTUANS  41.974089 -87.824812            0\n",
       "4  2007-05-29          CULEX RESTUANS  41.974089 -87.824812            0"
      ]
     },
     "execution_count": 49,
     "metadata": {},
     "output_type": "execute_result"
    }
   ],
   "source": [
    "train = train[['date', 'species', 'latitude', 'longitude', 'wnv_present']]\n",
    "train.head()"
   ]
  },
  {
   "cell_type": "code",
   "execution_count": 50,
   "metadata": {
    "ExecuteTime": {
     "end_time": "2022-01-31T02:10:24.694817Z",
     "start_time": "2022-01-31T02:10:24.684843Z"
    }
   },
   "outputs": [
    {
     "name": "stdout",
     "output_type": "stream",
     "text": [
      "<class 'pandas.core.frame.DataFrame'>\n",
      "RangeIndex: 9693 entries, 0 to 9692\n",
      "Data columns (total 5 columns):\n",
      " #   Column       Non-Null Count  Dtype  \n",
      "---  ------       --------------  -----  \n",
      " 0   date         9693 non-null   object \n",
      " 1   species      9693 non-null   object \n",
      " 2   latitude     9693 non-null   float64\n",
      " 3   longitude    9693 non-null   float64\n",
      " 4   wnv_present  9693 non-null   int64  \n",
      "dtypes: float64(2), int64(1), object(2)\n",
      "memory usage: 378.8+ KB\n"
     ]
    }
   ],
   "source": [
    "train.info()"
   ]
  },
  {
   "cell_type": "markdown",
   "metadata": {},
   "source": [
    "Whatever we do for `train`, we have to do unto `test` too, except without the dependent variable."
   ]
  },
  {
   "cell_type": "code",
   "execution_count": 51,
   "metadata": {
    "ExecuteTime": {
     "end_time": "2022-01-31T02:10:26.178173Z",
     "start_time": "2022-01-31T02:10:26.160221Z"
    }
   },
   "outputs": [
    {
     "data": {
      "text/html": [
       "<div>\n",
       "<style scoped>\n",
       "    .dataframe tbody tr th:only-of-type {\n",
       "        vertical-align: middle;\n",
       "    }\n",
       "\n",
       "    .dataframe tbody tr th {\n",
       "        vertical-align: top;\n",
       "    }\n",
       "\n",
       "    .dataframe thead th {\n",
       "        text-align: right;\n",
       "    }\n",
       "</style>\n",
       "<table border=\"1\" class=\"dataframe\">\n",
       "  <thead>\n",
       "    <tr style=\"text-align: right;\">\n",
       "      <th></th>\n",
       "      <th>date</th>\n",
       "      <th>species</th>\n",
       "      <th>trap</th>\n",
       "      <th>latitude</th>\n",
       "      <th>longitude</th>\n",
       "    </tr>\n",
       "  </thead>\n",
       "  <tbody>\n",
       "    <tr>\n",
       "      <th>0</th>\n",
       "      <td>2008-06-11</td>\n",
       "      <td>CULEX PIPIENS/RESTUANS</td>\n",
       "      <td>T002</td>\n",
       "      <td>41.95469</td>\n",
       "      <td>-87.800991</td>\n",
       "    </tr>\n",
       "    <tr>\n",
       "      <th>1</th>\n",
       "      <td>2008-06-11</td>\n",
       "      <td>CULEX RESTUANS</td>\n",
       "      <td>T002</td>\n",
       "      <td>41.95469</td>\n",
       "      <td>-87.800991</td>\n",
       "    </tr>\n",
       "    <tr>\n",
       "      <th>2</th>\n",
       "      <td>2008-06-11</td>\n",
       "      <td>CULEX PIPIENS</td>\n",
       "      <td>T002</td>\n",
       "      <td>41.95469</td>\n",
       "      <td>-87.800991</td>\n",
       "    </tr>\n",
       "    <tr>\n",
       "      <th>3</th>\n",
       "      <td>2008-06-11</td>\n",
       "      <td>CULEX SALINARIUS</td>\n",
       "      <td>T002</td>\n",
       "      <td>41.95469</td>\n",
       "      <td>-87.800991</td>\n",
       "    </tr>\n",
       "    <tr>\n",
       "      <th>4</th>\n",
       "      <td>2008-06-11</td>\n",
       "      <td>CULEX TERRITANS</td>\n",
       "      <td>T002</td>\n",
       "      <td>41.95469</td>\n",
       "      <td>-87.800991</td>\n",
       "    </tr>\n",
       "  </tbody>\n",
       "</table>\n",
       "</div>"
      ],
      "text/plain": [
       "         date                 species  trap  latitude  longitude\n",
       "0  2008-06-11  CULEX PIPIENS/RESTUANS  T002  41.95469 -87.800991\n",
       "1  2008-06-11          CULEX RESTUANS  T002  41.95469 -87.800991\n",
       "2  2008-06-11           CULEX PIPIENS  T002  41.95469 -87.800991\n",
       "3  2008-06-11        CULEX SALINARIUS  T002  41.95469 -87.800991\n",
       "4  2008-06-11         CULEX TERRITANS  T002  41.95469 -87.800991"
      ]
     },
     "execution_count": 51,
     "metadata": {},
     "output_type": "execute_result"
    }
   ],
   "source": [
    "test = test[['date', 'species', 'trap', 'latitude', 'longitude']]\n",
    "test.head()"
   ]
  },
  {
   "cell_type": "markdown",
   "metadata": {},
   "source": [
    "## `weather` datasets"
   ]
  },
  {
   "cell_type": "code",
   "execution_count": 52,
   "metadata": {
    "ExecuteTime": {
     "end_time": "2022-01-31T02:10:27.058421Z",
     "start_time": "2022-01-31T02:10:27.035481Z"
    }
   },
   "outputs": [
    {
     "data": {
      "text/html": [
       "<div>\n",
       "<style scoped>\n",
       "    .dataframe tbody tr th:only-of-type {\n",
       "        vertical-align: middle;\n",
       "    }\n",
       "\n",
       "    .dataframe tbody tr th {\n",
       "        vertical-align: top;\n",
       "    }\n",
       "\n",
       "    .dataframe thead th {\n",
       "        text-align: right;\n",
       "    }\n",
       "</style>\n",
       "<table border=\"1\" class=\"dataframe\">\n",
       "  <thead>\n",
       "    <tr style=\"text-align: right;\">\n",
       "      <th></th>\n",
       "      <th>station</th>\n",
       "      <th>date</th>\n",
       "      <th>tmax</th>\n",
       "      <th>tmin</th>\n",
       "      <th>tavg</th>\n",
       "      <th>depart</th>\n",
       "      <th>dew_point</th>\n",
       "      <th>wet_bulb</th>\n",
       "      <th>heat</th>\n",
       "      <th>cool</th>\n",
       "      <th>...</th>\n",
       "      <th>code_sum</th>\n",
       "      <th>depth</th>\n",
       "      <th>water1</th>\n",
       "      <th>snow_fall</th>\n",
       "      <th>precip_total</th>\n",
       "      <th>stn_pressure</th>\n",
       "      <th>sea_level</th>\n",
       "      <th>result_speed</th>\n",
       "      <th>result_dir</th>\n",
       "      <th>avg_speed</th>\n",
       "    </tr>\n",
       "  </thead>\n",
       "  <tbody>\n",
       "    <tr>\n",
       "      <th>0</th>\n",
       "      <td>1</td>\n",
       "      <td>2007-05-01</td>\n",
       "      <td>83</td>\n",
       "      <td>50</td>\n",
       "      <td>67</td>\n",
       "      <td>14</td>\n",
       "      <td>51</td>\n",
       "      <td>56</td>\n",
       "      <td>0</td>\n",
       "      <td>2</td>\n",
       "      <td>...</td>\n",
       "      <td></td>\n",
       "      <td>0</td>\n",
       "      <td>M</td>\n",
       "      <td>0.0</td>\n",
       "      <td>0.00</td>\n",
       "      <td>29.10</td>\n",
       "      <td>29.82</td>\n",
       "      <td>1.7</td>\n",
       "      <td>27</td>\n",
       "      <td>9.2</td>\n",
       "    </tr>\n",
       "    <tr>\n",
       "      <th>1</th>\n",
       "      <td>2</td>\n",
       "      <td>2007-05-01</td>\n",
       "      <td>84</td>\n",
       "      <td>52</td>\n",
       "      <td>68</td>\n",
       "      <td>M</td>\n",
       "      <td>51</td>\n",
       "      <td>57</td>\n",
       "      <td>0</td>\n",
       "      <td>3</td>\n",
       "      <td>...</td>\n",
       "      <td></td>\n",
       "      <td>M</td>\n",
       "      <td>M</td>\n",
       "      <td>M</td>\n",
       "      <td>0.00</td>\n",
       "      <td>29.18</td>\n",
       "      <td>29.82</td>\n",
       "      <td>2.7</td>\n",
       "      <td>25</td>\n",
       "      <td>9.6</td>\n",
       "    </tr>\n",
       "    <tr>\n",
       "      <th>2</th>\n",
       "      <td>1</td>\n",
       "      <td>2007-05-02</td>\n",
       "      <td>59</td>\n",
       "      <td>42</td>\n",
       "      <td>51</td>\n",
       "      <td>-3</td>\n",
       "      <td>42</td>\n",
       "      <td>47</td>\n",
       "      <td>14</td>\n",
       "      <td>0</td>\n",
       "      <td>...</td>\n",
       "      <td>BR</td>\n",
       "      <td>0</td>\n",
       "      <td>M</td>\n",
       "      <td>0.0</td>\n",
       "      <td>0.00</td>\n",
       "      <td>29.38</td>\n",
       "      <td>30.09</td>\n",
       "      <td>13.0</td>\n",
       "      <td>4</td>\n",
       "      <td>13.4</td>\n",
       "    </tr>\n",
       "    <tr>\n",
       "      <th>3</th>\n",
       "      <td>2</td>\n",
       "      <td>2007-05-02</td>\n",
       "      <td>60</td>\n",
       "      <td>43</td>\n",
       "      <td>52</td>\n",
       "      <td>M</td>\n",
       "      <td>42</td>\n",
       "      <td>47</td>\n",
       "      <td>13</td>\n",
       "      <td>0</td>\n",
       "      <td>...</td>\n",
       "      <td>BR HZ</td>\n",
       "      <td>M</td>\n",
       "      <td>M</td>\n",
       "      <td>M</td>\n",
       "      <td>0.00</td>\n",
       "      <td>29.44</td>\n",
       "      <td>30.08</td>\n",
       "      <td>13.3</td>\n",
       "      <td>2</td>\n",
       "      <td>13.4</td>\n",
       "    </tr>\n",
       "    <tr>\n",
       "      <th>4</th>\n",
       "      <td>1</td>\n",
       "      <td>2007-05-03</td>\n",
       "      <td>66</td>\n",
       "      <td>46</td>\n",
       "      <td>56</td>\n",
       "      <td>2</td>\n",
       "      <td>40</td>\n",
       "      <td>48</td>\n",
       "      <td>9</td>\n",
       "      <td>0</td>\n",
       "      <td>...</td>\n",
       "      <td></td>\n",
       "      <td>0</td>\n",
       "      <td>M</td>\n",
       "      <td>0.0</td>\n",
       "      <td>0.00</td>\n",
       "      <td>29.39</td>\n",
       "      <td>30.12</td>\n",
       "      <td>11.7</td>\n",
       "      <td>7</td>\n",
       "      <td>11.9</td>\n",
       "    </tr>\n",
       "  </tbody>\n",
       "</table>\n",
       "<p>5 rows × 22 columns</p>\n",
       "</div>"
      ],
      "text/plain": [
       "   station        date  tmax  tmin tavg depart  dew_point wet_bulb heat cool  \\\n",
       "0        1  2007-05-01    83    50   67     14         51       56    0    2   \n",
       "1        2  2007-05-01    84    52   68      M         51       57    0    3   \n",
       "2        1  2007-05-02    59    42   51     -3         42       47   14    0   \n",
       "3        2  2007-05-02    60    43   52      M         42       47   13    0   \n",
       "4        1  2007-05-03    66    46   56      2         40       48    9    0   \n",
       "\n",
       "   ... code_sum depth water1 snow_fall precip_total stn_pressure sea_level  \\\n",
       "0  ...              0      M       0.0         0.00        29.10     29.82   \n",
       "1  ...              M      M         M         0.00        29.18     29.82   \n",
       "2  ...       BR     0      M       0.0         0.00        29.38     30.09   \n",
       "3  ...    BR HZ     M      M         M         0.00        29.44     30.08   \n",
       "4  ...              0      M       0.0         0.00        29.39     30.12   \n",
       "\n",
       "  result_speed result_dir  avg_speed  \n",
       "0          1.7         27        9.2  \n",
       "1          2.7         25        9.6  \n",
       "2         13.0          4       13.4  \n",
       "3         13.3          2       13.4  \n",
       "4         11.7          7       11.9  \n",
       "\n",
       "[5 rows x 22 columns]"
      ]
     },
     "execution_count": 52,
     "metadata": {},
     "output_type": "execute_result"
    }
   ],
   "source": [
    "weather.head()"
   ]
  },
  {
   "cell_type": "code",
   "execution_count": 53,
   "metadata": {
    "ExecuteTime": {
     "end_time": "2022-01-31T02:10:28.416511Z",
     "start_time": "2022-01-31T02:10:28.403938Z"
    }
   },
   "outputs": [
    {
     "name": "stdout",
     "output_type": "stream",
     "text": [
      "<class 'pandas.core.frame.DataFrame'>\n",
      "RangeIndex: 2944 entries, 0 to 2943\n",
      "Data columns (total 22 columns):\n",
      " #   Column        Non-Null Count  Dtype  \n",
      "---  ------        --------------  -----  \n",
      " 0   station       2944 non-null   int64  \n",
      " 1   date          2944 non-null   object \n",
      " 2   tmax          2944 non-null   int64  \n",
      " 3   tmin          2944 non-null   int64  \n",
      " 4   tavg          2944 non-null   object \n",
      " 5   depart        2944 non-null   object \n",
      " 6   dew_point     2944 non-null   int64  \n",
      " 7   wet_bulb      2944 non-null   object \n",
      " 8   heat          2944 non-null   object \n",
      " 9   cool          2944 non-null   object \n",
      " 10  sunrise       2944 non-null   object \n",
      " 11  sunset        2944 non-null   object \n",
      " 12  code_sum      2944 non-null   object \n",
      " 13  depth         2944 non-null   object \n",
      " 14  water1        2944 non-null   object \n",
      " 15  snow_fall     2944 non-null   object \n",
      " 16  precip_total  2944 non-null   object \n",
      " 17  stn_pressure  2944 non-null   object \n",
      " 18  sea_level     2944 non-null   object \n",
      " 19  result_speed  2944 non-null   float64\n",
      " 20  result_dir    2944 non-null   int64  \n",
      " 21  avg_speed     2944 non-null   object \n",
      "dtypes: float64(1), int64(5), object(16)\n",
      "memory usage: 506.1+ KB\n"
     ]
    }
   ],
   "source": [
    "weather.info()"
   ]
  },
  {
   "cell_type": "markdown",
   "metadata": {},
   "source": [
    "We can again start off by removing duplicated rows, however it seems like there are none."
   ]
  },
  {
   "cell_type": "markdown",
   "metadata": {},
   "source": [
    "### Drop Duplicates"
   ]
  },
  {
   "cell_type": "code",
   "execution_count": 54,
   "metadata": {
    "ExecuteTime": {
     "end_time": "2022-01-31T02:10:29.853414Z",
     "start_time": "2022-01-31T02:10:29.806472Z"
    }
   },
   "outputs": [
    {
     "name": "stdout",
     "output_type": "stream",
     "text": [
      "The number of removed duplicated rows is: 0\n"
     ]
    },
    {
     "data": {
      "text/html": [
       "<div>\n",
       "<style scoped>\n",
       "    .dataframe tbody tr th:only-of-type {\n",
       "        vertical-align: middle;\n",
       "    }\n",
       "\n",
       "    .dataframe tbody tr th {\n",
       "        vertical-align: top;\n",
       "    }\n",
       "\n",
       "    .dataframe thead th {\n",
       "        text-align: right;\n",
       "    }\n",
       "</style>\n",
       "<table border=\"1\" class=\"dataframe\">\n",
       "  <thead>\n",
       "    <tr style=\"text-align: right;\">\n",
       "      <th></th>\n",
       "      <th>station</th>\n",
       "      <th>date</th>\n",
       "      <th>tmax</th>\n",
       "      <th>tmin</th>\n",
       "      <th>tavg</th>\n",
       "      <th>depart</th>\n",
       "      <th>dew_point</th>\n",
       "      <th>wet_bulb</th>\n",
       "      <th>heat</th>\n",
       "      <th>cool</th>\n",
       "      <th>...</th>\n",
       "      <th>code_sum</th>\n",
       "      <th>depth</th>\n",
       "      <th>water1</th>\n",
       "      <th>snow_fall</th>\n",
       "      <th>precip_total</th>\n",
       "      <th>stn_pressure</th>\n",
       "      <th>sea_level</th>\n",
       "      <th>result_speed</th>\n",
       "      <th>result_dir</th>\n",
       "      <th>avg_speed</th>\n",
       "    </tr>\n",
       "  </thead>\n",
       "  <tbody>\n",
       "    <tr>\n",
       "      <th>0</th>\n",
       "      <td>1</td>\n",
       "      <td>2007-05-01</td>\n",
       "      <td>83</td>\n",
       "      <td>50</td>\n",
       "      <td>67</td>\n",
       "      <td>14</td>\n",
       "      <td>51</td>\n",
       "      <td>56</td>\n",
       "      <td>0</td>\n",
       "      <td>2</td>\n",
       "      <td>...</td>\n",
       "      <td></td>\n",
       "      <td>0</td>\n",
       "      <td>M</td>\n",
       "      <td>0.0</td>\n",
       "      <td>0.00</td>\n",
       "      <td>29.10</td>\n",
       "      <td>29.82</td>\n",
       "      <td>1.7</td>\n",
       "      <td>27</td>\n",
       "      <td>9.2</td>\n",
       "    </tr>\n",
       "    <tr>\n",
       "      <th>1</th>\n",
       "      <td>2</td>\n",
       "      <td>2007-05-01</td>\n",
       "      <td>84</td>\n",
       "      <td>52</td>\n",
       "      <td>68</td>\n",
       "      <td>M</td>\n",
       "      <td>51</td>\n",
       "      <td>57</td>\n",
       "      <td>0</td>\n",
       "      <td>3</td>\n",
       "      <td>...</td>\n",
       "      <td></td>\n",
       "      <td>M</td>\n",
       "      <td>M</td>\n",
       "      <td>M</td>\n",
       "      <td>0.00</td>\n",
       "      <td>29.18</td>\n",
       "      <td>29.82</td>\n",
       "      <td>2.7</td>\n",
       "      <td>25</td>\n",
       "      <td>9.6</td>\n",
       "    </tr>\n",
       "    <tr>\n",
       "      <th>2</th>\n",
       "      <td>1</td>\n",
       "      <td>2007-05-02</td>\n",
       "      <td>59</td>\n",
       "      <td>42</td>\n",
       "      <td>51</td>\n",
       "      <td>-3</td>\n",
       "      <td>42</td>\n",
       "      <td>47</td>\n",
       "      <td>14</td>\n",
       "      <td>0</td>\n",
       "      <td>...</td>\n",
       "      <td>BR</td>\n",
       "      <td>0</td>\n",
       "      <td>M</td>\n",
       "      <td>0.0</td>\n",
       "      <td>0.00</td>\n",
       "      <td>29.38</td>\n",
       "      <td>30.09</td>\n",
       "      <td>13.0</td>\n",
       "      <td>4</td>\n",
       "      <td>13.4</td>\n",
       "    </tr>\n",
       "    <tr>\n",
       "      <th>3</th>\n",
       "      <td>2</td>\n",
       "      <td>2007-05-02</td>\n",
       "      <td>60</td>\n",
       "      <td>43</td>\n",
       "      <td>52</td>\n",
       "      <td>M</td>\n",
       "      <td>42</td>\n",
       "      <td>47</td>\n",
       "      <td>13</td>\n",
       "      <td>0</td>\n",
       "      <td>...</td>\n",
       "      <td>BR HZ</td>\n",
       "      <td>M</td>\n",
       "      <td>M</td>\n",
       "      <td>M</td>\n",
       "      <td>0.00</td>\n",
       "      <td>29.44</td>\n",
       "      <td>30.08</td>\n",
       "      <td>13.3</td>\n",
       "      <td>2</td>\n",
       "      <td>13.4</td>\n",
       "    </tr>\n",
       "    <tr>\n",
       "      <th>4</th>\n",
       "      <td>1</td>\n",
       "      <td>2007-05-03</td>\n",
       "      <td>66</td>\n",
       "      <td>46</td>\n",
       "      <td>56</td>\n",
       "      <td>2</td>\n",
       "      <td>40</td>\n",
       "      <td>48</td>\n",
       "      <td>9</td>\n",
       "      <td>0</td>\n",
       "      <td>...</td>\n",
       "      <td></td>\n",
       "      <td>0</td>\n",
       "      <td>M</td>\n",
       "      <td>0.0</td>\n",
       "      <td>0.00</td>\n",
       "      <td>29.39</td>\n",
       "      <td>30.12</td>\n",
       "      <td>11.7</td>\n",
       "      <td>7</td>\n",
       "      <td>11.9</td>\n",
       "    </tr>\n",
       "    <tr>\n",
       "      <th>...</th>\n",
       "      <td>...</td>\n",
       "      <td>...</td>\n",
       "      <td>...</td>\n",
       "      <td>...</td>\n",
       "      <td>...</td>\n",
       "      <td>...</td>\n",
       "      <td>...</td>\n",
       "      <td>...</td>\n",
       "      <td>...</td>\n",
       "      <td>...</td>\n",
       "      <td>...</td>\n",
       "      <td>...</td>\n",
       "      <td>...</td>\n",
       "      <td>...</td>\n",
       "      <td>...</td>\n",
       "      <td>...</td>\n",
       "      <td>...</td>\n",
       "      <td>...</td>\n",
       "      <td>...</td>\n",
       "      <td>...</td>\n",
       "      <td>...</td>\n",
       "    </tr>\n",
       "    <tr>\n",
       "      <th>2939</th>\n",
       "      <td>2</td>\n",
       "      <td>2014-10-29</td>\n",
       "      <td>49</td>\n",
       "      <td>40</td>\n",
       "      <td>45</td>\n",
       "      <td>M</td>\n",
       "      <td>34</td>\n",
       "      <td>42</td>\n",
       "      <td>20</td>\n",
       "      <td>0</td>\n",
       "      <td>...</td>\n",
       "      <td></td>\n",
       "      <td>M</td>\n",
       "      <td>M</td>\n",
       "      <td>M</td>\n",
       "      <td>0.00</td>\n",
       "      <td>29.42</td>\n",
       "      <td>30.07</td>\n",
       "      <td>8.5</td>\n",
       "      <td>29</td>\n",
       "      <td>9.0</td>\n",
       "    </tr>\n",
       "    <tr>\n",
       "      <th>2940</th>\n",
       "      <td>1</td>\n",
       "      <td>2014-10-30</td>\n",
       "      <td>51</td>\n",
       "      <td>32</td>\n",
       "      <td>42</td>\n",
       "      <td>-4</td>\n",
       "      <td>34</td>\n",
       "      <td>40</td>\n",
       "      <td>23</td>\n",
       "      <td>0</td>\n",
       "      <td>...</td>\n",
       "      <td></td>\n",
       "      <td>0</td>\n",
       "      <td>M</td>\n",
       "      <td>0.0</td>\n",
       "      <td>0.00</td>\n",
       "      <td>29.34</td>\n",
       "      <td>30.09</td>\n",
       "      <td>5.1</td>\n",
       "      <td>24</td>\n",
       "      <td>5.5</td>\n",
       "    </tr>\n",
       "    <tr>\n",
       "      <th>2941</th>\n",
       "      <td>2</td>\n",
       "      <td>2014-10-30</td>\n",
       "      <td>53</td>\n",
       "      <td>37</td>\n",
       "      <td>45</td>\n",
       "      <td>M</td>\n",
       "      <td>35</td>\n",
       "      <td>42</td>\n",
       "      <td>20</td>\n",
       "      <td>0</td>\n",
       "      <td>...</td>\n",
       "      <td>RA</td>\n",
       "      <td>M</td>\n",
       "      <td>M</td>\n",
       "      <td>M</td>\n",
       "      <td>T</td>\n",
       "      <td>29.41</td>\n",
       "      <td>30.10</td>\n",
       "      <td>5.9</td>\n",
       "      <td>23</td>\n",
       "      <td>6.5</td>\n",
       "    </tr>\n",
       "    <tr>\n",
       "      <th>2942</th>\n",
       "      <td>1</td>\n",
       "      <td>2014-10-31</td>\n",
       "      <td>47</td>\n",
       "      <td>33</td>\n",
       "      <td>40</td>\n",
       "      <td>-6</td>\n",
       "      <td>25</td>\n",
       "      <td>33</td>\n",
       "      <td>25</td>\n",
       "      <td>0</td>\n",
       "      <td>...</td>\n",
       "      <td>RA SN</td>\n",
       "      <td>0</td>\n",
       "      <td>M</td>\n",
       "      <td>0.1</td>\n",
       "      <td>0.03</td>\n",
       "      <td>29.49</td>\n",
       "      <td>30.20</td>\n",
       "      <td>22.6</td>\n",
       "      <td>34</td>\n",
       "      <td>22.9</td>\n",
       "    </tr>\n",
       "    <tr>\n",
       "      <th>2943</th>\n",
       "      <td>2</td>\n",
       "      <td>2014-10-31</td>\n",
       "      <td>49</td>\n",
       "      <td>34</td>\n",
       "      <td>42</td>\n",
       "      <td>M</td>\n",
       "      <td>29</td>\n",
       "      <td>36</td>\n",
       "      <td>23</td>\n",
       "      <td>0</td>\n",
       "      <td>...</td>\n",
       "      <td>RA SN BR</td>\n",
       "      <td>M</td>\n",
       "      <td>M</td>\n",
       "      <td>M</td>\n",
       "      <td>0.04</td>\n",
       "      <td>29.54</td>\n",
       "      <td>30.20</td>\n",
       "      <td>21.7</td>\n",
       "      <td>34</td>\n",
       "      <td>22.6</td>\n",
       "    </tr>\n",
       "  </tbody>\n",
       "</table>\n",
       "<p>2944 rows × 22 columns</p>\n",
       "</div>"
      ],
      "text/plain": [
       "      station        date  tmax  tmin tavg depart  dew_point wet_bulb heat  \\\n",
       "0           1  2007-05-01    83    50   67     14         51       56    0   \n",
       "1           2  2007-05-01    84    52   68      M         51       57    0   \n",
       "2           1  2007-05-02    59    42   51     -3         42       47   14   \n",
       "3           2  2007-05-02    60    43   52      M         42       47   13   \n",
       "4           1  2007-05-03    66    46   56      2         40       48    9   \n",
       "...       ...         ...   ...   ...  ...    ...        ...      ...  ...   \n",
       "2939        2  2014-10-29    49    40   45      M         34       42   20   \n",
       "2940        1  2014-10-30    51    32   42     -4         34       40   23   \n",
       "2941        2  2014-10-30    53    37   45      M         35       42   20   \n",
       "2942        1  2014-10-31    47    33   40     -6         25       33   25   \n",
       "2943        2  2014-10-31    49    34   42      M         29       36   23   \n",
       "\n",
       "     cool  ...  code_sum depth water1 snow_fall precip_total stn_pressure  \\\n",
       "0       2  ...               0      M       0.0         0.00        29.10   \n",
       "1       3  ...               M      M         M         0.00        29.18   \n",
       "2       0  ...        BR     0      M       0.0         0.00        29.38   \n",
       "3       0  ...     BR HZ     M      M         M         0.00        29.44   \n",
       "4       0  ...               0      M       0.0         0.00        29.39   \n",
       "...   ...  ...       ...   ...    ...       ...          ...          ...   \n",
       "2939    0  ...               M      M         M         0.00        29.42   \n",
       "2940    0  ...               0      M       0.0         0.00        29.34   \n",
       "2941    0  ...        RA     M      M         M            T        29.41   \n",
       "2942    0  ...     RA SN     0      M       0.1         0.03        29.49   \n",
       "2943    0  ...  RA SN BR     M      M         M         0.04        29.54   \n",
       "\n",
       "     sea_level result_speed result_dir  avg_speed  \n",
       "0        29.82          1.7         27        9.2  \n",
       "1        29.82          2.7         25        9.6  \n",
       "2        30.09         13.0          4       13.4  \n",
       "3        30.08         13.3          2       13.4  \n",
       "4        30.12         11.7          7       11.9  \n",
       "...        ...          ...        ...        ...  \n",
       "2939     30.07          8.5         29        9.0  \n",
       "2940     30.09          5.1         24        5.5  \n",
       "2941     30.10          5.9         23        6.5  \n",
       "2942     30.20         22.6         34       22.9  \n",
       "2943     30.20         21.7         34       22.6  \n",
       "\n",
       "[2944 rows x 22 columns]"
      ]
     },
     "execution_count": 54,
     "metadata": {},
     "output_type": "execute_result"
    }
   ],
   "source": [
    "remove_dupe(weather)"
   ]
  },
  {
   "cell_type": "markdown",
   "metadata": {
    "id": "IHBPTEbUuvyY"
   },
   "source": [
    "Taking a look at the nominal variable `code_sum`, we notice that it is a description of weather patterns captured by the weather station on a certain day. However for our case, the rest of the information suffices and thus we do not need it."
   ]
  },
  {
   "cell_type": "code",
   "execution_count": 55,
   "metadata": {
    "ExecuteTime": {
     "end_time": "2022-01-31T02:10:31.399030Z",
     "start_time": "2022-01-31T02:10:31.387030Z"
    },
    "colab": {
     "base_uri": "https://localhost:8080/"
    },
    "id": "jRuCps2ojofd",
    "outputId": "958f807d-bac4-49f4-f5ad-ffc1aeb72074"
   },
   "outputs": [
    {
     "data": {
      "text/plain": [
       "                        1609\n",
       "RA                       296\n",
       "RA BR                    238\n",
       "BR                       110\n",
       "TSRA RA BR                92\n",
       "                        ... \n",
       "TSRA RA HZ FU              1\n",
       "TSRA DZ FG+ FG BR HZ       1\n",
       "HZ FU                      1\n",
       "TS TSRA RA FG BR HZ        1\n",
       "RA VCTS                    1\n",
       "Name: code_sum, Length: 98, dtype: int64"
      ]
     },
     "execution_count": 55,
     "metadata": {},
     "output_type": "execute_result"
    }
   ],
   "source": [
    "weather.code_sum.value_counts()"
   ]
  },
  {
   "cell_type": "markdown",
   "metadata": {
    "id": "rtLIyPP34g5h"
   },
   "source": [
    "We can also do a check on the precipitation columns. It seems like out of all of them, only the total precipitation column gives the most useful information - the rest are null values."
   ]
  },
  {
   "cell_type": "code",
   "execution_count": 56,
   "metadata": {
    "ExecuteTime": {
     "end_time": "2022-01-31T02:10:32.356940Z",
     "start_time": "2022-01-31T02:10:32.339989Z"
    },
    "colab": {
     "base_uri": "https://localhost:8080/"
    },
    "id": "wZmUlKK4cp_E",
    "outputId": "a29bae38-2ac4-4ada-e0c4-09861b470661"
   },
   "outputs": [
    {
     "name": "stdout",
     "output_type": "stream",
     "text": [
      "depth\n",
      "M    1472\n",
      "0    1472\n",
      "Name: depth, dtype: int64\n",
      "===============\n",
      "water1\n",
      "M    2944\n",
      "Name: water1, dtype: int64\n",
      "===============\n",
      "snow_fall\n",
      "M      1472\n",
      "0.0    1459\n",
      "  T      12\n",
      "0.1       1\n",
      "Name: snow_fall, dtype: int64\n",
      "===============\n",
      "precip_total\n",
      "0.00    1577\n",
      "  T      318\n",
      "0.01     127\n",
      "0.02      63\n",
      "0.03      46\n",
      "        ... \n",
      "1.30       1\n",
      "1.19       1\n",
      "4.73       1\n",
      "2.09       1\n",
      "1.18       1\n",
      "Name: precip_total, Length: 168, dtype: int64\n",
      "===============\n"
     ]
    }
   ],
   "source": [
    "for col in ['depth', 'water1', 'snow_fall', 'precip_total']:\n",
    "  print(col)\n",
    "  print(weather[col].value_counts())\n",
    "  print('===============')"
   ]
  },
  {
   "cell_type": "markdown",
   "metadata": {
    "id": "IrXbc3C-IsBX"
   },
   "source": [
    "According to this [website](https://www.differencebetween.com/difference-between-dewpoint-and-wet-bulb-temperature/), there is a direct correlation between temperature and dewpoint which indicates the humidity. We can then remove the wet bulb temperature. Furthermore, air pressure has a significant impact on the weather patterns in the area.\n",
    "\n",
    "Based on the above analysis, we will be choosing a few relevant columns for our analysis. The pertinent ones are:\n",
    "1. station\n",
    "2. date\n",
    "3. tavg\n",
    "4. dew_point\n",
    "5. precip_total\n",
    "6. stn_pressure\n",
    "7. sea_level\n",
    "8. result_dir\n",
    "9. avg_speed"
   ]
  },
  {
   "cell_type": "code",
   "execution_count": 57,
   "metadata": {
    "ExecuteTime": {
     "end_time": "2022-01-31T02:10:34.996136Z",
     "start_time": "2022-01-31T02:10:34.979147Z"
    },
    "colab": {
     "base_uri": "https://localhost:8080/",
     "height": 206
    },
    "id": "DphdvgCML2ey",
    "outputId": "9167f168-c9da-4aa3-bb9e-64117459a1c1"
   },
   "outputs": [
    {
     "data": {
      "text/html": [
       "<div>\n",
       "<style scoped>\n",
       "    .dataframe tbody tr th:only-of-type {\n",
       "        vertical-align: middle;\n",
       "    }\n",
       "\n",
       "    .dataframe tbody tr th {\n",
       "        vertical-align: top;\n",
       "    }\n",
       "\n",
       "    .dataframe thead th {\n",
       "        text-align: right;\n",
       "    }\n",
       "</style>\n",
       "<table border=\"1\" class=\"dataframe\">\n",
       "  <thead>\n",
       "    <tr style=\"text-align: right;\">\n",
       "      <th></th>\n",
       "      <th>station</th>\n",
       "      <th>date</th>\n",
       "      <th>tavg</th>\n",
       "      <th>dew_point</th>\n",
       "      <th>precip_total</th>\n",
       "      <th>stn_pressure</th>\n",
       "      <th>sea_level</th>\n",
       "      <th>result_dir</th>\n",
       "      <th>avg_speed</th>\n",
       "    </tr>\n",
       "  </thead>\n",
       "  <tbody>\n",
       "    <tr>\n",
       "      <th>0</th>\n",
       "      <td>1</td>\n",
       "      <td>2007-05-01</td>\n",
       "      <td>67</td>\n",
       "      <td>51</td>\n",
       "      <td>0.00</td>\n",
       "      <td>29.10</td>\n",
       "      <td>29.82</td>\n",
       "      <td>27</td>\n",
       "      <td>9.2</td>\n",
       "    </tr>\n",
       "    <tr>\n",
       "      <th>1</th>\n",
       "      <td>2</td>\n",
       "      <td>2007-05-01</td>\n",
       "      <td>68</td>\n",
       "      <td>51</td>\n",
       "      <td>0.00</td>\n",
       "      <td>29.18</td>\n",
       "      <td>29.82</td>\n",
       "      <td>25</td>\n",
       "      <td>9.6</td>\n",
       "    </tr>\n",
       "    <tr>\n",
       "      <th>2</th>\n",
       "      <td>1</td>\n",
       "      <td>2007-05-02</td>\n",
       "      <td>51</td>\n",
       "      <td>42</td>\n",
       "      <td>0.00</td>\n",
       "      <td>29.38</td>\n",
       "      <td>30.09</td>\n",
       "      <td>4</td>\n",
       "      <td>13.4</td>\n",
       "    </tr>\n",
       "    <tr>\n",
       "      <th>3</th>\n",
       "      <td>2</td>\n",
       "      <td>2007-05-02</td>\n",
       "      <td>52</td>\n",
       "      <td>42</td>\n",
       "      <td>0.00</td>\n",
       "      <td>29.44</td>\n",
       "      <td>30.08</td>\n",
       "      <td>2</td>\n",
       "      <td>13.4</td>\n",
       "    </tr>\n",
       "    <tr>\n",
       "      <th>4</th>\n",
       "      <td>1</td>\n",
       "      <td>2007-05-03</td>\n",
       "      <td>56</td>\n",
       "      <td>40</td>\n",
       "      <td>0.00</td>\n",
       "      <td>29.39</td>\n",
       "      <td>30.12</td>\n",
       "      <td>7</td>\n",
       "      <td>11.9</td>\n",
       "    </tr>\n",
       "  </tbody>\n",
       "</table>\n",
       "</div>"
      ],
      "text/plain": [
       "   station        date tavg  dew_point precip_total stn_pressure sea_level  \\\n",
       "0        1  2007-05-01   67         51         0.00        29.10     29.82   \n",
       "1        2  2007-05-01   68         51         0.00        29.18     29.82   \n",
       "2        1  2007-05-02   51         42         0.00        29.38     30.09   \n",
       "3        2  2007-05-02   52         42         0.00        29.44     30.08   \n",
       "4        1  2007-05-03   56         40         0.00        29.39     30.12   \n",
       "\n",
       "   result_dir avg_speed  \n",
       "0          27       9.2  \n",
       "1          25       9.6  \n",
       "2           4      13.4  \n",
       "3           2      13.4  \n",
       "4           7      11.9  "
      ]
     },
     "execution_count": 57,
     "metadata": {},
     "output_type": "execute_result"
    }
   ],
   "source": [
    "weather = weather[['station', 'date', 'tavg', 'dew_point', 'precip_total', 'stn_pressure', 'sea_level', 'result_dir', 'avg_speed']]\n",
    "weather.head()"
   ]
  },
  {
   "cell_type": "markdown",
   "metadata": {},
   "source": [
    "Since both weather stations give important information, we can combine them horizontally based on the date for easier merging later."
   ]
  },
  {
   "cell_type": "code",
   "execution_count": 58,
   "metadata": {
    "ExecuteTime": {
     "end_time": "2022-01-31T02:10:36.377909Z",
     "start_time": "2022-01-31T02:10:36.351980Z"
    }
   },
   "outputs": [
    {
     "data": {
      "text/html": [
       "<div>\n",
       "<style scoped>\n",
       "    .dataframe tbody tr th:only-of-type {\n",
       "        vertical-align: middle;\n",
       "    }\n",
       "\n",
       "    .dataframe tbody tr th {\n",
       "        vertical-align: top;\n",
       "    }\n",
       "\n",
       "    .dataframe thead th {\n",
       "        text-align: right;\n",
       "    }\n",
       "</style>\n",
       "<table border=\"1\" class=\"dataframe\">\n",
       "  <thead>\n",
       "    <tr style=\"text-align: right;\">\n",
       "      <th></th>\n",
       "      <th>date</th>\n",
       "      <th>tavg_1</th>\n",
       "      <th>dew_point_1</th>\n",
       "      <th>precip_total_1</th>\n",
       "      <th>stn_pressure_1</th>\n",
       "      <th>sea_level_1</th>\n",
       "      <th>result_dir_1</th>\n",
       "      <th>avg_speed_1</th>\n",
       "      <th>tavg_2</th>\n",
       "      <th>dew_point_2</th>\n",
       "      <th>precip_total_2</th>\n",
       "      <th>stn_pressure_2</th>\n",
       "      <th>sea_level_2</th>\n",
       "      <th>result_dir_2</th>\n",
       "      <th>avg_speed_2</th>\n",
       "    </tr>\n",
       "  </thead>\n",
       "  <tbody>\n",
       "    <tr>\n",
       "      <th>0</th>\n",
       "      <td>2007-05-01</td>\n",
       "      <td>67</td>\n",
       "      <td>51</td>\n",
       "      <td>0.00</td>\n",
       "      <td>29.10</td>\n",
       "      <td>29.82</td>\n",
       "      <td>27</td>\n",
       "      <td>9.2</td>\n",
       "      <td>68</td>\n",
       "      <td>51</td>\n",
       "      <td>0.00</td>\n",
       "      <td>29.18</td>\n",
       "      <td>29.82</td>\n",
       "      <td>25</td>\n",
       "      <td>9.6</td>\n",
       "    </tr>\n",
       "    <tr>\n",
       "      <th>1</th>\n",
       "      <td>2007-05-02</td>\n",
       "      <td>51</td>\n",
       "      <td>42</td>\n",
       "      <td>0.00</td>\n",
       "      <td>29.38</td>\n",
       "      <td>30.09</td>\n",
       "      <td>4</td>\n",
       "      <td>13.4</td>\n",
       "      <td>52</td>\n",
       "      <td>42</td>\n",
       "      <td>0.00</td>\n",
       "      <td>29.44</td>\n",
       "      <td>30.08</td>\n",
       "      <td>2</td>\n",
       "      <td>13.4</td>\n",
       "    </tr>\n",
       "    <tr>\n",
       "      <th>2</th>\n",
       "      <td>2007-05-03</td>\n",
       "      <td>56</td>\n",
       "      <td>40</td>\n",
       "      <td>0.00</td>\n",
       "      <td>29.39</td>\n",
       "      <td>30.12</td>\n",
       "      <td>7</td>\n",
       "      <td>11.9</td>\n",
       "      <td>58</td>\n",
       "      <td>40</td>\n",
       "      <td>0.00</td>\n",
       "      <td>29.46</td>\n",
       "      <td>30.12</td>\n",
       "      <td>6</td>\n",
       "      <td>13.2</td>\n",
       "    </tr>\n",
       "    <tr>\n",
       "      <th>3</th>\n",
       "      <td>2007-05-04</td>\n",
       "      <td>58</td>\n",
       "      <td>41</td>\n",
       "      <td>T</td>\n",
       "      <td>29.31</td>\n",
       "      <td>30.05</td>\n",
       "      <td>8</td>\n",
       "      <td>10.8</td>\n",
       "      <td>M</td>\n",
       "      <td>42</td>\n",
       "      <td>0.00</td>\n",
       "      <td>29.36</td>\n",
       "      <td>30.04</td>\n",
       "      <td>7</td>\n",
       "      <td>10.4</td>\n",
       "    </tr>\n",
       "    <tr>\n",
       "      <th>4</th>\n",
       "      <td>2007-05-05</td>\n",
       "      <td>60</td>\n",
       "      <td>38</td>\n",
       "      <td>T</td>\n",
       "      <td>29.40</td>\n",
       "      <td>30.10</td>\n",
       "      <td>7</td>\n",
       "      <td>12.0</td>\n",
       "      <td>60</td>\n",
       "      <td>39</td>\n",
       "      <td>T</td>\n",
       "      <td>29.46</td>\n",
       "      <td>30.09</td>\n",
       "      <td>7</td>\n",
       "      <td>11.5</td>\n",
       "    </tr>\n",
       "  </tbody>\n",
       "</table>\n",
       "</div>"
      ],
      "text/plain": [
       "         date tavg_1  dew_point_1 precip_total_1 stn_pressure_1 sea_level_1  \\\n",
       "0  2007-05-01     67           51           0.00          29.10       29.82   \n",
       "1  2007-05-02     51           42           0.00          29.38       30.09   \n",
       "2  2007-05-03     56           40           0.00          29.39       30.12   \n",
       "3  2007-05-04     58           41              T          29.31       30.05   \n",
       "4  2007-05-05     60           38              T          29.40       30.10   \n",
       "\n",
       "   result_dir_1 avg_speed_1 tavg_2  dew_point_2 precip_total_2 stn_pressure_2  \\\n",
       "0            27         9.2     68           51           0.00          29.18   \n",
       "1             4        13.4     52           42           0.00          29.44   \n",
       "2             7        11.9     58           40           0.00          29.46   \n",
       "3             8        10.8      M           42           0.00          29.36   \n",
       "4             7        12.0     60           39              T          29.46   \n",
       "\n",
       "  sea_level_2  result_dir_2 avg_speed_2  \n",
       "0       29.82            25         9.6  \n",
       "1       30.08             2        13.4  \n",
       "2       30.12             6        13.2  \n",
       "3       30.04             7        10.4  \n",
       "4       30.09             7        11.5  "
      ]
     },
     "execution_count": 58,
     "metadata": {},
     "output_type": "execute_result"
    }
   ],
   "source": [
    "weather_stn1 = weather[weather['station'] == 1].drop('station', axis = 1)\n",
    "weather_stn2 = weather[weather['station'] == 2].drop('station', axis = 1)\n",
    "weather = weather_stn1.merge(weather_stn2, on='date', suffixes = ('_1', '_2'))\n",
    "weather.head()"
   ]
  },
  {
   "cell_type": "markdown",
   "metadata": {},
   "source": [
    "## Merging datasets"
   ]
  },
  {
   "cell_type": "code",
   "execution_count": 59,
   "metadata": {
    "ExecuteTime": {
     "end_time": "2022-01-31T02:10:38.077811Z",
     "start_time": "2022-01-31T02:10:37.969866Z"
    }
   },
   "outputs": [],
   "source": [
    "train = train.merge(weather, on='date')\n",
    "test = test.merge(weather, on = 'date')"
   ]
  },
  {
   "cell_type": "markdown",
   "metadata": {
    "id": "UTYWOJSqaOr7"
   },
   "source": [
    "# Notes from other people (TO DELETE)\n",
    "- Test and train data contain multiple entries for the same locations... this could be consolidated.\n",
    "- Weather contains two different stations, and dates are not standardized with train and test datasets.\n",
    "- Weather data is in different dtypes.\n",
    "- Spray data is for only two weeks in 2011, and a few weeks in 2013. This is not enough to see a consistent effect of spraying, and determine how much spraying really effects mosquito population."
   ]
  },
  {
   "cell_type": "markdown",
   "metadata": {
    "id": "9_zqF36oqP3u"
   },
   "source": [
    "# Data Cleaning\n",
    "\n",
    "Our data cleaning will involve two steps:\n",
    "1. imputing missing values\n",
    "2. changing datatypes"
   ]
  },
  {
   "cell_type": "markdown",
   "metadata": {
    "id": "uiLaLBK6Okgu"
   },
   "source": [
    "## `train` dataset\n",
    "\n",
    "We will first examine the `train` dataset and the datatypes of the features."
   ]
  },
  {
   "cell_type": "code",
   "execution_count": 60,
   "metadata": {
    "ExecuteTime": {
     "end_time": "2022-01-31T02:10:39.652884Z",
     "start_time": "2022-01-31T02:10:39.623963Z"
    }
   },
   "outputs": [
    {
     "data": {
      "text/html": [
       "<div>\n",
       "<style scoped>\n",
       "    .dataframe tbody tr th:only-of-type {\n",
       "        vertical-align: middle;\n",
       "    }\n",
       "\n",
       "    .dataframe tbody tr th {\n",
       "        vertical-align: top;\n",
       "    }\n",
       "\n",
       "    .dataframe thead th {\n",
       "        text-align: right;\n",
       "    }\n",
       "</style>\n",
       "<table border=\"1\" class=\"dataframe\">\n",
       "  <thead>\n",
       "    <tr style=\"text-align: right;\">\n",
       "      <th></th>\n",
       "      <th>date</th>\n",
       "      <th>species</th>\n",
       "      <th>latitude</th>\n",
       "      <th>longitude</th>\n",
       "      <th>wnv_present</th>\n",
       "      <th>tavg_1</th>\n",
       "      <th>dew_point_1</th>\n",
       "      <th>precip_total_1</th>\n",
       "      <th>stn_pressure_1</th>\n",
       "      <th>sea_level_1</th>\n",
       "      <th>result_dir_1</th>\n",
       "      <th>avg_speed_1</th>\n",
       "      <th>tavg_2</th>\n",
       "      <th>dew_point_2</th>\n",
       "      <th>precip_total_2</th>\n",
       "      <th>stn_pressure_2</th>\n",
       "      <th>sea_level_2</th>\n",
       "      <th>result_dir_2</th>\n",
       "      <th>avg_speed_2</th>\n",
       "    </tr>\n",
       "  </thead>\n",
       "  <tbody>\n",
       "    <tr>\n",
       "      <th>0</th>\n",
       "      <td>2007-05-29</td>\n",
       "      <td>CULEX PIPIENS/RESTUANS</td>\n",
       "      <td>41.954690</td>\n",
       "      <td>-87.800991</td>\n",
       "      <td>0</td>\n",
       "      <td>74</td>\n",
       "      <td>58</td>\n",
       "      <td>0.00</td>\n",
       "      <td>29.39</td>\n",
       "      <td>30.11</td>\n",
       "      <td>18</td>\n",
       "      <td>6.5</td>\n",
       "      <td>77</td>\n",
       "      <td>59</td>\n",
       "      <td>0.00</td>\n",
       "      <td>29.44</td>\n",
       "      <td>30.09</td>\n",
       "      <td>16</td>\n",
       "      <td>7.4</td>\n",
       "    </tr>\n",
       "    <tr>\n",
       "      <th>1</th>\n",
       "      <td>2007-05-29</td>\n",
       "      <td>CULEX RESTUANS</td>\n",
       "      <td>41.954690</td>\n",
       "      <td>-87.800991</td>\n",
       "      <td>0</td>\n",
       "      <td>74</td>\n",
       "      <td>58</td>\n",
       "      <td>0.00</td>\n",
       "      <td>29.39</td>\n",
       "      <td>30.11</td>\n",
       "      <td>18</td>\n",
       "      <td>6.5</td>\n",
       "      <td>77</td>\n",
       "      <td>59</td>\n",
       "      <td>0.00</td>\n",
       "      <td>29.44</td>\n",
       "      <td>30.09</td>\n",
       "      <td>16</td>\n",
       "      <td>7.4</td>\n",
       "    </tr>\n",
       "    <tr>\n",
       "      <th>2</th>\n",
       "      <td>2007-05-29</td>\n",
       "      <td>CULEX RESTUANS</td>\n",
       "      <td>41.994991</td>\n",
       "      <td>-87.769279</td>\n",
       "      <td>0</td>\n",
       "      <td>74</td>\n",
       "      <td>58</td>\n",
       "      <td>0.00</td>\n",
       "      <td>29.39</td>\n",
       "      <td>30.11</td>\n",
       "      <td>18</td>\n",
       "      <td>6.5</td>\n",
       "      <td>77</td>\n",
       "      <td>59</td>\n",
       "      <td>0.00</td>\n",
       "      <td>29.44</td>\n",
       "      <td>30.09</td>\n",
       "      <td>16</td>\n",
       "      <td>7.4</td>\n",
       "    </tr>\n",
       "    <tr>\n",
       "      <th>3</th>\n",
       "      <td>2007-05-29</td>\n",
       "      <td>CULEX PIPIENS/RESTUANS</td>\n",
       "      <td>41.974089</td>\n",
       "      <td>-87.824812</td>\n",
       "      <td>0</td>\n",
       "      <td>74</td>\n",
       "      <td>58</td>\n",
       "      <td>0.00</td>\n",
       "      <td>29.39</td>\n",
       "      <td>30.11</td>\n",
       "      <td>18</td>\n",
       "      <td>6.5</td>\n",
       "      <td>77</td>\n",
       "      <td>59</td>\n",
       "      <td>0.00</td>\n",
       "      <td>29.44</td>\n",
       "      <td>30.09</td>\n",
       "      <td>16</td>\n",
       "      <td>7.4</td>\n",
       "    </tr>\n",
       "    <tr>\n",
       "      <th>4</th>\n",
       "      <td>2007-05-29</td>\n",
       "      <td>CULEX RESTUANS</td>\n",
       "      <td>41.974089</td>\n",
       "      <td>-87.824812</td>\n",
       "      <td>0</td>\n",
       "      <td>74</td>\n",
       "      <td>58</td>\n",
       "      <td>0.00</td>\n",
       "      <td>29.39</td>\n",
       "      <td>30.11</td>\n",
       "      <td>18</td>\n",
       "      <td>6.5</td>\n",
       "      <td>77</td>\n",
       "      <td>59</td>\n",
       "      <td>0.00</td>\n",
       "      <td>29.44</td>\n",
       "      <td>30.09</td>\n",
       "      <td>16</td>\n",
       "      <td>7.4</td>\n",
       "    </tr>\n",
       "  </tbody>\n",
       "</table>\n",
       "</div>"
      ],
      "text/plain": [
       "         date                 species   latitude  longitude  wnv_present  \\\n",
       "0  2007-05-29  CULEX PIPIENS/RESTUANS  41.954690 -87.800991            0   \n",
       "1  2007-05-29          CULEX RESTUANS  41.954690 -87.800991            0   \n",
       "2  2007-05-29          CULEX RESTUANS  41.994991 -87.769279            0   \n",
       "3  2007-05-29  CULEX PIPIENS/RESTUANS  41.974089 -87.824812            0   \n",
       "4  2007-05-29          CULEX RESTUANS  41.974089 -87.824812            0   \n",
       "\n",
       "  tavg_1  dew_point_1 precip_total_1 stn_pressure_1 sea_level_1  result_dir_1  \\\n",
       "0     74           58           0.00          29.39       30.11            18   \n",
       "1     74           58           0.00          29.39       30.11            18   \n",
       "2     74           58           0.00          29.39       30.11            18   \n",
       "3     74           58           0.00          29.39       30.11            18   \n",
       "4     74           58           0.00          29.39       30.11            18   \n",
       "\n",
       "  avg_speed_1 tavg_2  dew_point_2 precip_total_2 stn_pressure_2 sea_level_2  \\\n",
       "0         6.5     77           59           0.00          29.44       30.09   \n",
       "1         6.5     77           59           0.00          29.44       30.09   \n",
       "2         6.5     77           59           0.00          29.44       30.09   \n",
       "3         6.5     77           59           0.00          29.44       30.09   \n",
       "4         6.5     77           59           0.00          29.44       30.09   \n",
       "\n",
       "   result_dir_2 avg_speed_2  \n",
       "0            16         7.4  \n",
       "1            16         7.4  \n",
       "2            16         7.4  \n",
       "3            16         7.4  \n",
       "4            16         7.4  "
      ]
     },
     "execution_count": 60,
     "metadata": {},
     "output_type": "execute_result"
    }
   ],
   "source": [
    "train.head()"
   ]
  },
  {
   "cell_type": "code",
   "execution_count": 61,
   "metadata": {
    "ExecuteTime": {
     "end_time": "2022-01-31T02:10:41.305360Z",
     "start_time": "2022-01-31T02:10:41.274443Z"
    },
    "colab": {
     "base_uri": "https://localhost:8080/"
    },
    "id": "ZrAjJQ5_OvJu",
    "outputId": "39705700-7fca-476f-d92d-ed5cbf7f71e1"
   },
   "outputs": [
    {
     "name": "stdout",
     "output_type": "stream",
     "text": [
      "<class 'pandas.core.frame.DataFrame'>\n",
      "Int64Index: 9693 entries, 0 to 9692\n",
      "Data columns (total 19 columns):\n",
      " #   Column          Non-Null Count  Dtype  \n",
      "---  ------          --------------  -----  \n",
      " 0   date            9693 non-null   object \n",
      " 1   species         9693 non-null   object \n",
      " 2   latitude        9693 non-null   float64\n",
      " 3   longitude       9693 non-null   float64\n",
      " 4   wnv_present     9693 non-null   int64  \n",
      " 5   tavg_1          9693 non-null   object \n",
      " 6   dew_point_1     9693 non-null   int64  \n",
      " 7   precip_total_1  9693 non-null   object \n",
      " 8   stn_pressure_1  9693 non-null   object \n",
      " 9   sea_level_1     9693 non-null   object \n",
      " 10  result_dir_1    9693 non-null   int64  \n",
      " 11  avg_speed_1     9693 non-null   object \n",
      " 12  tavg_2          9693 non-null   object \n",
      " 13  dew_point_2     9693 non-null   int64  \n",
      " 14  precip_total_2  9693 non-null   object \n",
      " 15  stn_pressure_2  9693 non-null   object \n",
      " 16  sea_level_2     9693 non-null   object \n",
      " 17  result_dir_2    9693 non-null   int64  \n",
      " 18  avg_speed_2     9693 non-null   object \n",
      "dtypes: float64(2), int64(5), object(12)\n",
      "memory usage: 1.5+ MB\n"
     ]
    }
   ],
   "source": [
    "train.info()"
   ]
  },
  {
   "cell_type": "markdown",
   "metadata": {},
   "source": [
    "### Missing values"
   ]
  },
  {
   "cell_type": "markdown",
   "metadata": {},
   "source": [
    "It seems like everything is in order and there are no null values, but that is a cruel trick. According to the [data dictionary](https://www.kaggle.com/c/predict-west-nile-virus/data?select=noaa_weather_qclcd_documentation.pdf), there are three types of missing values:\n",
    "1. `*`: Not all stations report snow totals\n",
    "2. `M`: Missing Data, or data that are not normally reported for the station\n",
    "3. `-`: values not available for sunrise/sunset\n",
    "\n",
    "And additional `T` values for trace amounts. We can write a function to replace them with suitable values."
   ]
  },
  {
   "cell_type": "code",
   "execution_count": 62,
   "metadata": {
    "ExecuteTime": {
     "end_time": "2022-01-31T02:10:43.164583Z",
     "start_time": "2022-01-31T02:10:42.891279Z"
    }
   },
   "outputs": [],
   "source": [
    " def missing_no(df):\n",
    "    df.replace(r'\\s*M+\\s*', 0, regex=True, inplace=True)\n",
    "    df.replace('-', 0, inplace=True)\n",
    "    df.replace('*', 0, inplace=True)\n",
    "    df.replace(r'^\\s*T+(?!\\d)+', 1e-5, regex=True, inplace=True)\n",
    "\n",
    "missing_no(train)"
   ]
  },
  {
   "cell_type": "code",
   "execution_count": 63,
   "metadata": {
    "ExecuteTime": {
     "end_time": "2022-01-31T02:10:44.822197Z",
     "start_time": "2022-01-31T02:10:44.794293Z"
    }
   },
   "outputs": [
    {
     "data": {
      "text/html": [
       "<div>\n",
       "<style scoped>\n",
       "    .dataframe tbody tr th:only-of-type {\n",
       "        vertical-align: middle;\n",
       "    }\n",
       "\n",
       "    .dataframe tbody tr th {\n",
       "        vertical-align: top;\n",
       "    }\n",
       "\n",
       "    .dataframe thead th {\n",
       "        text-align: right;\n",
       "    }\n",
       "</style>\n",
       "<table border=\"1\" class=\"dataframe\">\n",
       "  <thead>\n",
       "    <tr style=\"text-align: right;\">\n",
       "      <th></th>\n",
       "      <th>date</th>\n",
       "      <th>species</th>\n",
       "      <th>latitude</th>\n",
       "      <th>longitude</th>\n",
       "      <th>wnv_present</th>\n",
       "      <th>tavg_1</th>\n",
       "      <th>dew_point_1</th>\n",
       "      <th>precip_total_1</th>\n",
       "      <th>stn_pressure_1</th>\n",
       "      <th>sea_level_1</th>\n",
       "      <th>result_dir_1</th>\n",
       "      <th>avg_speed_1</th>\n",
       "      <th>tavg_2</th>\n",
       "      <th>dew_point_2</th>\n",
       "      <th>precip_total_2</th>\n",
       "      <th>stn_pressure_2</th>\n",
       "      <th>sea_level_2</th>\n",
       "      <th>result_dir_2</th>\n",
       "      <th>avg_speed_2</th>\n",
       "    </tr>\n",
       "  </thead>\n",
       "  <tbody>\n",
       "    <tr>\n",
       "      <th>0</th>\n",
       "      <td>2007-05-29</td>\n",
       "      <td>CULEX PIPIENS/RESTUANS</td>\n",
       "      <td>41.954690</td>\n",
       "      <td>-87.800991</td>\n",
       "      <td>0</td>\n",
       "      <td>74</td>\n",
       "      <td>58</td>\n",
       "      <td>0.00</td>\n",
       "      <td>29.39</td>\n",
       "      <td>30.11</td>\n",
       "      <td>18</td>\n",
       "      <td>6.5</td>\n",
       "      <td>77</td>\n",
       "      <td>59</td>\n",
       "      <td>0.00</td>\n",
       "      <td>29.44</td>\n",
       "      <td>30.09</td>\n",
       "      <td>16</td>\n",
       "      <td>7.4</td>\n",
       "    </tr>\n",
       "    <tr>\n",
       "      <th>1</th>\n",
       "      <td>2007-05-29</td>\n",
       "      <td>CULEX RESTUANS</td>\n",
       "      <td>41.954690</td>\n",
       "      <td>-87.800991</td>\n",
       "      <td>0</td>\n",
       "      <td>74</td>\n",
       "      <td>58</td>\n",
       "      <td>0.00</td>\n",
       "      <td>29.39</td>\n",
       "      <td>30.11</td>\n",
       "      <td>18</td>\n",
       "      <td>6.5</td>\n",
       "      <td>77</td>\n",
       "      <td>59</td>\n",
       "      <td>0.00</td>\n",
       "      <td>29.44</td>\n",
       "      <td>30.09</td>\n",
       "      <td>16</td>\n",
       "      <td>7.4</td>\n",
       "    </tr>\n",
       "    <tr>\n",
       "      <th>2</th>\n",
       "      <td>2007-05-29</td>\n",
       "      <td>CULEX RESTUANS</td>\n",
       "      <td>41.994991</td>\n",
       "      <td>-87.769279</td>\n",
       "      <td>0</td>\n",
       "      <td>74</td>\n",
       "      <td>58</td>\n",
       "      <td>0.00</td>\n",
       "      <td>29.39</td>\n",
       "      <td>30.11</td>\n",
       "      <td>18</td>\n",
       "      <td>6.5</td>\n",
       "      <td>77</td>\n",
       "      <td>59</td>\n",
       "      <td>0.00</td>\n",
       "      <td>29.44</td>\n",
       "      <td>30.09</td>\n",
       "      <td>16</td>\n",
       "      <td>7.4</td>\n",
       "    </tr>\n",
       "    <tr>\n",
       "      <th>3</th>\n",
       "      <td>2007-05-29</td>\n",
       "      <td>CULEX PIPIENS/RESTUANS</td>\n",
       "      <td>41.974089</td>\n",
       "      <td>-87.824812</td>\n",
       "      <td>0</td>\n",
       "      <td>74</td>\n",
       "      <td>58</td>\n",
       "      <td>0.00</td>\n",
       "      <td>29.39</td>\n",
       "      <td>30.11</td>\n",
       "      <td>18</td>\n",
       "      <td>6.5</td>\n",
       "      <td>77</td>\n",
       "      <td>59</td>\n",
       "      <td>0.00</td>\n",
       "      <td>29.44</td>\n",
       "      <td>30.09</td>\n",
       "      <td>16</td>\n",
       "      <td>7.4</td>\n",
       "    </tr>\n",
       "    <tr>\n",
       "      <th>4</th>\n",
       "      <td>2007-05-29</td>\n",
       "      <td>CULEX RESTUANS</td>\n",
       "      <td>41.974089</td>\n",
       "      <td>-87.824812</td>\n",
       "      <td>0</td>\n",
       "      <td>74</td>\n",
       "      <td>58</td>\n",
       "      <td>0.00</td>\n",
       "      <td>29.39</td>\n",
       "      <td>30.11</td>\n",
       "      <td>18</td>\n",
       "      <td>6.5</td>\n",
       "      <td>77</td>\n",
       "      <td>59</td>\n",
       "      <td>0.00</td>\n",
       "      <td>29.44</td>\n",
       "      <td>30.09</td>\n",
       "      <td>16</td>\n",
       "      <td>7.4</td>\n",
       "    </tr>\n",
       "  </tbody>\n",
       "</table>\n",
       "</div>"
      ],
      "text/plain": [
       "         date                 species   latitude  longitude  wnv_present  \\\n",
       "0  2007-05-29  CULEX PIPIENS/RESTUANS  41.954690 -87.800991            0   \n",
       "1  2007-05-29          CULEX RESTUANS  41.954690 -87.800991            0   \n",
       "2  2007-05-29          CULEX RESTUANS  41.994991 -87.769279            0   \n",
       "3  2007-05-29  CULEX PIPIENS/RESTUANS  41.974089 -87.824812            0   \n",
       "4  2007-05-29          CULEX RESTUANS  41.974089 -87.824812            0   \n",
       "\n",
       "  tavg_1  dew_point_1 precip_total_1 stn_pressure_1 sea_level_1  result_dir_1  \\\n",
       "0     74           58           0.00          29.39       30.11            18   \n",
       "1     74           58           0.00          29.39       30.11            18   \n",
       "2     74           58           0.00          29.39       30.11            18   \n",
       "3     74           58           0.00          29.39       30.11            18   \n",
       "4     74           58           0.00          29.39       30.11            18   \n",
       "\n",
       "  avg_speed_1 tavg_2  dew_point_2 precip_total_2 stn_pressure_2 sea_level_2  \\\n",
       "0         6.5     77           59           0.00          29.44       30.09   \n",
       "1         6.5     77           59           0.00          29.44       30.09   \n",
       "2         6.5     77           59           0.00          29.44       30.09   \n",
       "3         6.5     77           59           0.00          29.44       30.09   \n",
       "4         6.5     77           59           0.00          29.44       30.09   \n",
       "\n",
       "   result_dir_2 avg_speed_2  \n",
       "0            16         7.4  \n",
       "1            16         7.4  \n",
       "2            16         7.4  \n",
       "3            16         7.4  \n",
       "4            16         7.4  "
      ]
     },
     "execution_count": 63,
     "metadata": {},
     "output_type": "execute_result"
    }
   ],
   "source": [
    "train.head()"
   ]
  },
  {
   "cell_type": "code",
   "execution_count": 64,
   "metadata": {
    "ExecuteTime": {
     "end_time": "2022-01-31T02:10:49.710659Z",
     "start_time": "2022-01-31T02:10:46.305814Z"
    }
   },
   "outputs": [
    {
     "data": {
      "text/html": [
       "<div>\n",
       "<style scoped>\n",
       "    .dataframe tbody tr th:only-of-type {\n",
       "        vertical-align: middle;\n",
       "    }\n",
       "\n",
       "    .dataframe tbody tr th {\n",
       "        vertical-align: top;\n",
       "    }\n",
       "\n",
       "    .dataframe thead th {\n",
       "        text-align: right;\n",
       "    }\n",
       "</style>\n",
       "<table border=\"1\" class=\"dataframe\">\n",
       "  <thead>\n",
       "    <tr style=\"text-align: right;\">\n",
       "      <th></th>\n",
       "      <th>date</th>\n",
       "      <th>species</th>\n",
       "      <th>trap</th>\n",
       "      <th>latitude</th>\n",
       "      <th>longitude</th>\n",
       "      <th>tavg_1</th>\n",
       "      <th>dew_point_1</th>\n",
       "      <th>precip_total_1</th>\n",
       "      <th>stn_pressure_1</th>\n",
       "      <th>sea_level_1</th>\n",
       "      <th>result_dir_1</th>\n",
       "      <th>avg_speed_1</th>\n",
       "      <th>tavg_2</th>\n",
       "      <th>dew_point_2</th>\n",
       "      <th>precip_total_2</th>\n",
       "      <th>stn_pressure_2</th>\n",
       "      <th>sea_level_2</th>\n",
       "      <th>result_dir_2</th>\n",
       "      <th>avg_speed_2</th>\n",
       "    </tr>\n",
       "  </thead>\n",
       "  <tbody>\n",
       "    <tr>\n",
       "      <th>0</th>\n",
       "      <td>2008-06-11</td>\n",
       "      <td>CULEX PIPIENS/RESTUANS</td>\n",
       "      <td>T002</td>\n",
       "      <td>41.954690</td>\n",
       "      <td>-87.800991</td>\n",
       "      <td>74</td>\n",
       "      <td>56</td>\n",
       "      <td>0.00</td>\n",
       "      <td>29.28</td>\n",
       "      <td>29.99</td>\n",
       "      <td>18</td>\n",
       "      <td>10.0</td>\n",
       "      <td>76</td>\n",
       "      <td>55</td>\n",
       "      <td>0.00</td>\n",
       "      <td>29.34</td>\n",
       "      <td>29.97</td>\n",
       "      <td>18</td>\n",
       "      <td>10.4</td>\n",
       "    </tr>\n",
       "    <tr>\n",
       "      <th>1</th>\n",
       "      <td>2008-06-11</td>\n",
       "      <td>CULEX RESTUANS</td>\n",
       "      <td>T002</td>\n",
       "      <td>41.954690</td>\n",
       "      <td>-87.800991</td>\n",
       "      <td>74</td>\n",
       "      <td>56</td>\n",
       "      <td>0.00</td>\n",
       "      <td>29.28</td>\n",
       "      <td>29.99</td>\n",
       "      <td>18</td>\n",
       "      <td>10.0</td>\n",
       "      <td>76</td>\n",
       "      <td>55</td>\n",
       "      <td>0.00</td>\n",
       "      <td>29.34</td>\n",
       "      <td>29.97</td>\n",
       "      <td>18</td>\n",
       "      <td>10.4</td>\n",
       "    </tr>\n",
       "    <tr>\n",
       "      <th>2</th>\n",
       "      <td>2008-06-11</td>\n",
       "      <td>CULEX PIPIENS</td>\n",
       "      <td>T002</td>\n",
       "      <td>41.954690</td>\n",
       "      <td>-87.800991</td>\n",
       "      <td>74</td>\n",
       "      <td>56</td>\n",
       "      <td>0.00</td>\n",
       "      <td>29.28</td>\n",
       "      <td>29.99</td>\n",
       "      <td>18</td>\n",
       "      <td>10.0</td>\n",
       "      <td>76</td>\n",
       "      <td>55</td>\n",
       "      <td>0.00</td>\n",
       "      <td>29.34</td>\n",
       "      <td>29.97</td>\n",
       "      <td>18</td>\n",
       "      <td>10.4</td>\n",
       "    </tr>\n",
       "    <tr>\n",
       "      <th>3</th>\n",
       "      <td>2008-06-11</td>\n",
       "      <td>CULEX SALINARIUS</td>\n",
       "      <td>T002</td>\n",
       "      <td>41.954690</td>\n",
       "      <td>-87.800991</td>\n",
       "      <td>74</td>\n",
       "      <td>56</td>\n",
       "      <td>0.00</td>\n",
       "      <td>29.28</td>\n",
       "      <td>29.99</td>\n",
       "      <td>18</td>\n",
       "      <td>10.0</td>\n",
       "      <td>76</td>\n",
       "      <td>55</td>\n",
       "      <td>0.00</td>\n",
       "      <td>29.34</td>\n",
       "      <td>29.97</td>\n",
       "      <td>18</td>\n",
       "      <td>10.4</td>\n",
       "    </tr>\n",
       "    <tr>\n",
       "      <th>4</th>\n",
       "      <td>2008-06-11</td>\n",
       "      <td>CULEX TERRITANS</td>\n",
       "      <td>T002</td>\n",
       "      <td>41.954690</td>\n",
       "      <td>-87.800991</td>\n",
       "      <td>74</td>\n",
       "      <td>56</td>\n",
       "      <td>0.00</td>\n",
       "      <td>29.28</td>\n",
       "      <td>29.99</td>\n",
       "      <td>18</td>\n",
       "      <td>10.0</td>\n",
       "      <td>76</td>\n",
       "      <td>55</td>\n",
       "      <td>0.00</td>\n",
       "      <td>29.34</td>\n",
       "      <td>29.97</td>\n",
       "      <td>18</td>\n",
       "      <td>10.4</td>\n",
       "    </tr>\n",
       "    <tr>\n",
       "      <th>...</th>\n",
       "      <td>...</td>\n",
       "      <td>...</td>\n",
       "      <td>...</td>\n",
       "      <td>...</td>\n",
       "      <td>...</td>\n",
       "      <td>...</td>\n",
       "      <td>...</td>\n",
       "      <td>...</td>\n",
       "      <td>...</td>\n",
       "      <td>...</td>\n",
       "      <td>...</td>\n",
       "      <td>...</td>\n",
       "      <td>...</td>\n",
       "      <td>...</td>\n",
       "      <td>...</td>\n",
       "      <td>...</td>\n",
       "      <td>...</td>\n",
       "      <td>...</td>\n",
       "      <td>...</td>\n",
       "    </tr>\n",
       "    <tr>\n",
       "      <th>116288</th>\n",
       "      <td>2014-10-02</td>\n",
       "      <td>CULEX SALINARIUS</td>\n",
       "      <td>T054C</td>\n",
       "      <td>41.925652</td>\n",
       "      <td>-87.633590</td>\n",
       "      <td>68</td>\n",
       "      <td>61</td>\n",
       "      <td>0.32</td>\n",
       "      <td>29.03</td>\n",
       "      <td>29.78</td>\n",
       "      <td>17</td>\n",
       "      <td>7.9</td>\n",
       "      <td>71</td>\n",
       "      <td>63</td>\n",
       "      <td>0.72</td>\n",
       "      <td>29.10</td>\n",
       "      <td>29.78</td>\n",
       "      <td>17</td>\n",
       "      <td>7.9</td>\n",
       "    </tr>\n",
       "    <tr>\n",
       "      <th>116289</th>\n",
       "      <td>2014-10-02</td>\n",
       "      <td>CULEX TERRITANS</td>\n",
       "      <td>T054C</td>\n",
       "      <td>41.925652</td>\n",
       "      <td>-87.633590</td>\n",
       "      <td>68</td>\n",
       "      <td>61</td>\n",
       "      <td>0.32</td>\n",
       "      <td>29.03</td>\n",
       "      <td>29.78</td>\n",
       "      <td>17</td>\n",
       "      <td>7.9</td>\n",
       "      <td>71</td>\n",
       "      <td>63</td>\n",
       "      <td>0.72</td>\n",
       "      <td>29.10</td>\n",
       "      <td>29.78</td>\n",
       "      <td>17</td>\n",
       "      <td>7.9</td>\n",
       "    </tr>\n",
       "    <tr>\n",
       "      <th>116290</th>\n",
       "      <td>2014-10-02</td>\n",
       "      <td>CULEX TARSALIS</td>\n",
       "      <td>T054C</td>\n",
       "      <td>41.925652</td>\n",
       "      <td>-87.633590</td>\n",
       "      <td>68</td>\n",
       "      <td>61</td>\n",
       "      <td>0.32</td>\n",
       "      <td>29.03</td>\n",
       "      <td>29.78</td>\n",
       "      <td>17</td>\n",
       "      <td>7.9</td>\n",
       "      <td>71</td>\n",
       "      <td>63</td>\n",
       "      <td>0.72</td>\n",
       "      <td>29.10</td>\n",
       "      <td>29.78</td>\n",
       "      <td>17</td>\n",
       "      <td>7.9</td>\n",
       "    </tr>\n",
       "    <tr>\n",
       "      <th>116291</th>\n",
       "      <td>2014-10-02</td>\n",
       "      <td>UNSPECIFIED CULEX</td>\n",
       "      <td>T054C</td>\n",
       "      <td>41.925652</td>\n",
       "      <td>-87.633590</td>\n",
       "      <td>68</td>\n",
       "      <td>61</td>\n",
       "      <td>0.32</td>\n",
       "      <td>29.03</td>\n",
       "      <td>29.78</td>\n",
       "      <td>17</td>\n",
       "      <td>7.9</td>\n",
       "      <td>71</td>\n",
       "      <td>63</td>\n",
       "      <td>0.72</td>\n",
       "      <td>29.10</td>\n",
       "      <td>29.78</td>\n",
       "      <td>17</td>\n",
       "      <td>7.9</td>\n",
       "    </tr>\n",
       "    <tr>\n",
       "      <th>116292</th>\n",
       "      <td>2014-10-02</td>\n",
       "      <td>CULEX ERRATICUS</td>\n",
       "      <td>T054C</td>\n",
       "      <td>41.925652</td>\n",
       "      <td>-87.633590</td>\n",
       "      <td>68</td>\n",
       "      <td>61</td>\n",
       "      <td>0.32</td>\n",
       "      <td>29.03</td>\n",
       "      <td>29.78</td>\n",
       "      <td>17</td>\n",
       "      <td>7.9</td>\n",
       "      <td>71</td>\n",
       "      <td>63</td>\n",
       "      <td>0.72</td>\n",
       "      <td>29.10</td>\n",
       "      <td>29.78</td>\n",
       "      <td>17</td>\n",
       "      <td>7.9</td>\n",
       "    </tr>\n",
       "  </tbody>\n",
       "</table>\n",
       "<p>116293 rows × 19 columns</p>\n",
       "</div>"
      ],
      "text/plain": [
       "              date                 species   trap   latitude  longitude  \\\n",
       "0       2008-06-11  CULEX PIPIENS/RESTUANS   T002  41.954690 -87.800991   \n",
       "1       2008-06-11          CULEX RESTUANS   T002  41.954690 -87.800991   \n",
       "2       2008-06-11           CULEX PIPIENS   T002  41.954690 -87.800991   \n",
       "3       2008-06-11        CULEX SALINARIUS   T002  41.954690 -87.800991   \n",
       "4       2008-06-11         CULEX TERRITANS   T002  41.954690 -87.800991   \n",
       "...            ...                     ...    ...        ...        ...   \n",
       "116288  2014-10-02        CULEX SALINARIUS  T054C  41.925652 -87.633590   \n",
       "116289  2014-10-02         CULEX TERRITANS  T054C  41.925652 -87.633590   \n",
       "116290  2014-10-02          CULEX TARSALIS  T054C  41.925652 -87.633590   \n",
       "116291  2014-10-02       UNSPECIFIED CULEX  T054C  41.925652 -87.633590   \n",
       "116292  2014-10-02         CULEX ERRATICUS  T054C  41.925652 -87.633590   \n",
       "\n",
       "       tavg_1  dew_point_1 precip_total_1 stn_pressure_1 sea_level_1  \\\n",
       "0          74           56           0.00          29.28       29.99   \n",
       "1          74           56           0.00          29.28       29.99   \n",
       "2          74           56           0.00          29.28       29.99   \n",
       "3          74           56           0.00          29.28       29.99   \n",
       "4          74           56           0.00          29.28       29.99   \n",
       "...       ...          ...            ...            ...         ...   \n",
       "116288     68           61           0.32          29.03       29.78   \n",
       "116289     68           61           0.32          29.03       29.78   \n",
       "116290     68           61           0.32          29.03       29.78   \n",
       "116291     68           61           0.32          29.03       29.78   \n",
       "116292     68           61           0.32          29.03       29.78   \n",
       "\n",
       "        result_dir_1 avg_speed_1 tavg_2  dew_point_2 precip_total_2  \\\n",
       "0                 18        10.0     76           55           0.00   \n",
       "1                 18        10.0     76           55           0.00   \n",
       "2                 18        10.0     76           55           0.00   \n",
       "3                 18        10.0     76           55           0.00   \n",
       "4                 18        10.0     76           55           0.00   \n",
       "...              ...         ...    ...          ...            ...   \n",
       "116288            17         7.9     71           63           0.72   \n",
       "116289            17         7.9     71           63           0.72   \n",
       "116290            17         7.9     71           63           0.72   \n",
       "116291            17         7.9     71           63           0.72   \n",
       "116292            17         7.9     71           63           0.72   \n",
       "\n",
       "       stn_pressure_2 sea_level_2  result_dir_2 avg_speed_2  \n",
       "0               29.34       29.97            18        10.4  \n",
       "1               29.34       29.97            18        10.4  \n",
       "2               29.34       29.97            18        10.4  \n",
       "3               29.34       29.97            18        10.4  \n",
       "4               29.34       29.97            18        10.4  \n",
       "...               ...         ...           ...         ...  \n",
       "116288          29.10       29.78            17         7.9  \n",
       "116289          29.10       29.78            17         7.9  \n",
       "116290          29.10       29.78            17         7.9  \n",
       "116291          29.10       29.78            17         7.9  \n",
       "116292          29.10       29.78            17         7.9  \n",
       "\n",
       "[116293 rows x 19 columns]"
      ]
     },
     "execution_count": 64,
     "metadata": {},
     "output_type": "execute_result"
    }
   ],
   "source": [
    "missing_no(test)\n",
    "test"
   ]
  },
  {
   "cell_type": "markdown",
   "metadata": {},
   "source": [
    "### Changing dtypes\n",
    "\n",
    "From the information table, some of the columns aren't in the right dtype. We can create a function to correct all the wrong datatypes."
   ]
  },
  {
   "cell_type": "code",
   "execution_count": 65,
   "metadata": {
    "ExecuteTime": {
     "end_time": "2022-01-31T02:10:49.726688Z",
     "start_time": "2022-01-31T02:10:49.711700Z"
    }
   },
   "outputs": [],
   "source": [
    "def changing_types(df):\n",
    "    df['date'] = pd.to_datetime(df['date'])\n",
    "    df['tavg_1'] = df['tavg_1'].astype(int)\n",
    "    df['tavg_2'] = df['tavg_2'].astype(int)\n",
    "    df['avg_speed_1'] = df['avg_speed_1'].astype(float)\n",
    "    df['avg_speed_2'] = df['avg_speed_2'].astype(float)\n",
    "    df['precip_total_1'] = df['precip_total_1'].astype(float)\n",
    "    df['precip_total_2'] = df['precip_total_2'].astype(float)\n",
    "    df.info()"
   ]
  },
  {
   "cell_type": "code",
   "execution_count": 66,
   "metadata": {
    "ExecuteTime": {
     "end_time": "2022-01-31T02:10:49.757533Z",
     "start_time": "2022-01-31T02:10:49.727612Z"
    }
   },
   "outputs": [
    {
     "name": "stdout",
     "output_type": "stream",
     "text": [
      "<class 'pandas.core.frame.DataFrame'>\n",
      "Int64Index: 9693 entries, 0 to 9692\n",
      "Data columns (total 19 columns):\n",
      " #   Column          Non-Null Count  Dtype         \n",
      "---  ------          --------------  -----         \n",
      " 0   date            9693 non-null   datetime64[ns]\n",
      " 1   species         9693 non-null   object        \n",
      " 2   latitude        9693 non-null   float64       \n",
      " 3   longitude       9693 non-null   float64       \n",
      " 4   wnv_present     9693 non-null   int64         \n",
      " 5   tavg_1          9693 non-null   int32         \n",
      " 6   dew_point_1     9693 non-null   int64         \n",
      " 7   precip_total_1  9693 non-null   float64       \n",
      " 8   stn_pressure_1  9693 non-null   object        \n",
      " 9   sea_level_1     9693 non-null   object        \n",
      " 10  result_dir_1    9693 non-null   int64         \n",
      " 11  avg_speed_1     9693 non-null   float64       \n",
      " 12  tavg_2          9693 non-null   int32         \n",
      " 13  dew_point_2     9693 non-null   int64         \n",
      " 14  precip_total_2  9693 non-null   float64       \n",
      " 15  stn_pressure_2  9693 non-null   object        \n",
      " 16  sea_level_2     9693 non-null   object        \n",
      " 17  result_dir_2    9693 non-null   int64         \n",
      " 18  avg_speed_2     9693 non-null   float64       \n",
      "dtypes: datetime64[ns](1), float64(6), int32(2), int64(5), object(5)\n",
      "memory usage: 1.4+ MB\n"
     ]
    }
   ],
   "source": [
    "changing_types(train)"
   ]
  },
  {
   "cell_type": "code",
   "execution_count": 67,
   "metadata": {
    "ExecuteTime": {
     "end_time": "2022-01-31T02:10:52.384424Z",
     "start_time": "2022-01-31T02:10:52.251737Z"
    },
    "scrolled": false
   },
   "outputs": [
    {
     "name": "stdout",
     "output_type": "stream",
     "text": [
      "<class 'pandas.core.frame.DataFrame'>\n",
      "Int64Index: 116293 entries, 0 to 116292\n",
      "Data columns (total 19 columns):\n",
      " #   Column          Non-Null Count   Dtype         \n",
      "---  ------          --------------   -----         \n",
      " 0   date            116293 non-null  datetime64[ns]\n",
      " 1   species         116293 non-null  object        \n",
      " 2   trap            116293 non-null  object        \n",
      " 3   latitude        116293 non-null  float64       \n",
      " 4   longitude       116293 non-null  float64       \n",
      " 5   tavg_1          116293 non-null  int32         \n",
      " 6   dew_point_1     116293 non-null  int64         \n",
      " 7   precip_total_1  116293 non-null  float64       \n",
      " 8   stn_pressure_1  116293 non-null  object        \n",
      " 9   sea_level_1     116293 non-null  object        \n",
      " 10  result_dir_1    116293 non-null  int64         \n",
      " 11  avg_speed_1     116293 non-null  float64       \n",
      " 12  tavg_2          116293 non-null  int32         \n",
      " 13  dew_point_2     116293 non-null  int64         \n",
      " 14  precip_total_2  116293 non-null  float64       \n",
      " 15  stn_pressure_2  116293 non-null  object        \n",
      " 16  sea_level_2     116293 non-null  object        \n",
      " 17  result_dir_2    116293 non-null  int64         \n",
      " 18  avg_speed_2     116293 non-null  float64       \n",
      "dtypes: datetime64[ns](1), float64(6), int32(2), int64(4), object(6)\n",
      "memory usage: 16.9+ MB\n"
     ]
    }
   ],
   "source": [
    "changing_types(test)"
   ]
  },
  {
   "cell_type": "markdown",
   "metadata": {},
   "source": [
    "### Creating `year`, `month` and `week` columns\n",
    "\n",
    "Additional time related columns would be created from the `date` columns."
   ]
  },
  {
   "cell_type": "code",
   "execution_count": 68,
   "metadata": {
    "ExecuteTime": {
     "end_time": "2022-01-31T02:10:54.081188Z",
     "start_time": "2022-01-31T02:10:54.077196Z"
    }
   },
   "outputs": [],
   "source": [
    "def preprocess_date(df):\n",
    "    \"\"\"Function to create additional time related columns\"\"\"\n",
    "    df['year'] = pd.to_datetime(df['date']).dt.year\n",
    "    df['month'] = pd.to_datetime(df['date']).dt.month\n",
    "    df['week_of_year'] = pd.to_datetime(df['date']).dt.isocalendar().week\n",
    "    return df"
   ]
  },
  {
   "cell_type": "code",
   "execution_count": 69,
   "metadata": {
    "ExecuteTime": {
     "end_time": "2022-01-31T02:10:54.879291Z",
     "start_time": "2022-01-31T02:10:54.738899Z"
    }
   },
   "outputs": [],
   "source": [
    "# create the columns for both train and test datasets\n",
    "preprocess_date(train)\n",
    "preprocess_date(test);"
   ]
  },
  {
   "cell_type": "code",
   "execution_count": 70,
   "metadata": {
    "ExecuteTime": {
     "end_time": "2022-01-31T02:10:56.022394Z",
     "start_time": "2022-01-31T02:10:55.999420Z"
    },
    "scrolled": true
   },
   "outputs": [
    {
     "data": {
      "text/html": [
       "<div>\n",
       "<style scoped>\n",
       "    .dataframe tbody tr th:only-of-type {\n",
       "        vertical-align: middle;\n",
       "    }\n",
       "\n",
       "    .dataframe tbody tr th {\n",
       "        vertical-align: top;\n",
       "    }\n",
       "\n",
       "    .dataframe thead th {\n",
       "        text-align: right;\n",
       "    }\n",
       "</style>\n",
       "<table border=\"1\" class=\"dataframe\">\n",
       "  <thead>\n",
       "    <tr style=\"text-align: right;\">\n",
       "      <th></th>\n",
       "      <th>date</th>\n",
       "      <th>species</th>\n",
       "      <th>latitude</th>\n",
       "      <th>longitude</th>\n",
       "      <th>wnv_present</th>\n",
       "      <th>tavg_1</th>\n",
       "      <th>dew_point_1</th>\n",
       "      <th>precip_total_1</th>\n",
       "      <th>stn_pressure_1</th>\n",
       "      <th>sea_level_1</th>\n",
       "      <th>...</th>\n",
       "      <th>tavg_2</th>\n",
       "      <th>dew_point_2</th>\n",
       "      <th>precip_total_2</th>\n",
       "      <th>stn_pressure_2</th>\n",
       "      <th>sea_level_2</th>\n",
       "      <th>result_dir_2</th>\n",
       "      <th>avg_speed_2</th>\n",
       "      <th>year</th>\n",
       "      <th>month</th>\n",
       "      <th>week_of_year</th>\n",
       "    </tr>\n",
       "  </thead>\n",
       "  <tbody>\n",
       "    <tr>\n",
       "      <th>0</th>\n",
       "      <td>2007-05-29</td>\n",
       "      <td>CULEX PIPIENS/RESTUANS</td>\n",
       "      <td>41.954690</td>\n",
       "      <td>-87.800991</td>\n",
       "      <td>0</td>\n",
       "      <td>74</td>\n",
       "      <td>58</td>\n",
       "      <td>0.0</td>\n",
       "      <td>29.39</td>\n",
       "      <td>30.11</td>\n",
       "      <td>...</td>\n",
       "      <td>77</td>\n",
       "      <td>59</td>\n",
       "      <td>0.0</td>\n",
       "      <td>29.44</td>\n",
       "      <td>30.09</td>\n",
       "      <td>16</td>\n",
       "      <td>7.4</td>\n",
       "      <td>2007</td>\n",
       "      <td>5</td>\n",
       "      <td>22</td>\n",
       "    </tr>\n",
       "    <tr>\n",
       "      <th>1</th>\n",
       "      <td>2007-05-29</td>\n",
       "      <td>CULEX RESTUANS</td>\n",
       "      <td>41.954690</td>\n",
       "      <td>-87.800991</td>\n",
       "      <td>0</td>\n",
       "      <td>74</td>\n",
       "      <td>58</td>\n",
       "      <td>0.0</td>\n",
       "      <td>29.39</td>\n",
       "      <td>30.11</td>\n",
       "      <td>...</td>\n",
       "      <td>77</td>\n",
       "      <td>59</td>\n",
       "      <td>0.0</td>\n",
       "      <td>29.44</td>\n",
       "      <td>30.09</td>\n",
       "      <td>16</td>\n",
       "      <td>7.4</td>\n",
       "      <td>2007</td>\n",
       "      <td>5</td>\n",
       "      <td>22</td>\n",
       "    </tr>\n",
       "    <tr>\n",
       "      <th>2</th>\n",
       "      <td>2007-05-29</td>\n",
       "      <td>CULEX RESTUANS</td>\n",
       "      <td>41.994991</td>\n",
       "      <td>-87.769279</td>\n",
       "      <td>0</td>\n",
       "      <td>74</td>\n",
       "      <td>58</td>\n",
       "      <td>0.0</td>\n",
       "      <td>29.39</td>\n",
       "      <td>30.11</td>\n",
       "      <td>...</td>\n",
       "      <td>77</td>\n",
       "      <td>59</td>\n",
       "      <td>0.0</td>\n",
       "      <td>29.44</td>\n",
       "      <td>30.09</td>\n",
       "      <td>16</td>\n",
       "      <td>7.4</td>\n",
       "      <td>2007</td>\n",
       "      <td>5</td>\n",
       "      <td>22</td>\n",
       "    </tr>\n",
       "    <tr>\n",
       "      <th>3</th>\n",
       "      <td>2007-05-29</td>\n",
       "      <td>CULEX PIPIENS/RESTUANS</td>\n",
       "      <td>41.974089</td>\n",
       "      <td>-87.824812</td>\n",
       "      <td>0</td>\n",
       "      <td>74</td>\n",
       "      <td>58</td>\n",
       "      <td>0.0</td>\n",
       "      <td>29.39</td>\n",
       "      <td>30.11</td>\n",
       "      <td>...</td>\n",
       "      <td>77</td>\n",
       "      <td>59</td>\n",
       "      <td>0.0</td>\n",
       "      <td>29.44</td>\n",
       "      <td>30.09</td>\n",
       "      <td>16</td>\n",
       "      <td>7.4</td>\n",
       "      <td>2007</td>\n",
       "      <td>5</td>\n",
       "      <td>22</td>\n",
       "    </tr>\n",
       "    <tr>\n",
       "      <th>4</th>\n",
       "      <td>2007-05-29</td>\n",
       "      <td>CULEX RESTUANS</td>\n",
       "      <td>41.974089</td>\n",
       "      <td>-87.824812</td>\n",
       "      <td>0</td>\n",
       "      <td>74</td>\n",
       "      <td>58</td>\n",
       "      <td>0.0</td>\n",
       "      <td>29.39</td>\n",
       "      <td>30.11</td>\n",
       "      <td>...</td>\n",
       "      <td>77</td>\n",
       "      <td>59</td>\n",
       "      <td>0.0</td>\n",
       "      <td>29.44</td>\n",
       "      <td>30.09</td>\n",
       "      <td>16</td>\n",
       "      <td>7.4</td>\n",
       "      <td>2007</td>\n",
       "      <td>5</td>\n",
       "      <td>22</td>\n",
       "    </tr>\n",
       "  </tbody>\n",
       "</table>\n",
       "<p>5 rows × 22 columns</p>\n",
       "</div>"
      ],
      "text/plain": [
       "        date                 species   latitude  longitude  wnv_present  \\\n",
       "0 2007-05-29  CULEX PIPIENS/RESTUANS  41.954690 -87.800991            0   \n",
       "1 2007-05-29          CULEX RESTUANS  41.954690 -87.800991            0   \n",
       "2 2007-05-29          CULEX RESTUANS  41.994991 -87.769279            0   \n",
       "3 2007-05-29  CULEX PIPIENS/RESTUANS  41.974089 -87.824812            0   \n",
       "4 2007-05-29          CULEX RESTUANS  41.974089 -87.824812            0   \n",
       "\n",
       "   tavg_1  dew_point_1  precip_total_1 stn_pressure_1 sea_level_1  ...  \\\n",
       "0      74           58             0.0          29.39       30.11  ...   \n",
       "1      74           58             0.0          29.39       30.11  ...   \n",
       "2      74           58             0.0          29.39       30.11  ...   \n",
       "3      74           58             0.0          29.39       30.11  ...   \n",
       "4      74           58             0.0          29.39       30.11  ...   \n",
       "\n",
       "   tavg_2  dew_point_2  precip_total_2  stn_pressure_2  sea_level_2  \\\n",
       "0      77           59             0.0           29.44        30.09   \n",
       "1      77           59             0.0           29.44        30.09   \n",
       "2      77           59             0.0           29.44        30.09   \n",
       "3      77           59             0.0           29.44        30.09   \n",
       "4      77           59             0.0           29.44        30.09   \n",
       "\n",
       "  result_dir_2 avg_speed_2  year  month  week_of_year  \n",
       "0           16         7.4  2007      5            22  \n",
       "1           16         7.4  2007      5            22  \n",
       "2           16         7.4  2007      5            22  \n",
       "3           16         7.4  2007      5            22  \n",
       "4           16         7.4  2007      5            22  \n",
       "\n",
       "[5 rows x 22 columns]"
      ]
     },
     "execution_count": 70,
     "metadata": {},
     "output_type": "execute_result"
    }
   ],
   "source": [
    "train.head()"
   ]
  },
  {
   "cell_type": "code",
   "execution_count": 71,
   "metadata": {
    "ExecuteTime": {
     "end_time": "2022-01-31T02:10:57.457295Z",
     "start_time": "2022-01-31T02:10:57.438372Z"
    }
   },
   "outputs": [
    {
     "data": {
      "text/plain": [
       "Index(['date', 'species', 'latitude', 'longitude', 'wnv_present', 'tavg_1',\n",
       "       'dew_point_1', 'precip_total_1', 'stn_pressure_1', 'sea_level_1',\n",
       "       'result_dir_1', 'avg_speed_1', 'tavg_2', 'dew_point_2',\n",
       "       'precip_total_2', 'stn_pressure_2', 'sea_level_2', 'result_dir_2',\n",
       "       'avg_speed_2', 'year', 'month', 'week_of_year'],\n",
       "      dtype='object')"
      ]
     },
     "execution_count": 71,
     "metadata": {},
     "output_type": "execute_result"
    }
   ],
   "source": [
    "train.columns"
   ]
  },
  {
   "cell_type": "code",
   "execution_count": 72,
   "metadata": {
    "ExecuteTime": {
     "end_time": "2022-01-31T02:10:58.290391Z",
     "start_time": "2022-01-31T02:10:58.278422Z"
    }
   },
   "outputs": [
    {
     "data": {
      "text/plain": [
       "NormaltestResult(statistic=997.3058293850166, pvalue=2.7402536447702883e-217)"
      ]
     },
     "execution_count": 72,
     "metadata": {},
     "output_type": "execute_result"
    }
   ],
   "source": [
    "from scipy.stats import normaltest \n",
    "\n",
    "normaltest(train['tavg_1'])"
   ]
  },
  {
   "cell_type": "code",
   "execution_count": 73,
   "metadata": {
    "ExecuteTime": {
     "end_time": "2022-01-31T02:11:00.572427Z",
     "start_time": "2022-01-31T02:11:00.529553Z"
    }
   },
   "outputs": [
    {
     "data": {
      "text/html": [
       "<div>\n",
       "<style scoped>\n",
       "    .dataframe tbody tr th:only-of-type {\n",
       "        vertical-align: middle;\n",
       "    }\n",
       "\n",
       "    .dataframe tbody tr th {\n",
       "        vertical-align: top;\n",
       "    }\n",
       "\n",
       "    .dataframe thead th {\n",
       "        text-align: right;\n",
       "    }\n",
       "</style>\n",
       "<table border=\"1\" class=\"dataframe\">\n",
       "  <thead>\n",
       "    <tr style=\"text-align: right;\">\n",
       "      <th></th>\n",
       "      <th>date</th>\n",
       "      <th>species</th>\n",
       "      <th>trap</th>\n",
       "      <th>latitude</th>\n",
       "      <th>longitude</th>\n",
       "      <th>tavg_1</th>\n",
       "      <th>dew_point_1</th>\n",
       "      <th>precip_total_1</th>\n",
       "      <th>stn_pressure_1</th>\n",
       "      <th>sea_level_1</th>\n",
       "      <th>...</th>\n",
       "      <th>tavg_2</th>\n",
       "      <th>dew_point_2</th>\n",
       "      <th>precip_total_2</th>\n",
       "      <th>stn_pressure_2</th>\n",
       "      <th>sea_level_2</th>\n",
       "      <th>result_dir_2</th>\n",
       "      <th>avg_speed_2</th>\n",
       "      <th>year</th>\n",
       "      <th>month</th>\n",
       "      <th>week_of_year</th>\n",
       "    </tr>\n",
       "  </thead>\n",
       "  <tbody>\n",
       "    <tr>\n",
       "      <th>0</th>\n",
       "      <td>2008-06-11</td>\n",
       "      <td>CULEX PIPIENS/RESTUANS</td>\n",
       "      <td>T002</td>\n",
       "      <td>41.95469</td>\n",
       "      <td>-87.800991</td>\n",
       "      <td>74</td>\n",
       "      <td>56</td>\n",
       "      <td>0.0</td>\n",
       "      <td>29.28</td>\n",
       "      <td>29.99</td>\n",
       "      <td>...</td>\n",
       "      <td>76</td>\n",
       "      <td>55</td>\n",
       "      <td>0.0</td>\n",
       "      <td>29.34</td>\n",
       "      <td>29.97</td>\n",
       "      <td>18</td>\n",
       "      <td>10.4</td>\n",
       "      <td>2008</td>\n",
       "      <td>6</td>\n",
       "      <td>24</td>\n",
       "    </tr>\n",
       "    <tr>\n",
       "      <th>1</th>\n",
       "      <td>2008-06-11</td>\n",
       "      <td>CULEX RESTUANS</td>\n",
       "      <td>T002</td>\n",
       "      <td>41.95469</td>\n",
       "      <td>-87.800991</td>\n",
       "      <td>74</td>\n",
       "      <td>56</td>\n",
       "      <td>0.0</td>\n",
       "      <td>29.28</td>\n",
       "      <td>29.99</td>\n",
       "      <td>...</td>\n",
       "      <td>76</td>\n",
       "      <td>55</td>\n",
       "      <td>0.0</td>\n",
       "      <td>29.34</td>\n",
       "      <td>29.97</td>\n",
       "      <td>18</td>\n",
       "      <td>10.4</td>\n",
       "      <td>2008</td>\n",
       "      <td>6</td>\n",
       "      <td>24</td>\n",
       "    </tr>\n",
       "    <tr>\n",
       "      <th>2</th>\n",
       "      <td>2008-06-11</td>\n",
       "      <td>CULEX PIPIENS</td>\n",
       "      <td>T002</td>\n",
       "      <td>41.95469</td>\n",
       "      <td>-87.800991</td>\n",
       "      <td>74</td>\n",
       "      <td>56</td>\n",
       "      <td>0.0</td>\n",
       "      <td>29.28</td>\n",
       "      <td>29.99</td>\n",
       "      <td>...</td>\n",
       "      <td>76</td>\n",
       "      <td>55</td>\n",
       "      <td>0.0</td>\n",
       "      <td>29.34</td>\n",
       "      <td>29.97</td>\n",
       "      <td>18</td>\n",
       "      <td>10.4</td>\n",
       "      <td>2008</td>\n",
       "      <td>6</td>\n",
       "      <td>24</td>\n",
       "    </tr>\n",
       "    <tr>\n",
       "      <th>3</th>\n",
       "      <td>2008-06-11</td>\n",
       "      <td>CULEX SALINARIUS</td>\n",
       "      <td>T002</td>\n",
       "      <td>41.95469</td>\n",
       "      <td>-87.800991</td>\n",
       "      <td>74</td>\n",
       "      <td>56</td>\n",
       "      <td>0.0</td>\n",
       "      <td>29.28</td>\n",
       "      <td>29.99</td>\n",
       "      <td>...</td>\n",
       "      <td>76</td>\n",
       "      <td>55</td>\n",
       "      <td>0.0</td>\n",
       "      <td>29.34</td>\n",
       "      <td>29.97</td>\n",
       "      <td>18</td>\n",
       "      <td>10.4</td>\n",
       "      <td>2008</td>\n",
       "      <td>6</td>\n",
       "      <td>24</td>\n",
       "    </tr>\n",
       "    <tr>\n",
       "      <th>4</th>\n",
       "      <td>2008-06-11</td>\n",
       "      <td>CULEX TERRITANS</td>\n",
       "      <td>T002</td>\n",
       "      <td>41.95469</td>\n",
       "      <td>-87.800991</td>\n",
       "      <td>74</td>\n",
       "      <td>56</td>\n",
       "      <td>0.0</td>\n",
       "      <td>29.28</td>\n",
       "      <td>29.99</td>\n",
       "      <td>...</td>\n",
       "      <td>76</td>\n",
       "      <td>55</td>\n",
       "      <td>0.0</td>\n",
       "      <td>29.34</td>\n",
       "      <td>29.97</td>\n",
       "      <td>18</td>\n",
       "      <td>10.4</td>\n",
       "      <td>2008</td>\n",
       "      <td>6</td>\n",
       "      <td>24</td>\n",
       "    </tr>\n",
       "  </tbody>\n",
       "</table>\n",
       "<p>5 rows × 22 columns</p>\n",
       "</div>"
      ],
      "text/plain": [
       "        date                 species  trap  latitude  longitude  tavg_1  \\\n",
       "0 2008-06-11  CULEX PIPIENS/RESTUANS  T002  41.95469 -87.800991      74   \n",
       "1 2008-06-11          CULEX RESTUANS  T002  41.95469 -87.800991      74   \n",
       "2 2008-06-11           CULEX PIPIENS  T002  41.95469 -87.800991      74   \n",
       "3 2008-06-11        CULEX SALINARIUS  T002  41.95469 -87.800991      74   \n",
       "4 2008-06-11         CULEX TERRITANS  T002  41.95469 -87.800991      74   \n",
       "\n",
       "   dew_point_1  precip_total_1 stn_pressure_1 sea_level_1  ...  tavg_2  \\\n",
       "0           56             0.0          29.28       29.99  ...      76   \n",
       "1           56             0.0          29.28       29.99  ...      76   \n",
       "2           56             0.0          29.28       29.99  ...      76   \n",
       "3           56             0.0          29.28       29.99  ...      76   \n",
       "4           56             0.0          29.28       29.99  ...      76   \n",
       "\n",
       "   dew_point_2  precip_total_2  stn_pressure_2  sea_level_2 result_dir_2  \\\n",
       "0           55             0.0           29.34        29.97           18   \n",
       "1           55             0.0           29.34        29.97           18   \n",
       "2           55             0.0           29.34        29.97           18   \n",
       "3           55             0.0           29.34        29.97           18   \n",
       "4           55             0.0           29.34        29.97           18   \n",
       "\n",
       "  avg_speed_2  year  month  week_of_year  \n",
       "0        10.4  2008      6            24  \n",
       "1        10.4  2008      6            24  \n",
       "2        10.4  2008      6            24  \n",
       "3        10.4  2008      6            24  \n",
       "4        10.4  2008      6            24  \n",
       "\n",
       "[5 rows x 22 columns]"
      ]
     },
     "execution_count": 73,
     "metadata": {},
     "output_type": "execute_result"
    }
   ],
   "source": [
    "test.head()"
   ]
  },
  {
   "cell_type": "markdown",
   "metadata": {},
   "source": [
    "# Exploratory Data Analysis"
   ]
  },
  {
   "cell_type": "code",
   "execution_count": 74,
   "metadata": {
    "ExecuteTime": {
     "end_time": "2022-01-31T02:11:03.821684Z",
     "start_time": "2022-01-31T02:11:02.256982Z"
    }
   },
   "outputs": [
    {
     "data": {
      "image/png": "[encoded data removed]",
      "text/plain": [
       "<Figure size 1440x576 with 2 Axes>"
      ]
     },
     "metadata": {
      "needs_background": "light"
     },
     "output_type": "display_data"
    }
   ],
   "source": [
    "corr = train.corr(method='kendall')\n",
    "mask = np.triu(np.ones_like(corr, dtype=bool))\n",
    "plt.figure(figsize=(20, 8))\n",
    "heatmap = sns.heatmap(\n",
    "    corr, annot=True, fmt=\".2f\", mask=mask, cmap=\"Spectral\", vmax=1, vmin=-1\n",
    ")\n",
    "heatmap.set_title(\n",
    "    \"Correlation matrix of fireplace vs sale price\", fontdict={\"fontsize\": 15}, pad=16\n",
    ");"
   ]
  },
  {
   "cell_type": "markdown",
   "metadata": {},
   "source": [
    "- OHE species\n",
    "- corr matrix\n",
    "- boxplot"
   ]
  },
  {
   "cell_type": "markdown",
   "metadata": {
    "id": "Ep62bDUTr1no"
   },
   "source": [
    "# Modeling\n",
    "***\n",
    "The following models would be used:\n",
    "\n",
    "|                |                  Models                 |\n",
    "|:--------------:|:---------------------------------------:|\n",
    "| Baseline Model |               BernoulliNB               |\n",
    "|     Model 1    |            Logistic Regression          |\n",
    "|     Model 2    |          Random Forest Classifier       |\n",
    "|     Model 3    |        Gradient Boosting Classifier     |\n",
    "|     Model 4    |              XGBClassifier              |\n",
    "\n",
    "\n",
    "\n",
    "Baseline: BernoulliNB. \n",
    "Candidate Models: \n",
    "* for each model, run with/without SMOTE \n",
    "- Random Forest\n",
    "- [GradientBoostingClassifier](https://scikit-learn.org/stable/modules/generated/sklearn.ensemble.GradientBoostingClassifier.html)\n",
    "- [XGBClassifier](https://towardsdatascience.com/beginners-guide-to-xgboost-for-classification-problems-50f75aac5390)\n",
    "  - [feature importance in xgboost](https://machinelearningmastery.com/feature-importance-and-feature-selection-with-xgboost-in-python/) \n",
    "\n",
    "- good to haves:\n",
    "  - [ADASYN](https://towardsdatascience.com/adasyn-adaptive-synthetic-sampling-method-for-imbalanced-data-602a3673ba16) (instead of SMOTE)\n",
    "  - [neural networks](https://www.analyticsvidhya.com/blog/2021/11/neural-network-for-classification-with-tensorflow/)"
   ]
  },
  {
   "cell_type": "markdown",
   "metadata": {},
   "source": [
    "### Modeling Functions"
   ]
  },
  {
   "cell_type": "code",
   "execution_count": 75,
   "metadata": {
    "ExecuteTime": {
     "end_time": "2022-01-31T02:11:06.985640Z",
     "start_time": "2022-01-31T02:11:06.973642Z"
    }
   },
   "outputs": [],
   "source": [
    "# define the numerical and categorical columns\n",
    "\n",
    "numerical_cols = ['tavg_1', 'dew_point_1', 'precip_total_1', 'stn_pressure_1', 'sea_level_1',\\\n",
    "                  'result_dir_1', 'avg_speed_1', 'tavg_2', 'dew_point_2', 'precip_total_2',\\\n",
    "                  'stn_pressure_2', 'sea_level_2', 'result_dir_2', 'avg_speed_2']\n",
    "categorical_cols = ['species']"
   ]
  },
  {
   "cell_type": "code",
   "execution_count": 76,
   "metadata": {
    "ExecuteTime": {
     "end_time": "2022-01-31T02:11:08.624177Z",
     "start_time": "2022-01-31T02:11:08.600205Z"
    }
   },
   "outputs": [],
   "source": [
    "from sklearn.compose import ColumnTransformer\n",
    "from sklearn.preprocessing import OneHotEncoder\n",
    "\n",
    "# Preprocessing for numerical data\n",
    "numerical_transformer = StandardScaler()\n",
    "\n",
    "# Preprocessing for categorical data\n",
    "categorical_transformer = OneHotEncoder(handle_unknown = \"ignore\")\n",
    "\n",
    "# Bundle preprocessing for numerical and categorical data\n",
    "transformer = ColumnTransformer(\n",
    "    transformers = [\n",
    "        (\"num\", numerical_transformer, numerical_cols),\n",
    "        (\"cat\", categorical_transformer, categorical_cols),\n",
    "    ]\n",
    ")"
   ]
  },
  {
   "cell_type": "code",
   "execution_count": 77,
   "metadata": {
    "ExecuteTime": {
     "end_time": "2022-01-31T02:11:10.657537Z",
     "start_time": "2022-01-31T02:11:10.644571Z"
    }
   },
   "outputs": [],
   "source": [
    "# Instantiate lists to store results\n",
    "init_list = []\n",
    "gs_list = []\n",
    "\n",
    "# Function to run model -- input column transformer and model\n",
    "def run_model(X_train, X_test, y_train, y_test, mod, mod_params = {}, grid_search = False):\n",
    "    \n",
    "    # Initial dictionary to hold model results\n",
    "    results = {}\n",
    "\n",
    "#     smote_pipe = imbpipeline(steps = [['smote', SMOTE(random_state = 42)], \n",
    "#                                 ['t', transformer],\n",
    "#                                 [mod, models[mod]]\n",
    "#                                ])\n",
    "    \n",
    "    pipe = imblearnpipe([\n",
    "        ('t', transformer),\n",
    "        ('sampling', SMOTE(random_state = 42)),\n",
    "        (mod, models[mod])\n",
    "    ])\n",
    "    \n",
    "    if grid_search:\n",
    "        # Instantiate list to store gridsearch results\n",
    "        gs = GridSearchCV(pipe, param_grid = mod_params, cv = 5, verbose = 1, scoring = 'roc_auc', n_jobs = 3)\n",
    "        gs.fit(X_train, y_train)\n",
    "        pipe = gs\n",
    "        \n",
    "    else:\n",
    "        pipe.fit(X_train, y_train)\n",
    "    \n",
    "    # Retrieve metrics\n",
    "    predictions = pipe.predict(X_test)\n",
    "    tn, fp, fn, tp = confusion_matrix(y_test, predictions).ravel()\n",
    "    cm_df = pd.DataFrame(confusion_matrix(y_test, predictions), \n",
    "                            index=['Actual Negative', 'Actual Postive'], \n",
    "                            columns=['Predicted Negative', 'Predicted Postive'])\n",
    "    y_test_pred_prob = pipe.predict_proba(X_test)[:,1]\n",
    "    y_train_pred_prob = pipe.predict_proba(X_train)[:,1]\n",
    "    \n",
    "    results['model'] = mod\n",
    "    results['train_auc'] = roc_auc_score(y_train, y_train_pred_prob)\n",
    "    results['test_auc'] = roc_auc_score(y_test, y_test_pred_prob)\n",
    "    results['precision'] = precision_score(y_test, predictions)\n",
    "    results['specificity'] = tn / (tn + fp)\n",
    "    results['recall'] = recall_score(y_test, predictions)\n",
    "    results['f_score'] = f1_score(y_test, predictions)\n",
    "    \n",
    "    if grid_search:\n",
    "        gs_list.append(results)\n",
    "        print('---Best Parameters---')\n",
    "        display(pipe.best_params_)\n",
    "        \n",
    "    else:\n",
    "        init_list.append(results)\n",
    "    \n",
    "    print('Model:', models[mod])\n",
    "    print('---Model Metrics---')\n",
    "    display(results)\n",
    "    display(cm_df)\n",
    "    print(f\"True Negatives: {tn}\")\n",
    "    print(f\"False Negatives: {fn}\")\n",
    "    print(f\"True Positives: {tp}\")\n",
    "    print(f\"False Positives: {fp}\")\n",
    "        \n",
    "    print()\n",
    "    return pipe"
   ]
  },
  {
   "cell_type": "markdown",
   "metadata": {},
   "source": [
    "## Get the X, y data"
   ]
  },
  {
   "cell_type": "code",
   "execution_count": 78,
   "metadata": {
    "ExecuteTime": {
     "end_time": "2022-01-31T02:11:12.416520Z",
     "start_time": "2022-01-31T02:11:12.406547Z"
    }
   },
   "outputs": [],
   "source": [
    "X = train.drop(['date', 'wnv_present'], axis = 1)\n",
    "y = train['wnv_present']"
   ]
  },
  {
   "cell_type": "code",
   "execution_count": 79,
   "metadata": {
    "ExecuteTime": {
     "end_time": "2022-01-31T02:11:13.048700Z",
     "start_time": "2022-01-31T02:11:13.030749Z"
    }
   },
   "outputs": [
    {
     "name": "stdout",
     "output_type": "stream",
     "text": [
      "(9693, 20)\n",
      "(9693,)\n"
     ]
    }
   ],
   "source": [
    "print(X.shape)\n",
    "print(y.shape)"
   ]
  },
  {
   "cell_type": "code",
   "execution_count": 80,
   "metadata": {
    "ExecuteTime": {
     "end_time": "2022-01-31T02:11:14.380455Z",
     "start_time": "2022-01-31T02:11:14.367632Z"
    }
   },
   "outputs": [
    {
     "data": {
      "text/plain": [
       "0    0.948107\n",
       "1    0.051893\n",
       "Name: wnv_present, dtype: float64"
      ]
     },
     "execution_count": 80,
     "metadata": {},
     "output_type": "execute_result"
    }
   ],
   "source": [
    "y.value_counts(normalize = True)"
   ]
  },
  {
   "cell_type": "markdown",
   "metadata": {},
   "source": [
    "## Train, test, split the data"
   ]
  },
  {
   "cell_type": "code",
   "execution_count": 81,
   "metadata": {
    "ExecuteTime": {
     "end_time": "2022-01-31T02:11:15.518944Z",
     "start_time": "2022-01-31T02:11:15.504974Z"
    }
   },
   "outputs": [],
   "source": [
    "X_train, X_test, y_train, y_test = train_test_split(X, y, stratify = y, random_state = 42)"
   ]
  },
  {
   "cell_type": "code",
   "execution_count": 82,
   "metadata": {
    "ExecuteTime": {
     "end_time": "2022-01-31T02:11:15.887748Z",
     "start_time": "2022-01-31T02:11:15.870762Z"
    }
   },
   "outputs": [
    {
     "name": "stdout",
     "output_type": "stream",
     "text": [
      "(7269, 20)\n",
      "(2424, 20)\n",
      "(7269,)\n",
      "(2424,)\n"
     ]
    }
   ],
   "source": [
    "print(X_train.shape)\n",
    "print(X_test.shape)\n",
    "print(y_train.shape)\n",
    "print(y_test.shape)"
   ]
  },
  {
   "cell_type": "markdown",
   "metadata": {},
   "source": [
    "### Instantiate the models"
   ]
  },
  {
   "cell_type": "code",
   "execution_count": 145,
   "metadata": {
    "ExecuteTime": {
     "end_time": "2022-01-31T07:29:10.229962Z",
     "start_time": "2022-01-31T07:29:10.212010Z"
    }
   },
   "outputs": [],
   "source": [
    "# Instantiate the models\n",
    "models = {'nb': BernoulliNB(),\n",
    "          'lr': LogisticRegression(),\n",
    "#           'svm': SVC(),          \n",
    "          'rf': RandomForestClassifier(random_state = 42),\n",
    "          'gb': GradientBoostingClassifier(random_state = 42),\n",
    "          'xgb': XGBClassifier(random_state = 42, use_label_encoder = False)\n",
    "        }"
   ]
  },
  {
   "cell_type": "markdown",
   "metadata": {},
   "source": [
    "### Baseline Model"
   ]
  },
  {
   "cell_type": "code",
   "execution_count": 85,
   "metadata": {
    "ExecuteTime": {
     "end_time": "2022-01-31T02:11:23.505001Z",
     "start_time": "2022-01-31T02:11:23.385322Z"
    },
    "scrolled": false
   },
   "outputs": [
    {
     "name": "stdout",
     "output_type": "stream",
     "text": [
      "Model: BernoulliNB()\n",
      "---Model Metrics---\n"
     ]
    },
    {
     "data": {
      "text/plain": [
       "{'model': 'nb',\n",
       " 'train_auc': 0.6866118176458,\n",
       " 'test_auc': 0.6773212040836061,\n",
       " 'precision': 0.08532778355879292,\n",
       " 'specificity': 0.6174934725848564,\n",
       " 'recall': 0.6507936507936508,\n",
       " 'f_score': 0.15087396504139836}"
      ]
     },
     "metadata": {},
     "output_type": "display_data"
    },
    {
     "data": {
      "text/html": [
       "<div>\n",
       "<style scoped>\n",
       "    .dataframe tbody tr th:only-of-type {\n",
       "        vertical-align: middle;\n",
       "    }\n",
       "\n",
       "    .dataframe tbody tr th {\n",
       "        vertical-align: top;\n",
       "    }\n",
       "\n",
       "    .dataframe thead th {\n",
       "        text-align: right;\n",
       "    }\n",
       "</style>\n",
       "<table border=\"1\" class=\"dataframe\">\n",
       "  <thead>\n",
       "    <tr style=\"text-align: right;\">\n",
       "      <th></th>\n",
       "      <th>Predicted Negative</th>\n",
       "      <th>Predicted Postive</th>\n",
       "    </tr>\n",
       "  </thead>\n",
       "  <tbody>\n",
       "    <tr>\n",
       "      <th>Actual Negative</th>\n",
       "      <td>1419</td>\n",
       "      <td>879</td>\n",
       "    </tr>\n",
       "    <tr>\n",
       "      <th>Actual Postive</th>\n",
       "      <td>44</td>\n",
       "      <td>82</td>\n",
       "    </tr>\n",
       "  </tbody>\n",
       "</table>\n",
       "</div>"
      ],
      "text/plain": [
       "                 Predicted Negative  Predicted Postive\n",
       "Actual Negative                1419                879\n",
       "Actual Postive                   44                 82"
      ]
     },
     "metadata": {},
     "output_type": "display_data"
    },
    {
     "name": "stdout",
     "output_type": "stream",
     "text": [
      "True Negatives: 1419\n",
      "False Negatives: 44\n",
      "True Positives: 82\n",
      "False Positives: 879\n",
      "\n",
      "Wall time: 103 ms\n"
     ]
    }
   ],
   "source": [
    "%%time\n",
    "nb = run_model(X_train, X_test, y_train, y_test, 'nb')"
   ]
  },
  {
   "cell_type": "markdown",
   "metadata": {},
   "source": [
    "### Candidate Models Tuning"
   ]
  },
  {
   "cell_type": "code",
   "execution_count": 104,
   "metadata": {
    "ExecuteTime": {
     "end_time": "2022-01-28T06:50:40.471009Z",
     "start_time": "2022-01-28T06:50:40.450030Z"
    }
   },
   "outputs": [],
   "source": [
    "# # model params\n",
    "\n",
    "# lr_params = {'sampling__sampling_strategy': ['minority', 'not minority', 'auto'], # ['minority', 'not minority', 'auto']\n",
    "#              'sampling__k_neighbors': [3, 5, 7], # [3, 5, 7]\n",
    "#              'lr__penalty' : ['l1', 'l2'], #['l1', 'l2']\n",
    "#              'lr__solver' : ['liblinear', 'saga'], # ['liblinear', 'saga']\n",
    "#              'lr__C' : [0.7, 1.0, 1.3],\n",
    "#              'lr__class_weight' : ['balanced']\n",
    "#             }\n",
    "\n",
    "# svm_params = {'sampling__sampling_strategy': ['minority', 'not minority', 'auto'],\n",
    "#               'sampling__k_neighbors': [3, 5, 7],\n",
    "#               'svm__C' : [0.7, 1.0, 1.3],\n",
    "#               'svm__kernel' : ['linear'],\n",
    "#               'svm__gamma' : ['scale', 'auto'],\n",
    "#               'svm__probability' : [True]\n",
    "#             }\n",
    "\n",
    "# rf_params = {'sampling__sampling_strategy': ['minority', 'not minority', 'auto'],\n",
    "#              'sampling__k_neighbors': [3, 5, 7],\n",
    "#              'rf__n_estimators': [75, 100, 200, 300],\n",
    "#              'rf__max_depth': [5, 10, 15, 20],\n",
    "#              'rf__min_samples_leaf': [2, 5, 10],\n",
    "#              'rf__class_weight' : ['balanced', 'balanced_subsample']\n",
    "#             }\n",
    "\n",
    "# gb_params = {'sampling__sampling_strategy': ['minority', 'not minority', 'auto'],\n",
    "#              'sampling__k_neighbors': [3, 5, 7],\n",
    "#              'gb__max_depth': [2, 3, 4, 5],\n",
    "#              'gb__n_estimators': [75, 100, 200, 300],\n",
    "#              'gb__learning_rate': [.08, .1, .13]\n",
    "#             }\n",
    "    \n",
    "# xgb_params = {'sampling__sampling_strategy': ['minority', 'not minority', 'auto'],\n",
    "#               'sampling__k_neighbors': [3, 5, 7],\n",
    "#               'xgb__max_depth' : [3, 4, 5, 6],\n",
    "#               'xgb__learning_rate' : [0.1, 0.3, 0.5, 0.7],\n",
    "#               'xgb__n_estimators' : [100, 200, 300, 400, 500],\n",
    "#               'xgb__colsample_bytree' : [0.1, 0.5, 1],\n",
    "#               'xgb__subsample' : [0.5, 0.7, 1]\n",
    "#              }"
   ]
  },
  {
   "cell_type": "markdown",
   "metadata": {},
   "source": [
    "#### Logistic Regression"
   ]
  },
  {
   "cell_type": "code",
   "execution_count": 146,
   "metadata": {
    "ExecuteTime": {
     "end_time": "2022-01-31T07:29:13.790092Z",
     "start_time": "2022-01-31T07:29:13.781081Z"
    }
   },
   "outputs": [],
   "source": [
    "lr_params = {'sampling__sampling_strategy': ['minority', 'auto'], # ['minority', 'auto']\n",
    "             'sampling__k_neighbors': [7, 8, 9], # [4, 5, 6, 7]\n",
    "             'lr__penalty' : ['l2'], #['l1', 'l2']\n",
    "             'lr__solver' : ['saga'], # ['liblinear', 'saga']\n",
    "             'lr__C' : [1.2, 1.3, 1.4], # [0.6, 0.8, 1.0, 1.2]\n",
    "             'lr__class_weight' : ['balanced']\n",
    "            }"
   ]
  },
  {
   "cell_type": "code",
   "execution_count": 147,
   "metadata": {
    "ExecuteTime": {
     "end_time": "2022-01-31T07:29:33.658694Z",
     "start_time": "2022-01-31T07:29:17.511675Z"
    },
    "scrolled": false
   },
   "outputs": [
    {
     "name": "stdout",
     "output_type": "stream",
     "text": [
      "Fitting 5 folds for each of 18 candidates, totalling 90 fits\n",
      "---Best Parameters---\n"
     ]
    },
    {
     "name": "stderr",
     "output_type": "stream",
     "text": [
      "C:\\Users\\Jun Hong\\anaconda3\\lib\\site-packages\\sklearn\\linear_model\\_sag.py:352: ConvergenceWarning: The max_iter was reached which means the coef_ did not converge\n",
      "  warnings.warn(\n"
     ]
    },
    {
     "data": {
      "text/plain": [
       "{'lr__C': 1.2,\n",
       " 'lr__class_weight': 'balanced',\n",
       " 'lr__penalty': 'l2',\n",
       " 'lr__solver': 'saga',\n",
       " 'sampling__k_neighbors': 7,\n",
       " 'sampling__sampling_strategy': 'minority'}"
      ]
     },
     "metadata": {},
     "output_type": "display_data"
    },
    {
     "name": "stdout",
     "output_type": "stream",
     "text": [
      "Model: LogisticRegression()\n",
      "---Model Metrics---\n"
     ]
    },
    {
     "data": {
      "text/plain": [
       "{'model': 'lr',\n",
       " 'train_auc': 0.7555174876957254,\n",
       " 'test_auc': 0.7593645958528465,\n",
       " 'precision': 0.10767590618336886,\n",
       " 'specificity': 0.6357702349869452,\n",
       " 'recall': 0.8015873015873016,\n",
       " 'f_score': 0.18984962406015038}"
      ]
     },
     "metadata": {},
     "output_type": "display_data"
    },
    {
     "data": {
      "text/html": [
       "<div>\n",
       "<style scoped>\n",
       "    .dataframe tbody tr th:only-of-type {\n",
       "        vertical-align: middle;\n",
       "    }\n",
       "\n",
       "    .dataframe tbody tr th {\n",
       "        vertical-align: top;\n",
       "    }\n",
       "\n",
       "    .dataframe thead th {\n",
       "        text-align: right;\n",
       "    }\n",
       "</style>\n",
       "<table border=\"1\" class=\"dataframe\">\n",
       "  <thead>\n",
       "    <tr style=\"text-align: right;\">\n",
       "      <th></th>\n",
       "      <th>Predicted Negative</th>\n",
       "      <th>Predicted Postive</th>\n",
       "    </tr>\n",
       "  </thead>\n",
       "  <tbody>\n",
       "    <tr>\n",
       "      <th>Actual Negative</th>\n",
       "      <td>1461</td>\n",
       "      <td>837</td>\n",
       "    </tr>\n",
       "    <tr>\n",
       "      <th>Actual Postive</th>\n",
       "      <td>25</td>\n",
       "      <td>101</td>\n",
       "    </tr>\n",
       "  </tbody>\n",
       "</table>\n",
       "</div>"
      ],
      "text/plain": [
       "                 Predicted Negative  Predicted Postive\n",
       "Actual Negative                1461                837\n",
       "Actual Postive                   25                101"
      ]
     },
     "metadata": {},
     "output_type": "display_data"
    },
    {
     "name": "stdout",
     "output_type": "stream",
     "text": [
      "True Negatives: 1461\n",
      "False Negatives: 25\n",
      "True Positives: 101\n",
      "False Positives: 837\n",
      "\n",
      "Wall time: 16.1 s\n"
     ]
    }
   ],
   "source": [
    "%%time\n",
    "lr = run_model(X_train, X_test, y_train, y_test, 'lr', lr_params, grid_search = True)"
   ]
  },
  {
   "cell_type": "markdown",
   "metadata": {},
   "source": [
    "#### SVM"
   ]
  },
  {
   "cell_type": "code",
   "execution_count": 109,
   "metadata": {
    "ExecuteTime": {
     "end_time": "2022-01-28T06:57:39.748036Z",
     "start_time": "2022-01-28T06:57:39.742053Z"
    }
   },
   "outputs": [],
   "source": [
    "# svm_params = {'sampling__sampling_strategy': ['minority', 'not minority', 'auto'],\n",
    "#               'sampling__k_neighbors': [3, 5, 7],\n",
    "#               'svm__C' : [0.7, 1.0, 1.3],\n",
    "#               'svm__kernel' : ['linear'],\n",
    "#               'svm__gamma' : ['scale', 'auto'],\n",
    "#               'svm__probability' : [True]\n",
    "#             }"
   ]
  },
  {
   "cell_type": "code",
   "execution_count": 110,
   "metadata": {
    "ExecuteTime": {
     "end_time": "2022-01-28T07:47:22.742527Z",
     "start_time": "2022-01-28T06:57:45.058592Z"
    }
   },
   "outputs": [
    {
     "name": "stdout",
     "output_type": "stream",
     "text": [
      "Fitting 5 folds for each of 54 candidates, totalling 270 fits\n",
      "---Best Parameters---\n"
     ]
    },
    {
     "data": {
      "text/plain": [
       "{'sampling__k_neighbors': 3,\n",
       " 'sampling__sampling_strategy': 'minority',\n",
       " 'svm__C': 0.7,\n",
       " 'svm__gamma': 'scale',\n",
       " 'svm__kernel': 'linear',\n",
       " 'svm__probability': True}"
      ]
     },
     "metadata": {},
     "output_type": "display_data"
    },
    {
     "name": "stdout",
     "output_type": "stream",
     "text": [
      "Model: SVC()\n",
      "---Model Metrics---\n"
     ]
    },
    {
     "data": {
      "text/plain": [
       "{'model': 'svm',\n",
       " 'train_auc': 0.754091161705187,\n",
       " 'test_auc': 0.7665499329990192,\n",
       " 'precision': 0.09622641509433963,\n",
       " 'specificity': 0.5831157528285466,\n",
       " 'recall': 0.8095238095238095,\n",
       " 'f_score': 0.17200674536256325}"
      ]
     },
     "metadata": {},
     "output_type": "display_data"
    },
    {
     "data": {
      "text/html": [
       "<div>\n",
       "<style scoped>\n",
       "    .dataframe tbody tr th:only-of-type {\n",
       "        vertical-align: middle;\n",
       "    }\n",
       "\n",
       "    .dataframe tbody tr th {\n",
       "        vertical-align: top;\n",
       "    }\n",
       "\n",
       "    .dataframe thead th {\n",
       "        text-align: right;\n",
       "    }\n",
       "</style>\n",
       "<table border=\"1\" class=\"dataframe\">\n",
       "  <thead>\n",
       "    <tr style=\"text-align: right;\">\n",
       "      <th></th>\n",
       "      <th>Predicted Negative</th>\n",
       "      <th>Predicted Postive</th>\n",
       "    </tr>\n",
       "  </thead>\n",
       "  <tbody>\n",
       "    <tr>\n",
       "      <th>Actual Negative</th>\n",
       "      <td>1340</td>\n",
       "      <td>958</td>\n",
       "    </tr>\n",
       "    <tr>\n",
       "      <th>Actual Postive</th>\n",
       "      <td>24</td>\n",
       "      <td>102</td>\n",
       "    </tr>\n",
       "  </tbody>\n",
       "</table>\n",
       "</div>"
      ],
      "text/plain": [
       "                 Predicted Negative  Predicted Postive\n",
       "Actual Negative                1340                958\n",
       "Actual Postive                   24                102"
      ]
     },
     "metadata": {},
     "output_type": "display_data"
    },
    {
     "name": "stdout",
     "output_type": "stream",
     "text": [
      "True Negatives: 1340\n",
      "False Negatives: 24\n",
      "True Positives: 102\n",
      "False Positives: 958\n",
      "\n",
      "Wall time: 49min 37s\n"
     ]
    }
   ],
   "source": [
    "# %%time\n",
    "# svm = run_model(X_train, X_test, y_train, y_test, 'svm', svm_params, grid_search = True)"
   ]
  },
  {
   "cell_type": "markdown",
   "metadata": {},
   "source": [
    "#### Random Forest"
   ]
  },
  {
   "cell_type": "code",
   "execution_count": 150,
   "metadata": {
    "ExecuteTime": {
     "end_time": "2022-01-31T07:47:31.379264Z",
     "start_time": "2022-01-31T07:47:31.373279Z"
    }
   },
   "outputs": [],
   "source": [
    "rf_params = {'sampling__sampling_strategy': ['minority', 'auto'],\n",
    "             'sampling__k_neighbors': [4, 5, 6],\n",
    "             'rf__n_estimators': [75, 100, 200],\n",
    "             'rf__max_depth': [3, 5, 7],\n",
    "             'rf__min_samples_leaf': [2, 3, 4, 5],\n",
    "             'rf__class_weight' : ['balanced', 'balanced_subsample']\n",
    "            }"
   ]
  },
  {
   "cell_type": "code",
   "execution_count": 151,
   "metadata": {
    "ExecuteTime": {
     "end_time": "2022-01-31T07:57:02.732902Z",
     "start_time": "2022-01-31T07:47:35.506181Z"
    }
   },
   "outputs": [
    {
     "name": "stdout",
     "output_type": "stream",
     "text": [
      "Fitting 5 folds for each of 432 candidates, totalling 2160 fits\n",
      "---Best Parameters---\n"
     ]
    },
    {
     "data": {
      "text/plain": [
       "{'rf__class_weight': 'balanced_subsample',\n",
       " 'rf__max_depth': 7,\n",
       " 'rf__min_samples_leaf': 5,\n",
       " 'rf__n_estimators': 100,\n",
       " 'sampling__k_neighbors': 4,\n",
       " 'sampling__sampling_strategy': 'minority'}"
      ]
     },
     "metadata": {},
     "output_type": "display_data"
    },
    {
     "name": "stdout",
     "output_type": "stream",
     "text": [
      "Model: RandomForestClassifier(random_state=42)\n",
      "---Model Metrics---\n"
     ]
    },
    {
     "data": {
      "text/plain": [
       "{'model': 'rf',\n",
       " 'train_auc': 0.8415769792678552,\n",
       " 'test_auc': 0.8225734593228067,\n",
       " 'precision': 0.13440860215053763,\n",
       " 'specificity': 0.7197563098346388,\n",
       " 'recall': 0.7936507936507936,\n",
       " 'f_score': 0.22988505747126436}"
      ]
     },
     "metadata": {},
     "output_type": "display_data"
    },
    {
     "data": {
      "text/html": [
       "<div>\n",
       "<style scoped>\n",
       "    .dataframe tbody tr th:only-of-type {\n",
       "        vertical-align: middle;\n",
       "    }\n",
       "\n",
       "    .dataframe tbody tr th {\n",
       "        vertical-align: top;\n",
       "    }\n",
       "\n",
       "    .dataframe thead th {\n",
       "        text-align: right;\n",
       "    }\n",
       "</style>\n",
       "<table border=\"1\" class=\"dataframe\">\n",
       "  <thead>\n",
       "    <tr style=\"text-align: right;\">\n",
       "      <th></th>\n",
       "      <th>Predicted Negative</th>\n",
       "      <th>Predicted Postive</th>\n",
       "    </tr>\n",
       "  </thead>\n",
       "  <tbody>\n",
       "    <tr>\n",
       "      <th>Actual Negative</th>\n",
       "      <td>1654</td>\n",
       "      <td>644</td>\n",
       "    </tr>\n",
       "    <tr>\n",
       "      <th>Actual Postive</th>\n",
       "      <td>26</td>\n",
       "      <td>100</td>\n",
       "    </tr>\n",
       "  </tbody>\n",
       "</table>\n",
       "</div>"
      ],
      "text/plain": [
       "                 Predicted Negative  Predicted Postive\n",
       "Actual Negative                1654                644\n",
       "Actual Postive                   26                100"
      ]
     },
     "metadata": {},
     "output_type": "display_data"
    },
    {
     "name": "stdout",
     "output_type": "stream",
     "text": [
      "True Negatives: 1654\n",
      "False Negatives: 26\n",
      "True Positives: 100\n",
      "False Positives: 644\n",
      "\n",
      "Wall time: 9min 27s\n"
     ]
    }
   ],
   "source": [
    "%%time\n",
    "rf = run_model(X_train, X_test, y_train, y_test, 'rf', rf_params, grid_search = True)"
   ]
  },
  {
   "cell_type": "markdown",
   "metadata": {},
   "source": [
    "#### Gradient Boosting Classifier"
   ]
  },
  {
   "cell_type": "code",
   "execution_count": 119,
   "metadata": {
    "ExecuteTime": {
     "end_time": "2022-01-31T03:20:51.375723Z",
     "start_time": "2022-01-31T03:20:51.359766Z"
    }
   },
   "outputs": [],
   "source": [
    "gb_params = {'sampling__sampling_strategy': ['minority', 'auto'],\n",
    "             'sampling__k_neighbors': [4, 5, 6],\n",
    "             'gb__max_depth': [2, 3, 4, 5],\n",
    "             'gb__n_estimators': [75, 100, 200, 300],\n",
    "             'gb__learning_rate': [.08, .1, .13]\n",
    "            }"
   ]
  },
  {
   "cell_type": "code",
   "execution_count": 120,
   "metadata": {
    "ExecuteTime": {
     "end_time": "2022-01-31T03:45:06.037450Z",
     "start_time": "2022-01-31T03:21:10.362060Z"
    }
   },
   "outputs": [
    {
     "name": "stdout",
     "output_type": "stream",
     "text": [
      "Fitting 5 folds for each of 288 candidates, totalling 1440 fits\n",
      "---Best Parameters---\n"
     ]
    },
    {
     "data": {
      "text/plain": [
       "{'gb__learning_rate': 0.1,\n",
       " 'gb__max_depth': 3,\n",
       " 'gb__n_estimators': 200,\n",
       " 'sampling__k_neighbors': 4,\n",
       " 'sampling__sampling_strategy': 'all'}"
      ]
     },
     "metadata": {},
     "output_type": "display_data"
    },
    {
     "name": "stdout",
     "output_type": "stream",
     "text": [
      "Model: GradientBoostingClassifier(random_state=42)\n",
      "---Model Metrics---\n"
     ]
    },
    {
     "data": {
      "text/plain": [
       "{'model': 'gb',\n",
       " 'train_auc': 0.8530403142997455,\n",
       " 'test_auc': 0.8411541436998355,\n",
       " 'precision': 0.16013628620102216,\n",
       " 'specificity': 0.7854656222802436,\n",
       " 'recall': 0.746031746031746,\n",
       " 'f_score': 0.2636746143057504}"
      ]
     },
     "metadata": {},
     "output_type": "display_data"
    },
    {
     "data": {
      "text/html": [
       "<div>\n",
       "<style scoped>\n",
       "    .dataframe tbody tr th:only-of-type {\n",
       "        vertical-align: middle;\n",
       "    }\n",
       "\n",
       "    .dataframe tbody tr th {\n",
       "        vertical-align: top;\n",
       "    }\n",
       "\n",
       "    .dataframe thead th {\n",
       "        text-align: right;\n",
       "    }\n",
       "</style>\n",
       "<table border=\"1\" class=\"dataframe\">\n",
       "  <thead>\n",
       "    <tr style=\"text-align: right;\">\n",
       "      <th></th>\n",
       "      <th>Predicted Negative</th>\n",
       "      <th>Predicted Postive</th>\n",
       "    </tr>\n",
       "  </thead>\n",
       "  <tbody>\n",
       "    <tr>\n",
       "      <th>Actual Negative</th>\n",
       "      <td>1805</td>\n",
       "      <td>493</td>\n",
       "    </tr>\n",
       "    <tr>\n",
       "      <th>Actual Postive</th>\n",
       "      <td>32</td>\n",
       "      <td>94</td>\n",
       "    </tr>\n",
       "  </tbody>\n",
       "</table>\n",
       "</div>"
      ],
      "text/plain": [
       "                 Predicted Negative  Predicted Postive\n",
       "Actual Negative                1805                493\n",
       "Actual Postive                   32                 94"
      ]
     },
     "metadata": {},
     "output_type": "display_data"
    },
    {
     "name": "stdout",
     "output_type": "stream",
     "text": [
      "True Negatives: 1805\n",
      "False Negatives: 32\n",
      "True Positives: 94\n",
      "False Positives: 493\n",
      "\n",
      "Wall time: 23min 55s\n"
     ]
    }
   ],
   "source": [
    "%%time\n",
    "gb = run_model(X_train, X_test, y_train, y_test, 'gb', gb_params, grid_search = True)"
   ]
  },
  {
   "cell_type": "markdown",
   "metadata": {},
   "source": [
    "#### XGBClassifier"
   ]
  },
  {
   "cell_type": "code",
   "execution_count": 154,
   "metadata": {
    "ExecuteTime": {
     "end_time": "2022-01-31T08:33:02.920588Z",
     "start_time": "2022-01-31T08:33:02.905590Z"
    }
   },
   "outputs": [],
   "source": [
    "xgb_params = {'sampling__sampling_strategy': ['minority', 'auto'],\n",
    "              'sampling__k_neighbors': [4, 5, 6],\n",
    "              'xgb__max_depth' : [5, 6, 7],\n",
    "              'xgb__gamma' : [0 , 0.5 , 1],\n",
    "              'xgb__learning_rate' : [0.2, 0.3, 0.4], # [0.2, 0.3, 0.4]\n",
    "              'xgb__n_estimators' : [70, 100, 200],\n",
    "              'xgb__colsample_bytree' : [0.8, 1], # [0.5, 1]\n",
    "              'xgb__subsample' : [0.8, 1] # [0.7, 1]\n",
    "             }"
   ]
  },
  {
   "cell_type": "code",
   "execution_count": 155,
   "metadata": {
    "ExecuteTime": {
     "end_time": "2022-01-31T09:20:04.357594Z",
     "start_time": "2022-01-31T08:33:03.952980Z"
    },
    "scrolled": false
   },
   "outputs": [
    {
     "name": "stdout",
     "output_type": "stream",
     "text": [
      "Fitting 5 folds for each of 1944 candidates, totalling 9720 fits\n",
      "[17:20:03] WARNING: C:/Users/Administrator/workspace/xgboost-win64_release_1.5.1/src/learner.cc:1115: Starting in XGBoost 1.3.0, the default evaluation metric used with the objective 'binary:logistic' was changed from 'error' to 'logloss'. Explicitly set eval_metric if you'd like to restore the old behavior.\n",
      "---Best Parameters---\n"
     ]
    },
    {
     "data": {
      "text/plain": [
       "{'sampling__k_neighbors': 4,\n",
       " 'sampling__sampling_strategy': 'minority',\n",
       " 'xgb__colsample_bytree': 1,\n",
       " 'xgb__gamma': 0,\n",
       " 'xgb__learning_rate': 0.2,\n",
       " 'xgb__max_depth': 5,\n",
       " 'xgb__n_estimators': 70,\n",
       " 'xgb__subsample': 1}"
      ]
     },
     "metadata": {},
     "output_type": "display_data"
    },
    {
     "name": "stdout",
     "output_type": "stream",
     "text": [
      "Model: XGBClassifier(base_score=None, booster=None, colsample_bylevel=None,\n",
      "              colsample_bynode=None, colsample_bytree=None,\n",
      "              enable_categorical=False, gamma=None, gpu_id=None,\n",
      "              importance_type=None, interaction_constraints=None,\n",
      "              learning_rate=None, max_delta_step=None, max_depth=None,\n",
      "              min_child_weight=None, missing=nan, monotone_constraints=None,\n",
      "              n_estimators=100, n_jobs=None, num_parallel_tree=None,\n",
      "              predictor=None, random_state=42, reg_alpha=None, reg_lambda=None,\n",
      "              scale_pos_weight=None, subsample=None, tree_method=None,\n",
      "              use_label_encoder=False, validate_parameters=None,\n",
      "              verbosity=None)\n",
      "---Model Metrics---\n"
     ]
    },
    {
     "data": {
      "text/plain": [
       "{'model': 'xgb',\n",
       " 'train_auc': 0.8590027110200424,\n",
       " 'test_auc': 0.838881636205396,\n",
       " 'precision': 0.1588628762541806,\n",
       " 'specificity': 0.7811140121845083,\n",
       " 'recall': 0.753968253968254,\n",
       " 'f_score': 0.26243093922651933}"
      ]
     },
     "metadata": {},
     "output_type": "display_data"
    },
    {
     "data": {
      "text/html": [
       "<div>\n",
       "<style scoped>\n",
       "    .dataframe tbody tr th:only-of-type {\n",
       "        vertical-align: middle;\n",
       "    }\n",
       "\n",
       "    .dataframe tbody tr th {\n",
       "        vertical-align: top;\n",
       "    }\n",
       "\n",
       "    .dataframe thead th {\n",
       "        text-align: right;\n",
       "    }\n",
       "</style>\n",
       "<table border=\"1\" class=\"dataframe\">\n",
       "  <thead>\n",
       "    <tr style=\"text-align: right;\">\n",
       "      <th></th>\n",
       "      <th>Predicted Negative</th>\n",
       "      <th>Predicted Postive</th>\n",
       "    </tr>\n",
       "  </thead>\n",
       "  <tbody>\n",
       "    <tr>\n",
       "      <th>Actual Negative</th>\n",
       "      <td>1795</td>\n",
       "      <td>503</td>\n",
       "    </tr>\n",
       "    <tr>\n",
       "      <th>Actual Postive</th>\n",
       "      <td>31</td>\n",
       "      <td>95</td>\n",
       "    </tr>\n",
       "  </tbody>\n",
       "</table>\n",
       "</div>"
      ],
      "text/plain": [
       "                 Predicted Negative  Predicted Postive\n",
       "Actual Negative                1795                503\n",
       "Actual Postive                   31                 95"
      ]
     },
     "metadata": {},
     "output_type": "display_data"
    },
    {
     "name": "stdout",
     "output_type": "stream",
     "text": [
      "True Negatives: 1795\n",
      "False Negatives: 31\n",
      "True Positives: 95\n",
      "False Positives: 503\n",
      "\n",
      "Wall time: 47min\n"
     ]
    }
   ],
   "source": [
    "%%time\n",
    "xgb = run_model(X_train, X_test, y_train, y_test, 'xgb', xgb_params, grid_search = True)"
   ]
  },
  {
   "cell_type": "code",
   "execution_count": null,
   "metadata": {},
   "outputs": [],
   "source": []
  },
  {
   "cell_type": "code",
   "execution_count": null,
   "metadata": {},
   "outputs": [],
   "source": [
    "def roc_curve_plotter(model_dict, plot_top=False):\n",
    "    fig, ax = plt.subplots(1, 1, figsize=(12,10))\n",
    "    axes = {}\n",
    "    for i, m in enumerate(model_dict.keys()):\n",
    "        axes[f'ax{i}'] = plot_roc_curve(m, X_test, y_test, ax=ax, name=model_dict[m])\n",
    "    if plot_top:\n",
    "        for i, a in enumerate(axes):\n",
    "            if i != 0:\n",
    "                axes[a].line_.set_color('lightgrey')\n",
    "    plt.plot([0, 1], [0, 1], color='black', lw=2, linestyle='--', label='Random Guess')\n",
    "    plt.title('ROC-AUC Curve Comparison', fontsize=22)\n",
    "    plt.xlabel('False Positive Rate', fontsize=12)\n",
    "    plt.ylabel('True Positive Rate', fontsize=12)\n",
    "    plt.legend(fontsize=12)"
   ]
  },
  {
   "cell_type": "code",
   "execution_count": null,
   "metadata": {},
   "outputs": [],
   "source": []
  },
  {
   "cell_type": "code",
   "execution_count": null,
   "metadata": {},
   "outputs": [],
   "source": []
  },
  {
   "cell_type": "markdown",
   "metadata": {},
   "source": [
    "# Kaggle Submission"
   ]
  },
  {
   "cell_type": "code",
   "execution_count": 121,
   "metadata": {
    "ExecuteTime": {
     "end_time": "2022-01-31T03:48:18.648859Z",
     "start_time": "2022-01-31T03:48:18.621959Z"
    }
   },
   "outputs": [
    {
     "data": {
      "text/html": [
       "<div>\n",
       "<style scoped>\n",
       "    .dataframe tbody tr th:only-of-type {\n",
       "        vertical-align: middle;\n",
       "    }\n",
       "\n",
       "    .dataframe tbody tr th {\n",
       "        vertical-align: top;\n",
       "    }\n",
       "\n",
       "    .dataframe thead th {\n",
       "        text-align: right;\n",
       "    }\n",
       "</style>\n",
       "<table border=\"1\" class=\"dataframe\">\n",
       "  <thead>\n",
       "    <tr style=\"text-align: right;\">\n",
       "      <th></th>\n",
       "      <th>date</th>\n",
       "      <th>species</th>\n",
       "      <th>trap</th>\n",
       "      <th>latitude</th>\n",
       "      <th>longitude</th>\n",
       "      <th>tavg_1</th>\n",
       "      <th>dew_point_1</th>\n",
       "      <th>precip_total_1</th>\n",
       "      <th>stn_pressure_1</th>\n",
       "      <th>sea_level_1</th>\n",
       "      <th>...</th>\n",
       "      <th>tavg_2</th>\n",
       "      <th>dew_point_2</th>\n",
       "      <th>precip_total_2</th>\n",
       "      <th>stn_pressure_2</th>\n",
       "      <th>sea_level_2</th>\n",
       "      <th>result_dir_2</th>\n",
       "      <th>avg_speed_2</th>\n",
       "      <th>year</th>\n",
       "      <th>month</th>\n",
       "      <th>week_of_year</th>\n",
       "    </tr>\n",
       "  </thead>\n",
       "  <tbody>\n",
       "    <tr>\n",
       "      <th>0</th>\n",
       "      <td>2008-06-11</td>\n",
       "      <td>CULEX PIPIENS/RESTUANS</td>\n",
       "      <td>T002</td>\n",
       "      <td>41.95469</td>\n",
       "      <td>-87.800991</td>\n",
       "      <td>74</td>\n",
       "      <td>56</td>\n",
       "      <td>0.0</td>\n",
       "      <td>29.28</td>\n",
       "      <td>29.99</td>\n",
       "      <td>...</td>\n",
       "      <td>76</td>\n",
       "      <td>55</td>\n",
       "      <td>0.0</td>\n",
       "      <td>29.34</td>\n",
       "      <td>29.97</td>\n",
       "      <td>18</td>\n",
       "      <td>10.4</td>\n",
       "      <td>2008</td>\n",
       "      <td>6</td>\n",
       "      <td>24</td>\n",
       "    </tr>\n",
       "    <tr>\n",
       "      <th>1</th>\n",
       "      <td>2008-06-11</td>\n",
       "      <td>CULEX RESTUANS</td>\n",
       "      <td>T002</td>\n",
       "      <td>41.95469</td>\n",
       "      <td>-87.800991</td>\n",
       "      <td>74</td>\n",
       "      <td>56</td>\n",
       "      <td>0.0</td>\n",
       "      <td>29.28</td>\n",
       "      <td>29.99</td>\n",
       "      <td>...</td>\n",
       "      <td>76</td>\n",
       "      <td>55</td>\n",
       "      <td>0.0</td>\n",
       "      <td>29.34</td>\n",
       "      <td>29.97</td>\n",
       "      <td>18</td>\n",
       "      <td>10.4</td>\n",
       "      <td>2008</td>\n",
       "      <td>6</td>\n",
       "      <td>24</td>\n",
       "    </tr>\n",
       "    <tr>\n",
       "      <th>2</th>\n",
       "      <td>2008-06-11</td>\n",
       "      <td>CULEX PIPIENS</td>\n",
       "      <td>T002</td>\n",
       "      <td>41.95469</td>\n",
       "      <td>-87.800991</td>\n",
       "      <td>74</td>\n",
       "      <td>56</td>\n",
       "      <td>0.0</td>\n",
       "      <td>29.28</td>\n",
       "      <td>29.99</td>\n",
       "      <td>...</td>\n",
       "      <td>76</td>\n",
       "      <td>55</td>\n",
       "      <td>0.0</td>\n",
       "      <td>29.34</td>\n",
       "      <td>29.97</td>\n",
       "      <td>18</td>\n",
       "      <td>10.4</td>\n",
       "      <td>2008</td>\n",
       "      <td>6</td>\n",
       "      <td>24</td>\n",
       "    </tr>\n",
       "    <tr>\n",
       "      <th>3</th>\n",
       "      <td>2008-06-11</td>\n",
       "      <td>CULEX SALINARIUS</td>\n",
       "      <td>T002</td>\n",
       "      <td>41.95469</td>\n",
       "      <td>-87.800991</td>\n",
       "      <td>74</td>\n",
       "      <td>56</td>\n",
       "      <td>0.0</td>\n",
       "      <td>29.28</td>\n",
       "      <td>29.99</td>\n",
       "      <td>...</td>\n",
       "      <td>76</td>\n",
       "      <td>55</td>\n",
       "      <td>0.0</td>\n",
       "      <td>29.34</td>\n",
       "      <td>29.97</td>\n",
       "      <td>18</td>\n",
       "      <td>10.4</td>\n",
       "      <td>2008</td>\n",
       "      <td>6</td>\n",
       "      <td>24</td>\n",
       "    </tr>\n",
       "    <tr>\n",
       "      <th>4</th>\n",
       "      <td>2008-06-11</td>\n",
       "      <td>CULEX TERRITANS</td>\n",
       "      <td>T002</td>\n",
       "      <td>41.95469</td>\n",
       "      <td>-87.800991</td>\n",
       "      <td>74</td>\n",
       "      <td>56</td>\n",
       "      <td>0.0</td>\n",
       "      <td>29.28</td>\n",
       "      <td>29.99</td>\n",
       "      <td>...</td>\n",
       "      <td>76</td>\n",
       "      <td>55</td>\n",
       "      <td>0.0</td>\n",
       "      <td>29.34</td>\n",
       "      <td>29.97</td>\n",
       "      <td>18</td>\n",
       "      <td>10.4</td>\n",
       "      <td>2008</td>\n",
       "      <td>6</td>\n",
       "      <td>24</td>\n",
       "    </tr>\n",
       "  </tbody>\n",
       "</table>\n",
       "<p>5 rows × 22 columns</p>\n",
       "</div>"
      ],
      "text/plain": [
       "        date                 species  trap  latitude  longitude  tavg_1  \\\n",
       "0 2008-06-11  CULEX PIPIENS/RESTUANS  T002  41.95469 -87.800991      74   \n",
       "1 2008-06-11          CULEX RESTUANS  T002  41.95469 -87.800991      74   \n",
       "2 2008-06-11           CULEX PIPIENS  T002  41.95469 -87.800991      74   \n",
       "3 2008-06-11        CULEX SALINARIUS  T002  41.95469 -87.800991      74   \n",
       "4 2008-06-11         CULEX TERRITANS  T002  41.95469 -87.800991      74   \n",
       "\n",
       "   dew_point_1  precip_total_1 stn_pressure_1 sea_level_1  ...  tavg_2  \\\n",
       "0           56             0.0          29.28       29.99  ...      76   \n",
       "1           56             0.0          29.28       29.99  ...      76   \n",
       "2           56             0.0          29.28       29.99  ...      76   \n",
       "3           56             0.0          29.28       29.99  ...      76   \n",
       "4           56             0.0          29.28       29.99  ...      76   \n",
       "\n",
       "   dew_point_2  precip_total_2  stn_pressure_2  sea_level_2 result_dir_2  \\\n",
       "0           55             0.0           29.34        29.97           18   \n",
       "1           55             0.0           29.34        29.97           18   \n",
       "2           55             0.0           29.34        29.97           18   \n",
       "3           55             0.0           29.34        29.97           18   \n",
       "4           55             0.0           29.34        29.97           18   \n",
       "\n",
       "  avg_speed_2  year  month  week_of_year  \n",
       "0        10.4  2008      6            24  \n",
       "1        10.4  2008      6            24  \n",
       "2        10.4  2008      6            24  \n",
       "3        10.4  2008      6            24  \n",
       "4        10.4  2008      6            24  \n",
       "\n",
       "[5 rows x 22 columns]"
      ]
     },
     "execution_count": 121,
     "metadata": {},
     "output_type": "execute_result"
    }
   ],
   "source": [
    "test.head()"
   ]
  },
  {
   "cell_type": "code",
   "execution_count": 122,
   "metadata": {
    "ExecuteTime": {
     "end_time": "2022-01-31T03:49:10.215627Z",
     "start_time": "2022-01-31T03:49:10.197640Z"
    }
   },
   "outputs": [
    {
     "data": {
      "text/plain": [
       "Index(['date', 'species', 'trap', 'latitude', 'longitude', 'tavg_1',\n",
       "       'dew_point_1', 'precip_total_1', 'stn_pressure_1', 'sea_level_1',\n",
       "       'result_dir_1', 'avg_speed_1', 'tavg_2', 'dew_point_2',\n",
       "       'precip_total_2', 'stn_pressure_2', 'sea_level_2', 'result_dir_2',\n",
       "       'avg_speed_2', 'year', 'month', 'week_of_year'],\n",
       "      dtype='object')"
      ]
     },
     "execution_count": 122,
     "metadata": {},
     "output_type": "execute_result"
    }
   ],
   "source": [
    "test.columns"
   ]
  },
  {
   "cell_type": "code",
   "execution_count": 156,
   "metadata": {
    "ExecuteTime": {
     "end_time": "2022-01-31T09:20:51.682401Z",
     "start_time": "2022-01-31T09:20:51.449025Z"
    }
   },
   "outputs": [
    {
     "data": {
      "text/plain": [
       "array([0, 0, 0, ..., 0, 0, 0])"
      ]
     },
     "execution_count": 156,
     "metadata": {},
     "output_type": "execute_result"
    }
   ],
   "source": [
    "kaggle_pred = xgb.predict(test)\n",
    "kaggle_pred"
   ]
  },
  {
   "cell_type": "code",
   "execution_count": 157,
   "metadata": {
    "ExecuteTime": {
     "end_time": "2022-01-31T09:20:55.929372Z",
     "start_time": "2022-01-31T09:20:55.770021Z"
    }
   },
   "outputs": [],
   "source": [
    "# Reimport test dataset for ID Column\n",
    "kaggle_df = pd.read_csv('data/test.csv')\n",
    "kaggle_df = kaggle_df[['Id']]"
   ]
  },
  {
   "cell_type": "code",
   "execution_count": 158,
   "metadata": {
    "ExecuteTime": {
     "end_time": "2022-01-31T09:20:57.212028Z",
     "start_time": "2022-01-31T09:20:57.206044Z"
    }
   },
   "outputs": [],
   "source": [
    "kaggle_df['WnvPresent'] = kaggle_pred"
   ]
  },
  {
   "cell_type": "code",
   "execution_count": 159,
   "metadata": {
    "ExecuteTime": {
     "end_time": "2022-01-31T09:20:58.437325Z",
     "start_time": "2022-01-31T09:20:58.429347Z"
    }
   },
   "outputs": [
    {
     "data": {
      "text/plain": [
       "0    108546\n",
       "1      7747\n",
       "Name: WnvPresent, dtype: int64"
      ]
     },
     "execution_count": 159,
     "metadata": {},
     "output_type": "execute_result"
    }
   ],
   "source": [
    "kaggle_df['WnvPresent'].value_counts()"
   ]
  },
  {
   "cell_type": "code",
   "execution_count": 160,
   "metadata": {
    "ExecuteTime": {
     "end_time": "2022-01-31T09:21:02.861154Z",
     "start_time": "2022-01-31T09:21:02.761089Z"
    }
   },
   "outputs": [],
   "source": [
    "kaggle_df.to_csv('data/kaggle_df.csv', index = False)"
   ]
  },
  {
   "cell_type": "markdown",
   "metadata": {
    "id": "iX4wWGkbsNaH"
   },
   "source": [
    "# Conclusion"
   ]
  },
  {
   "cell_type": "markdown",
   "metadata": {
    "id": "Zh7sDe7qsRhn"
   },
   "source": []
  }
 ],
 "metadata": {
  "colab": {
   "collapsed_sections": [],
   "name": "GA Project 4.ipynb",
   "provenance": [],
   "toc_visible": true
  },
  "kernelspec": {
   "display_name": "Python 3",
   "language": "python",
   "name": "python3"
  },
  "language_info": {
   "codemirror_mode": {
    "name": "ipython",
    "version": 3
   },
   "file_extension": ".py",
   "mimetype": "text/x-python",
   "name": "python",
   "nbconvert_exporter": "python",
   "pygments_lexer": "ipython3",
   "version": "3.8.8"
  },
  "toc": {
   "base_numbering": 1,
   "nav_menu": {},
   "number_sections": false,
   "sideBar": true,
   "skip_h1_title": false,
   "title_cell": "Table of Contents",
   "title_sidebar": "Contents",
   "toc_cell": false,
   "toc_position": {
    "height": "calc(100% - 180px)",
    "left": "10px",
    "top": "150px",
    "width": "406.225px"
   },
   "toc_section_display": true,
   "toc_window_display": true
  }
 },
 "nbformat": 4,
 "nbformat_minor": 4
}
