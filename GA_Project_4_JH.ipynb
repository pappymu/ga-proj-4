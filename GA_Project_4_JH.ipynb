{
 "cells": [
  {
   "cell_type": "markdown",
   "metadata": {
    "id": "2N9RHJ8foS8n"
   },
   "source": [
    "# GA Project 4: West Nile virus\n",
    "by: Nicholas Lim, Kwek Jun Hong, Malcolm Lau\n",
    "***\n",
    "\n",
    "[workflow gsheet](https://docs.google.com/spreadsheets/d/1-xSVNsQZX-uWmbI-ublY9yNhlsWAwXqziErKFpnPgpg/edit?usp=sharing)"
   ]
  },
  {
   "cell_type": "markdown",
   "metadata": {
    "id": "HbeW-JbtqKN7"
   },
   "source": [
    "# Background\n",
    "***\n",
    "The city of Chicago has been having to deal with seasonal upticks of incidences of the West Nile virus, and it is becoming a health hazard. We have been tasked by the Chicago Department of Public Health to come up with a predictive model to identify locations where mosquitoes would have a higher chance of carrying the disease, so that resources can be effectively allocated to stop its spread.\n",
    "\n",
    "One of the more efficient ways to prevent the disease would be to spray Zenivex, a pesticide, and by identifying the potential hotspots we can find an effective balance between preventability and cost. To this end, we will be examining the [West Nile Virus dataset](www.kaggle.com/c/predict-west-nile-virus/data) to train a model which can effectively predict the prevalence of the virus in certain areas.\n",
    "\n"
   ]
  },
  {
   "cell_type": "markdown",
   "metadata": {
    "id": "Xnt4uGqkqMU7"
   },
   "source": [
    "# Problem Statement\n",
    "***\n",
    "To train a model which can predict the prevalence of the West Nile virus amongst mosquitoes within the Chicago city area, and to run a cost-benefit analysis to determine the most effective way to apply pesticides."
   ]
  },
  {
   "cell_type": "markdown",
   "metadata": {
    "id": "pBNKkV3h9CqU"
   },
   "source": [
    "# Imports"
   ]
  },
  {
   "cell_type": "code",
   "execution_count": 121,
   "metadata": {
    "ExecuteTime": {
     "end_time": "2022-02-01T14:55:57.708060Z",
     "start_time": "2022-02-01T14:55:57.694100Z"
    },
    "id": "4Z--CRVh9FBU"
   },
   "outputs": [],
   "source": [
    "# fabulous four\n",
    "import numpy as np\n",
    "import pandas as pd\n",
    "import matplotlib.pyplot as plt\n",
    "import seaborn as sns\n",
    "\n",
    "import re\n",
    "import datetime as dt\n",
    "import warnings\n",
    "\n",
    "warnings.filterwarnings('ignore')\n",
    "\n",
    "\n",
    "# Machine Learning Libraries\n",
    "from sklearn.model_selection import train_test_split , GridSearchCV\n",
    "from sklearn.metrics import f1_score , recall_score , accuracy_score , precision_score , roc_auc_score , confusion_matrix , plot_roc_curve\n",
    "from sklearn.ensemble import RandomForestClassifier , GradientBoostingClassifier\n",
    "from xgboost import XGBClassifier\n",
    "from sklearn.linear_model import LogisticRegression\n",
    "from sklearn.naive_bayes import BernoulliNB\n",
    "from sklearn.pipeline import Pipeline\n",
    "from sklearn.preprocessing import StandardScaler\n",
    "from imblearn.over_sampling import SMOTE\n",
    "from imblearn.pipeline import Pipeline as imblearnpipe\n",
    "from sklearn.compose import ColumnTransformer\n",
    "from sklearn.preprocessing import OneHotEncoder"
   ]
  },
  {
   "cell_type": "markdown",
   "metadata": {
    "id": "ZFrxlDZd85yu"
   },
   "source": [
    "# Load Data"
   ]
  },
  {
   "cell_type": "markdown",
   "metadata": {
    "id": "WbXXoH5YJDfH"
   },
   "source": [
    "We can start by cleaning up the column names. We can create a function to clean them at one go. This function will\n",
    "1. remove whitespaces at the front and end\n",
    "2. change whitespaces in the middle to `_`\n",
    "3. change capitals to lowercase"
   ]
  },
  {
   "cell_type": "code",
   "execution_count": 122,
   "metadata": {
    "ExecuteTime": {
     "end_time": "2022-02-01T14:55:57.723020Z",
     "start_time": "2022-02-01T14:55:57.709086Z"
    },
    "id": "d_bL6tfRBMCI"
   },
   "outputs": [],
   "source": [
    "def pythonic_cols(df):\n",
    "  new_cols = [re.sub(r'(?<!^)(?=[A-Z])', '_', name).strip().lower() for name in df.columns]\n",
    "  df.columns = new_cols"
   ]
  },
  {
   "cell_type": "code",
   "execution_count": 123,
   "metadata": {
    "ExecuteTime": {
     "end_time": "2022-02-01T14:55:57.754970Z",
     "start_time": "2022-02-01T14:55:57.725016Z"
    },
    "colab": {
     "base_uri": "https://localhost:8080/",
     "height": 206
    },
    "id": "caiqLYuTJOBx",
    "outputId": "d6a330ee-1a98-47cc-aa02-3b4b0f7f60d5"
   },
   "outputs": [
    {
     "data": {
      "text/html": [
       "<div>\n",
       "<style scoped>\n",
       "    .dataframe tbody tr th:only-of-type {\n",
       "        vertical-align: middle;\n",
       "    }\n",
       "\n",
       "    .dataframe tbody tr th {\n",
       "        vertical-align: top;\n",
       "    }\n",
       "\n",
       "    .dataframe thead th {\n",
       "        text-align: right;\n",
       "    }\n",
       "</style>\n",
       "<table border=\"1\" class=\"dataframe\">\n",
       "  <thead>\n",
       "    <tr style=\"text-align: right;\">\n",
       "      <th></th>\n",
       "      <th>date</th>\n",
       "      <th>address</th>\n",
       "      <th>species</th>\n",
       "      <th>block</th>\n",
       "      <th>street</th>\n",
       "      <th>trap</th>\n",
       "      <th>address_number_and_street</th>\n",
       "      <th>latitude</th>\n",
       "      <th>longitude</th>\n",
       "      <th>address_accuracy</th>\n",
       "      <th>num_mosquitos</th>\n",
       "      <th>wnv_present</th>\n",
       "    </tr>\n",
       "  </thead>\n",
       "  <tbody>\n",
       "    <tr>\n",
       "      <th>0</th>\n",
       "      <td>2007-05-29</td>\n",
       "      <td>4100 North Oak Park Avenue, Chicago, IL 60634,...</td>\n",
       "      <td>CULEX PIPIENS/RESTUANS</td>\n",
       "      <td>41</td>\n",
       "      <td>N OAK PARK AVE</td>\n",
       "      <td>T002</td>\n",
       "      <td>4100  N OAK PARK AVE, Chicago, IL</td>\n",
       "      <td>41.954690</td>\n",
       "      <td>-87.800991</td>\n",
       "      <td>9</td>\n",
       "      <td>1</td>\n",
       "      <td>0</td>\n",
       "    </tr>\n",
       "    <tr>\n",
       "      <th>1</th>\n",
       "      <td>2007-05-29</td>\n",
       "      <td>4100 North Oak Park Avenue, Chicago, IL 60634,...</td>\n",
       "      <td>CULEX RESTUANS</td>\n",
       "      <td>41</td>\n",
       "      <td>N OAK PARK AVE</td>\n",
       "      <td>T002</td>\n",
       "      <td>4100  N OAK PARK AVE, Chicago, IL</td>\n",
       "      <td>41.954690</td>\n",
       "      <td>-87.800991</td>\n",
       "      <td>9</td>\n",
       "      <td>1</td>\n",
       "      <td>0</td>\n",
       "    </tr>\n",
       "    <tr>\n",
       "      <th>2</th>\n",
       "      <td>2007-05-29</td>\n",
       "      <td>6200 North Mandell Avenue, Chicago, IL 60646, USA</td>\n",
       "      <td>CULEX RESTUANS</td>\n",
       "      <td>62</td>\n",
       "      <td>N MANDELL AVE</td>\n",
       "      <td>T007</td>\n",
       "      <td>6200  N MANDELL AVE, Chicago, IL</td>\n",
       "      <td>41.994991</td>\n",
       "      <td>-87.769279</td>\n",
       "      <td>9</td>\n",
       "      <td>1</td>\n",
       "      <td>0</td>\n",
       "    </tr>\n",
       "    <tr>\n",
       "      <th>3</th>\n",
       "      <td>2007-05-29</td>\n",
       "      <td>7900 West Foster Avenue, Chicago, IL 60656, USA</td>\n",
       "      <td>CULEX PIPIENS/RESTUANS</td>\n",
       "      <td>79</td>\n",
       "      <td>W FOSTER AVE</td>\n",
       "      <td>T015</td>\n",
       "      <td>7900  W FOSTER AVE, Chicago, IL</td>\n",
       "      <td>41.974089</td>\n",
       "      <td>-87.824812</td>\n",
       "      <td>8</td>\n",
       "      <td>1</td>\n",
       "      <td>0</td>\n",
       "    </tr>\n",
       "    <tr>\n",
       "      <th>4</th>\n",
       "      <td>2007-05-29</td>\n",
       "      <td>7900 West Foster Avenue, Chicago, IL 60656, USA</td>\n",
       "      <td>CULEX RESTUANS</td>\n",
       "      <td>79</td>\n",
       "      <td>W FOSTER AVE</td>\n",
       "      <td>T015</td>\n",
       "      <td>7900  W FOSTER AVE, Chicago, IL</td>\n",
       "      <td>41.974089</td>\n",
       "      <td>-87.824812</td>\n",
       "      <td>8</td>\n",
       "      <td>4</td>\n",
       "      <td>0</td>\n",
       "    </tr>\n",
       "  </tbody>\n",
       "</table>\n",
       "</div>"
      ],
      "text/plain": [
       "         date                                            address  \\\n",
       "0  2007-05-29  4100 North Oak Park Avenue, Chicago, IL 60634,...   \n",
       "1  2007-05-29  4100 North Oak Park Avenue, Chicago, IL 60634,...   \n",
       "2  2007-05-29  6200 North Mandell Avenue, Chicago, IL 60646, USA   \n",
       "3  2007-05-29    7900 West Foster Avenue, Chicago, IL 60656, USA   \n",
       "4  2007-05-29    7900 West Foster Avenue, Chicago, IL 60656, USA   \n",
       "\n",
       "                  species  block           street  trap  \\\n",
       "0  CULEX PIPIENS/RESTUANS     41   N OAK PARK AVE  T002   \n",
       "1          CULEX RESTUANS     41   N OAK PARK AVE  T002   \n",
       "2          CULEX RESTUANS     62    N MANDELL AVE  T007   \n",
       "3  CULEX PIPIENS/RESTUANS     79     W FOSTER AVE  T015   \n",
       "4          CULEX RESTUANS     79     W FOSTER AVE  T015   \n",
       "\n",
       "           address_number_and_street   latitude  longitude  address_accuracy  \\\n",
       "0  4100  N OAK PARK AVE, Chicago, IL  41.954690 -87.800991                 9   \n",
       "1  4100  N OAK PARK AVE, Chicago, IL  41.954690 -87.800991                 9   \n",
       "2   6200  N MANDELL AVE, Chicago, IL  41.994991 -87.769279                 9   \n",
       "3    7900  W FOSTER AVE, Chicago, IL  41.974089 -87.824812                 8   \n",
       "4    7900  W FOSTER AVE, Chicago, IL  41.974089 -87.824812                 8   \n",
       "\n",
       "   num_mosquitos  wnv_present  \n",
       "0              1            0  \n",
       "1              1            0  \n",
       "2              1            0  \n",
       "3              1            0  \n",
       "4              4            0  "
      ]
     },
     "execution_count": 123,
     "metadata": {},
     "output_type": "execute_result"
    }
   ],
   "source": [
    "train = pd.read_csv('data/train.csv')\n",
    "pythonic_cols(train)\n",
    "train.head()"
   ]
  },
  {
   "cell_type": "code",
   "execution_count": 124,
   "metadata": {
    "ExecuteTime": {
     "end_time": "2022-02-01T14:55:57.800812Z",
     "start_time": "2022-02-01T14:55:57.756965Z"
    },
    "colab": {
     "base_uri": "https://localhost:8080/",
     "height": 424
    },
    "id": "EJLPKdz79zI6",
    "outputId": "299fd3e3-facb-4e65-da9a-05ac0562bc46",
    "tags": []
   },
   "outputs": [
    {
     "data": {
      "text/html": [
       "<div>\n",
       "<style scoped>\n",
       "    .dataframe tbody tr th:only-of-type {\n",
       "        vertical-align: middle;\n",
       "    }\n",
       "\n",
       "    .dataframe tbody tr th {\n",
       "        vertical-align: top;\n",
       "    }\n",
       "\n",
       "    .dataframe thead th {\n",
       "        text-align: right;\n",
       "    }\n",
       "</style>\n",
       "<table border=\"1\" class=\"dataframe\">\n",
       "  <thead>\n",
       "    <tr style=\"text-align: right;\">\n",
       "      <th></th>\n",
       "      <th>station</th>\n",
       "      <th>date</th>\n",
       "      <th>tmax</th>\n",
       "      <th>tmin</th>\n",
       "      <th>tavg</th>\n",
       "      <th>depart</th>\n",
       "      <th>dew_point</th>\n",
       "      <th>wet_bulb</th>\n",
       "      <th>heat</th>\n",
       "      <th>cool</th>\n",
       "      <th>...</th>\n",
       "      <th>code_sum</th>\n",
       "      <th>depth</th>\n",
       "      <th>water1</th>\n",
       "      <th>snow_fall</th>\n",
       "      <th>precip_total</th>\n",
       "      <th>stn_pressure</th>\n",
       "      <th>sea_level</th>\n",
       "      <th>result_speed</th>\n",
       "      <th>result_dir</th>\n",
       "      <th>avg_speed</th>\n",
       "    </tr>\n",
       "  </thead>\n",
       "  <tbody>\n",
       "    <tr>\n",
       "      <th>0</th>\n",
       "      <td>1</td>\n",
       "      <td>2007-05-01</td>\n",
       "      <td>83</td>\n",
       "      <td>50</td>\n",
       "      <td>67</td>\n",
       "      <td>14</td>\n",
       "      <td>51</td>\n",
       "      <td>56</td>\n",
       "      <td>0</td>\n",
       "      <td>2</td>\n",
       "      <td>...</td>\n",
       "      <td></td>\n",
       "      <td>0</td>\n",
       "      <td>M</td>\n",
       "      <td>0.0</td>\n",
       "      <td>0.00</td>\n",
       "      <td>29.10</td>\n",
       "      <td>29.82</td>\n",
       "      <td>1.7</td>\n",
       "      <td>27</td>\n",
       "      <td>9.2</td>\n",
       "    </tr>\n",
       "    <tr>\n",
       "      <th>1</th>\n",
       "      <td>2</td>\n",
       "      <td>2007-05-01</td>\n",
       "      <td>84</td>\n",
       "      <td>52</td>\n",
       "      <td>68</td>\n",
       "      <td>M</td>\n",
       "      <td>51</td>\n",
       "      <td>57</td>\n",
       "      <td>0</td>\n",
       "      <td>3</td>\n",
       "      <td>...</td>\n",
       "      <td></td>\n",
       "      <td>M</td>\n",
       "      <td>M</td>\n",
       "      <td>M</td>\n",
       "      <td>0.00</td>\n",
       "      <td>29.18</td>\n",
       "      <td>29.82</td>\n",
       "      <td>2.7</td>\n",
       "      <td>25</td>\n",
       "      <td>9.6</td>\n",
       "    </tr>\n",
       "    <tr>\n",
       "      <th>2</th>\n",
       "      <td>1</td>\n",
       "      <td>2007-05-02</td>\n",
       "      <td>59</td>\n",
       "      <td>42</td>\n",
       "      <td>51</td>\n",
       "      <td>-3</td>\n",
       "      <td>42</td>\n",
       "      <td>47</td>\n",
       "      <td>14</td>\n",
       "      <td>0</td>\n",
       "      <td>...</td>\n",
       "      <td>BR</td>\n",
       "      <td>0</td>\n",
       "      <td>M</td>\n",
       "      <td>0.0</td>\n",
       "      <td>0.00</td>\n",
       "      <td>29.38</td>\n",
       "      <td>30.09</td>\n",
       "      <td>13.0</td>\n",
       "      <td>4</td>\n",
       "      <td>13.4</td>\n",
       "    </tr>\n",
       "    <tr>\n",
       "      <th>3</th>\n",
       "      <td>2</td>\n",
       "      <td>2007-05-02</td>\n",
       "      <td>60</td>\n",
       "      <td>43</td>\n",
       "      <td>52</td>\n",
       "      <td>M</td>\n",
       "      <td>42</td>\n",
       "      <td>47</td>\n",
       "      <td>13</td>\n",
       "      <td>0</td>\n",
       "      <td>...</td>\n",
       "      <td>BR HZ</td>\n",
       "      <td>M</td>\n",
       "      <td>M</td>\n",
       "      <td>M</td>\n",
       "      <td>0.00</td>\n",
       "      <td>29.44</td>\n",
       "      <td>30.08</td>\n",
       "      <td>13.3</td>\n",
       "      <td>2</td>\n",
       "      <td>13.4</td>\n",
       "    </tr>\n",
       "    <tr>\n",
       "      <th>4</th>\n",
       "      <td>1</td>\n",
       "      <td>2007-05-03</td>\n",
       "      <td>66</td>\n",
       "      <td>46</td>\n",
       "      <td>56</td>\n",
       "      <td>2</td>\n",
       "      <td>40</td>\n",
       "      <td>48</td>\n",
       "      <td>9</td>\n",
       "      <td>0</td>\n",
       "      <td>...</td>\n",
       "      <td></td>\n",
       "      <td>0</td>\n",
       "      <td>M</td>\n",
       "      <td>0.0</td>\n",
       "      <td>0.00</td>\n",
       "      <td>29.39</td>\n",
       "      <td>30.12</td>\n",
       "      <td>11.7</td>\n",
       "      <td>7</td>\n",
       "      <td>11.9</td>\n",
       "    </tr>\n",
       "    <tr>\n",
       "      <th>...</th>\n",
       "      <td>...</td>\n",
       "      <td>...</td>\n",
       "      <td>...</td>\n",
       "      <td>...</td>\n",
       "      <td>...</td>\n",
       "      <td>...</td>\n",
       "      <td>...</td>\n",
       "      <td>...</td>\n",
       "      <td>...</td>\n",
       "      <td>...</td>\n",
       "      <td>...</td>\n",
       "      <td>...</td>\n",
       "      <td>...</td>\n",
       "      <td>...</td>\n",
       "      <td>...</td>\n",
       "      <td>...</td>\n",
       "      <td>...</td>\n",
       "      <td>...</td>\n",
       "      <td>...</td>\n",
       "      <td>...</td>\n",
       "      <td>...</td>\n",
       "    </tr>\n",
       "    <tr>\n",
       "      <th>2939</th>\n",
       "      <td>2</td>\n",
       "      <td>2014-10-29</td>\n",
       "      <td>49</td>\n",
       "      <td>40</td>\n",
       "      <td>45</td>\n",
       "      <td>M</td>\n",
       "      <td>34</td>\n",
       "      <td>42</td>\n",
       "      <td>20</td>\n",
       "      <td>0</td>\n",
       "      <td>...</td>\n",
       "      <td></td>\n",
       "      <td>M</td>\n",
       "      <td>M</td>\n",
       "      <td>M</td>\n",
       "      <td>0.00</td>\n",
       "      <td>29.42</td>\n",
       "      <td>30.07</td>\n",
       "      <td>8.5</td>\n",
       "      <td>29</td>\n",
       "      <td>9.0</td>\n",
       "    </tr>\n",
       "    <tr>\n",
       "      <th>2940</th>\n",
       "      <td>1</td>\n",
       "      <td>2014-10-30</td>\n",
       "      <td>51</td>\n",
       "      <td>32</td>\n",
       "      <td>42</td>\n",
       "      <td>-4</td>\n",
       "      <td>34</td>\n",
       "      <td>40</td>\n",
       "      <td>23</td>\n",
       "      <td>0</td>\n",
       "      <td>...</td>\n",
       "      <td></td>\n",
       "      <td>0</td>\n",
       "      <td>M</td>\n",
       "      <td>0.0</td>\n",
       "      <td>0.00</td>\n",
       "      <td>29.34</td>\n",
       "      <td>30.09</td>\n",
       "      <td>5.1</td>\n",
       "      <td>24</td>\n",
       "      <td>5.5</td>\n",
       "    </tr>\n",
       "    <tr>\n",
       "      <th>2941</th>\n",
       "      <td>2</td>\n",
       "      <td>2014-10-30</td>\n",
       "      <td>53</td>\n",
       "      <td>37</td>\n",
       "      <td>45</td>\n",
       "      <td>M</td>\n",
       "      <td>35</td>\n",
       "      <td>42</td>\n",
       "      <td>20</td>\n",
       "      <td>0</td>\n",
       "      <td>...</td>\n",
       "      <td>RA</td>\n",
       "      <td>M</td>\n",
       "      <td>M</td>\n",
       "      <td>M</td>\n",
       "      <td>T</td>\n",
       "      <td>29.41</td>\n",
       "      <td>30.10</td>\n",
       "      <td>5.9</td>\n",
       "      <td>23</td>\n",
       "      <td>6.5</td>\n",
       "    </tr>\n",
       "    <tr>\n",
       "      <th>2942</th>\n",
       "      <td>1</td>\n",
       "      <td>2014-10-31</td>\n",
       "      <td>47</td>\n",
       "      <td>33</td>\n",
       "      <td>40</td>\n",
       "      <td>-6</td>\n",
       "      <td>25</td>\n",
       "      <td>33</td>\n",
       "      <td>25</td>\n",
       "      <td>0</td>\n",
       "      <td>...</td>\n",
       "      <td>RA SN</td>\n",
       "      <td>0</td>\n",
       "      <td>M</td>\n",
       "      <td>0.1</td>\n",
       "      <td>0.03</td>\n",
       "      <td>29.49</td>\n",
       "      <td>30.20</td>\n",
       "      <td>22.6</td>\n",
       "      <td>34</td>\n",
       "      <td>22.9</td>\n",
       "    </tr>\n",
       "    <tr>\n",
       "      <th>2943</th>\n",
       "      <td>2</td>\n",
       "      <td>2014-10-31</td>\n",
       "      <td>49</td>\n",
       "      <td>34</td>\n",
       "      <td>42</td>\n",
       "      <td>M</td>\n",
       "      <td>29</td>\n",
       "      <td>36</td>\n",
       "      <td>23</td>\n",
       "      <td>0</td>\n",
       "      <td>...</td>\n",
       "      <td>RA SN BR</td>\n",
       "      <td>M</td>\n",
       "      <td>M</td>\n",
       "      <td>M</td>\n",
       "      <td>0.04</td>\n",
       "      <td>29.54</td>\n",
       "      <td>30.20</td>\n",
       "      <td>21.7</td>\n",
       "      <td>34</td>\n",
       "      <td>22.6</td>\n",
       "    </tr>\n",
       "  </tbody>\n",
       "</table>\n",
       "<p>2944 rows × 22 columns</p>\n",
       "</div>"
      ],
      "text/plain": [
       "      station        date  tmax  tmin tavg depart  dew_point wet_bulb heat  \\\n",
       "0           1  2007-05-01    83    50   67     14         51       56    0   \n",
       "1           2  2007-05-01    84    52   68      M         51       57    0   \n",
       "2           1  2007-05-02    59    42   51     -3         42       47   14   \n",
       "3           2  2007-05-02    60    43   52      M         42       47   13   \n",
       "4           1  2007-05-03    66    46   56      2         40       48    9   \n",
       "...       ...         ...   ...   ...  ...    ...        ...      ...  ...   \n",
       "2939        2  2014-10-29    49    40   45      M         34       42   20   \n",
       "2940        1  2014-10-30    51    32   42     -4         34       40   23   \n",
       "2941        2  2014-10-30    53    37   45      M         35       42   20   \n",
       "2942        1  2014-10-31    47    33   40     -6         25       33   25   \n",
       "2943        2  2014-10-31    49    34   42      M         29       36   23   \n",
       "\n",
       "     cool  ...  code_sum depth water1 snow_fall precip_total stn_pressure  \\\n",
       "0       2  ...               0      M       0.0         0.00        29.10   \n",
       "1       3  ...               M      M         M         0.00        29.18   \n",
       "2       0  ...        BR     0      M       0.0         0.00        29.38   \n",
       "3       0  ...     BR HZ     M      M         M         0.00        29.44   \n",
       "4       0  ...               0      M       0.0         0.00        29.39   \n",
       "...   ...  ...       ...   ...    ...       ...          ...          ...   \n",
       "2939    0  ...               M      M         M         0.00        29.42   \n",
       "2940    0  ...               0      M       0.0         0.00        29.34   \n",
       "2941    0  ...        RA     M      M         M            T        29.41   \n",
       "2942    0  ...     RA SN     0      M       0.1         0.03        29.49   \n",
       "2943    0  ...  RA SN BR     M      M         M         0.04        29.54   \n",
       "\n",
       "     sea_level result_speed result_dir  avg_speed  \n",
       "0        29.82          1.7         27        9.2  \n",
       "1        29.82          2.7         25        9.6  \n",
       "2        30.09         13.0          4       13.4  \n",
       "3        30.08         13.3          2       13.4  \n",
       "4        30.12         11.7          7       11.9  \n",
       "...        ...          ...        ...        ...  \n",
       "2939     30.07          8.5         29        9.0  \n",
       "2940     30.09          5.1         24        5.5  \n",
       "2941     30.10          5.9         23        6.5  \n",
       "2942     30.20         22.6         34       22.9  \n",
       "2943     30.20         21.7         34       22.6  \n",
       "\n",
       "[2944 rows x 22 columns]"
      ]
     },
     "execution_count": 124,
     "metadata": {},
     "output_type": "execute_result"
    }
   ],
   "source": [
    "weather = pd.read_csv('data/weather.csv')\n",
    "pythonic_cols(weather)\n",
    "weather"
   ]
  },
  {
   "cell_type": "code",
   "execution_count": 125,
   "metadata": {
    "ExecuteTime": {
     "end_time": "2022-02-01T14:55:57.831764Z",
     "start_time": "2022-02-01T14:55:57.801811Z"
    },
    "colab": {
     "base_uri": "https://localhost:8080/",
     "height": 206
    },
    "id": "St_yvbAZ96hk",
    "outputId": "bfac411a-0ceb-4f66-97db-c816fec33d1c"
   },
   "outputs": [
    {
     "data": {
      "text/html": [
       "<div>\n",
       "<style scoped>\n",
       "    .dataframe tbody tr th:only-of-type {\n",
       "        vertical-align: middle;\n",
       "    }\n",
       "\n",
       "    .dataframe tbody tr th {\n",
       "        vertical-align: top;\n",
       "    }\n",
       "\n",
       "    .dataframe thead th {\n",
       "        text-align: right;\n",
       "    }\n",
       "</style>\n",
       "<table border=\"1\" class=\"dataframe\">\n",
       "  <thead>\n",
       "    <tr style=\"text-align: right;\">\n",
       "      <th></th>\n",
       "      <th>date</th>\n",
       "      <th>time</th>\n",
       "      <th>latitude</th>\n",
       "      <th>longitude</th>\n",
       "    </tr>\n",
       "  </thead>\n",
       "  <tbody>\n",
       "    <tr>\n",
       "      <th>0</th>\n",
       "      <td>2011-08-29</td>\n",
       "      <td>6:56:58 PM</td>\n",
       "      <td>42.391623</td>\n",
       "      <td>-88.089163</td>\n",
       "    </tr>\n",
       "    <tr>\n",
       "      <th>1</th>\n",
       "      <td>2011-08-29</td>\n",
       "      <td>6:57:08 PM</td>\n",
       "      <td>42.391348</td>\n",
       "      <td>-88.089163</td>\n",
       "    </tr>\n",
       "    <tr>\n",
       "      <th>2</th>\n",
       "      <td>2011-08-29</td>\n",
       "      <td>6:57:18 PM</td>\n",
       "      <td>42.391022</td>\n",
       "      <td>-88.089157</td>\n",
       "    </tr>\n",
       "    <tr>\n",
       "      <th>3</th>\n",
       "      <td>2011-08-29</td>\n",
       "      <td>6:57:28 PM</td>\n",
       "      <td>42.390637</td>\n",
       "      <td>-88.089158</td>\n",
       "    </tr>\n",
       "    <tr>\n",
       "      <th>4</th>\n",
       "      <td>2011-08-29</td>\n",
       "      <td>6:57:38 PM</td>\n",
       "      <td>42.390410</td>\n",
       "      <td>-88.088858</td>\n",
       "    </tr>\n",
       "  </tbody>\n",
       "</table>\n",
       "</div>"
      ],
      "text/plain": [
       "         date        time   latitude  longitude\n",
       "0  2011-08-29  6:56:58 PM  42.391623 -88.089163\n",
       "1  2011-08-29  6:57:08 PM  42.391348 -88.089163\n",
       "2  2011-08-29  6:57:18 PM  42.391022 -88.089157\n",
       "3  2011-08-29  6:57:28 PM  42.390637 -88.089158\n",
       "4  2011-08-29  6:57:38 PM  42.390410 -88.088858"
      ]
     },
     "execution_count": 125,
     "metadata": {},
     "output_type": "execute_result"
    }
   ],
   "source": [
    "spray = pd.read_csv('data/spray.csv')\n",
    "pythonic_cols(spray)\n",
    "spray.head()"
   ]
  },
  {
   "cell_type": "code",
   "execution_count": 126,
   "metadata": {
    "ExecuteTime": {
     "end_time": "2022-02-01T14:55:58.049183Z",
     "start_time": "2022-02-01T14:55:57.832766Z"
    },
    "colab": {
     "base_uri": "https://localhost:8080/"
    },
    "id": "u93lFijkRyLP",
    "outputId": "7f717e9c-cea8-4ac7-d4ce-648da79bc468"
   },
   "outputs": [
    {
     "data": {
      "text/html": [
       "<div>\n",
       "<style scoped>\n",
       "    .dataframe tbody tr th:only-of-type {\n",
       "        vertical-align: middle;\n",
       "    }\n",
       "\n",
       "    .dataframe tbody tr th {\n",
       "        vertical-align: top;\n",
       "    }\n",
       "\n",
       "    .dataframe thead th {\n",
       "        text-align: right;\n",
       "    }\n",
       "</style>\n",
       "<table border=\"1\" class=\"dataframe\">\n",
       "  <thead>\n",
       "    <tr style=\"text-align: right;\">\n",
       "      <th></th>\n",
       "      <th>id</th>\n",
       "      <th>date</th>\n",
       "      <th>address</th>\n",
       "      <th>species</th>\n",
       "      <th>block</th>\n",
       "      <th>street</th>\n",
       "      <th>trap</th>\n",
       "      <th>address_number_and_street</th>\n",
       "      <th>latitude</th>\n",
       "      <th>longitude</th>\n",
       "      <th>address_accuracy</th>\n",
       "    </tr>\n",
       "  </thead>\n",
       "  <tbody>\n",
       "    <tr>\n",
       "      <th>0</th>\n",
       "      <td>1</td>\n",
       "      <td>2008-06-11</td>\n",
       "      <td>4100 North Oak Park Avenue, Chicago, IL 60634,...</td>\n",
       "      <td>CULEX PIPIENS/RESTUANS</td>\n",
       "      <td>41</td>\n",
       "      <td>N OAK PARK AVE</td>\n",
       "      <td>T002</td>\n",
       "      <td>4100  N OAK PARK AVE, Chicago, IL</td>\n",
       "      <td>41.95469</td>\n",
       "      <td>-87.800991</td>\n",
       "      <td>9</td>\n",
       "    </tr>\n",
       "    <tr>\n",
       "      <th>1</th>\n",
       "      <td>2</td>\n",
       "      <td>2008-06-11</td>\n",
       "      <td>4100 North Oak Park Avenue, Chicago, IL 60634,...</td>\n",
       "      <td>CULEX RESTUANS</td>\n",
       "      <td>41</td>\n",
       "      <td>N OAK PARK AVE</td>\n",
       "      <td>T002</td>\n",
       "      <td>4100  N OAK PARK AVE, Chicago, IL</td>\n",
       "      <td>41.95469</td>\n",
       "      <td>-87.800991</td>\n",
       "      <td>9</td>\n",
       "    </tr>\n",
       "    <tr>\n",
       "      <th>2</th>\n",
       "      <td>3</td>\n",
       "      <td>2008-06-11</td>\n",
       "      <td>4100 North Oak Park Avenue, Chicago, IL 60634,...</td>\n",
       "      <td>CULEX PIPIENS</td>\n",
       "      <td>41</td>\n",
       "      <td>N OAK PARK AVE</td>\n",
       "      <td>T002</td>\n",
       "      <td>4100  N OAK PARK AVE, Chicago, IL</td>\n",
       "      <td>41.95469</td>\n",
       "      <td>-87.800991</td>\n",
       "      <td>9</td>\n",
       "    </tr>\n",
       "    <tr>\n",
       "      <th>3</th>\n",
       "      <td>4</td>\n",
       "      <td>2008-06-11</td>\n",
       "      <td>4100 North Oak Park Avenue, Chicago, IL 60634,...</td>\n",
       "      <td>CULEX SALINARIUS</td>\n",
       "      <td>41</td>\n",
       "      <td>N OAK PARK AVE</td>\n",
       "      <td>T002</td>\n",
       "      <td>4100  N OAK PARK AVE, Chicago, IL</td>\n",
       "      <td>41.95469</td>\n",
       "      <td>-87.800991</td>\n",
       "      <td>9</td>\n",
       "    </tr>\n",
       "    <tr>\n",
       "      <th>4</th>\n",
       "      <td>5</td>\n",
       "      <td>2008-06-11</td>\n",
       "      <td>4100 North Oak Park Avenue, Chicago, IL 60634,...</td>\n",
       "      <td>CULEX TERRITANS</td>\n",
       "      <td>41</td>\n",
       "      <td>N OAK PARK AVE</td>\n",
       "      <td>T002</td>\n",
       "      <td>4100  N OAK PARK AVE, Chicago, IL</td>\n",
       "      <td>41.95469</td>\n",
       "      <td>-87.800991</td>\n",
       "      <td>9</td>\n",
       "    </tr>\n",
       "  </tbody>\n",
       "</table>\n",
       "</div>"
      ],
      "text/plain": [
       "   id        date                                            address  \\\n",
       "0   1  2008-06-11  4100 North Oak Park Avenue, Chicago, IL 60634,...   \n",
       "1   2  2008-06-11  4100 North Oak Park Avenue, Chicago, IL 60634,...   \n",
       "2   3  2008-06-11  4100 North Oak Park Avenue, Chicago, IL 60634,...   \n",
       "3   4  2008-06-11  4100 North Oak Park Avenue, Chicago, IL 60634,...   \n",
       "4   5  2008-06-11  4100 North Oak Park Avenue, Chicago, IL 60634,...   \n",
       "\n",
       "                  species  block           street  trap  \\\n",
       "0  CULEX PIPIENS/RESTUANS     41   N OAK PARK AVE  T002   \n",
       "1          CULEX RESTUANS     41   N OAK PARK AVE  T002   \n",
       "2           CULEX PIPIENS     41   N OAK PARK AVE  T002   \n",
       "3        CULEX SALINARIUS     41   N OAK PARK AVE  T002   \n",
       "4         CULEX TERRITANS     41   N OAK PARK AVE  T002   \n",
       "\n",
       "           address_number_and_street  latitude  longitude  address_accuracy  \n",
       "0  4100  N OAK PARK AVE, Chicago, IL  41.95469 -87.800991                 9  \n",
       "1  4100  N OAK PARK AVE, Chicago, IL  41.95469 -87.800991                 9  \n",
       "2  4100  N OAK PARK AVE, Chicago, IL  41.95469 -87.800991                 9  \n",
       "3  4100  N OAK PARK AVE, Chicago, IL  41.95469 -87.800991                 9  \n",
       "4  4100  N OAK PARK AVE, Chicago, IL  41.95469 -87.800991                 9  "
      ]
     },
     "execution_count": 126,
     "metadata": {},
     "output_type": "execute_result"
    }
   ],
   "source": [
    "test = pd.read_csv('data/test.csv')\n",
    "pythonic_cols(test)\n",
    "test.head()"
   ]
  },
  {
   "cell_type": "markdown",
   "metadata": {},
   "source": [
    "# Dependent Variable\n",
    "\n",
    "Let's first take a look at the dependent variable. We can see that it is severely imbalanced, which would be a problem later."
   ]
  },
  {
   "cell_type": "code",
   "execution_count": 127,
   "metadata": {
    "ExecuteTime": {
     "end_time": "2022-02-01T14:55:58.064108Z",
     "start_time": "2022-02-01T14:55:58.050180Z"
    }
   },
   "outputs": [
    {
     "data": {
      "text/plain": [
       "0    0.947554\n",
       "1    0.052446\n",
       "Name: wnv_present, dtype: float64"
      ]
     },
     "execution_count": 127,
     "metadata": {},
     "output_type": "execute_result"
    }
   ],
   "source": [
    "train.wnv_present.value_counts(normalize=True)"
   ]
  },
  {
   "cell_type": "markdown",
   "metadata": {
    "id": "3mDzeeE8rubm"
   },
   "source": [
    "# Feature Selection\n",
    "\n",
    "We can choose the features that are relevant to our analysis from each dataset and combine them for easier data cleaning and analysis."
   ]
  },
  {
   "cell_type": "markdown",
   "metadata": {},
   "source": [
    "## `train`/`test` datasets"
   ]
  },
  {
   "cell_type": "code",
   "execution_count": 128,
   "metadata": {
    "ExecuteTime": {
     "end_time": "2022-02-01T14:55:58.080134Z",
     "start_time": "2022-02-01T14:55:58.066104Z"
    }
   },
   "outputs": [
    {
     "data": {
      "text/html": [
       "<div>\n",
       "<style scoped>\n",
       "    .dataframe tbody tr th:only-of-type {\n",
       "        vertical-align: middle;\n",
       "    }\n",
       "\n",
       "    .dataframe tbody tr th {\n",
       "        vertical-align: top;\n",
       "    }\n",
       "\n",
       "    .dataframe thead th {\n",
       "        text-align: right;\n",
       "    }\n",
       "</style>\n",
       "<table border=\"1\" class=\"dataframe\">\n",
       "  <thead>\n",
       "    <tr style=\"text-align: right;\">\n",
       "      <th></th>\n",
       "      <th>date</th>\n",
       "      <th>address</th>\n",
       "      <th>species</th>\n",
       "      <th>block</th>\n",
       "      <th>street</th>\n",
       "      <th>trap</th>\n",
       "      <th>address_number_and_street</th>\n",
       "      <th>latitude</th>\n",
       "      <th>longitude</th>\n",
       "      <th>address_accuracy</th>\n",
       "      <th>num_mosquitos</th>\n",
       "      <th>wnv_present</th>\n",
       "    </tr>\n",
       "  </thead>\n",
       "  <tbody>\n",
       "    <tr>\n",
       "      <th>0</th>\n",
       "      <td>2007-05-29</td>\n",
       "      <td>4100 North Oak Park Avenue, Chicago, IL 60634,...</td>\n",
       "      <td>CULEX PIPIENS/RESTUANS</td>\n",
       "      <td>41</td>\n",
       "      <td>N OAK PARK AVE</td>\n",
       "      <td>T002</td>\n",
       "      <td>4100  N OAK PARK AVE, Chicago, IL</td>\n",
       "      <td>41.954690</td>\n",
       "      <td>-87.800991</td>\n",
       "      <td>9</td>\n",
       "      <td>1</td>\n",
       "      <td>0</td>\n",
       "    </tr>\n",
       "    <tr>\n",
       "      <th>1</th>\n",
       "      <td>2007-05-29</td>\n",
       "      <td>4100 North Oak Park Avenue, Chicago, IL 60634,...</td>\n",
       "      <td>CULEX RESTUANS</td>\n",
       "      <td>41</td>\n",
       "      <td>N OAK PARK AVE</td>\n",
       "      <td>T002</td>\n",
       "      <td>4100  N OAK PARK AVE, Chicago, IL</td>\n",
       "      <td>41.954690</td>\n",
       "      <td>-87.800991</td>\n",
       "      <td>9</td>\n",
       "      <td>1</td>\n",
       "      <td>0</td>\n",
       "    </tr>\n",
       "    <tr>\n",
       "      <th>2</th>\n",
       "      <td>2007-05-29</td>\n",
       "      <td>6200 North Mandell Avenue, Chicago, IL 60646, USA</td>\n",
       "      <td>CULEX RESTUANS</td>\n",
       "      <td>62</td>\n",
       "      <td>N MANDELL AVE</td>\n",
       "      <td>T007</td>\n",
       "      <td>6200  N MANDELL AVE, Chicago, IL</td>\n",
       "      <td>41.994991</td>\n",
       "      <td>-87.769279</td>\n",
       "      <td>9</td>\n",
       "      <td>1</td>\n",
       "      <td>0</td>\n",
       "    </tr>\n",
       "    <tr>\n",
       "      <th>3</th>\n",
       "      <td>2007-05-29</td>\n",
       "      <td>7900 West Foster Avenue, Chicago, IL 60656, USA</td>\n",
       "      <td>CULEX PIPIENS/RESTUANS</td>\n",
       "      <td>79</td>\n",
       "      <td>W FOSTER AVE</td>\n",
       "      <td>T015</td>\n",
       "      <td>7900  W FOSTER AVE, Chicago, IL</td>\n",
       "      <td>41.974089</td>\n",
       "      <td>-87.824812</td>\n",
       "      <td>8</td>\n",
       "      <td>1</td>\n",
       "      <td>0</td>\n",
       "    </tr>\n",
       "    <tr>\n",
       "      <th>4</th>\n",
       "      <td>2007-05-29</td>\n",
       "      <td>7900 West Foster Avenue, Chicago, IL 60656, USA</td>\n",
       "      <td>CULEX RESTUANS</td>\n",
       "      <td>79</td>\n",
       "      <td>W FOSTER AVE</td>\n",
       "      <td>T015</td>\n",
       "      <td>7900  W FOSTER AVE, Chicago, IL</td>\n",
       "      <td>41.974089</td>\n",
       "      <td>-87.824812</td>\n",
       "      <td>8</td>\n",
       "      <td>4</td>\n",
       "      <td>0</td>\n",
       "    </tr>\n",
       "  </tbody>\n",
       "</table>\n",
       "</div>"
      ],
      "text/plain": [
       "         date                                            address  \\\n",
       "0  2007-05-29  4100 North Oak Park Avenue, Chicago, IL 60634,...   \n",
       "1  2007-05-29  4100 North Oak Park Avenue, Chicago, IL 60634,...   \n",
       "2  2007-05-29  6200 North Mandell Avenue, Chicago, IL 60646, USA   \n",
       "3  2007-05-29    7900 West Foster Avenue, Chicago, IL 60656, USA   \n",
       "4  2007-05-29    7900 West Foster Avenue, Chicago, IL 60656, USA   \n",
       "\n",
       "                  species  block           street  trap  \\\n",
       "0  CULEX PIPIENS/RESTUANS     41   N OAK PARK AVE  T002   \n",
       "1          CULEX RESTUANS     41   N OAK PARK AVE  T002   \n",
       "2          CULEX RESTUANS     62    N MANDELL AVE  T007   \n",
       "3  CULEX PIPIENS/RESTUANS     79     W FOSTER AVE  T015   \n",
       "4          CULEX RESTUANS     79     W FOSTER AVE  T015   \n",
       "\n",
       "           address_number_and_street   latitude  longitude  address_accuracy  \\\n",
       "0  4100  N OAK PARK AVE, Chicago, IL  41.954690 -87.800991                 9   \n",
       "1  4100  N OAK PARK AVE, Chicago, IL  41.954690 -87.800991                 9   \n",
       "2   6200  N MANDELL AVE, Chicago, IL  41.994991 -87.769279                 9   \n",
       "3    7900  W FOSTER AVE, Chicago, IL  41.974089 -87.824812                 8   \n",
       "4    7900  W FOSTER AVE, Chicago, IL  41.974089 -87.824812                 8   \n",
       "\n",
       "   num_mosquitos  wnv_present  \n",
       "0              1            0  \n",
       "1              1            0  \n",
       "2              1            0  \n",
       "3              1            0  \n",
       "4              4            0  "
      ]
     },
     "execution_count": 128,
     "metadata": {},
     "output_type": "execute_result"
    }
   ],
   "source": [
    "train.head()"
   ]
  },
  {
   "cell_type": "code",
   "execution_count": 129,
   "metadata": {
    "ExecuteTime": {
     "end_time": "2022-02-01T14:55:58.096054Z",
     "start_time": "2022-02-01T14:55:58.082061Z"
    }
   },
   "outputs": [
    {
     "name": "stdout",
     "output_type": "stream",
     "text": [
      "<class 'pandas.core.frame.DataFrame'>\n",
      "RangeIndex: 10506 entries, 0 to 10505\n",
      "Data columns (total 12 columns):\n",
      " #   Column                     Non-Null Count  Dtype  \n",
      "---  ------                     --------------  -----  \n",
      " 0   date                       10506 non-null  object \n",
      " 1   address                    10506 non-null  object \n",
      " 2   species                    10506 non-null  object \n",
      " 3   block                      10506 non-null  int64  \n",
      " 4   street                     10506 non-null  object \n",
      " 5   trap                       10506 non-null  object \n",
      " 6   address_number_and_street  10506 non-null  object \n",
      " 7   latitude                   10506 non-null  float64\n",
      " 8   longitude                  10506 non-null  float64\n",
      " 9   address_accuracy           10506 non-null  int64  \n",
      " 10  num_mosquitos              10506 non-null  int64  \n",
      " 11  wnv_present                10506 non-null  int64  \n",
      "dtypes: float64(2), int64(4), object(6)\n",
      "memory usage: 985.1+ KB\n"
     ]
    }
   ],
   "source": [
    "train.info()"
   ]
  },
  {
   "cell_type": "markdown",
   "metadata": {},
   "source": [
    "### Address Columns\n",
    "\n",
    "The address details are not as important to us because location information is sufficiently captured in the Lat/Long provided in the dataset. "
   ]
  },
  {
   "cell_type": "markdown",
   "metadata": {},
   "source": [
    "### `num_mosquitoes` column\n"
   ]
  },
  {
   "cell_type": "code",
   "execution_count": 130,
   "metadata": {
    "ExecuteTime": {
     "end_time": "2022-02-01T14:55:58.280528Z",
     "start_time": "2022-02-01T14:55:58.097020Z"
    }
   },
   "outputs": [
    {
     "name": "stdout",
     "output_type": "stream",
     "text": [
      "            num_mosquitos  wnv_present\n",
      "date                                  \n",
      "2007-05-29             40            0\n",
      "2007-06-05            127            0\n",
      "2007-06-26            216            0\n",
      "2007-06-29             85            0\n",
      "2007-07-02            240            0\n",
      "...                   ...          ...\n",
      "2013-08-29           2645           38\n",
      "2013-09-06           2510           32\n",
      "2013-09-12           2210           23\n",
      "2013-09-19           1030           11\n",
      "2013-09-26            505            4\n",
      "\n",
      "[95 rows x 2 columns]\n"
     ]
    },
    {
     "data": {
      "image/png": "[encoded data removed]",
      "text/plain": [
       "<Figure size 720x576 with 1 Axes>"
      ]
     },
     "metadata": {
      "needs_background": "light"
     },
     "output_type": "display_data"
    }
   ],
   "source": [
    "num_mos = train.groupby('date').sum()[['num_mosquitos','wnv_present']]\n",
    "print(num_mos)\n",
    "\n",
    "plt.figure(figsize = (10,8))\n",
    "sns.scatterplot(x = 'num_mosquitos', y = 'wnv_present', data = num_mos)\n",
    "plt.title('Number of mosquitoes vs Presence of West Nile Virus', fontsize = 15);"
   ]
  },
  {
   "cell_type": "markdown",
   "metadata": {},
   "source": [
    "The scatter plot above shows the relatioship between the `num_mosquitoes` and `wnv_present`. It can be seen that there is no discernible pattern between the number of mosquitoes and the presence of West Nile Virus. Thus, we will drop the `num_mosquitoes` column."
   ]
  },
  {
   "cell_type": "markdown",
   "metadata": {
    "id": "500sUBwAInZW"
   },
   "source": [
    "### Features selected for `train`/`test`\n",
    "\n",
    "Based on the above analysis and our domain knowledge, we will keep the features that are most relevant to us:\n",
    "1. date\n",
    "2. species\n",
    "3. latitude\n",
    "4. longitude\n",
    "5. wnv_present (dependent variable)"
   ]
  },
  {
   "cell_type": "code",
   "execution_count": 131,
   "metadata": {
    "ExecuteTime": {
     "end_time": "2022-02-01T14:55:58.296515Z",
     "start_time": "2022-02-01T14:55:58.281528Z"
    },
    "colab": {
     "base_uri": "https://localhost:8080/",
     "height": 206
    },
    "id": "9eREEzQZJe72",
    "outputId": "2815e2e4-40e0-4532-dbde-ff95f17a7578"
   },
   "outputs": [
    {
     "data": {
      "text/html": [
       "<div>\n",
       "<style scoped>\n",
       "    .dataframe tbody tr th:only-of-type {\n",
       "        vertical-align: middle;\n",
       "    }\n",
       "\n",
       "    .dataframe tbody tr th {\n",
       "        vertical-align: top;\n",
       "    }\n",
       "\n",
       "    .dataframe thead th {\n",
       "        text-align: right;\n",
       "    }\n",
       "</style>\n",
       "<table border=\"1\" class=\"dataframe\">\n",
       "  <thead>\n",
       "    <tr style=\"text-align: right;\">\n",
       "      <th></th>\n",
       "      <th>date</th>\n",
       "      <th>species</th>\n",
       "      <th>latitude</th>\n",
       "      <th>longitude</th>\n",
       "      <th>wnv_present</th>\n",
       "    </tr>\n",
       "  </thead>\n",
       "  <tbody>\n",
       "    <tr>\n",
       "      <th>0</th>\n",
       "      <td>2007-05-29</td>\n",
       "      <td>CULEX PIPIENS/RESTUANS</td>\n",
       "      <td>41.954690</td>\n",
       "      <td>-87.800991</td>\n",
       "      <td>0</td>\n",
       "    </tr>\n",
       "    <tr>\n",
       "      <th>1</th>\n",
       "      <td>2007-05-29</td>\n",
       "      <td>CULEX RESTUANS</td>\n",
       "      <td>41.954690</td>\n",
       "      <td>-87.800991</td>\n",
       "      <td>0</td>\n",
       "    </tr>\n",
       "    <tr>\n",
       "      <th>2</th>\n",
       "      <td>2007-05-29</td>\n",
       "      <td>CULEX RESTUANS</td>\n",
       "      <td>41.994991</td>\n",
       "      <td>-87.769279</td>\n",
       "      <td>0</td>\n",
       "    </tr>\n",
       "    <tr>\n",
       "      <th>3</th>\n",
       "      <td>2007-05-29</td>\n",
       "      <td>CULEX PIPIENS/RESTUANS</td>\n",
       "      <td>41.974089</td>\n",
       "      <td>-87.824812</td>\n",
       "      <td>0</td>\n",
       "    </tr>\n",
       "    <tr>\n",
       "      <th>4</th>\n",
       "      <td>2007-05-29</td>\n",
       "      <td>CULEX RESTUANS</td>\n",
       "      <td>41.974089</td>\n",
       "      <td>-87.824812</td>\n",
       "      <td>0</td>\n",
       "    </tr>\n",
       "  </tbody>\n",
       "</table>\n",
       "</div>"
      ],
      "text/plain": [
       "         date                 species   latitude  longitude  wnv_present\n",
       "0  2007-05-29  CULEX PIPIENS/RESTUANS  41.954690 -87.800991            0\n",
       "1  2007-05-29          CULEX RESTUANS  41.954690 -87.800991            0\n",
       "2  2007-05-29          CULEX RESTUANS  41.994991 -87.769279            0\n",
       "3  2007-05-29  CULEX PIPIENS/RESTUANS  41.974089 -87.824812            0\n",
       "4  2007-05-29          CULEX RESTUANS  41.974089 -87.824812            0"
      ]
     },
     "execution_count": 131,
     "metadata": {},
     "output_type": "execute_result"
    }
   ],
   "source": [
    "train = train[['date', 'species', 'latitude', 'longitude', 'wnv_present']]\n",
    "train.head()"
   ]
  },
  {
   "cell_type": "code",
   "execution_count": 132,
   "metadata": {
    "ExecuteTime": {
     "end_time": "2022-02-01T14:55:58.312444Z",
     "start_time": "2022-02-01T14:55:58.297485Z"
    }
   },
   "outputs": [
    {
     "name": "stdout",
     "output_type": "stream",
     "text": [
      "<class 'pandas.core.frame.DataFrame'>\n",
      "RangeIndex: 10506 entries, 0 to 10505\n",
      "Data columns (total 5 columns):\n",
      " #   Column       Non-Null Count  Dtype  \n",
      "---  ------       --------------  -----  \n",
      " 0   date         10506 non-null  object \n",
      " 1   species      10506 non-null  object \n",
      " 2   latitude     10506 non-null  float64\n",
      " 3   longitude    10506 non-null  float64\n",
      " 4   wnv_present  10506 non-null  int64  \n",
      "dtypes: float64(2), int64(1), object(2)\n",
      "memory usage: 410.5+ KB\n"
     ]
    }
   ],
   "source": [
    "train.info()"
   ]
  },
  {
   "cell_type": "markdown",
   "metadata": {},
   "source": [
    "Whatever we do for `train`, we have to do unto `test` too, except without the dependent variable."
   ]
  },
  {
   "cell_type": "code",
   "execution_count": 133,
   "metadata": {
    "ExecuteTime": {
     "end_time": "2022-02-01T14:55:58.342424Z",
     "start_time": "2022-02-01T14:55:58.313442Z"
    }
   },
   "outputs": [
    {
     "data": {
      "text/html": [
       "<div>\n",
       "<style scoped>\n",
       "    .dataframe tbody tr th:only-of-type {\n",
       "        vertical-align: middle;\n",
       "    }\n",
       "\n",
       "    .dataframe tbody tr th {\n",
       "        vertical-align: top;\n",
       "    }\n",
       "\n",
       "    .dataframe thead th {\n",
       "        text-align: right;\n",
       "    }\n",
       "</style>\n",
       "<table border=\"1\" class=\"dataframe\">\n",
       "  <thead>\n",
       "    <tr style=\"text-align: right;\">\n",
       "      <th></th>\n",
       "      <th>date</th>\n",
       "      <th>species</th>\n",
       "      <th>latitude</th>\n",
       "      <th>longitude</th>\n",
       "    </tr>\n",
       "  </thead>\n",
       "  <tbody>\n",
       "    <tr>\n",
       "      <th>0</th>\n",
       "      <td>2008-06-11</td>\n",
       "      <td>CULEX PIPIENS/RESTUANS</td>\n",
       "      <td>41.95469</td>\n",
       "      <td>-87.800991</td>\n",
       "    </tr>\n",
       "    <tr>\n",
       "      <th>1</th>\n",
       "      <td>2008-06-11</td>\n",
       "      <td>CULEX RESTUANS</td>\n",
       "      <td>41.95469</td>\n",
       "      <td>-87.800991</td>\n",
       "    </tr>\n",
       "    <tr>\n",
       "      <th>2</th>\n",
       "      <td>2008-06-11</td>\n",
       "      <td>CULEX PIPIENS</td>\n",
       "      <td>41.95469</td>\n",
       "      <td>-87.800991</td>\n",
       "    </tr>\n",
       "    <tr>\n",
       "      <th>3</th>\n",
       "      <td>2008-06-11</td>\n",
       "      <td>CULEX SALINARIUS</td>\n",
       "      <td>41.95469</td>\n",
       "      <td>-87.800991</td>\n",
       "    </tr>\n",
       "    <tr>\n",
       "      <th>4</th>\n",
       "      <td>2008-06-11</td>\n",
       "      <td>CULEX TERRITANS</td>\n",
       "      <td>41.95469</td>\n",
       "      <td>-87.800991</td>\n",
       "    </tr>\n",
       "  </tbody>\n",
       "</table>\n",
       "</div>"
      ],
      "text/plain": [
       "         date                 species  latitude  longitude\n",
       "0  2008-06-11  CULEX PIPIENS/RESTUANS  41.95469 -87.800991\n",
       "1  2008-06-11          CULEX RESTUANS  41.95469 -87.800991\n",
       "2  2008-06-11           CULEX PIPIENS  41.95469 -87.800991\n",
       "3  2008-06-11        CULEX SALINARIUS  41.95469 -87.800991\n",
       "4  2008-06-11         CULEX TERRITANS  41.95469 -87.800991"
      ]
     },
     "execution_count": 133,
     "metadata": {},
     "output_type": "execute_result"
    }
   ],
   "source": [
    "test = test[['date', 'species', 'latitude', 'longitude']]\n",
    "test.head()"
   ]
  },
  {
   "cell_type": "markdown",
   "metadata": {},
   "source": [
    "## `weather` datasets"
   ]
  },
  {
   "cell_type": "code",
   "execution_count": 134,
   "metadata": {
    "ExecuteTime": {
     "end_time": "2022-02-01T14:55:58.373283Z",
     "start_time": "2022-02-01T14:55:58.344360Z"
    }
   },
   "outputs": [
    {
     "data": {
      "text/html": [
       "<div>\n",
       "<style scoped>\n",
       "    .dataframe tbody tr th:only-of-type {\n",
       "        vertical-align: middle;\n",
       "    }\n",
       "\n",
       "    .dataframe tbody tr th {\n",
       "        vertical-align: top;\n",
       "    }\n",
       "\n",
       "    .dataframe thead th {\n",
       "        text-align: right;\n",
       "    }\n",
       "</style>\n",
       "<table border=\"1\" class=\"dataframe\">\n",
       "  <thead>\n",
       "    <tr style=\"text-align: right;\">\n",
       "      <th></th>\n",
       "      <th>station</th>\n",
       "      <th>date</th>\n",
       "      <th>tmax</th>\n",
       "      <th>tmin</th>\n",
       "      <th>tavg</th>\n",
       "      <th>depart</th>\n",
       "      <th>dew_point</th>\n",
       "      <th>wet_bulb</th>\n",
       "      <th>heat</th>\n",
       "      <th>cool</th>\n",
       "      <th>...</th>\n",
       "      <th>code_sum</th>\n",
       "      <th>depth</th>\n",
       "      <th>water1</th>\n",
       "      <th>snow_fall</th>\n",
       "      <th>precip_total</th>\n",
       "      <th>stn_pressure</th>\n",
       "      <th>sea_level</th>\n",
       "      <th>result_speed</th>\n",
       "      <th>result_dir</th>\n",
       "      <th>avg_speed</th>\n",
       "    </tr>\n",
       "  </thead>\n",
       "  <tbody>\n",
       "    <tr>\n",
       "      <th>0</th>\n",
       "      <td>1</td>\n",
       "      <td>2007-05-01</td>\n",
       "      <td>83</td>\n",
       "      <td>50</td>\n",
       "      <td>67</td>\n",
       "      <td>14</td>\n",
       "      <td>51</td>\n",
       "      <td>56</td>\n",
       "      <td>0</td>\n",
       "      <td>2</td>\n",
       "      <td>...</td>\n",
       "      <td></td>\n",
       "      <td>0</td>\n",
       "      <td>M</td>\n",
       "      <td>0.0</td>\n",
       "      <td>0.00</td>\n",
       "      <td>29.10</td>\n",
       "      <td>29.82</td>\n",
       "      <td>1.7</td>\n",
       "      <td>27</td>\n",
       "      <td>9.2</td>\n",
       "    </tr>\n",
       "    <tr>\n",
       "      <th>1</th>\n",
       "      <td>2</td>\n",
       "      <td>2007-05-01</td>\n",
       "      <td>84</td>\n",
       "      <td>52</td>\n",
       "      <td>68</td>\n",
       "      <td>M</td>\n",
       "      <td>51</td>\n",
       "      <td>57</td>\n",
       "      <td>0</td>\n",
       "      <td>3</td>\n",
       "      <td>...</td>\n",
       "      <td></td>\n",
       "      <td>M</td>\n",
       "      <td>M</td>\n",
       "      <td>M</td>\n",
       "      <td>0.00</td>\n",
       "      <td>29.18</td>\n",
       "      <td>29.82</td>\n",
       "      <td>2.7</td>\n",
       "      <td>25</td>\n",
       "      <td>9.6</td>\n",
       "    </tr>\n",
       "    <tr>\n",
       "      <th>2</th>\n",
       "      <td>1</td>\n",
       "      <td>2007-05-02</td>\n",
       "      <td>59</td>\n",
       "      <td>42</td>\n",
       "      <td>51</td>\n",
       "      <td>-3</td>\n",
       "      <td>42</td>\n",
       "      <td>47</td>\n",
       "      <td>14</td>\n",
       "      <td>0</td>\n",
       "      <td>...</td>\n",
       "      <td>BR</td>\n",
       "      <td>0</td>\n",
       "      <td>M</td>\n",
       "      <td>0.0</td>\n",
       "      <td>0.00</td>\n",
       "      <td>29.38</td>\n",
       "      <td>30.09</td>\n",
       "      <td>13.0</td>\n",
       "      <td>4</td>\n",
       "      <td>13.4</td>\n",
       "    </tr>\n",
       "    <tr>\n",
       "      <th>3</th>\n",
       "      <td>2</td>\n",
       "      <td>2007-05-02</td>\n",
       "      <td>60</td>\n",
       "      <td>43</td>\n",
       "      <td>52</td>\n",
       "      <td>M</td>\n",
       "      <td>42</td>\n",
       "      <td>47</td>\n",
       "      <td>13</td>\n",
       "      <td>0</td>\n",
       "      <td>...</td>\n",
       "      <td>BR HZ</td>\n",
       "      <td>M</td>\n",
       "      <td>M</td>\n",
       "      <td>M</td>\n",
       "      <td>0.00</td>\n",
       "      <td>29.44</td>\n",
       "      <td>30.08</td>\n",
       "      <td>13.3</td>\n",
       "      <td>2</td>\n",
       "      <td>13.4</td>\n",
       "    </tr>\n",
       "    <tr>\n",
       "      <th>4</th>\n",
       "      <td>1</td>\n",
       "      <td>2007-05-03</td>\n",
       "      <td>66</td>\n",
       "      <td>46</td>\n",
       "      <td>56</td>\n",
       "      <td>2</td>\n",
       "      <td>40</td>\n",
       "      <td>48</td>\n",
       "      <td>9</td>\n",
       "      <td>0</td>\n",
       "      <td>...</td>\n",
       "      <td></td>\n",
       "      <td>0</td>\n",
       "      <td>M</td>\n",
       "      <td>0.0</td>\n",
       "      <td>0.00</td>\n",
       "      <td>29.39</td>\n",
       "      <td>30.12</td>\n",
       "      <td>11.7</td>\n",
       "      <td>7</td>\n",
       "      <td>11.9</td>\n",
       "    </tr>\n",
       "  </tbody>\n",
       "</table>\n",
       "<p>5 rows × 22 columns</p>\n",
       "</div>"
      ],
      "text/plain": [
       "   station        date  tmax  tmin tavg depart  dew_point wet_bulb heat cool  \\\n",
       "0        1  2007-05-01    83    50   67     14         51       56    0    2   \n",
       "1        2  2007-05-01    84    52   68      M         51       57    0    3   \n",
       "2        1  2007-05-02    59    42   51     -3         42       47   14    0   \n",
       "3        2  2007-05-02    60    43   52      M         42       47   13    0   \n",
       "4        1  2007-05-03    66    46   56      2         40       48    9    0   \n",
       "\n",
       "   ... code_sum depth water1 snow_fall precip_total stn_pressure sea_level  \\\n",
       "0  ...              0      M       0.0         0.00        29.10     29.82   \n",
       "1  ...              M      M         M         0.00        29.18     29.82   \n",
       "2  ...       BR     0      M       0.0         0.00        29.38     30.09   \n",
       "3  ...    BR HZ     M      M         M         0.00        29.44     30.08   \n",
       "4  ...              0      M       0.0         0.00        29.39     30.12   \n",
       "\n",
       "  result_speed result_dir  avg_speed  \n",
       "0          1.7         27        9.2  \n",
       "1          2.7         25        9.6  \n",
       "2         13.0          4       13.4  \n",
       "3         13.3          2       13.4  \n",
       "4         11.7          7       11.9  \n",
       "\n",
       "[5 rows x 22 columns]"
      ]
     },
     "execution_count": 134,
     "metadata": {},
     "output_type": "execute_result"
    }
   ],
   "source": [
    "weather.head()"
   ]
  },
  {
   "cell_type": "code",
   "execution_count": 135,
   "metadata": {
    "ExecuteTime": {
     "end_time": "2022-02-01T14:55:58.389239Z",
     "start_time": "2022-02-01T14:55:58.374280Z"
    }
   },
   "outputs": [
    {
     "name": "stdout",
     "output_type": "stream",
     "text": [
      "<class 'pandas.core.frame.DataFrame'>\n",
      "RangeIndex: 2944 entries, 0 to 2943\n",
      "Data columns (total 22 columns):\n",
      " #   Column        Non-Null Count  Dtype  \n",
      "---  ------        --------------  -----  \n",
      " 0   station       2944 non-null   int64  \n",
      " 1   date          2944 non-null   object \n",
      " 2   tmax          2944 non-null   int64  \n",
      " 3   tmin          2944 non-null   int64  \n",
      " 4   tavg          2944 non-null   object \n",
      " 5   depart        2944 non-null   object \n",
      " 6   dew_point     2944 non-null   int64  \n",
      " 7   wet_bulb      2944 non-null   object \n",
      " 8   heat          2944 non-null   object \n",
      " 9   cool          2944 non-null   object \n",
      " 10  sunrise       2944 non-null   object \n",
      " 11  sunset        2944 non-null   object \n",
      " 12  code_sum      2944 non-null   object \n",
      " 13  depth         2944 non-null   object \n",
      " 14  water1        2944 non-null   object \n",
      " 15  snow_fall     2944 non-null   object \n",
      " 16  precip_total  2944 non-null   object \n",
      " 17  stn_pressure  2944 non-null   object \n",
      " 18  sea_level     2944 non-null   object \n",
      " 19  result_speed  2944 non-null   float64\n",
      " 20  result_dir    2944 non-null   int64  \n",
      " 21  avg_speed     2944 non-null   object \n",
      "dtypes: float64(1), int64(5), object(16)\n",
      "memory usage: 506.1+ KB\n"
     ]
    }
   ],
   "source": [
    "weather.info()"
   ]
  },
  {
   "cell_type": "markdown",
   "metadata": {
    "id": "IHBPTEbUuvyY"
   },
   "source": [
    "Taking a look at the nominal variable `code_sum`, we notice that it is a description of weather patterns captured by the weather station on a certain day. However for our case, the rest of the information suffices and thus we do not need it."
   ]
  },
  {
   "cell_type": "code",
   "execution_count": 136,
   "metadata": {
    "ExecuteTime": {
     "end_time": "2022-02-01T14:55:58.404198Z",
     "start_time": "2022-02-01T14:55:58.390236Z"
    },
    "colab": {
     "base_uri": "https://localhost:8080/"
    },
    "id": "jRuCps2ojofd",
    "outputId": "958f807d-bac4-49f4-f5ad-ffc1aeb72074"
   },
   "outputs": [
    {
     "data": {
      "text/plain": [
       "                        1609\n",
       "RA                       296\n",
       "RA BR                    238\n",
       "BR                       110\n",
       "TSRA RA BR                92\n",
       "                        ... \n",
       "HZ FU                      1\n",
       "RA BR FU                   1\n",
       "TS RA BR HZ                1\n",
       "TSRA RA FG+ BR             1\n",
       "TSRA DZ FG+ FG BR HZ       1\n",
       "Name: code_sum, Length: 98, dtype: int64"
      ]
     },
     "execution_count": 136,
     "metadata": {},
     "output_type": "execute_result"
    }
   ],
   "source": [
    "weather.code_sum.value_counts()"
   ]
  },
  {
   "cell_type": "markdown",
   "metadata": {
    "id": "rtLIyPP34g5h"
   },
   "source": [
    "We can also do a check on the precipitation columns. It seems like out of all of them, only the total precipitation column gives the most useful information - the rest are null values."
   ]
  },
  {
   "cell_type": "code",
   "execution_count": 137,
   "metadata": {
    "ExecuteTime": {
     "end_time": "2022-02-01T14:55:58.420156Z",
     "start_time": "2022-02-01T14:55:58.405228Z"
    },
    "colab": {
     "base_uri": "https://localhost:8080/"
    },
    "id": "wZmUlKK4cp_E",
    "outputId": "a29bae38-2ac4-4ada-e0c4-09861b470661"
   },
   "outputs": [
    {
     "name": "stdout",
     "output_type": "stream",
     "text": [
      "depth\n",
      "M    1472\n",
      "0    1472\n",
      "Name: depth, dtype: int64\n",
      "===============\n",
      "water1\n",
      "M    2944\n",
      "Name: water1, dtype: int64\n",
      "===============\n",
      "snow_fall\n",
      "M      1472\n",
      "0.0    1459\n",
      "  T      12\n",
      "0.1       1\n",
      "Name: snow_fall, dtype: int64\n",
      "===============\n",
      "precip_total\n",
      "0.00    1577\n",
      "  T      318\n",
      "0.01     127\n",
      "0.02      63\n",
      "0.03      46\n",
      "        ... \n",
      "1.88       1\n",
      "0.96       1\n",
      "1.25       1\n",
      "2.20       1\n",
      "1.18       1\n",
      "Name: precip_total, Length: 168, dtype: int64\n",
      "===============\n"
     ]
    }
   ],
   "source": [
    "for col in ['depth', 'water1', 'snow_fall', 'precip_total']:\n",
    "  print(col)\n",
    "  print(weather[col].value_counts())\n",
    "  print('===============')"
   ]
  },
  {
   "cell_type": "markdown",
   "metadata": {
    "id": "IrXbc3C-IsBX"
   },
   "source": [
    "According to this [website](https://www.differencebetween.com/difference-between-dewpoint-and-wet-bulb-temperature/), there is a direct correlation between temperature and dewpoint which indicates the humidity. We can then remove the wet bulb temperature. Furthermore, air pressure has a significant impact on the weather patterns in the area.\n",
    "\n",
    "Based on the above analysis, we will be choosing a few relevant columns for our analysis. The pertinent ones are:\n",
    "1. station\n",
    "2. date\n",
    "3. tavg\n",
    "4. dew_point\n",
    "5. Sunrise\n",
    "6. Sunset\n",
    "7. precip_total\n",
    "8. stn_pressure\n",
    "9. sea_level\n",
    "10. result_dir\n",
    "11. avg_speed"
   ]
  },
  {
   "cell_type": "code",
   "execution_count": 138,
   "metadata": {
    "ExecuteTime": {
     "end_time": "2022-02-01T14:55:58.435174Z",
     "start_time": "2022-02-01T14:55:58.421154Z"
    },
    "colab": {
     "base_uri": "https://localhost:8080/",
     "height": 206
    },
    "id": "DphdvgCML2ey",
    "outputId": "9167f168-c9da-4aa3-bb9e-64117459a1c1"
   },
   "outputs": [
    {
     "data": {
      "text/html": [
       "<div>\n",
       "<style scoped>\n",
       "    .dataframe tbody tr th:only-of-type {\n",
       "        vertical-align: middle;\n",
       "    }\n",
       "\n",
       "    .dataframe tbody tr th {\n",
       "        vertical-align: top;\n",
       "    }\n",
       "\n",
       "    .dataframe thead th {\n",
       "        text-align: right;\n",
       "    }\n",
       "</style>\n",
       "<table border=\"1\" class=\"dataframe\">\n",
       "  <thead>\n",
       "    <tr style=\"text-align: right;\">\n",
       "      <th></th>\n",
       "      <th>station</th>\n",
       "      <th>date</th>\n",
       "      <th>tavg</th>\n",
       "      <th>dew_point</th>\n",
       "      <th>precip_total</th>\n",
       "      <th>sunrise</th>\n",
       "      <th>sunset</th>\n",
       "      <th>stn_pressure</th>\n",
       "      <th>sea_level</th>\n",
       "      <th>result_dir</th>\n",
       "      <th>avg_speed</th>\n",
       "    </tr>\n",
       "  </thead>\n",
       "  <tbody>\n",
       "    <tr>\n",
       "      <th>0</th>\n",
       "      <td>1</td>\n",
       "      <td>2007-05-01</td>\n",
       "      <td>67</td>\n",
       "      <td>51</td>\n",
       "      <td>0.00</td>\n",
       "      <td>0448</td>\n",
       "      <td>1849</td>\n",
       "      <td>29.10</td>\n",
       "      <td>29.82</td>\n",
       "      <td>27</td>\n",
       "      <td>9.2</td>\n",
       "    </tr>\n",
       "    <tr>\n",
       "      <th>1</th>\n",
       "      <td>2</td>\n",
       "      <td>2007-05-01</td>\n",
       "      <td>68</td>\n",
       "      <td>51</td>\n",
       "      <td>0.00</td>\n",
       "      <td>-</td>\n",
       "      <td>-</td>\n",
       "      <td>29.18</td>\n",
       "      <td>29.82</td>\n",
       "      <td>25</td>\n",
       "      <td>9.6</td>\n",
       "    </tr>\n",
       "    <tr>\n",
       "      <th>2</th>\n",
       "      <td>1</td>\n",
       "      <td>2007-05-02</td>\n",
       "      <td>51</td>\n",
       "      <td>42</td>\n",
       "      <td>0.00</td>\n",
       "      <td>0447</td>\n",
       "      <td>1850</td>\n",
       "      <td>29.38</td>\n",
       "      <td>30.09</td>\n",
       "      <td>4</td>\n",
       "      <td>13.4</td>\n",
       "    </tr>\n",
       "    <tr>\n",
       "      <th>3</th>\n",
       "      <td>2</td>\n",
       "      <td>2007-05-02</td>\n",
       "      <td>52</td>\n",
       "      <td>42</td>\n",
       "      <td>0.00</td>\n",
       "      <td>-</td>\n",
       "      <td>-</td>\n",
       "      <td>29.44</td>\n",
       "      <td>30.08</td>\n",
       "      <td>2</td>\n",
       "      <td>13.4</td>\n",
       "    </tr>\n",
       "    <tr>\n",
       "      <th>4</th>\n",
       "      <td>1</td>\n",
       "      <td>2007-05-03</td>\n",
       "      <td>56</td>\n",
       "      <td>40</td>\n",
       "      <td>0.00</td>\n",
       "      <td>0446</td>\n",
       "      <td>1851</td>\n",
       "      <td>29.39</td>\n",
       "      <td>30.12</td>\n",
       "      <td>7</td>\n",
       "      <td>11.9</td>\n",
       "    </tr>\n",
       "  </tbody>\n",
       "</table>\n",
       "</div>"
      ],
      "text/plain": [
       "   station        date tavg  dew_point precip_total sunrise sunset  \\\n",
       "0        1  2007-05-01   67         51         0.00    0448   1849   \n",
       "1        2  2007-05-01   68         51         0.00       -      -   \n",
       "2        1  2007-05-02   51         42         0.00    0447   1850   \n",
       "3        2  2007-05-02   52         42         0.00       -      -   \n",
       "4        1  2007-05-03   56         40         0.00    0446   1851   \n",
       "\n",
       "  stn_pressure sea_level  result_dir avg_speed  \n",
       "0        29.10     29.82          27       9.2  \n",
       "1        29.18     29.82          25       9.6  \n",
       "2        29.38     30.09           4      13.4  \n",
       "3        29.44     30.08           2      13.4  \n",
       "4        29.39     30.12           7      11.9  "
      ]
     },
     "execution_count": 138,
     "metadata": {},
     "output_type": "execute_result"
    }
   ],
   "source": [
    "weather = weather[['station', 'date', 'tavg', 'dew_point', 'precip_total','sunrise','sunset', 'stn_pressure', 'sea_level', 'result_dir', 'avg_speed']]\n",
    "weather.head()"
   ]
  },
  {
   "cell_type": "markdown",
   "metadata": {
    "id": "UTYWOJSqaOr7"
   },
   "source": [
    "# Notes from other people (TO DELETE)\n",
    "- Test and train data contain multiple entries for the same locations... this could be consolidated.\n",
    "- Weather contains two different stations, and dates are not standardized with train and test datasets.\n",
    "- Weather data is in different dtypes.\n",
    "- Spray data is for only two weeks in 2011, and a few weeks in 2013. This is not enough to see a consistent effect of spraying, and determine how much spraying really effects mosquito population."
   ]
  },
  {
   "cell_type": "markdown",
   "metadata": {
    "id": "9_zqF36oqP3u"
   },
   "source": [
    "# Data Cleaning\n",
    "\n",
    "Our data cleaning will involve two steps:\n",
    "1. imputing missing values\n",
    "2. changing datatypes"
   ]
  },
  {
   "cell_type": "markdown",
   "metadata": {
    "id": "uiLaLBK6Okgu"
   },
   "source": [
    "## `train` dataset\n",
    "\n",
    "We will first examine the `train` dataset and the datatypes of the features."
   ]
  },
  {
   "cell_type": "code",
   "execution_count": 139,
   "metadata": {
    "ExecuteTime": {
     "end_time": "2022-02-01T14:55:58.450077Z",
     "start_time": "2022-02-01T14:55:58.436114Z"
    }
   },
   "outputs": [
    {
     "data": {
      "text/html": [
       "<div>\n",
       "<style scoped>\n",
       "    .dataframe tbody tr th:only-of-type {\n",
       "        vertical-align: middle;\n",
       "    }\n",
       "\n",
       "    .dataframe tbody tr th {\n",
       "        vertical-align: top;\n",
       "    }\n",
       "\n",
       "    .dataframe thead th {\n",
       "        text-align: right;\n",
       "    }\n",
       "</style>\n",
       "<table border=\"1\" class=\"dataframe\">\n",
       "  <thead>\n",
       "    <tr style=\"text-align: right;\">\n",
       "      <th></th>\n",
       "      <th>date</th>\n",
       "      <th>species</th>\n",
       "      <th>latitude</th>\n",
       "      <th>longitude</th>\n",
       "      <th>wnv_present</th>\n",
       "    </tr>\n",
       "  </thead>\n",
       "  <tbody>\n",
       "    <tr>\n",
       "      <th>0</th>\n",
       "      <td>2007-05-29</td>\n",
       "      <td>CULEX PIPIENS/RESTUANS</td>\n",
       "      <td>41.954690</td>\n",
       "      <td>-87.800991</td>\n",
       "      <td>0</td>\n",
       "    </tr>\n",
       "    <tr>\n",
       "      <th>1</th>\n",
       "      <td>2007-05-29</td>\n",
       "      <td>CULEX RESTUANS</td>\n",
       "      <td>41.954690</td>\n",
       "      <td>-87.800991</td>\n",
       "      <td>0</td>\n",
       "    </tr>\n",
       "    <tr>\n",
       "      <th>2</th>\n",
       "      <td>2007-05-29</td>\n",
       "      <td>CULEX RESTUANS</td>\n",
       "      <td>41.994991</td>\n",
       "      <td>-87.769279</td>\n",
       "      <td>0</td>\n",
       "    </tr>\n",
       "    <tr>\n",
       "      <th>3</th>\n",
       "      <td>2007-05-29</td>\n",
       "      <td>CULEX PIPIENS/RESTUANS</td>\n",
       "      <td>41.974089</td>\n",
       "      <td>-87.824812</td>\n",
       "      <td>0</td>\n",
       "    </tr>\n",
       "    <tr>\n",
       "      <th>4</th>\n",
       "      <td>2007-05-29</td>\n",
       "      <td>CULEX RESTUANS</td>\n",
       "      <td>41.974089</td>\n",
       "      <td>-87.824812</td>\n",
       "      <td>0</td>\n",
       "    </tr>\n",
       "  </tbody>\n",
       "</table>\n",
       "</div>"
      ],
      "text/plain": [
       "         date                 species   latitude  longitude  wnv_present\n",
       "0  2007-05-29  CULEX PIPIENS/RESTUANS  41.954690 -87.800991            0\n",
       "1  2007-05-29          CULEX RESTUANS  41.954690 -87.800991            0\n",
       "2  2007-05-29          CULEX RESTUANS  41.994991 -87.769279            0\n",
       "3  2007-05-29  CULEX PIPIENS/RESTUANS  41.974089 -87.824812            0\n",
       "4  2007-05-29          CULEX RESTUANS  41.974089 -87.824812            0"
      ]
     },
     "execution_count": 139,
     "metadata": {},
     "output_type": "execute_result"
    }
   ],
   "source": [
    "train.head()"
   ]
  },
  {
   "cell_type": "code",
   "execution_count": 140,
   "metadata": {
    "ExecuteTime": {
     "end_time": "2022-02-01T14:55:58.465035Z",
     "start_time": "2022-02-01T14:55:58.451074Z"
    },
    "colab": {
     "base_uri": "https://localhost:8080/"
    },
    "id": "ZrAjJQ5_OvJu",
    "outputId": "39705700-7fca-476f-d92d-ed5cbf7f71e1"
   },
   "outputs": [
    {
     "name": "stdout",
     "output_type": "stream",
     "text": [
      "<class 'pandas.core.frame.DataFrame'>\n",
      "RangeIndex: 10506 entries, 0 to 10505\n",
      "Data columns (total 5 columns):\n",
      " #   Column       Non-Null Count  Dtype  \n",
      "---  ------       --------------  -----  \n",
      " 0   date         10506 non-null  object \n",
      " 1   species      10506 non-null  object \n",
      " 2   latitude     10506 non-null  float64\n",
      " 3   longitude    10506 non-null  float64\n",
      " 4   wnv_present  10506 non-null  int64  \n",
      "dtypes: float64(2), int64(1), object(2)\n",
      "memory usage: 410.5+ KB\n"
     ]
    }
   ],
   "source": [
    "train.info()"
   ]
  },
  {
   "cell_type": "markdown",
   "metadata": {},
   "source": [
    "### Missing values"
   ]
  },
  {
   "cell_type": "markdown",
   "metadata": {},
   "source": [
    "It seems like everything is in order and there are no null values, but that is a cruel trick. According to the [data dictionary](https://www.kaggle.com/c/predict-west-nile-virus/data?select=noaa_weather_qclcd_documentation.pdf), there are three types of missing values:\n",
    "1. `*`: Not all stations report snow totals\n",
    "2. `M`: Missing Data, or data that are not normally reported for the station\n",
    "3. `-`: values not available for sunrise/sunset\n",
    "\n",
    "And additional `T` values for trace amounts. We can write a function to replace them with suitable values."
   ]
  },
  {
   "cell_type": "code",
   "execution_count": 141,
   "metadata": {
    "ExecuteTime": {
     "end_time": "2022-02-01T14:55:58.525873Z",
     "start_time": "2022-02-01T14:55:58.466033Z"
    }
   },
   "outputs": [],
   "source": [
    " def missing_no(df):\n",
    "    df.replace(r'\\s*M+\\s*', 0, regex=True, inplace=True)\n",
    "    df.replace('-', 0, inplace=True)\n",
    "    df.replace('*', 0, inplace=True)\n",
    "    df.replace(r'^\\s*T+(?!\\d)+', 1e-5, regex=True, inplace=True)\n",
    "\n",
    "missing_no(weather)"
   ]
  },
  {
   "cell_type": "code",
   "execution_count": 142,
   "metadata": {
    "ExecuteTime": {
     "end_time": "2022-02-01T14:55:58.541830Z",
     "start_time": "2022-02-01T14:55:58.526909Z"
    }
   },
   "outputs": [
    {
     "data": {
      "text/html": [
       "<div>\n",
       "<style scoped>\n",
       "    .dataframe tbody tr th:only-of-type {\n",
       "        vertical-align: middle;\n",
       "    }\n",
       "\n",
       "    .dataframe tbody tr th {\n",
       "        vertical-align: top;\n",
       "    }\n",
       "\n",
       "    .dataframe thead th {\n",
       "        text-align: right;\n",
       "    }\n",
       "</style>\n",
       "<table border=\"1\" class=\"dataframe\">\n",
       "  <thead>\n",
       "    <tr style=\"text-align: right;\">\n",
       "      <th></th>\n",
       "      <th>station</th>\n",
       "      <th>date</th>\n",
       "      <th>tavg</th>\n",
       "      <th>dew_point</th>\n",
       "      <th>precip_total</th>\n",
       "      <th>sunrise</th>\n",
       "      <th>sunset</th>\n",
       "      <th>stn_pressure</th>\n",
       "      <th>sea_level</th>\n",
       "      <th>result_dir</th>\n",
       "      <th>avg_speed</th>\n",
       "    </tr>\n",
       "  </thead>\n",
       "  <tbody>\n",
       "    <tr>\n",
       "      <th>0</th>\n",
       "      <td>1</td>\n",
       "      <td>2007-05-01</td>\n",
       "      <td>67</td>\n",
       "      <td>51</td>\n",
       "      <td>0.00</td>\n",
       "      <td>0448</td>\n",
       "      <td>1849</td>\n",
       "      <td>29.10</td>\n",
       "      <td>29.82</td>\n",
       "      <td>27</td>\n",
       "      <td>9.2</td>\n",
       "    </tr>\n",
       "    <tr>\n",
       "      <th>1</th>\n",
       "      <td>2</td>\n",
       "      <td>2007-05-01</td>\n",
       "      <td>68</td>\n",
       "      <td>51</td>\n",
       "      <td>0.00</td>\n",
       "      <td>0</td>\n",
       "      <td>0</td>\n",
       "      <td>29.18</td>\n",
       "      <td>29.82</td>\n",
       "      <td>25</td>\n",
       "      <td>9.6</td>\n",
       "    </tr>\n",
       "    <tr>\n",
       "      <th>2</th>\n",
       "      <td>1</td>\n",
       "      <td>2007-05-02</td>\n",
       "      <td>51</td>\n",
       "      <td>42</td>\n",
       "      <td>0.00</td>\n",
       "      <td>0447</td>\n",
       "      <td>1850</td>\n",
       "      <td>29.38</td>\n",
       "      <td>30.09</td>\n",
       "      <td>4</td>\n",
       "      <td>13.4</td>\n",
       "    </tr>\n",
       "    <tr>\n",
       "      <th>3</th>\n",
       "      <td>2</td>\n",
       "      <td>2007-05-02</td>\n",
       "      <td>52</td>\n",
       "      <td>42</td>\n",
       "      <td>0.00</td>\n",
       "      <td>0</td>\n",
       "      <td>0</td>\n",
       "      <td>29.44</td>\n",
       "      <td>30.08</td>\n",
       "      <td>2</td>\n",
       "      <td>13.4</td>\n",
       "    </tr>\n",
       "    <tr>\n",
       "      <th>4</th>\n",
       "      <td>1</td>\n",
       "      <td>2007-05-03</td>\n",
       "      <td>56</td>\n",
       "      <td>40</td>\n",
       "      <td>0.00</td>\n",
       "      <td>0446</td>\n",
       "      <td>1851</td>\n",
       "      <td>29.39</td>\n",
       "      <td>30.12</td>\n",
       "      <td>7</td>\n",
       "      <td>11.9</td>\n",
       "    </tr>\n",
       "  </tbody>\n",
       "</table>\n",
       "</div>"
      ],
      "text/plain": [
       "   station        date tavg  dew_point precip_total sunrise sunset  \\\n",
       "0        1  2007-05-01   67         51         0.00    0448   1849   \n",
       "1        2  2007-05-01   68         51         0.00       0      0   \n",
       "2        1  2007-05-02   51         42         0.00    0447   1850   \n",
       "3        2  2007-05-02   52         42         0.00       0      0   \n",
       "4        1  2007-05-03   56         40         0.00    0446   1851   \n",
       "\n",
       "  stn_pressure sea_level  result_dir avg_speed  \n",
       "0        29.10     29.82          27       9.2  \n",
       "1        29.18     29.82          25       9.6  \n",
       "2        29.38     30.09           4      13.4  \n",
       "3        29.44     30.08           2      13.4  \n",
       "4        29.39     30.12           7      11.9  "
      ]
     },
     "execution_count": 142,
     "metadata": {},
     "output_type": "execute_result"
    }
   ],
   "source": [
    "weather.head()"
   ]
  },
  {
   "cell_type": "code",
   "execution_count": 143,
   "metadata": {
    "ExecuteTime": {
     "end_time": "2022-02-01T14:55:59.127300Z",
     "start_time": "2022-02-01T14:55:58.544822Z"
    }
   },
   "outputs": [
    {
     "data": {
      "text/html": [
       "<div>\n",
       "<style scoped>\n",
       "    .dataframe tbody tr th:only-of-type {\n",
       "        vertical-align: middle;\n",
       "    }\n",
       "\n",
       "    .dataframe tbody tr th {\n",
       "        vertical-align: top;\n",
       "    }\n",
       "\n",
       "    .dataframe thead th {\n",
       "        text-align: right;\n",
       "    }\n",
       "</style>\n",
       "<table border=\"1\" class=\"dataframe\">\n",
       "  <thead>\n",
       "    <tr style=\"text-align: right;\">\n",
       "      <th></th>\n",
       "      <th>date</th>\n",
       "      <th>species</th>\n",
       "      <th>latitude</th>\n",
       "      <th>longitude</th>\n",
       "    </tr>\n",
       "  </thead>\n",
       "  <tbody>\n",
       "    <tr>\n",
       "      <th>0</th>\n",
       "      <td>2008-06-11</td>\n",
       "      <td>CULEX PIPIENS/RESTUANS</td>\n",
       "      <td>41.954690</td>\n",
       "      <td>-87.800991</td>\n",
       "    </tr>\n",
       "    <tr>\n",
       "      <th>1</th>\n",
       "      <td>2008-06-11</td>\n",
       "      <td>CULEX RESTUANS</td>\n",
       "      <td>41.954690</td>\n",
       "      <td>-87.800991</td>\n",
       "    </tr>\n",
       "    <tr>\n",
       "      <th>2</th>\n",
       "      <td>2008-06-11</td>\n",
       "      <td>CULEX PIPIENS</td>\n",
       "      <td>41.954690</td>\n",
       "      <td>-87.800991</td>\n",
       "    </tr>\n",
       "    <tr>\n",
       "      <th>3</th>\n",
       "      <td>2008-06-11</td>\n",
       "      <td>CULEX SALINARIUS</td>\n",
       "      <td>41.954690</td>\n",
       "      <td>-87.800991</td>\n",
       "    </tr>\n",
       "    <tr>\n",
       "      <th>4</th>\n",
       "      <td>2008-06-11</td>\n",
       "      <td>CULEX TERRITANS</td>\n",
       "      <td>41.954690</td>\n",
       "      <td>-87.800991</td>\n",
       "    </tr>\n",
       "    <tr>\n",
       "      <th>...</th>\n",
       "      <td>...</td>\n",
       "      <td>...</td>\n",
       "      <td>...</td>\n",
       "      <td>...</td>\n",
       "    </tr>\n",
       "    <tr>\n",
       "      <th>116288</th>\n",
       "      <td>2014-10-02</td>\n",
       "      <td>CULEX SALINARIUS</td>\n",
       "      <td>41.925652</td>\n",
       "      <td>-87.633590</td>\n",
       "    </tr>\n",
       "    <tr>\n",
       "      <th>116289</th>\n",
       "      <td>2014-10-02</td>\n",
       "      <td>CULEX TERRITANS</td>\n",
       "      <td>41.925652</td>\n",
       "      <td>-87.633590</td>\n",
       "    </tr>\n",
       "    <tr>\n",
       "      <th>116290</th>\n",
       "      <td>2014-10-02</td>\n",
       "      <td>CULEX TARSALIS</td>\n",
       "      <td>41.925652</td>\n",
       "      <td>-87.633590</td>\n",
       "    </tr>\n",
       "    <tr>\n",
       "      <th>116291</th>\n",
       "      <td>2014-10-02</td>\n",
       "      <td>UNSPECIFIED CULEX</td>\n",
       "      <td>41.925652</td>\n",
       "      <td>-87.633590</td>\n",
       "    </tr>\n",
       "    <tr>\n",
       "      <th>116292</th>\n",
       "      <td>2014-10-02</td>\n",
       "      <td>CULEX ERRATICUS</td>\n",
       "      <td>41.925652</td>\n",
       "      <td>-87.633590</td>\n",
       "    </tr>\n",
       "  </tbody>\n",
       "</table>\n",
       "<p>116293 rows × 4 columns</p>\n",
       "</div>"
      ],
      "text/plain": [
       "              date                 species   latitude  longitude\n",
       "0       2008-06-11  CULEX PIPIENS/RESTUANS  41.954690 -87.800991\n",
       "1       2008-06-11          CULEX RESTUANS  41.954690 -87.800991\n",
       "2       2008-06-11           CULEX PIPIENS  41.954690 -87.800991\n",
       "3       2008-06-11        CULEX SALINARIUS  41.954690 -87.800991\n",
       "4       2008-06-11         CULEX TERRITANS  41.954690 -87.800991\n",
       "...            ...                     ...        ...        ...\n",
       "116288  2014-10-02        CULEX SALINARIUS  41.925652 -87.633590\n",
       "116289  2014-10-02         CULEX TERRITANS  41.925652 -87.633590\n",
       "116290  2014-10-02          CULEX TARSALIS  41.925652 -87.633590\n",
       "116291  2014-10-02       UNSPECIFIED CULEX  41.925652 -87.633590\n",
       "116292  2014-10-02         CULEX ERRATICUS  41.925652 -87.633590\n",
       "\n",
       "[116293 rows x 4 columns]"
      ]
     },
     "execution_count": 143,
     "metadata": {},
     "output_type": "execute_result"
    }
   ],
   "source": [
    "missing_no(test)\n",
    "test"
   ]
  },
  {
   "cell_type": "markdown",
   "metadata": {},
   "source": [
    "### Changing dtypes\n",
    "\n",
    "From the information table, some of the columns aren't in the right dtype. We can create a function to correct all the wrong datatypes."
   ]
  },
  {
   "cell_type": "code",
   "execution_count": 144,
   "metadata": {
    "ExecuteTime": {
     "end_time": "2022-02-01T14:55:59.143238Z",
     "start_time": "2022-02-01T14:55:59.129260Z"
    }
   },
   "outputs": [],
   "source": [
    "def changing_types(df):\n",
    "    df['date'] = pd.to_datetime(df['date'])\n",
    "    try:\n",
    "        df['tavg'] = df['tavg'].astype(int)\n",
    "        df['tavg'] = df['tavg'].astype(int)\n",
    "        df['avg_speed'] = df['avg_speed'].astype(float)\n",
    "        df['avg_speed'] = df['avg_speed'].astype(float)\n",
    "        df['stn_pressure'] = df['stn_pressure'].astype(float)\n",
    "        df['precip_total'] = df['precip_total'].astype(float)\n",
    "        df['precip_total'] = df['precip_total'].astype(float)\n",
    "        df.info()\n",
    "    except:\n",
    "        pass"
   ]
  },
  {
   "cell_type": "code",
   "execution_count": 145,
   "metadata": {
    "ExecuteTime": {
     "end_time": "2022-02-01T14:55:59.189131Z",
     "start_time": "2022-02-01T14:55:59.144219Z"
    }
   },
   "outputs": [
    {
     "name": "stdout",
     "output_type": "stream",
     "text": [
      "<class 'pandas.core.frame.DataFrame'>\n",
      "RangeIndex: 2944 entries, 0 to 2943\n",
      "Data columns (total 11 columns):\n",
      " #   Column        Non-Null Count  Dtype         \n",
      "---  ------        --------------  -----         \n",
      " 0   station       2944 non-null   int64         \n",
      " 1   date          2944 non-null   datetime64[ns]\n",
      " 2   tavg          2944 non-null   int32         \n",
      " 3   dew_point     2944 non-null   int64         \n",
      " 4   precip_total  2944 non-null   float64       \n",
      " 5   sunrise       2944 non-null   object        \n",
      " 6   sunset        2944 non-null   object        \n",
      " 7   stn_pressure  2944 non-null   float64       \n",
      " 8   sea_level     2944 non-null   object        \n",
      " 9   result_dir    2944 non-null   int64         \n",
      " 10  avg_speed     2944 non-null   float64       \n",
      "dtypes: datetime64[ns](1), float64(3), int32(1), int64(3), object(3)\n",
      "memory usage: 241.6+ KB\n"
     ]
    }
   ],
   "source": [
    "changing_types(weather)\n",
    "changing_types(train)\n",
    "changing_types(test)"
   ]
  },
  {
   "cell_type": "markdown",
   "metadata": {},
   "source": [
    "### Creating `year`, `month` and `week` columns\n",
    "\n",
    "Additional time related columns would be created from the `date` columns."
   ]
  },
  {
   "cell_type": "code",
   "execution_count": 146,
   "metadata": {
    "ExecuteTime": {
     "end_time": "2022-02-01T14:55:59.205057Z",
     "start_time": "2022-02-01T14:55:59.190107Z"
    }
   },
   "outputs": [],
   "source": [
    "def preprocess_date(df):\n",
    "    \"\"\"Function to create additional time related columns\"\"\"\n",
    "    df['year'] = pd.to_datetime(df['date']).dt.year\n",
    "    df['month'] = pd.to_datetime(df['date']).dt.month\n",
    "    df['week_of_year'] = pd.to_datetime(df['date']).dt.isocalendar().week\n",
    "    return df"
   ]
  },
  {
   "cell_type": "code",
   "execution_count": 147,
   "metadata": {
    "ExecuteTime": {
     "end_time": "2022-02-01T14:55:59.344718Z",
     "start_time": "2022-02-01T14:55:59.207052Z"
    }
   },
   "outputs": [
    {
     "data": {
      "text/html": [
       "<div>\n",
       "<style scoped>\n",
       "    .dataframe tbody tr th:only-of-type {\n",
       "        vertical-align: middle;\n",
       "    }\n",
       "\n",
       "    .dataframe tbody tr th {\n",
       "        vertical-align: top;\n",
       "    }\n",
       "\n",
       "    .dataframe thead th {\n",
       "        text-align: right;\n",
       "    }\n",
       "</style>\n",
       "<table border=\"1\" class=\"dataframe\">\n",
       "  <thead>\n",
       "    <tr style=\"text-align: right;\">\n",
       "      <th></th>\n",
       "      <th>station</th>\n",
       "      <th>date</th>\n",
       "      <th>tavg</th>\n",
       "      <th>dew_point</th>\n",
       "      <th>precip_total</th>\n",
       "      <th>sunrise</th>\n",
       "      <th>sunset</th>\n",
       "      <th>stn_pressure</th>\n",
       "      <th>sea_level</th>\n",
       "      <th>result_dir</th>\n",
       "      <th>avg_speed</th>\n",
       "      <th>year</th>\n",
       "      <th>month</th>\n",
       "      <th>week_of_year</th>\n",
       "    </tr>\n",
       "  </thead>\n",
       "  <tbody>\n",
       "    <tr>\n",
       "      <th>0</th>\n",
       "      <td>1</td>\n",
       "      <td>2007-05-01</td>\n",
       "      <td>67</td>\n",
       "      <td>51</td>\n",
       "      <td>0.00000</td>\n",
       "      <td>0448</td>\n",
       "      <td>1849</td>\n",
       "      <td>29.10</td>\n",
       "      <td>29.82</td>\n",
       "      <td>27</td>\n",
       "      <td>9.2</td>\n",
       "      <td>2007</td>\n",
       "      <td>5</td>\n",
       "      <td>18</td>\n",
       "    </tr>\n",
       "    <tr>\n",
       "      <th>1</th>\n",
       "      <td>2</td>\n",
       "      <td>2007-05-01</td>\n",
       "      <td>68</td>\n",
       "      <td>51</td>\n",
       "      <td>0.00000</td>\n",
       "      <td>0</td>\n",
       "      <td>0</td>\n",
       "      <td>29.18</td>\n",
       "      <td>29.82</td>\n",
       "      <td>25</td>\n",
       "      <td>9.6</td>\n",
       "      <td>2007</td>\n",
       "      <td>5</td>\n",
       "      <td>18</td>\n",
       "    </tr>\n",
       "    <tr>\n",
       "      <th>2</th>\n",
       "      <td>1</td>\n",
       "      <td>2007-05-02</td>\n",
       "      <td>51</td>\n",
       "      <td>42</td>\n",
       "      <td>0.00000</td>\n",
       "      <td>0447</td>\n",
       "      <td>1850</td>\n",
       "      <td>29.38</td>\n",
       "      <td>30.09</td>\n",
       "      <td>4</td>\n",
       "      <td>13.4</td>\n",
       "      <td>2007</td>\n",
       "      <td>5</td>\n",
       "      <td>18</td>\n",
       "    </tr>\n",
       "    <tr>\n",
       "      <th>3</th>\n",
       "      <td>2</td>\n",
       "      <td>2007-05-02</td>\n",
       "      <td>52</td>\n",
       "      <td>42</td>\n",
       "      <td>0.00000</td>\n",
       "      <td>0</td>\n",
       "      <td>0</td>\n",
       "      <td>29.44</td>\n",
       "      <td>30.08</td>\n",
       "      <td>2</td>\n",
       "      <td>13.4</td>\n",
       "      <td>2007</td>\n",
       "      <td>5</td>\n",
       "      <td>18</td>\n",
       "    </tr>\n",
       "    <tr>\n",
       "      <th>4</th>\n",
       "      <td>1</td>\n",
       "      <td>2007-05-03</td>\n",
       "      <td>56</td>\n",
       "      <td>40</td>\n",
       "      <td>0.00000</td>\n",
       "      <td>0446</td>\n",
       "      <td>1851</td>\n",
       "      <td>29.39</td>\n",
       "      <td>30.12</td>\n",
       "      <td>7</td>\n",
       "      <td>11.9</td>\n",
       "      <td>2007</td>\n",
       "      <td>5</td>\n",
       "      <td>18</td>\n",
       "    </tr>\n",
       "    <tr>\n",
       "      <th>...</th>\n",
       "      <td>...</td>\n",
       "      <td>...</td>\n",
       "      <td>...</td>\n",
       "      <td>...</td>\n",
       "      <td>...</td>\n",
       "      <td>...</td>\n",
       "      <td>...</td>\n",
       "      <td>...</td>\n",
       "      <td>...</td>\n",
       "      <td>...</td>\n",
       "      <td>...</td>\n",
       "      <td>...</td>\n",
       "      <td>...</td>\n",
       "      <td>...</td>\n",
       "    </tr>\n",
       "    <tr>\n",
       "      <th>2939</th>\n",
       "      <td>2</td>\n",
       "      <td>2014-10-29</td>\n",
       "      <td>45</td>\n",
       "      <td>34</td>\n",
       "      <td>0.00000</td>\n",
       "      <td>0</td>\n",
       "      <td>0</td>\n",
       "      <td>29.42</td>\n",
       "      <td>30.07</td>\n",
       "      <td>29</td>\n",
       "      <td>9.0</td>\n",
       "      <td>2014</td>\n",
       "      <td>10</td>\n",
       "      <td>44</td>\n",
       "    </tr>\n",
       "    <tr>\n",
       "      <th>2940</th>\n",
       "      <td>1</td>\n",
       "      <td>2014-10-30</td>\n",
       "      <td>42</td>\n",
       "      <td>34</td>\n",
       "      <td>0.00000</td>\n",
       "      <td>0622</td>\n",
       "      <td>1649</td>\n",
       "      <td>29.34</td>\n",
       "      <td>30.09</td>\n",
       "      <td>24</td>\n",
       "      <td>5.5</td>\n",
       "      <td>2014</td>\n",
       "      <td>10</td>\n",
       "      <td>44</td>\n",
       "    </tr>\n",
       "    <tr>\n",
       "      <th>2941</th>\n",
       "      <td>2</td>\n",
       "      <td>2014-10-30</td>\n",
       "      <td>45</td>\n",
       "      <td>35</td>\n",
       "      <td>0.00001</td>\n",
       "      <td>0</td>\n",
       "      <td>0</td>\n",
       "      <td>29.41</td>\n",
       "      <td>30.10</td>\n",
       "      <td>23</td>\n",
       "      <td>6.5</td>\n",
       "      <td>2014</td>\n",
       "      <td>10</td>\n",
       "      <td>44</td>\n",
       "    </tr>\n",
       "    <tr>\n",
       "      <th>2942</th>\n",
       "      <td>1</td>\n",
       "      <td>2014-10-31</td>\n",
       "      <td>40</td>\n",
       "      <td>25</td>\n",
       "      <td>0.03000</td>\n",
       "      <td>0623</td>\n",
       "      <td>1647</td>\n",
       "      <td>29.49</td>\n",
       "      <td>30.20</td>\n",
       "      <td>34</td>\n",
       "      <td>22.9</td>\n",
       "      <td>2014</td>\n",
       "      <td>10</td>\n",
       "      <td>44</td>\n",
       "    </tr>\n",
       "    <tr>\n",
       "      <th>2943</th>\n",
       "      <td>2</td>\n",
       "      <td>2014-10-31</td>\n",
       "      <td>42</td>\n",
       "      <td>29</td>\n",
       "      <td>0.04000</td>\n",
       "      <td>0</td>\n",
       "      <td>0</td>\n",
       "      <td>29.54</td>\n",
       "      <td>30.20</td>\n",
       "      <td>34</td>\n",
       "      <td>22.6</td>\n",
       "      <td>2014</td>\n",
       "      <td>10</td>\n",
       "      <td>44</td>\n",
       "    </tr>\n",
       "  </tbody>\n",
       "</table>\n",
       "<p>2944 rows × 14 columns</p>\n",
       "</div>"
      ],
      "text/plain": [
       "      station       date  tavg  dew_point  precip_total sunrise sunset  \\\n",
       "0           1 2007-05-01    67         51       0.00000    0448   1849   \n",
       "1           2 2007-05-01    68         51       0.00000       0      0   \n",
       "2           1 2007-05-02    51         42       0.00000    0447   1850   \n",
       "3           2 2007-05-02    52         42       0.00000       0      0   \n",
       "4           1 2007-05-03    56         40       0.00000    0446   1851   \n",
       "...       ...        ...   ...        ...           ...     ...    ...   \n",
       "2939        2 2014-10-29    45         34       0.00000       0      0   \n",
       "2940        1 2014-10-30    42         34       0.00000    0622   1649   \n",
       "2941        2 2014-10-30    45         35       0.00001       0      0   \n",
       "2942        1 2014-10-31    40         25       0.03000    0623   1647   \n",
       "2943        2 2014-10-31    42         29       0.04000       0      0   \n",
       "\n",
       "      stn_pressure sea_level  result_dir  avg_speed  year  month  week_of_year  \n",
       "0            29.10     29.82          27        9.2  2007      5            18  \n",
       "1            29.18     29.82          25        9.6  2007      5            18  \n",
       "2            29.38     30.09           4       13.4  2007      5            18  \n",
       "3            29.44     30.08           2       13.4  2007      5            18  \n",
       "4            29.39     30.12           7       11.9  2007      5            18  \n",
       "...            ...       ...         ...        ...   ...    ...           ...  \n",
       "2939         29.42     30.07          29        9.0  2014     10            44  \n",
       "2940         29.34     30.09          24        5.5  2014     10            44  \n",
       "2941         29.41     30.10          23        6.5  2014     10            44  \n",
       "2942         29.49     30.20          34       22.9  2014     10            44  \n",
       "2943         29.54     30.20          34       22.6  2014     10            44  \n",
       "\n",
       "[2944 rows x 14 columns]"
      ]
     },
     "execution_count": 147,
     "metadata": {},
     "output_type": "execute_result"
    }
   ],
   "source": [
    "# create the columns for both train and test datasets\n",
    "preprocess_date(train)\n",
    "preprocess_date(test)\n",
    "preprocess_date(weather)"
   ]
  },
  {
   "cell_type": "markdown",
   "metadata": {
    "ExecuteTime": {
     "end_time": "2022-01-26T08:40:44.276695Z",
     "start_time": "2022-01-26T08:40:44.262738Z"
    }
   },
   "source": [
    "from scipy.stats import normaltest \n",
    "\n",
    "normaltest(train['tavg'])"
   ]
  },
  {
   "cell_type": "markdown",
   "metadata": {},
   "source": [
    "## Feature Engineering\n",
    "\n",
    "1. Humidity - Dew Point measures the xxxxxx. Therefore, the closer the dry bulb temperature (Tavg) with Dew Point, the more humid the atmosphere is.\n",
    "2. Daylight Hours - "
   ]
  },
  {
   "cell_type": "code",
   "execution_count": 148,
   "metadata": {
    "ExecuteTime": {
     "end_time": "2022-02-01T14:55:59.406517Z",
     "start_time": "2022-02-01T14:55:59.345681Z"
    }
   },
   "outputs": [
    {
     "name": "stdout",
     "output_type": "stream",
     "text": [
      "['1849' '1850' '1851' '1852' '1853' '1855' '1856' '1857' '1858' '1859'\n",
      " '1860' '1901' '1902' '1903' '1904' '1905' '1906' '1907' '1908' '1909'\n",
      " '1910' '1911' '1912' '1913' '1914' '1915' '1916' '1917' '1918' '1919'\n",
      " '1920' '1921' '1922' '1923' '1924' '1925' '1926' '1927' '1928' '1929'\n",
      " '1930' '1931' '1900' '1854' '1848' '1846' '1845' '1843' '1842' '1840'\n",
      " '1839' '1837' '1835' '1834' '1832' '1831' '1829' '1827' '1826' '1824'\n",
      " '1822' '1821' '1819' '1817' '1815' '1814' '1812' '1810' '1809' '1807'\n",
      " '1805' '1803' '1760' '1758' '1756' '1755' '1753' '1751' '1749' '1748'\n",
      " '1746' '1744' '1742' '1741' '1739' '1737' '1735' '1734' '1732' '1730'\n",
      " '1729' '1727' '1725' '1724' '1722' '1720' '1719' '1717' '1715' '1714'\n",
      " '1712' '1711' '1709' '1707' '1706' '1704' '1703' '1701' '1660' '1658'\n",
      " '1657' '1656' '1654' '1653' '1651' '1650' '1649' '1647']\n"
     ]
    }
   ],
   "source": [
    "# Only station 1 records sunrise and sunset hours.\n",
    "weather_1 = weather.loc[weather['station'] == 1]\n",
    "\n",
    "print(weather_1['sunset'].unique())\n",
    "\n",
    "# creating the daylight_hours column\n",
    "weather_1['sunset'] = weather_1['sunset'].map(lambda x : (str(int(x[0:2]) + 1) + '00') if x[2:4] == '60' else x)\n",
    "\n",
    "weather_1['sunrise_time'] = weather_1['sunrise'].map(lambda x : dt.datetime.strptime(x, '%H%M'))\n",
    "weather_1['sunset_time'] = weather_1['sunset'].map(lambda x : dt.datetime.strptime(x, '%H%M'))\n",
    "weather_1['daylight_hours'] = (weather_1['sunset_time'] - weather_1['sunrise_time']).map(lambda x : round((x.seconds/3600),2))\n",
    "\n",
    "weather = weather.merge(weather_1[['date','daylight_hours']], on='date')"
   ]
  },
  {
   "cell_type": "markdown",
   "metadata": {},
   "source": [
    "There were incorrect records where the '60' minutes were recorded for Sunset. We will correct these mistakes and create a new column called daylight_hours and append it to weather."
   ]
  },
  {
   "cell_type": "code",
   "execution_count": 149,
   "metadata": {
    "ExecuteTime": {
     "end_time": "2022-02-01T14:55:59.437469Z",
     "start_time": "2022-02-01T14:55:59.407546Z"
    }
   },
   "outputs": [
    {
     "data": {
      "text/html": [
       "<div>\n",
       "<style scoped>\n",
       "    .dataframe tbody tr th:only-of-type {\n",
       "        vertical-align: middle;\n",
       "    }\n",
       "\n",
       "    .dataframe tbody tr th {\n",
       "        vertical-align: top;\n",
       "    }\n",
       "\n",
       "    .dataframe thead th {\n",
       "        text-align: right;\n",
       "    }\n",
       "</style>\n",
       "<table border=\"1\" class=\"dataframe\">\n",
       "  <thead>\n",
       "    <tr style=\"text-align: right;\">\n",
       "      <th></th>\n",
       "      <th>station</th>\n",
       "      <th>date</th>\n",
       "      <th>tavg</th>\n",
       "      <th>dew_point</th>\n",
       "      <th>precip_total</th>\n",
       "      <th>sunrise</th>\n",
       "      <th>sunset</th>\n",
       "      <th>stn_pressure</th>\n",
       "      <th>sea_level</th>\n",
       "      <th>result_dir</th>\n",
       "      <th>avg_speed</th>\n",
       "      <th>year</th>\n",
       "      <th>month</th>\n",
       "      <th>week_of_year</th>\n",
       "      <th>daylight_hours</th>\n",
       "      <th>r_humidity</th>\n",
       "    </tr>\n",
       "  </thead>\n",
       "  <tbody>\n",
       "    <tr>\n",
       "      <th>0</th>\n",
       "      <td>1</td>\n",
       "      <td>2007-05-01</td>\n",
       "      <td>67</td>\n",
       "      <td>51</td>\n",
       "      <td>0.0</td>\n",
       "      <td>0448</td>\n",
       "      <td>1849</td>\n",
       "      <td>29.10</td>\n",
       "      <td>29.82</td>\n",
       "      <td>27</td>\n",
       "      <td>9.2</td>\n",
       "      <td>2007</td>\n",
       "      <td>5</td>\n",
       "      <td>18</td>\n",
       "      <td>14.02</td>\n",
       "      <td>56.44</td>\n",
       "    </tr>\n",
       "    <tr>\n",
       "      <th>1</th>\n",
       "      <td>2</td>\n",
       "      <td>2007-05-01</td>\n",
       "      <td>68</td>\n",
       "      <td>51</td>\n",
       "      <td>0.0</td>\n",
       "      <td>0</td>\n",
       "      <td>0</td>\n",
       "      <td>29.18</td>\n",
       "      <td>29.82</td>\n",
       "      <td>25</td>\n",
       "      <td>9.6</td>\n",
       "      <td>2007</td>\n",
       "      <td>5</td>\n",
       "      <td>18</td>\n",
       "      <td>14.02</td>\n",
       "      <td>54.53</td>\n",
       "    </tr>\n",
       "    <tr>\n",
       "      <th>2</th>\n",
       "      <td>1</td>\n",
       "      <td>2007-05-02</td>\n",
       "      <td>51</td>\n",
       "      <td>42</td>\n",
       "      <td>0.0</td>\n",
       "      <td>0447</td>\n",
       "      <td>1850</td>\n",
       "      <td>29.38</td>\n",
       "      <td>30.09</td>\n",
       "      <td>4</td>\n",
       "      <td>13.4</td>\n",
       "      <td>2007</td>\n",
       "      <td>5</td>\n",
       "      <td>18</td>\n",
       "      <td>14.05</td>\n",
       "      <td>71.20</td>\n",
       "    </tr>\n",
       "    <tr>\n",
       "      <th>3</th>\n",
       "      <td>2</td>\n",
       "      <td>2007-05-02</td>\n",
       "      <td>52</td>\n",
       "      <td>42</td>\n",
       "      <td>0.0</td>\n",
       "      <td>0</td>\n",
       "      <td>0</td>\n",
       "      <td>29.44</td>\n",
       "      <td>30.08</td>\n",
       "      <td>2</td>\n",
       "      <td>13.4</td>\n",
       "      <td>2007</td>\n",
       "      <td>5</td>\n",
       "      <td>18</td>\n",
       "      <td>14.05</td>\n",
       "      <td>68.61</td>\n",
       "    </tr>\n",
       "    <tr>\n",
       "      <th>4</th>\n",
       "      <td>1</td>\n",
       "      <td>2007-05-03</td>\n",
       "      <td>56</td>\n",
       "      <td>40</td>\n",
       "      <td>0.0</td>\n",
       "      <td>0446</td>\n",
       "      <td>1851</td>\n",
       "      <td>29.39</td>\n",
       "      <td>30.12</td>\n",
       "      <td>7</td>\n",
       "      <td>11.9</td>\n",
       "      <td>2007</td>\n",
       "      <td>5</td>\n",
       "      <td>18</td>\n",
       "      <td>14.08</td>\n",
       "      <td>54.87</td>\n",
       "    </tr>\n",
       "  </tbody>\n",
       "</table>\n",
       "</div>"
      ],
      "text/plain": [
       "   station       date  tavg  dew_point  precip_total sunrise sunset  \\\n",
       "0        1 2007-05-01    67         51           0.0    0448   1849   \n",
       "1        2 2007-05-01    68         51           0.0       0      0   \n",
       "2        1 2007-05-02    51         42           0.0    0447   1850   \n",
       "3        2 2007-05-02    52         42           0.0       0      0   \n",
       "4        1 2007-05-03    56         40           0.0    0446   1851   \n",
       "\n",
       "   stn_pressure sea_level  result_dir  avg_speed  year  month  week_of_year  \\\n",
       "0         29.10     29.82          27        9.2  2007      5            18   \n",
       "1         29.18     29.82          25        9.6  2007      5            18   \n",
       "2         29.38     30.09           4       13.4  2007      5            18   \n",
       "3         29.44     30.08           2       13.4  2007      5            18   \n",
       "4         29.39     30.12           7       11.9  2007      5            18   \n",
       "\n",
       "   daylight_hours  r_humidity  \n",
       "0           14.02       56.44  \n",
       "1           14.02       54.53  \n",
       "2           14.05       71.20  \n",
       "3           14.05       68.61  \n",
       "4           14.08       54.87  "
      ]
     },
     "execution_count": 149,
     "metadata": {},
     "output_type": "execute_result"
    }
   ],
   "source": [
    "# creating the humidity column\n",
    "tavg_celsius = ((weather['tavg'] - 32) * 5 / 9)\n",
    "dew_point_celsius = ((weather['dew_point'] - 32) * 5 / 9)\n",
    "vap_press_sat = np.exp((17.625 * tavg_celsius) / (tavg_celsius + 243.04))\n",
    "vap_press_act = np.exp((17.625 * dew_point_celsius) / (dew_point_celsius + 243.04))\n",
    "r_humidity = round(((vap_press_act / vap_press_sat) * 100),2)\n",
    "\n",
    "weather['r_humidity'] = r_humidity\n",
    "weather.head()"
   ]
  },
  {
   "cell_type": "markdown",
   "metadata": {},
   "source": [
    "# Exploratory Data Analysis"
   ]
  },
  {
   "cell_type": "markdown",
   "metadata": {},
   "source": [
    "## Distribution of Weather Information for Stations 1 & 2\n",
    "\n",
    "From the summary statistics below, the distributions of weather information from Stations 1 & 2 are very similar. The measurements will be consolidated into a single measure using the means of the measures of both stations for each day."
   ]
  },
  {
   "cell_type": "code",
   "execution_count": 150,
   "metadata": {
    "ExecuteTime": {
     "end_time": "2022-02-01T14:55:59.530217Z",
     "start_time": "2022-02-01T14:55:59.438483Z"
    }
   },
   "outputs": [
    {
     "data": {
      "text/html": [
       "<div>\n",
       "<style scoped>\n",
       "    .dataframe tbody tr th:only-of-type {\n",
       "        vertical-align: middle;\n",
       "    }\n",
       "\n",
       "    .dataframe tbody tr th {\n",
       "        vertical-align: top;\n",
       "    }\n",
       "\n",
       "    .dataframe thead th {\n",
       "        text-align: right;\n",
       "    }\n",
       "</style>\n",
       "<table border=\"1\" class=\"dataframe\">\n",
       "  <thead>\n",
       "    <tr style=\"text-align: right;\">\n",
       "      <th></th>\n",
       "      <th>station</th>\n",
       "      <th>tavg</th>\n",
       "      <th>dew_point</th>\n",
       "      <th>precip_total</th>\n",
       "      <th>stn_pressure</th>\n",
       "      <th>result_dir</th>\n",
       "      <th>avg_speed</th>\n",
       "      <th>year</th>\n",
       "      <th>month</th>\n",
       "      <th>week_of_year</th>\n",
       "      <th>daylight_hours</th>\n",
       "      <th>r_humidity</th>\n",
       "    </tr>\n",
       "  </thead>\n",
       "  <tbody>\n",
       "    <tr>\n",
       "      <th>count</th>\n",
       "      <td>1472.0</td>\n",
       "      <td>1472.000000</td>\n",
       "      <td>1472.000000</td>\n",
       "      <td>1472.000000</td>\n",
       "      <td>1472.000000</td>\n",
       "      <td>1472.000000</td>\n",
       "      <td>1472.000000</td>\n",
       "      <td>1472.000000</td>\n",
       "      <td>1472.000000</td>\n",
       "      <td>1472.000000</td>\n",
       "      <td>1472.000000</td>\n",
       "      <td>1472.000000</td>\n",
       "    </tr>\n",
       "    <tr>\n",
       "      <th>mean</th>\n",
       "      <td>1.0</td>\n",
       "      <td>66.606658</td>\n",
       "      <td>53.377717</td>\n",
       "      <td>0.134539</td>\n",
       "      <td>29.214457</td>\n",
       "      <td>17.656250</td>\n",
       "      <td>8.570788</td>\n",
       "      <td>2010.500000</td>\n",
       "      <td>7.500000</td>\n",
       "      <td>30.838995</td>\n",
       "      <td>13.669728</td>\n",
       "      <td>63.403736</td>\n",
       "    </tr>\n",
       "    <tr>\n",
       "      <th>std</th>\n",
       "      <td>0.0</td>\n",
       "      <td>10.511437</td>\n",
       "      <td>10.670263</td>\n",
       "      <td>0.421066</td>\n",
       "      <td>1.089193</td>\n",
       "      <td>10.222077</td>\n",
       "      <td>3.187250</td>\n",
       "      <td>2.292067</td>\n",
       "      <td>1.710526</td>\n",
       "      <td>7.602052</td>\n",
       "      <td>1.489801</td>\n",
       "      <td>11.318025</td>\n",
       "    </tr>\n",
       "    <tr>\n",
       "      <th>min</th>\n",
       "      <td>1.0</td>\n",
       "      <td>36.000000</td>\n",
       "      <td>22.000000</td>\n",
       "      <td>0.000000</td>\n",
       "      <td>0.000000</td>\n",
       "      <td>1.000000</td>\n",
       "      <td>1.900000</td>\n",
       "      <td>2007.000000</td>\n",
       "      <td>5.000000</td>\n",
       "      <td>17.000000</td>\n",
       "      <td>10.400000</td>\n",
       "      <td>32.110000</td>\n",
       "    </tr>\n",
       "    <tr>\n",
       "      <th>25%</th>\n",
       "      <td>1.0</td>\n",
       "      <td>60.000000</td>\n",
       "      <td>46.000000</td>\n",
       "      <td>0.000000</td>\n",
       "      <td>29.160000</td>\n",
       "      <td>7.000000</td>\n",
       "      <td>6.200000</td>\n",
       "      <td>2008.750000</td>\n",
       "      <td>6.000000</td>\n",
       "      <td>24.000000</td>\n",
       "      <td>12.515000</td>\n",
       "      <td>55.355000</td>\n",
       "    </tr>\n",
       "    <tr>\n",
       "      <th>50%</th>\n",
       "      <td>1.0</td>\n",
       "      <td>68.000000</td>\n",
       "      <td>54.000000</td>\n",
       "      <td>0.000000</td>\n",
       "      <td>29.260000</td>\n",
       "      <td>19.500000</td>\n",
       "      <td>8.100000</td>\n",
       "      <td>2010.500000</td>\n",
       "      <td>7.500000</td>\n",
       "      <td>31.000000</td>\n",
       "      <td>14.235000</td>\n",
       "      <td>63.130000</td>\n",
       "    </tr>\n",
       "    <tr>\n",
       "      <th>75%</th>\n",
       "      <td>1.0</td>\n",
       "      <td>75.000000</td>\n",
       "      <td>61.250000</td>\n",
       "      <td>0.060000</td>\n",
       "      <td>29.350000</td>\n",
       "      <td>26.000000</td>\n",
       "      <td>10.400000</td>\n",
       "      <td>2012.250000</td>\n",
       "      <td>9.000000</td>\n",
       "      <td>37.000000</td>\n",
       "      <td>14.955000</td>\n",
       "      <td>70.890000</td>\n",
       "    </tr>\n",
       "    <tr>\n",
       "      <th>max</th>\n",
       "      <td>1.0</td>\n",
       "      <td>93.000000</td>\n",
       "      <td>75.000000</td>\n",
       "      <td>6.860000</td>\n",
       "      <td>29.790000</td>\n",
       "      <td>36.000000</td>\n",
       "      <td>26.300000</td>\n",
       "      <td>2014.000000</td>\n",
       "      <td>10.000000</td>\n",
       "      <td>44.000000</td>\n",
       "      <td>15.230000</td>\n",
       "      <td>103.700000</td>\n",
       "    </tr>\n",
       "  </tbody>\n",
       "</table>\n",
       "</div>"
      ],
      "text/plain": [
       "       station         tavg    dew_point  precip_total  stn_pressure  \\\n",
       "count   1472.0  1472.000000  1472.000000   1472.000000   1472.000000   \n",
       "mean       1.0    66.606658    53.377717      0.134539     29.214457   \n",
       "std        0.0    10.511437    10.670263      0.421066      1.089193   \n",
       "min        1.0    36.000000    22.000000      0.000000      0.000000   \n",
       "25%        1.0    60.000000    46.000000      0.000000     29.160000   \n",
       "50%        1.0    68.000000    54.000000      0.000000     29.260000   \n",
       "75%        1.0    75.000000    61.250000      0.060000     29.350000   \n",
       "max        1.0    93.000000    75.000000      6.860000     29.790000   \n",
       "\n",
       "        result_dir    avg_speed         year        month  week_of_year  \\\n",
       "count  1472.000000  1472.000000  1472.000000  1472.000000   1472.000000   \n",
       "mean     17.656250     8.570788  2010.500000     7.500000     30.838995   \n",
       "std      10.222077     3.187250     2.292067     1.710526      7.602052   \n",
       "min       1.000000     1.900000  2007.000000     5.000000     17.000000   \n",
       "25%       7.000000     6.200000  2008.750000     6.000000     24.000000   \n",
       "50%      19.500000     8.100000  2010.500000     7.500000     31.000000   \n",
       "75%      26.000000    10.400000  2012.250000     9.000000     37.000000   \n",
       "max      36.000000    26.300000  2014.000000    10.000000     44.000000   \n",
       "\n",
       "       daylight_hours   r_humidity  \n",
       "count     1472.000000  1472.000000  \n",
       "mean        13.669728    63.403736  \n",
       "std          1.489801    11.318025  \n",
       "min         10.400000    32.110000  \n",
       "25%         12.515000    55.355000  \n",
       "50%         14.235000    63.130000  \n",
       "75%         14.955000    70.890000  \n",
       "max         15.230000   103.700000  "
      ]
     },
     "metadata": {},
     "output_type": "display_data"
    },
    {
     "data": {
      "text/html": [
       "<div>\n",
       "<style scoped>\n",
       "    .dataframe tbody tr th:only-of-type {\n",
       "        vertical-align: middle;\n",
       "    }\n",
       "\n",
       "    .dataframe tbody tr th {\n",
       "        vertical-align: top;\n",
       "    }\n",
       "\n",
       "    .dataframe thead th {\n",
       "        text-align: right;\n",
       "    }\n",
       "</style>\n",
       "<table border=\"1\" class=\"dataframe\">\n",
       "  <thead>\n",
       "    <tr style=\"text-align: right;\">\n",
       "      <th></th>\n",
       "      <th>station</th>\n",
       "      <th>tavg</th>\n",
       "      <th>dew_point</th>\n",
       "      <th>precip_total</th>\n",
       "      <th>stn_pressure</th>\n",
       "      <th>result_dir</th>\n",
       "      <th>avg_speed</th>\n",
       "      <th>year</th>\n",
       "      <th>month</th>\n",
       "      <th>week_of_year</th>\n",
       "      <th>daylight_hours</th>\n",
       "      <th>r_humidity</th>\n",
       "    </tr>\n",
       "  </thead>\n",
       "  <tbody>\n",
       "    <tr>\n",
       "      <th>count</th>\n",
       "      <td>1472.0</td>\n",
       "      <td>1472.000000</td>\n",
       "      <td>1472.000000</td>\n",
       "      <td>1472.000000</td>\n",
       "      <td>1472.000000</td>\n",
       "      <td>1472.00000</td>\n",
       "      <td>1472.000000</td>\n",
       "      <td>1472.000000</td>\n",
       "      <td>1472.000000</td>\n",
       "      <td>1472.000000</td>\n",
       "      <td>1472.000000</td>\n",
       "      <td>1472.000000</td>\n",
       "    </tr>\n",
       "    <tr>\n",
       "      <th>mean</th>\n",
       "      <td>2.0</td>\n",
       "      <td>67.370924</td>\n",
       "      <td>53.538043</td>\n",
       "      <td>0.127943</td>\n",
       "      <td>29.274823</td>\n",
       "      <td>17.33356</td>\n",
       "      <td>8.572622</td>\n",
       "      <td>2010.500000</td>\n",
       "      <td>7.500000</td>\n",
       "      <td>30.838995</td>\n",
       "      <td>13.669728</td>\n",
       "      <td>67.495482</td>\n",
       "    </tr>\n",
       "    <tr>\n",
       "      <th>std</th>\n",
       "      <td>0.0</td>\n",
       "      <td>12.023190</td>\n",
       "      <td>10.683121</td>\n",
       "      <td>0.363335</td>\n",
       "      <td>1.091259</td>\n",
       "      <td>9.90345</td>\n",
       "      <td>3.128732</td>\n",
       "      <td>2.292067</td>\n",
       "      <td>1.710526</td>\n",
       "      <td>7.602052</td>\n",
       "      <td>1.489801</td>\n",
       "      <td>82.207548</td>\n",
       "    </tr>\n",
       "    <tr>\n",
       "      <th>min</th>\n",
       "      <td>2.0</td>\n",
       "      <td>0.000000</td>\n",
       "      <td>23.000000</td>\n",
       "      <td>0.000000</td>\n",
       "      <td>0.000000</td>\n",
       "      <td>1.00000</td>\n",
       "      <td>0.000000</td>\n",
       "      <td>2007.000000</td>\n",
       "      <td>5.000000</td>\n",
       "      <td>17.000000</td>\n",
       "      <td>10.400000</td>\n",
       "      <td>29.990000</td>\n",
       "    </tr>\n",
       "    <tr>\n",
       "      <th>25%</th>\n",
       "      <td>2.0</td>\n",
       "      <td>61.000000</td>\n",
       "      <td>46.000000</td>\n",
       "      <td>0.000000</td>\n",
       "      <td>29.230000</td>\n",
       "      <td>8.00000</td>\n",
       "      <td>6.300000</td>\n",
       "      <td>2008.750000</td>\n",
       "      <td>6.000000</td>\n",
       "      <td>24.000000</td>\n",
       "      <td>12.515000</td>\n",
       "      <td>53.187500</td>\n",
       "    </tr>\n",
       "    <tr>\n",
       "      <th>50%</th>\n",
       "      <td>2.0</td>\n",
       "      <td>70.000000</td>\n",
       "      <td>55.000000</td>\n",
       "      <td>0.000000</td>\n",
       "      <td>29.320000</td>\n",
       "      <td>19.00000</td>\n",
       "      <td>8.100000</td>\n",
       "      <td>2010.500000</td>\n",
       "      <td>7.500000</td>\n",
       "      <td>31.000000</td>\n",
       "      <td>14.235000</td>\n",
       "      <td>60.635000</td>\n",
       "    </tr>\n",
       "    <tr>\n",
       "      <th>75%</th>\n",
       "      <td>2.0</td>\n",
       "      <td>76.000000</td>\n",
       "      <td>62.000000</td>\n",
       "      <td>0.050000</td>\n",
       "      <td>29.410000</td>\n",
       "      <td>24.00000</td>\n",
       "      <td>10.400000</td>\n",
       "      <td>2012.250000</td>\n",
       "      <td>9.000000</td>\n",
       "      <td>37.000000</td>\n",
       "      <td>14.955000</td>\n",
       "      <td>68.660000</td>\n",
       "    </tr>\n",
       "    <tr>\n",
       "      <th>max</th>\n",
       "      <td>2.0</td>\n",
       "      <td>94.000000</td>\n",
       "      <td>74.000000</td>\n",
       "      <td>4.730000</td>\n",
       "      <td>29.860000</td>\n",
       "      <td>36.00000</td>\n",
       "      <td>22.600000</td>\n",
       "      <td>2014.000000</td>\n",
       "      <td>10.000000</td>\n",
       "      <td>44.000000</td>\n",
       "      <td>15.230000</td>\n",
       "      <td>1643.760000</td>\n",
       "    </tr>\n",
       "  </tbody>\n",
       "</table>\n",
       "</div>"
      ],
      "text/plain": [
       "       station         tavg    dew_point  precip_total  stn_pressure  \\\n",
       "count   1472.0  1472.000000  1472.000000   1472.000000   1472.000000   \n",
       "mean       2.0    67.370924    53.538043      0.127943     29.274823   \n",
       "std        0.0    12.023190    10.683121      0.363335      1.091259   \n",
       "min        2.0     0.000000    23.000000      0.000000      0.000000   \n",
       "25%        2.0    61.000000    46.000000      0.000000     29.230000   \n",
       "50%        2.0    70.000000    55.000000      0.000000     29.320000   \n",
       "75%        2.0    76.000000    62.000000      0.050000     29.410000   \n",
       "max        2.0    94.000000    74.000000      4.730000     29.860000   \n",
       "\n",
       "       result_dir    avg_speed         year        month  week_of_year  \\\n",
       "count  1472.00000  1472.000000  1472.000000  1472.000000   1472.000000   \n",
       "mean     17.33356     8.572622  2010.500000     7.500000     30.838995   \n",
       "std       9.90345     3.128732     2.292067     1.710526      7.602052   \n",
       "min       1.00000     0.000000  2007.000000     5.000000     17.000000   \n",
       "25%       8.00000     6.300000  2008.750000     6.000000     24.000000   \n",
       "50%      19.00000     8.100000  2010.500000     7.500000     31.000000   \n",
       "75%      24.00000    10.400000  2012.250000     9.000000     37.000000   \n",
       "max      36.00000    22.600000  2014.000000    10.000000     44.000000   \n",
       "\n",
       "       daylight_hours   r_humidity  \n",
       "count     1472.000000  1472.000000  \n",
       "mean        13.669728    67.495482  \n",
       "std          1.489801    82.207548  \n",
       "min         10.400000    29.990000  \n",
       "25%         12.515000    53.187500  \n",
       "50%         14.235000    60.635000  \n",
       "75%         14.955000    68.660000  \n",
       "max         15.230000  1643.760000  "
      ]
     },
     "metadata": {},
     "output_type": "display_data"
    }
   ],
   "source": [
    "display(weather[weather['station']==1].describe())\n",
    "display(weather[weather['station']==2].describe())"
   ]
  },
  {
   "cell_type": "code",
   "execution_count": 151,
   "metadata": {
    "ExecuteTime": {
     "end_time": "2022-02-01T14:55:59.561145Z",
     "start_time": "2022-02-01T14:55:59.531217Z"
    }
   },
   "outputs": [
    {
     "data": {
      "text/html": [
       "<div>\n",
       "<style scoped>\n",
       "    .dataframe tbody tr th:only-of-type {\n",
       "        vertical-align: middle;\n",
       "    }\n",
       "\n",
       "    .dataframe tbody tr th {\n",
       "        vertical-align: top;\n",
       "    }\n",
       "\n",
       "    .dataframe thead th {\n",
       "        text-align: right;\n",
       "    }\n",
       "</style>\n",
       "<table border=\"1\" class=\"dataframe\">\n",
       "  <thead>\n",
       "    <tr style=\"text-align: right;\">\n",
       "      <th></th>\n",
       "      <th>date</th>\n",
       "      <th>tavg</th>\n",
       "      <th>dew_point</th>\n",
       "      <th>precip_total</th>\n",
       "      <th>stn_pressure</th>\n",
       "      <th>result_dir</th>\n",
       "      <th>avg_speed</th>\n",
       "      <th>year</th>\n",
       "      <th>month</th>\n",
       "      <th>week_of_year</th>\n",
       "      <th>daylight_hours</th>\n",
       "      <th>r_humidity</th>\n",
       "    </tr>\n",
       "  </thead>\n",
       "  <tbody>\n",
       "    <tr>\n",
       "      <th>0</th>\n",
       "      <td>2007-05-01</td>\n",
       "      <td>67.5</td>\n",
       "      <td>51.0</td>\n",
       "      <td>0.000000</td>\n",
       "      <td>29.140</td>\n",
       "      <td>26.0</td>\n",
       "      <td>9.40</td>\n",
       "      <td>2007.0</td>\n",
       "      <td>5.0</td>\n",
       "      <td>18.0</td>\n",
       "      <td>14.02</td>\n",
       "      <td>55.485</td>\n",
       "    </tr>\n",
       "    <tr>\n",
       "      <th>1</th>\n",
       "      <td>2007-05-02</td>\n",
       "      <td>51.5</td>\n",
       "      <td>42.0</td>\n",
       "      <td>0.000000</td>\n",
       "      <td>29.410</td>\n",
       "      <td>3.0</td>\n",
       "      <td>13.40</td>\n",
       "      <td>2007.0</td>\n",
       "      <td>5.0</td>\n",
       "      <td>18.0</td>\n",
       "      <td>14.05</td>\n",
       "      <td>69.905</td>\n",
       "    </tr>\n",
       "    <tr>\n",
       "      <th>2</th>\n",
       "      <td>2007-05-03</td>\n",
       "      <td>57.0</td>\n",
       "      <td>40.0</td>\n",
       "      <td>0.000000</td>\n",
       "      <td>29.425</td>\n",
       "      <td>6.5</td>\n",
       "      <td>12.55</td>\n",
       "      <td>2007.0</td>\n",
       "      <td>5.0</td>\n",
       "      <td>18.0</td>\n",
       "      <td>14.08</td>\n",
       "      <td>52.965</td>\n",
       "    </tr>\n",
       "    <tr>\n",
       "      <th>3</th>\n",
       "      <td>2007-05-04</td>\n",
       "      <td>29.0</td>\n",
       "      <td>41.5</td>\n",
       "      <td>0.000005</td>\n",
       "      <td>29.335</td>\n",
       "      <td>7.5</td>\n",
       "      <td>10.60</td>\n",
       "      <td>2007.0</td>\n",
       "      <td>5.0</td>\n",
       "      <td>18.0</td>\n",
       "      <td>14.13</td>\n",
       "      <td>324.475</td>\n",
       "    </tr>\n",
       "    <tr>\n",
       "      <th>4</th>\n",
       "      <td>2007-05-05</td>\n",
       "      <td>60.0</td>\n",
       "      <td>38.5</td>\n",
       "      <td>0.000010</td>\n",
       "      <td>29.430</td>\n",
       "      <td>7.0</td>\n",
       "      <td>11.75</td>\n",
       "      <td>2007.0</td>\n",
       "      <td>5.0</td>\n",
       "      <td>18.0</td>\n",
       "      <td>14.17</td>\n",
       "      <td>44.845</td>\n",
       "    </tr>\n",
       "  </tbody>\n",
       "</table>\n",
       "</div>"
      ],
      "text/plain": [
       "        date  tavg  dew_point  precip_total  stn_pressure  result_dir  \\\n",
       "0 2007-05-01  67.5       51.0      0.000000        29.140        26.0   \n",
       "1 2007-05-02  51.5       42.0      0.000000        29.410         3.0   \n",
       "2 2007-05-03  57.0       40.0      0.000000        29.425         6.5   \n",
       "3 2007-05-04  29.0       41.5      0.000005        29.335         7.5   \n",
       "4 2007-05-05  60.0       38.5      0.000010        29.430         7.0   \n",
       "\n",
       "   avg_speed    year  month  week_of_year  daylight_hours  r_humidity  \n",
       "0       9.40  2007.0    5.0          18.0           14.02      55.485  \n",
       "1      13.40  2007.0    5.0          18.0           14.05      69.905  \n",
       "2      12.55  2007.0    5.0          18.0           14.08      52.965  \n",
       "3      10.60  2007.0    5.0          18.0           14.13     324.475  \n",
       "4      11.75  2007.0    5.0          18.0           14.17      44.845  "
      ]
     },
     "execution_count": 151,
     "metadata": {},
     "output_type": "execute_result"
    }
   ],
   "source": [
    "weather_agg = weather.groupby('date').mean()\n",
    "weather_agg.drop(columns=['station'], inplace=True)\n",
    "weather_agg.reset_index(inplace=True)\n",
    "weather_agg.head()"
   ]
  },
  {
   "cell_type": "markdown",
   "metadata": {},
   "source": [
    "The weather and train DataFrames will be merged on the dates when there are records of testing"
   ]
  },
  {
   "cell_type": "code",
   "execution_count": 152,
   "metadata": {
    "ExecuteTime": {
     "end_time": "2022-02-01T14:55:59.653855Z",
     "start_time": "2022-02-01T14:55:59.562127Z"
    }
   },
   "outputs": [
    {
     "data": {
      "text/html": [
       "<div>\n",
       "<style scoped>\n",
       "    .dataframe tbody tr th:only-of-type {\n",
       "        vertical-align: middle;\n",
       "    }\n",
       "\n",
       "    .dataframe tbody tr th {\n",
       "        vertical-align: top;\n",
       "    }\n",
       "\n",
       "    .dataframe thead th {\n",
       "        text-align: right;\n",
       "    }\n",
       "</style>\n",
       "<table border=\"1\" class=\"dataframe\">\n",
       "  <thead>\n",
       "    <tr style=\"text-align: right;\">\n",
       "      <th></th>\n",
       "      <th>date</th>\n",
       "      <th>species</th>\n",
       "      <th>latitude</th>\n",
       "      <th>longitude</th>\n",
       "      <th>wnv_present</th>\n",
       "      <th>tavg</th>\n",
       "      <th>dew_point</th>\n",
       "      <th>precip_total</th>\n",
       "      <th>stn_pressure</th>\n",
       "      <th>result_dir</th>\n",
       "      <th>avg_speed</th>\n",
       "      <th>year</th>\n",
       "      <th>month</th>\n",
       "      <th>week_of_year</th>\n",
       "      <th>daylight_hours</th>\n",
       "      <th>r_humidity</th>\n",
       "    </tr>\n",
       "  </thead>\n",
       "  <tbody>\n",
       "    <tr>\n",
       "      <th>0</th>\n",
       "      <td>2007-05-29</td>\n",
       "      <td>CULEX PIPIENS/RESTUANS</td>\n",
       "      <td>41.954690</td>\n",
       "      <td>-87.800991</td>\n",
       "      <td>0</td>\n",
       "      <td>75.5</td>\n",
       "      <td>58.5</td>\n",
       "      <td>0.0</td>\n",
       "      <td>29.415</td>\n",
       "      <td>17.0</td>\n",
       "      <td>6.95</td>\n",
       "      <td>2007.0</td>\n",
       "      <td>5.0</td>\n",
       "      <td>22.0</td>\n",
       "      <td>14.93</td>\n",
       "      <td>55.615</td>\n",
       "    </tr>\n",
       "    <tr>\n",
       "      <th>1</th>\n",
       "      <td>2007-05-29</td>\n",
       "      <td>CULEX RESTUANS</td>\n",
       "      <td>41.954690</td>\n",
       "      <td>-87.800991</td>\n",
       "      <td>0</td>\n",
       "      <td>75.5</td>\n",
       "      <td>58.5</td>\n",
       "      <td>0.0</td>\n",
       "      <td>29.415</td>\n",
       "      <td>17.0</td>\n",
       "      <td>6.95</td>\n",
       "      <td>2007.0</td>\n",
       "      <td>5.0</td>\n",
       "      <td>22.0</td>\n",
       "      <td>14.93</td>\n",
       "      <td>55.615</td>\n",
       "    </tr>\n",
       "    <tr>\n",
       "      <th>2</th>\n",
       "      <td>2007-05-29</td>\n",
       "      <td>CULEX RESTUANS</td>\n",
       "      <td>41.994991</td>\n",
       "      <td>-87.769279</td>\n",
       "      <td>0</td>\n",
       "      <td>75.5</td>\n",
       "      <td>58.5</td>\n",
       "      <td>0.0</td>\n",
       "      <td>29.415</td>\n",
       "      <td>17.0</td>\n",
       "      <td>6.95</td>\n",
       "      <td>2007.0</td>\n",
       "      <td>5.0</td>\n",
       "      <td>22.0</td>\n",
       "      <td>14.93</td>\n",
       "      <td>55.615</td>\n",
       "    </tr>\n",
       "    <tr>\n",
       "      <th>3</th>\n",
       "      <td>2007-05-29</td>\n",
       "      <td>CULEX PIPIENS/RESTUANS</td>\n",
       "      <td>41.974089</td>\n",
       "      <td>-87.824812</td>\n",
       "      <td>0</td>\n",
       "      <td>75.5</td>\n",
       "      <td>58.5</td>\n",
       "      <td>0.0</td>\n",
       "      <td>29.415</td>\n",
       "      <td>17.0</td>\n",
       "      <td>6.95</td>\n",
       "      <td>2007.0</td>\n",
       "      <td>5.0</td>\n",
       "      <td>22.0</td>\n",
       "      <td>14.93</td>\n",
       "      <td>55.615</td>\n",
       "    </tr>\n",
       "    <tr>\n",
       "      <th>4</th>\n",
       "      <td>2007-05-29</td>\n",
       "      <td>CULEX RESTUANS</td>\n",
       "      <td>41.974089</td>\n",
       "      <td>-87.824812</td>\n",
       "      <td>0</td>\n",
       "      <td>75.5</td>\n",
       "      <td>58.5</td>\n",
       "      <td>0.0</td>\n",
       "      <td>29.415</td>\n",
       "      <td>17.0</td>\n",
       "      <td>6.95</td>\n",
       "      <td>2007.0</td>\n",
       "      <td>5.0</td>\n",
       "      <td>22.0</td>\n",
       "      <td>14.93</td>\n",
       "      <td>55.615</td>\n",
       "    </tr>\n",
       "  </tbody>\n",
       "</table>\n",
       "</div>"
      ],
      "text/plain": [
       "        date                 species   latitude  longitude  wnv_present  tavg  \\\n",
       "0 2007-05-29  CULEX PIPIENS/RESTUANS  41.954690 -87.800991            0  75.5   \n",
       "1 2007-05-29          CULEX RESTUANS  41.954690 -87.800991            0  75.5   \n",
       "2 2007-05-29          CULEX RESTUANS  41.994991 -87.769279            0  75.5   \n",
       "3 2007-05-29  CULEX PIPIENS/RESTUANS  41.974089 -87.824812            0  75.5   \n",
       "4 2007-05-29          CULEX RESTUANS  41.974089 -87.824812            0  75.5   \n",
       "\n",
       "   dew_point  precip_total  stn_pressure  result_dir  avg_speed    year  \\\n",
       "0       58.5           0.0        29.415        17.0       6.95  2007.0   \n",
       "1       58.5           0.0        29.415        17.0       6.95  2007.0   \n",
       "2       58.5           0.0        29.415        17.0       6.95  2007.0   \n",
       "3       58.5           0.0        29.415        17.0       6.95  2007.0   \n",
       "4       58.5           0.0        29.415        17.0       6.95  2007.0   \n",
       "\n",
       "   month  week_of_year  daylight_hours  r_humidity  \n",
       "0    5.0          22.0           14.93      55.615  \n",
       "1    5.0          22.0           14.93      55.615  \n",
       "2    5.0          22.0           14.93      55.615  \n",
       "3    5.0          22.0           14.93      55.615  \n",
       "4    5.0          22.0           14.93      55.615  "
      ]
     },
     "execution_count": 152,
     "metadata": {},
     "output_type": "execute_result"
    }
   ],
   "source": [
    "# merging the weather_agg and train columns + deleting duplicated columns + renaming columns\n",
    "\n",
    "train = train.merge(weather_agg, on='date')\n",
    "test = test.merge(weather_agg, on ='date')\n",
    "\n",
    "train.drop(columns=['year_x', 'month_x', 'week_of_year_x'],inplace=True)\n",
    "train.rename(columns={'year_y':'year', 'month_y':'month','week_of_year_y':'week_of_year'},inplace=True)\n",
    "test.drop(columns=['year_x', 'month_x', 'week_of_year_x'],inplace=True)\n",
    "test.rename(columns={'year_y':'year', 'month_y':'month','week_of_year_y':'week_of_year'},inplace=True)\n",
    "train.head()"
   ]
  },
  {
   "cell_type": "code",
   "execution_count": 153,
   "metadata": {
    "ExecuteTime": {
     "end_time": "2022-02-01T14:55:59.684800Z",
     "start_time": "2022-02-01T14:55:59.654853Z"
    }
   },
   "outputs": [
    {
     "data": {
      "text/html": [
       "<div>\n",
       "<style scoped>\n",
       "    .dataframe tbody tr th:only-of-type {\n",
       "        vertical-align: middle;\n",
       "    }\n",
       "\n",
       "    .dataframe tbody tr th {\n",
       "        vertical-align: top;\n",
       "    }\n",
       "\n",
       "    .dataframe thead th {\n",
       "        text-align: right;\n",
       "    }\n",
       "</style>\n",
       "<table border=\"1\" class=\"dataframe\">\n",
       "  <thead>\n",
       "    <tr style=\"text-align: right;\">\n",
       "      <th></th>\n",
       "      <th>date</th>\n",
       "      <th>species</th>\n",
       "      <th>latitude</th>\n",
       "      <th>longitude</th>\n",
       "      <th>tavg</th>\n",
       "      <th>dew_point</th>\n",
       "      <th>precip_total</th>\n",
       "      <th>stn_pressure</th>\n",
       "      <th>result_dir</th>\n",
       "      <th>avg_speed</th>\n",
       "      <th>year</th>\n",
       "      <th>month</th>\n",
       "      <th>week_of_year</th>\n",
       "      <th>daylight_hours</th>\n",
       "      <th>r_humidity</th>\n",
       "    </tr>\n",
       "  </thead>\n",
       "  <tbody>\n",
       "    <tr>\n",
       "      <th>0</th>\n",
       "      <td>2008-06-11</td>\n",
       "      <td>CULEX PIPIENS/RESTUANS</td>\n",
       "      <td>41.95469</td>\n",
       "      <td>-87.800991</td>\n",
       "      <td>75.0</td>\n",
       "      <td>55.5</td>\n",
       "      <td>0.0</td>\n",
       "      <td>29.31</td>\n",
       "      <td>18.0</td>\n",
       "      <td>10.2</td>\n",
       "      <td>2008.0</td>\n",
       "      <td>6.0</td>\n",
       "      <td>24.0</td>\n",
       "      <td>15.17</td>\n",
       "      <td>50.79</td>\n",
       "    </tr>\n",
       "    <tr>\n",
       "      <th>1</th>\n",
       "      <td>2008-06-11</td>\n",
       "      <td>CULEX RESTUANS</td>\n",
       "      <td>41.95469</td>\n",
       "      <td>-87.800991</td>\n",
       "      <td>75.0</td>\n",
       "      <td>55.5</td>\n",
       "      <td>0.0</td>\n",
       "      <td>29.31</td>\n",
       "      <td>18.0</td>\n",
       "      <td>10.2</td>\n",
       "      <td>2008.0</td>\n",
       "      <td>6.0</td>\n",
       "      <td>24.0</td>\n",
       "      <td>15.17</td>\n",
       "      <td>50.79</td>\n",
       "    </tr>\n",
       "    <tr>\n",
       "      <th>2</th>\n",
       "      <td>2008-06-11</td>\n",
       "      <td>CULEX PIPIENS</td>\n",
       "      <td>41.95469</td>\n",
       "      <td>-87.800991</td>\n",
       "      <td>75.0</td>\n",
       "      <td>55.5</td>\n",
       "      <td>0.0</td>\n",
       "      <td>29.31</td>\n",
       "      <td>18.0</td>\n",
       "      <td>10.2</td>\n",
       "      <td>2008.0</td>\n",
       "      <td>6.0</td>\n",
       "      <td>24.0</td>\n",
       "      <td>15.17</td>\n",
       "      <td>50.79</td>\n",
       "    </tr>\n",
       "    <tr>\n",
       "      <th>3</th>\n",
       "      <td>2008-06-11</td>\n",
       "      <td>CULEX SALINARIUS</td>\n",
       "      <td>41.95469</td>\n",
       "      <td>-87.800991</td>\n",
       "      <td>75.0</td>\n",
       "      <td>55.5</td>\n",
       "      <td>0.0</td>\n",
       "      <td>29.31</td>\n",
       "      <td>18.0</td>\n",
       "      <td>10.2</td>\n",
       "      <td>2008.0</td>\n",
       "      <td>6.0</td>\n",
       "      <td>24.0</td>\n",
       "      <td>15.17</td>\n",
       "      <td>50.79</td>\n",
       "    </tr>\n",
       "    <tr>\n",
       "      <th>4</th>\n",
       "      <td>2008-06-11</td>\n",
       "      <td>CULEX TERRITANS</td>\n",
       "      <td>41.95469</td>\n",
       "      <td>-87.800991</td>\n",
       "      <td>75.0</td>\n",
       "      <td>55.5</td>\n",
       "      <td>0.0</td>\n",
       "      <td>29.31</td>\n",
       "      <td>18.0</td>\n",
       "      <td>10.2</td>\n",
       "      <td>2008.0</td>\n",
       "      <td>6.0</td>\n",
       "      <td>24.0</td>\n",
       "      <td>15.17</td>\n",
       "      <td>50.79</td>\n",
       "    </tr>\n",
       "  </tbody>\n",
       "</table>\n",
       "</div>"
      ],
      "text/plain": [
       "        date                 species  latitude  longitude  tavg  dew_point  \\\n",
       "0 2008-06-11  CULEX PIPIENS/RESTUANS  41.95469 -87.800991  75.0       55.5   \n",
       "1 2008-06-11          CULEX RESTUANS  41.95469 -87.800991  75.0       55.5   \n",
       "2 2008-06-11           CULEX PIPIENS  41.95469 -87.800991  75.0       55.5   \n",
       "3 2008-06-11        CULEX SALINARIUS  41.95469 -87.800991  75.0       55.5   \n",
       "4 2008-06-11         CULEX TERRITANS  41.95469 -87.800991  75.0       55.5   \n",
       "\n",
       "   precip_total  stn_pressure  result_dir  avg_speed    year  month  \\\n",
       "0           0.0         29.31        18.0       10.2  2008.0    6.0   \n",
       "1           0.0         29.31        18.0       10.2  2008.0    6.0   \n",
       "2           0.0         29.31        18.0       10.2  2008.0    6.0   \n",
       "3           0.0         29.31        18.0       10.2  2008.0    6.0   \n",
       "4           0.0         29.31        18.0       10.2  2008.0    6.0   \n",
       "\n",
       "   week_of_year  daylight_hours  r_humidity  \n",
       "0          24.0           15.17       50.79  \n",
       "1          24.0           15.17       50.79  \n",
       "2          24.0           15.17       50.79  \n",
       "3          24.0           15.17       50.79  \n",
       "4          24.0           15.17       50.79  "
      ]
     },
     "execution_count": 153,
     "metadata": {},
     "output_type": "execute_result"
    }
   ],
   "source": [
    "test.head()"
   ]
  },
  {
   "cell_type": "markdown",
   "metadata": {},
   "source": [
    "## Temporal Trends for Testing \n",
    "\n",
    "\n",
    "### Macro Trends by Year\n",
    "\n",
    "(to be revised)\n",
    "From Fig 1, we can observe that 2007 & 2013 showed a marked increase in WNV cases over 2009 & 2011. Fig 2 below shows that increase in cases recorded in 2007 likely resulted from increased testing efforts as the number of tests performed were much higher than the proceeding years, testing efforts from 2009 onwards were quite similar and the spike in WNV cases in 2013 is likely to have arisen due to other factors, not because more tests were performed. "
   ]
  },
  {
   "cell_type": "code",
   "execution_count": 154,
   "metadata": {
    "ExecuteTime": {
     "end_time": "2022-02-01T14:55:59.838397Z",
     "start_time": "2022-02-01T14:55:59.685770Z"
    }
   },
   "outputs": [
    {
     "data": {
      "text/plain": [
       "Text(0.5, 1.0, 'Fig 1: Average Number of WNV Cases by Year from Odd Years 2007-2013')"
      ]
     },
     "execution_count": 154,
     "metadata": {},
     "output_type": "execute_result"
    },
    {
     "data": {
      "image/png": "[encoded data removed]",
      "text/plain": [
       "<Figure size 1008x432 with 1 Axes>"
      ]
     },
     "metadata": {
      "needs_background": "light"
     },
     "output_type": "display_data"
    }
   ],
   "source": [
    "wnv_avg = train.groupby(['year'], as_index=False)['wnv_present'].sum()\n",
    "plt.figure(figsize=(14,6))\n",
    "plt.bar(wnv_avg['year'], wnv_avg['wnv_present'])\n",
    "plt.title('Fig 1: Average Number of WNV Cases by Year from Odd Years 2007-2013', fontsize=14)"
   ]
  },
  {
   "cell_type": "code",
   "execution_count": 155,
   "metadata": {
    "ExecuteTime": {
     "end_time": "2022-02-01T14:55:59.992008Z",
     "start_time": "2022-02-01T14:55:59.839362Z"
    }
   },
   "outputs": [
    {
     "data": {
      "text/plain": [
       "Text(0.5, 1.0, 'Fig 2: Number of Records by Year from Odd Years 2007-2013')"
      ]
     },
     "execution_count": 155,
     "metadata": {},
     "output_type": "execute_result"
    },
    {
     "data": {
      "image/png": "[encoded data removed]",
      "text/plain": [
       "<Figure size 1008x432 with 1 Axes>"
      ]
     },
     "metadata": {
      "needs_background": "light"
     },
     "output_type": "display_data"
    }
   ],
   "source": [
    "wnv_avg = train.groupby(['year'], as_index=False)['date'].count()\n",
    "plt.figure(figsize=(14,6))\n",
    "plt.bar(wnv_avg['year'], wnv_avg['date'])\n",
    "plt.title('Fig 2: Number of Records by Year from Odd Years 2007-2013', fontsize=14)"
   ]
  },
  {
   "cell_type": "markdown",
   "metadata": {},
   "source": [
    "### Weather Trends on WNV Cases"
   ]
  },
  {
   "cell_type": "code",
   "execution_count": 156,
   "metadata": {
    "ExecuteTime": {
     "end_time": "2022-02-01T14:56:00.301110Z",
     "start_time": "2022-02-01T14:55:59.992930Z"
    }
   },
   "outputs": [
    {
     "data": {
      "text/plain": [
       "Text(0.5, 1.0, 'Fig 3: Average Temperature vs WNV Cases in Odd Years from 2007-2013')"
      ]
     },
     "execution_count": 156,
     "metadata": {},
     "output_type": "execute_result"
    },
    {
     "data": {
      "image/png": "[encoded data removed]",
      "text/plain": [
       "<Figure size 1008x432 with 1 Axes>"
      ]
     },
     "metadata": {
      "needs_background": "light"
     },
     "output_type": "display_data"
    }
   ],
   "source": [
    "temp_avg = train.groupby(['tavg'], as_index=False)['wnv_present'].sum()\n",
    "plt.figure(figsize=(14,6))\n",
    "plt.bar(temp_avg['tavg'], temp_avg['wnv_present'])\n",
    "plt.ylabel('WNV Cases')\n",
    "plt.xlabel('Tavg')\n",
    "plt.title('Fig 3: Average Temperature vs WNV Cases in Odd Years from 2007-2013', fontsize=14)"
   ]
  },
  {
   "cell_type": "code",
   "execution_count": 157,
   "metadata": {
    "ExecuteTime": {
     "end_time": "2022-02-01T14:56:00.594322Z",
     "start_time": "2022-02-01T14:56:00.302104Z"
    }
   },
   "outputs": [
    {
     "data": {
      "text/plain": [
       "Text(0.5, 1.0, 'Fig 4: Average Wind Speed (mi/h) vs WNV Cases in Odd Years from 2007-2013')"
      ]
     },
     "execution_count": 157,
     "metadata": {},
     "output_type": "execute_result"
    },
    {
     "data": {
      "image/png": "[encoded data removed]",
      "text/plain": [
       "<Figure size 1008x432 with 1 Axes>"
      ]
     },
     "metadata": {
      "needs_background": "light"
     },
     "output_type": "display_data"
    }
   ],
   "source": [
    "wind_avg = train.groupby(['avg_speed'], as_index=False)['wnv_present'].sum()\n",
    "plt.figure(figsize=(14,6))\n",
    "plt.bar(wind_avg['avg_speed'], wind_avg['wnv_present'])\n",
    "plt.ylabel('WNV Cases')\n",
    "plt.xlabel('Avg Wind Speed')\n",
    "plt.title('Fig 4: Average Wind Speed (mi/h) vs WNV Cases in Odd Years from 2007-2013', fontsize=14)"
   ]
  },
  {
   "cell_type": "code",
   "execution_count": 158,
   "metadata": {
    "ExecuteTime": {
     "end_time": "2022-02-01T14:56:00.825739Z",
     "start_time": "2022-02-01T14:56:00.595320Z"
    }
   },
   "outputs": [
    {
     "data": {
      "text/plain": [
       "Text(0.5, 1.0, 'Fig 5: Average Pressure (Hg) vs WNV Cases in Odd Years from 2007-2013')"
      ]
     },
     "execution_count": 158,
     "metadata": {},
     "output_type": "execute_result"
    },
    {
     "data": {
      "image/png": "[encoded data removed]",
      "text/plain": [
       "<Figure size 1008x432 with 1 Axes>"
      ]
     },
     "metadata": {
      "needs_background": "light"
     },
     "output_type": "display_data"
    }
   ],
   "source": [
    "stn_avg = train.groupby(['stn_pressure'], as_index=False)['wnv_present'].sum()\n",
    "plt.figure(figsize=(14,6))\n",
    "plt.bar(stn_avg['stn_pressure'], stn_avg['wnv_present'])\n",
    "plt.xlim((28,31))\n",
    "plt.ylabel('WNV Cases')\n",
    "plt.xlabel('Avg Pressure')\n",
    "plt.title('Fig 5: Average Pressure (Hg) vs WNV Cases in Odd Years from 2007-2013', fontsize=14)"
   ]
  },
  {
   "cell_type": "code",
   "execution_count": 159,
   "metadata": {
    "ExecuteTime": {
     "end_time": "2022-02-01T14:56:01.040130Z",
     "start_time": "2022-02-01T14:56:00.826700Z"
    }
   },
   "outputs": [
    {
     "data": {
      "text/plain": [
       "Text(0.5, 1.0, 'Fig 6: Daylight Hours (hrs) vs WNV Cases in Odd Years from 2007-2013')"
      ]
     },
     "execution_count": 159,
     "metadata": {},
     "output_type": "execute_result"
    },
    {
     "data": {
      "image/png": "[encoded data removed]",
      "text/plain": [
       "<Figure size 1008x432 with 1 Axes>"
      ]
     },
     "metadata": {
      "needs_background": "light"
     },
     "output_type": "display_data"
    }
   ],
   "source": [
    "daylight_avg = train.groupby(['daylight_hours'], as_index=False)['wnv_present'].sum()\n",
    "plt.figure(figsize=(14,6))\n",
    "plt.bar(daylight_avg['daylight_hours'], daylight_avg['wnv_present'])\n",
    "plt.ylabel('WNV Cases')\n",
    "plt.xlabel('Daylight Hours')\n",
    "plt.title('Fig 6: Daylight Hours (hrs) vs WNV Cases in Odd Years from 2007-2013', fontsize=14)"
   ]
  },
  {
   "cell_type": "markdown",
   "metadata": {},
   "source": [
    "### Seasonal Trends\n",
    "\n",
    "(To be revised) The trend of a gradual increase in WNV cases from Week 30 to Week 40 was not due to increase in testing efforts"
   ]
  },
  {
   "cell_type": "code",
   "execution_count": 160,
   "metadata": {
    "ExecuteTime": {
     "end_time": "2022-02-01T14:56:01.287481Z",
     "start_time": "2022-02-01T14:56:01.041127Z"
    }
   },
   "outputs": [
    {
     "data": {
      "text/plain": [
       "<matplotlib.lines.Line2D at 0x2d5fdde2250>"
      ]
     },
     "execution_count": 160,
     "metadata": {},
     "output_type": "execute_result"
    },
    {
     "data": {
      "image/png": "[encoded data removed]",
      "text/plain": [
       "<Figure size 1008x432 with 1 Axes>"
      ]
     },
     "metadata": {
      "needs_background": "light"
     },
     "output_type": "display_data"
    }
   ],
   "source": [
    "wnv_avg = train.groupby(['week_of_year'], as_index=False)['wnv_present'].mean()\n",
    "plt.figure(figsize=(14,6))\n",
    "plt.plot(wnv_avg['week_of_year'], wnv_avg['wnv_present'])\n",
    "plt.xticks(range(22,42))\n",
    "plt.ylabel('Average WNV Cases') \n",
    "plt.title('Fig 7: Average WNV Cases by Year-Week from Odd Years 2007-2013', fontsize=14)\n",
    "\n",
    "plt.axvline(27, linestyle='--', color='r')\n",
    "plt.axvline(40, linestyle='--', color='r')"
   ]
  },
  {
   "cell_type": "code",
   "execution_count": 161,
   "metadata": {
    "ExecuteTime": {
     "end_time": "2022-02-01T14:56:01.518539Z",
     "start_time": "2022-02-01T14:56:01.289462Z"
    }
   },
   "outputs": [
    {
     "data": {
      "text/plain": [
       "<matplotlib.lines.Line2D at 0x2d5fde71d00>"
      ]
     },
     "execution_count": 161,
     "metadata": {},
     "output_type": "execute_result"
    },
    {
     "data": {
      "image/png": "[encoded data removed]",
      "text/plain": [
       "<Figure size 1008x432 with 1 Axes>"
      ]
     },
     "metadata": {
      "needs_background": "light"
     },
     "output_type": "display_data"
    }
   ],
   "source": [
    "precip_avg = train.groupby(['week_of_year'], as_index=False)['precip_total'].mean()\n",
    "plt.figure(figsize=(14,6))\n",
    "plt.plot(precip_avg['week_of_year'], precip_avg['precip_total'])\n",
    "plt.xticks(range(22,42))\n",
    "plt.title('Fig 8: Weekly Average Precipitation (Inches)from Odd Years 2007-2013', fontsize=14)\n",
    "\n",
    "plt.axvline(25, linestyle='--', color='b')\n",
    "plt.axvline(27, linestyle='--', color='r')\n",
    "plt.axvline(40, linestyle='--', color='r')"
   ]
  },
  {
   "cell_type": "code",
   "execution_count": 162,
   "metadata": {
    "ExecuteTime": {
     "end_time": "2022-02-01T14:56:01.735957Z",
     "start_time": "2022-02-01T14:56:01.519536Z"
    }
   },
   "outputs": [
    {
     "data": {
      "text/plain": [
       "<matplotlib.lines.Line2D at 0x2d5fe13c5b0>"
      ]
     },
     "execution_count": 162,
     "metadata": {},
     "output_type": "execute_result"
    },
    {
     "data": {
      "image/png": "[encoded data removed]",
      "text/plain": [
       "<Figure size 1008x432 with 1 Axes>"
      ]
     },
     "metadata": {
      "needs_background": "light"
     },
     "output_type": "display_data"
    }
   ],
   "source": [
    "temp_avg = train.groupby(['week_of_year'], as_index=False)['tavg'].mean()\n",
    "plt.figure(figsize=(14,6))\n",
    "plt.plot(temp_avg['week_of_year'], temp_avg['tavg'])\n",
    "plt.xticks(range(20,42))\n",
    "plt.title('Fig 9: Weekly Average Temperature (F) from Odd Years 2007-2013', fontsize=14)\n",
    "\n",
    "plt.axvline(27, linestyle='--', color='r')\n",
    "plt.axvline(40, linestyle='--', color='r')"
   ]
  },
  {
   "cell_type": "code",
   "execution_count": 163,
   "metadata": {
    "ExecuteTime": {
     "end_time": "2022-02-01T14:56:01.952378Z",
     "start_time": "2022-02-01T14:56:01.736955Z"
    }
   },
   "outputs": [
    {
     "data": {
      "text/plain": [
       "<matplotlib.lines.Line2D at 0x2d5fe6e7df0>"
      ]
     },
     "execution_count": 163,
     "metadata": {},
     "output_type": "execute_result"
    },
    {
     "data": {
      "image/png": "[encoded data removed]",
      "text/plain": [
       "<Figure size 1008x432 with 1 Axes>"
      ]
     },
     "metadata": {
      "needs_background": "light"
     },
     "output_type": "display_data"
    }
   ],
   "source": [
    "rh_avg = train.groupby(['week_of_year'], as_index=False)['r_humidity'].mean()\n",
    "plt.figure(figsize=(14,6))\n",
    "plt.plot(rh_avg['week_of_year'], rh_avg['r_humidity'])\n",
    "plt.xticks(range(20,42))\n",
    "plt.title('Fig 10: Weekly Average Relative Humidity(%) from Odd Years 2007-2013', fontsize=14)\n",
    "plt.axvline(27, linestyle='--', color='r')\n",
    "plt.axvline(40, linestyle='--', color='r')"
   ]
  },
  {
   "cell_type": "code",
   "execution_count": 164,
   "metadata": {
    "ExecuteTime": {
     "end_time": "2022-02-01T14:56:02.196729Z",
     "start_time": "2022-02-01T14:56:01.953376Z"
    }
   },
   "outputs": [
    {
     "data": {
      "text/plain": [
       "<matplotlib.lines.Line2D at 0x2d5fe770610>"
      ]
     },
     "execution_count": 164,
     "metadata": {},
     "output_type": "execute_result"
    },
    {
     "data": {
      "image/png": "[encoded data removed]",
      "text/plain": [
       "<Figure size 1008x432 with 1 Axes>"
      ]
     },
     "metadata": {
      "needs_background": "light"
     },
     "output_type": "display_data"
    }
   ],
   "source": [
    "daylight_avg = train.groupby(['week_of_year'], as_index=False)['daylight_hours'].mean()\n",
    "plt.figure(figsize=(14,6))\n",
    "plt.plot(daylight_avg['week_of_year'], daylight_avg['daylight_hours'])\n",
    "plt.xticks(range(20,42))\n",
    "plt.title('Fig 11: Weekly Average Daylight Hours (hrs) from Odd Years 2007-2013', fontsize=14)\n",
    "\n",
    "plt.axvline(27, linestyle='--', color='r')\n",
    "plt.axvline(40, linestyle='--', color='r')"
   ]
  },
  {
   "cell_type": "markdown",
   "metadata": {},
   "source": [
    "### WNV Cases by Mosquito Species\n",
    "\n",
    "(to be revised)"
   ]
  },
  {
   "cell_type": "code",
   "execution_count": 165,
   "metadata": {
    "ExecuteTime": {
     "end_time": "2022-02-01T14:56:02.412154Z",
     "start_time": "2022-02-01T14:56:02.197723Z"
    }
   },
   "outputs": [
    {
     "name": "stdout",
     "output_type": "stream",
     "text": [
      "                  species  wnv_present\n",
      "0         CULEX ERRATICUS            0\n",
      "1           CULEX PIPIENS          240\n",
      "2  CULEX PIPIENS/RESTUANS          262\n",
      "3          CULEX RESTUANS           49\n",
      "4        CULEX SALINARIUS            0\n",
      "5          CULEX TARSALIS            0\n",
      "6         CULEX TERRITANS            0\n"
     ]
    },
    {
     "data": {
      "text/plain": [
       "Text(0.5, 1.0, 'Fig 12: WNV Cases by Mosquito Species from Odd Years 2007-2013')"
      ]
     },
     "execution_count": 165,
     "metadata": {},
     "output_type": "execute_result"
    },
    {
     "data": {
      "image/png": "[encoded data removed]",
      "text/plain": [
       "<Figure size 1008x432 with 1 Axes>"
      ]
     },
     "metadata": {
      "needs_background": "light"
     },
     "output_type": "display_data"
    }
   ],
   "source": [
    "species = train.groupby(['species'], as_index=False)['wnv_present'].sum()\n",
    "print(species)\n",
    "plt.figure(figsize=(14,6))\n",
    "sns.barplot(species['species'], species['wnv_present'])\n",
    "plt.xticks(rotation=30)\n",
    "plt.title('Fig 12: WNV Cases by Mosquito Species from Odd Years 2007-2013', fontsize=14)"
   ]
  },
  {
   "cell_type": "code",
   "execution_count": 166,
   "metadata": {
    "ExecuteTime": {
     "end_time": "2022-02-01T14:56:32.576299Z",
     "start_time": "2022-02-01T14:56:32.563334Z"
    }
   },
   "outputs": [],
   "source": [
    "minority_species = ['CULEX PIPIENS', 'CULEX PIPIENS/RESTUANS', 'CULEX RESTUANS']\n",
    "train['species'] = train['species'].apply(lambda x: 'OTHERS' if x not in minority_species else x)\n",
    "heatmap_df = pd.get_dummies(train, columns=['species'], drop_first=True)"
   ]
  },
  {
   "cell_type": "code",
   "execution_count": 167,
   "metadata": {
    "ExecuteTime": {
     "end_time": "2022-02-01T14:56:35.727820Z",
     "start_time": "2022-02-01T14:56:34.139062Z"
    }
   },
   "outputs": [
    {
     "data": {
      "image/png": "[encoded data removed]",
      "text/plain": [
       "<Figure size 1440x576 with 2 Axes>"
      ]
     },
     "metadata": {
      "needs_background": "light"
     },
     "output_type": "display_data"
    }
   ],
   "source": [
    "corr = heatmap_df.corr(method='kendall')\n",
    "mask = np.triu(np.ones_like(corr, dtype=bool))\n",
    "plt.figure(figsize=(20, 8))\n",
    "heatmap = sns.heatmap(\n",
    "    corr, annot=True, fmt=\".2f\", mask=mask, cmap=\"Spectral\", vmax=1, vmin=-1\n",
    ")\n",
    "heatmap.set_title(\n",
    "    \"Correlation matrix of fireplace vs sale price\", fontdict={\"fontsize\": 15}, pad=16\n",
    ");"
   ]
  },
  {
   "cell_type": "markdown",
   "metadata": {},
   "source": [
    "- OHE species\n",
    "- corr matrix\n",
    "- boxplot"
   ]
  },
  {
   "cell_type": "markdown",
   "metadata": {
    "id": "Ep62bDUTr1no"
   },
   "source": [
    "# Modeling\n",
    "***\n",
    "The following models would be used:\n",
    "\n",
    "|                |                  Models                 |\n",
    "|:--------------:|:---------------------------------------:|\n",
    "| Baseline Model |               BernoulliNB               |\n",
    "|     Model 1    |            Logistic Regression          |\n",
    "|     Model 2    |          Random Forest Classifier       |\n",
    "|     Model 3    |        Gradient Boosting Classifier     |\n",
    "|     Model 4    |              XGBoost Classifier         |\n",
    "\n",
    "\n",
    "\n",
    "Baseline: BernoulliNB. \n",
    "\n",
    "Candidate Models: \n",
    "* for each model, run with/without SMOTE \n",
    "- Random Forest\n",
    "- [GradientBoostingClassifier](https://scikit-learn.org/stable/modules/generated/sklearn.ensemble.GradientBoostingClassifier.html)\n",
    "- [XGBClassifier](https://towardsdatascience.com/beginners-guide-to-xgboost-for-classification-problems-50f75aac5390)\n",
    "  - [feature importance in xgboost](https://machinelearningmastery.com/feature-importance-and-feature-selection-with-xgboost-in-python/) \n",
    "\n",
    "- good to haves:\n",
    "  - [ADASYN](https://towardsdatascience.com/adasyn-adaptive-synthetic-sampling-method-for-imbalanced-data-602a3673ba16) (instead of SMOTE)\n",
    "  - [neural networks](https://www.analyticsvidhya.com/blog/2021/11/neural-network-for-classification-with-tensorflow/)"
   ]
  },
  {
   "cell_type": "markdown",
   "metadata": {},
   "source": [
    "## Model data preparation\n",
    "\n",
    "### Get the X, y data"
   ]
  },
  {
   "cell_type": "code",
   "execution_count": 176,
   "metadata": {
    "ExecuteTime": {
     "end_time": "2022-02-01T14:59:48.668844Z",
     "start_time": "2022-02-01T14:59:48.649858Z"
    }
   },
   "outputs": [],
   "source": [
    "X = train.drop(['date', 'wnv_present'], axis = 1)\n",
    "y = train['wnv_present']"
   ]
  },
  {
   "cell_type": "code",
   "execution_count": 177,
   "metadata": {
    "ExecuteTime": {
     "end_time": "2022-02-01T14:59:49.568477Z",
     "start_time": "2022-02-01T14:59:49.560472Z"
    }
   },
   "outputs": [
    {
     "name": "stdout",
     "output_type": "stream",
     "text": [
      "(10506, 14)\n",
      "(10506,)\n"
     ]
    }
   ],
   "source": [
    "print(X.shape)\n",
    "print(y.shape)"
   ]
  },
  {
   "cell_type": "code",
   "execution_count": 179,
   "metadata": {
    "ExecuteTime": {
     "end_time": "2022-02-01T14:59:58.213821Z",
     "start_time": "2022-02-01T14:59:58.207810Z"
    }
   },
   "outputs": [
    {
     "data": {
      "text/plain": [
       "0    0.947554\n",
       "1    0.052446\n",
       "Name: wnv_present, dtype: float64"
      ]
     },
     "execution_count": 179,
     "metadata": {},
     "output_type": "execute_result"
    }
   ],
   "source": [
    "y.value_counts(normalize = True)"
   ]
  },
  {
   "cell_type": "markdown",
   "metadata": {},
   "source": [
    "### Train, test, split the data"
   ]
  },
  {
   "cell_type": "code",
   "execution_count": 180,
   "metadata": {
    "ExecuteTime": {
     "end_time": "2022-02-01T14:59:59.735105Z",
     "start_time": "2022-02-01T14:59:59.719177Z"
    }
   },
   "outputs": [],
   "source": [
    "X_train, X_test, y_train, y_test = train_test_split(X, y, stratify = y, random_state = 42)"
   ]
  },
  {
   "cell_type": "code",
   "execution_count": 181,
   "metadata": {
    "ExecuteTime": {
     "end_time": "2022-02-01T15:00:00.321987Z",
     "start_time": "2022-02-01T15:00:00.310019Z"
    }
   },
   "outputs": [
    {
     "name": "stdout",
     "output_type": "stream",
     "text": [
      "(7879, 14)\n",
      "(2627, 14)\n",
      "(7879,)\n",
      "(2627,)\n"
     ]
    }
   ],
   "source": [
    "print(X_train.shape)\n",
    "print(X_test.shape)\n",
    "print(y_train.shape)\n",
    "print(y_test.shape)"
   ]
  },
  {
   "cell_type": "markdown",
   "metadata": {},
   "source": [
    "## Modeling Functions"
   ]
  },
  {
   "cell_type": "code",
   "execution_count": 182,
   "metadata": {
    "ExecuteTime": {
     "end_time": "2022-02-01T15:00:04.284245Z",
     "start_time": "2022-02-01T15:00:04.267260Z"
    }
   },
   "outputs": [],
   "source": [
    "# define the numerical columns\n",
    "\n",
    "numerical_cols = ['latitude', 'longitude', 'tavg', 'dew_point', 'precip_total',\\\n",
    "                  'stn_pressure', 'result_dir', 'avg_speed', 'daylight_hours', 'r_humidity',\\\n",
    "                 'year', 'month', 'week_of_year']\n",
    "categorical_cols = ['species']"
   ]
  },
  {
   "cell_type": "code",
   "execution_count": 183,
   "metadata": {
    "ExecuteTime": {
     "end_time": "2022-02-01T15:00:04.655229Z",
     "start_time": "2022-02-01T15:00:04.643259Z"
    }
   },
   "outputs": [],
   "source": [
    "# Preprocessing for numerical data\n",
    "numerical_transformer = StandardScaler()\n",
    "\n",
    "# Preprocessing for categorical data\n",
    "categorical_transformer = OneHotEncoder(handle_unknown = \"ignore\")\n",
    "\n",
    "# Bundle preprocessing for numerical and categorical data\n",
    "transformer = ColumnTransformer(\n",
    "    transformers = [\n",
    "        (\"num\", numerical_transformer, numerical_cols),\n",
    "        (\"cat\", categorical_transformer, categorical_cols),\n",
    "    ]\n",
    ")"
   ]
  },
  {
   "cell_type": "code",
   "execution_count": 184,
   "metadata": {
    "ExecuteTime": {
     "end_time": "2022-02-01T15:00:05.599495Z",
     "start_time": "2022-02-01T15:00:05.580547Z"
    }
   },
   "outputs": [],
   "source": [
    "# Instantiate lists to store results\n",
    "init_list = []\n",
    "gs_list = []\n",
    "\n",
    "# Function to run model -- input column transformer and model\n",
    "def run_model(X_train, X_test, y_train, y_test, mod, mod_params = {}, grid_search = False):\n",
    "    \n",
    "    # Initial dictionary to hold model results\n",
    "    results = {}\n",
    "  \n",
    "    pipe = imblearnpipe([\n",
    "        ('t', transformer),\n",
    "        ('sampling', SMOTE(random_state = 42)),\n",
    "        (mod, models[mod])\n",
    "    ])\n",
    "    \n",
    "    if grid_search:\n",
    "        # Instantiate list to store gridsearch results\n",
    "        gs = GridSearchCV(pipe, param_grid = mod_params, cv = 5, verbose = 1, scoring = 'roc_auc', n_jobs = -2)\n",
    "        gs.fit(X_train, y_train)\n",
    "        pipe = gs\n",
    "        \n",
    "    else:\n",
    "        pipe.fit(X_train, y_train)\n",
    "    \n",
    "    # Retrieve metrics\n",
    "    predictions = pipe.predict(X_test)\n",
    "    tn, fp, fn, tp = confusion_matrix(y_test, predictions).ravel()\n",
    "    cm_df = pd.DataFrame(confusion_matrix(y_test, predictions), \n",
    "                            index=['Actual Negative', 'Actual Postive'], \n",
    "                            columns=['Predicted Negative', 'Predicted Postive'])\n",
    "    y_test_pred_prob = pipe.predict_proba(X_test)[:,1]\n",
    "    y_train_pred_prob = pipe.predict_proba(X_train)[:,1]\n",
    "    \n",
    "    results['model'] = mod\n",
    "    results['train_auc'] = roc_auc_score(y_train, y_train_pred_prob)\n",
    "    results['test_auc'] = roc_auc_score(y_test, y_test_pred_prob)\n",
    "    results['precision'] = precision_score(y_test, predictions)\n",
    "    results['specificity'] = tn / (tn + fp)\n",
    "    results['recall'] = recall_score(y_test, predictions)\n",
    "    results['f_score'] = f1_score(y_test, predictions)\n",
    "    \n",
    "    if grid_search:\n",
    "        gs_list.append(results)\n",
    "        print('---Best Parameters---')\n",
    "        display(pipe.best_params_)\n",
    "        \n",
    "    else:\n",
    "        init_list.append(results)\n",
    "    \n",
    "    print('Model:', models[mod])\n",
    "    print('---Model Metrics---')\n",
    "    display(results)\n",
    "    display(cm_df)\n",
    "    print(f\"True Negatives: {tn}\")\n",
    "    print(f\"False Negatives: {fn}\")\n",
    "    print(f\"True Positives: {tp}\")\n",
    "    print(f\"False Positives: {fp}\")\n",
    "        \n",
    "    print()\n",
    "    return pipe"
   ]
  },
  {
   "cell_type": "code",
   "execution_count": 215,
   "metadata": {
    "ExecuteTime": {
     "end_time": "2022-02-01T15:12:06.084969Z",
     "start_time": "2022-02-01T15:12:06.069021Z"
    }
   },
   "outputs": [],
   "source": [
    "def features_plot(mod, title, X = X_train):\n",
    "    \"\"\"Function to plot feature importance from models\"\"\"\n",
    "    col = mod.best_estimator_.steps[0][1].get_feature_names_out()\n",
    "    impt = mod.best_estimator_.steps[2][1].feature_importances_\n",
    "\n",
    "    temp_df = pd.DataFrame(index = col, data = impt, columns = ['features'])\n",
    "    temp_df.sort_values(by = 'features').plot(kind = 'barh' , figsize = (16,9))\n",
    "    plt.title(f'Feature Importance from {title}');"
   ]
  },
  {
   "cell_type": "code",
   "execution_count": 186,
   "metadata": {
    "ExecuteTime": {
     "end_time": "2022-02-01T15:00:07.521256Z",
     "start_time": "2022-02-01T15:00:07.509258Z"
    }
   },
   "outputs": [],
   "source": [
    "def roc_curve_plotter(model_dict, plot_top=False):\n",
    "    fig, ax = plt.subplots(1, 1, figsize=(12,10))\n",
    "    axes = {}\n",
    "    for i, m in enumerate(model_dict.keys()):\n",
    "        axes[f'ax{i}'] = plot_roc_curve(m, X_test, y_test, ax=ax, name=model_dict[m])\n",
    "    if plot_top:\n",
    "        for i, a in enumerate(axes):\n",
    "            if i != 0:\n",
    "                axes[a].line_.set_color('lightgrey')\n",
    "    plt.plot([0, 1], [0, 1], color='black', lw=2, linestyle='--', label='Random Guess')\n",
    "    plt.title('ROC-AUC Curve Comparison', fontsize=22)\n",
    "    plt.xlabel('False Positive Rate', fontsize=12)\n",
    "    plt.ylabel('True Positive Rate', fontsize=12)\n",
    "    plt.legend(fontsize=12)"
   ]
  },
  {
   "cell_type": "code",
   "execution_count": 187,
   "metadata": {
    "ExecuteTime": {
     "end_time": "2022-02-01T15:00:08.714532Z",
     "start_time": "2022-02-01T15:00:08.699573Z"
    }
   },
   "outputs": [],
   "source": [
    "# Instantiate the models\n",
    "models = {'nb': BernoulliNB(),\n",
    "          'lr': LogisticRegression(),      \n",
    "          'rf': RandomForestClassifier(random_state = 42),\n",
    "          'gb': GradientBoostingClassifier(random_state = 42),\n",
    "          'xgb': XGBClassifier(random_state = 42, use_label_encoder = False)\n",
    "        }"
   ]
  },
  {
   "cell_type": "markdown",
   "metadata": {},
   "source": [
    "## Modeling\n",
    "\n",
    "### Baseline Model"
   ]
  },
  {
   "cell_type": "code",
   "execution_count": 188,
   "metadata": {
    "ExecuteTime": {
     "end_time": "2022-02-01T15:00:13.845714Z",
     "start_time": "2022-02-01T15:00:13.737964Z"
    }
   },
   "outputs": [
    {
     "name": "stdout",
     "output_type": "stream",
     "text": [
      "Model: BernoulliNB()\n",
      "---Model Metrics---\n"
     ]
    },
    {
     "data": {
      "text/plain": [
       "{'model': 'nb',\n",
       " 'train_auc': 0.7657612005741605,\n",
       " 'test_auc': 0.740086816776425,\n",
       " 'precision': 0.08960573476702509,\n",
       " 'specificity': 0.5918039373242266,\n",
       " 'recall': 0.7246376811594203,\n",
       " 'f_score': 0.1594896331738437}"
      ]
     },
     "metadata": {},
     "output_type": "display_data"
    },
    {
     "data": {
      "text/html": [
       "<div>\n",
       "<style scoped>\n",
       "    .dataframe tbody tr th:only-of-type {\n",
       "        vertical-align: middle;\n",
       "    }\n",
       "\n",
       "    .dataframe tbody tr th {\n",
       "        vertical-align: top;\n",
       "    }\n",
       "\n",
       "    .dataframe thead th {\n",
       "        text-align: right;\n",
       "    }\n",
       "</style>\n",
       "<table border=\"1\" class=\"dataframe\">\n",
       "  <thead>\n",
       "    <tr style=\"text-align: right;\">\n",
       "      <th></th>\n",
       "      <th>Predicted Negative</th>\n",
       "      <th>Predicted Postive</th>\n",
       "    </tr>\n",
       "  </thead>\n",
       "  <tbody>\n",
       "    <tr>\n",
       "      <th>Actual Negative</th>\n",
       "      <td>1473</td>\n",
       "      <td>1016</td>\n",
       "    </tr>\n",
       "    <tr>\n",
       "      <th>Actual Postive</th>\n",
       "      <td>38</td>\n",
       "      <td>100</td>\n",
       "    </tr>\n",
       "  </tbody>\n",
       "</table>\n",
       "</div>"
      ],
      "text/plain": [
       "                 Predicted Negative  Predicted Postive\n",
       "Actual Negative                1473               1016\n",
       "Actual Postive                   38                100"
      ]
     },
     "metadata": {},
     "output_type": "display_data"
    },
    {
     "name": "stdout",
     "output_type": "stream",
     "text": [
      "True Negatives: 1473\n",
      "False Negatives: 38\n",
      "True Positives: 100\n",
      "False Positives: 1016\n",
      "\n",
      "Wall time: 103 ms\n"
     ]
    }
   ],
   "source": [
    "%%time\n",
    "nb = run_model(X_train, X_test, y_train, y_test, 'nb')"
   ]
  },
  {
   "cell_type": "markdown",
   "metadata": {},
   "source": [
    "### Candidate Models Tuning\n",
    "\n",
    "#### Logistic Regression"
   ]
  },
  {
   "cell_type": "code",
   "execution_count": 222,
   "metadata": {
    "ExecuteTime": {
     "end_time": "2022-02-01T15:19:29.171541Z",
     "start_time": "2022-02-01T15:19:29.162599Z"
    }
   },
   "outputs": [],
   "source": [
    "lr_params = {'sampling__sampling_strategy': ['auto'], # ['minority', 'auto']\n",
    "             'sampling__k_neighbors': [7, 8, 9], # [4, 5, 6, 7, 8, 9]\n",
    "             'lr__penalty' : ['l1'], #['l1', 'l2']\n",
    "             'lr__max_iter' : [5000],\n",
    "             'lr__solver' : ['saga'], # ['liblinear', 'saga']\n",
    "             'lr__C' : [0.4, 0.6, 0.8], # [0.4, 0.6, 0.8, 1.0, 1.2]\n",
    "             'lr__class_weight' : ['balanced'] # [None, 'balanced']\n",
    "            }"
   ]
  },
  {
   "cell_type": "code",
   "execution_count": 223,
   "metadata": {
    "ExecuteTime": {
     "end_time": "2022-02-01T15:19:34.669396Z",
     "start_time": "2022-02-01T15:19:29.713654Z"
    }
   },
   "outputs": [
    {
     "name": "stdout",
     "output_type": "stream",
     "text": [
      "Fitting 5 folds for each of 9 candidates, totalling 45 fits\n",
      "---Best Parameters---\n"
     ]
    },
    {
     "data": {
      "text/plain": [
       "{'lr__C': 0.6,\n",
       " 'lr__class_weight': 'balanced',\n",
       " 'lr__max_iter': 5000,\n",
       " 'lr__penalty': 'l1',\n",
       " 'lr__solver': 'saga',\n",
       " 'sampling__k_neighbors': 7,\n",
       " 'sampling__sampling_strategy': 'auto'}"
      ]
     },
     "metadata": {},
     "output_type": "display_data"
    },
    {
     "name": "stdout",
     "output_type": "stream",
     "text": [
      "Model: LogisticRegression()\n",
      "---Model Metrics---\n"
     ]
    },
    {
     "data": {
      "text/plain": [
       "{'model': 'lr',\n",
       " 'train_auc': 0.7972628458049371,\n",
       " 'test_auc': 0.792318083625925,\n",
       " 'precision': 0.11197339246119734,\n",
       " 'specificity': 0.6781840096424266,\n",
       " 'recall': 0.7318840579710145,\n",
       " 'f_score': 0.19423076923076923}"
      ]
     },
     "metadata": {},
     "output_type": "display_data"
    },
    {
     "data": {
      "text/html": [
       "<div>\n",
       "<style scoped>\n",
       "    .dataframe tbody tr th:only-of-type {\n",
       "        vertical-align: middle;\n",
       "    }\n",
       "\n",
       "    .dataframe tbody tr th {\n",
       "        vertical-align: top;\n",
       "    }\n",
       "\n",
       "    .dataframe thead th {\n",
       "        text-align: right;\n",
       "    }\n",
       "</style>\n",
       "<table border=\"1\" class=\"dataframe\">\n",
       "  <thead>\n",
       "    <tr style=\"text-align: right;\">\n",
       "      <th></th>\n",
       "      <th>Predicted Negative</th>\n",
       "      <th>Predicted Postive</th>\n",
       "    </tr>\n",
       "  </thead>\n",
       "  <tbody>\n",
       "    <tr>\n",
       "      <th>Actual Negative</th>\n",
       "      <td>1688</td>\n",
       "      <td>801</td>\n",
       "    </tr>\n",
       "    <tr>\n",
       "      <th>Actual Postive</th>\n",
       "      <td>37</td>\n",
       "      <td>101</td>\n",
       "    </tr>\n",
       "  </tbody>\n",
       "</table>\n",
       "</div>"
      ],
      "text/plain": [
       "                 Predicted Negative  Predicted Postive\n",
       "Actual Negative                1688                801\n",
       "Actual Postive                   37                101"
      ]
     },
     "metadata": {},
     "output_type": "display_data"
    },
    {
     "name": "stdout",
     "output_type": "stream",
     "text": [
      "True Negatives: 1688\n",
      "False Negatives: 37\n",
      "True Positives: 101\n",
      "False Positives: 801\n",
      "\n",
      "Wall time: 4.94 s\n"
     ]
    }
   ],
   "source": [
    "%%time\n",
    "lr = run_model(X_train, X_test, y_train, y_test, 'lr', lr_params, grid_search = True)"
   ]
  },
  {
   "cell_type": "code",
   "execution_count": 221,
   "metadata": {
    "ExecuteTime": {
     "end_time": "2022-02-01T15:17:33.503633Z",
     "start_time": "2022-02-01T15:17:33.488654Z"
    }
   },
   "outputs": [
    {
     "data": {
      "text/plain": [
       "array([[-0.18650478, -0.44501945, -0.54555373,  0.96726298, -0.04541141,\n",
       "         0.11382638, -0.02164261, -0.05059422,  5.59563214, -0.1528661 ,\n",
       "         0.53806186,  0.39670823,  6.84524669,  1.3411627 ,  0.8602289 ,\n",
       "        -0.32342688, -3.92046731]])"
      ]
     },
     "execution_count": 221,
     "metadata": {},
     "output_type": "execute_result"
    }
   ],
   "source": [
    "lr.best_estimator_.steps[2][1].coef_"
   ]
  },
  {
   "cell_type": "markdown",
   "metadata": {},
   "source": [
    "#### Random Forest"
   ]
  },
  {
   "cell_type": "code",
   "execution_count": 231,
   "metadata": {
    "ExecuteTime": {
     "end_time": "2022-02-01T15:41:32.456787Z",
     "start_time": "2022-02-01T15:41:32.443825Z"
    }
   },
   "outputs": [],
   "source": [
    "rf_params = {'sampling__sampling_strategy': ['minority'], # ['minority', 'auto']\n",
    "             'sampling__k_neighbors': [5],  # [4, 5, 6]\n",
    "             'rf__n_estimators': [100, 150, 200], # [50, 100, 150, 200, 250, 300]\n",
    "             'rf__min_samples_split' : [2, 4, 6], # [2, 4, 6, 8]\n",
    "             'rf__max_depth': [7, 9, 11], # [5, 7, 9, 11, 13, 15]\n",
    "             'rf__min_samples_leaf': [7], # [3, 5, 7, 8, 9]]\n",
    "             'rf__class_weight' : ['balanced'] # ['balanced', 'balanced_subsample']\n",
    "            }"
   ]
  },
  {
   "cell_type": "code",
   "execution_count": 232,
   "metadata": {
    "ExecuteTime": {
     "end_time": "2022-02-01T15:41:59.894437Z",
     "start_time": "2022-02-01T15:41:33.630092Z"
    }
   },
   "outputs": [
    {
     "name": "stdout",
     "output_type": "stream",
     "text": [
      "Fitting 5 folds for each of 27 candidates, totalling 135 fits\n",
      "---Best Parameters---\n"
     ]
    },
    {
     "data": {
      "text/plain": [
       "{'rf__class_weight': 'balanced',\n",
       " 'rf__max_depth': 9,\n",
       " 'rf__min_samples_leaf': 7,\n",
       " 'rf__min_samples_split': 4,\n",
       " 'rf__n_estimators': 150,\n",
       " 'sampling__k_neighbors': 5,\n",
       " 'sampling__sampling_strategy': 'minority'}"
      ]
     },
     "metadata": {},
     "output_type": "display_data"
    },
    {
     "name": "stdout",
     "output_type": "stream",
     "text": [
      "Model: RandomForestClassifier(random_state=42)\n",
      "---Model Metrics---\n"
     ]
    },
    {
     "data": {
      "text/plain": [
       "{'model': 'rf',\n",
       " 'train_auc': 0.895199967049981,\n",
       " 'test_auc': 0.8232119878188668,\n",
       " 'precision': 0.1528776978417266,\n",
       " 'specificity': 0.8107673764564082,\n",
       " 'recall': 0.6159420289855072,\n",
       " 'f_score': 0.24495677233429392}"
      ]
     },
     "metadata": {},
     "output_type": "display_data"
    },
    {
     "data": {
      "text/html": [
       "<div>\n",
       "<style scoped>\n",
       "    .dataframe tbody tr th:only-of-type {\n",
       "        vertical-align: middle;\n",
       "    }\n",
       "\n",
       "    .dataframe tbody tr th {\n",
       "        vertical-align: top;\n",
       "    }\n",
       "\n",
       "    .dataframe thead th {\n",
       "        text-align: right;\n",
       "    }\n",
       "</style>\n",
       "<table border=\"1\" class=\"dataframe\">\n",
       "  <thead>\n",
       "    <tr style=\"text-align: right;\">\n",
       "      <th></th>\n",
       "      <th>Predicted Negative</th>\n",
       "      <th>Predicted Postive</th>\n",
       "    </tr>\n",
       "  </thead>\n",
       "  <tbody>\n",
       "    <tr>\n",
       "      <th>Actual Negative</th>\n",
       "      <td>2018</td>\n",
       "      <td>471</td>\n",
       "    </tr>\n",
       "    <tr>\n",
       "      <th>Actual Postive</th>\n",
       "      <td>53</td>\n",
       "      <td>85</td>\n",
       "    </tr>\n",
       "  </tbody>\n",
       "</table>\n",
       "</div>"
      ],
      "text/plain": [
       "                 Predicted Negative  Predicted Postive\n",
       "Actual Negative                2018                471\n",
       "Actual Postive                   53                 85"
      ]
     },
     "metadata": {},
     "output_type": "display_data"
    },
    {
     "name": "stdout",
     "output_type": "stream",
     "text": [
      "True Negatives: 2018\n",
      "False Negatives: 53\n",
      "True Positives: 85\n",
      "False Positives: 471\n",
      "\n",
      "Wall time: 26.3 s\n"
     ]
    }
   ],
   "source": [
    "%%time\n",
    "rf = run_model(X_train, X_test, y_train, y_test, 'rf', rf_params, grid_search = True)"
   ]
  },
  {
   "cell_type": "code",
   "execution_count": 233,
   "metadata": {
    "ExecuteTime": {
     "end_time": "2022-02-01T15:42:28.686173Z",
     "start_time": "2022-02-01T15:42:28.405925Z"
    }
   },
   "outputs": [
    {
     "data": {
      "image/png": "[encoded data removed]",
      "text/plain": [
       "<Figure size 1152x648 with 1 Axes>"
      ]
     },
     "metadata": {
      "needs_background": "light"
     },
     "output_type": "display_data"
    }
   ],
   "source": [
    "features_plot(rf, 'Random Forest Model')"
   ]
  },
  {
   "cell_type": "code",
   "execution_count": null,
   "metadata": {},
   "outputs": [],
   "source": []
  },
  {
   "cell_type": "markdown",
   "metadata": {},
   "source": [
    "#### Gradient Boosting Classifier"
   ]
  },
  {
   "cell_type": "code",
   "execution_count": 236,
   "metadata": {
    "ExecuteTime": {
     "end_time": "2022-02-01T16:05:55.296016Z",
     "start_time": "2022-02-01T16:05:55.291999Z"
    }
   },
   "outputs": [],
   "source": [
    "gb_params = {'sampling__sampling_strategy': ['minority'], # ['minority', 'auto']\n",
    "             'sampling__k_neighbors': [5], # [4, 5, 6]\n",
    "             'gb__max_depth': [4], # [2, 3, 4, 5]\n",
    "             'gb__n_estimators': [100, 150, 200], # [50, 100, 150]\n",
    "             'gb__min_samples_leaf': [1], # [1, 3, 5]\n",
    "             'gb__learning_rate': [.13, .15, .17] # [.08, .1, .13, .15, .17]\n",
    "            }"
   ]
  },
  {
   "cell_type": "code",
   "execution_count": 237,
   "metadata": {
    "ExecuteTime": {
     "end_time": "2022-02-01T16:06:19.865906Z",
     "start_time": "2022-02-01T16:05:56.800605Z"
    }
   },
   "outputs": [
    {
     "name": "stdout",
     "output_type": "stream",
     "text": [
      "Fitting 5 folds for each of 9 candidates, totalling 45 fits\n",
      "---Best Parameters---\n"
     ]
    },
    {
     "data": {
      "text/plain": [
       "{'gb__learning_rate': 0.13,\n",
       " 'gb__max_depth': 4,\n",
       " 'gb__min_samples_leaf': 1,\n",
       " 'gb__n_estimators': 100,\n",
       " 'sampling__k_neighbors': 5,\n",
       " 'sampling__sampling_strategy': 'minority'}"
      ]
     },
     "metadata": {},
     "output_type": "display_data"
    },
    {
     "name": "stdout",
     "output_type": "stream",
     "text": [
      "Model: GradientBoostingClassifier(random_state=42)\n",
      "---Model Metrics---\n"
     ]
    },
    {
     "data": {
      "text/plain": [
       "{'model': 'gb',\n",
       " 'train_auc': 0.8972755588044332,\n",
       " 'test_auc': 0.8238364746915414,\n",
       " 'precision': 0.1989247311827957,\n",
       " 'specificity': 0.8802732020891925,\n",
       " 'recall': 0.5362318840579711,\n",
       " 'f_score': 0.2901960784313726}"
      ]
     },
     "metadata": {},
     "output_type": "display_data"
    },
    {
     "data": {
      "text/html": [
       "<div>\n",
       "<style scoped>\n",
       "    .dataframe tbody tr th:only-of-type {\n",
       "        vertical-align: middle;\n",
       "    }\n",
       "\n",
       "    .dataframe tbody tr th {\n",
       "        vertical-align: top;\n",
       "    }\n",
       "\n",
       "    .dataframe thead th {\n",
       "        text-align: right;\n",
       "    }\n",
       "</style>\n",
       "<table border=\"1\" class=\"dataframe\">\n",
       "  <thead>\n",
       "    <tr style=\"text-align: right;\">\n",
       "      <th></th>\n",
       "      <th>Predicted Negative</th>\n",
       "      <th>Predicted Postive</th>\n",
       "    </tr>\n",
       "  </thead>\n",
       "  <tbody>\n",
       "    <tr>\n",
       "      <th>Actual Negative</th>\n",
       "      <td>2191</td>\n",
       "      <td>298</td>\n",
       "    </tr>\n",
       "    <tr>\n",
       "      <th>Actual Postive</th>\n",
       "      <td>64</td>\n",
       "      <td>74</td>\n",
       "    </tr>\n",
       "  </tbody>\n",
       "</table>\n",
       "</div>"
      ],
      "text/plain": [
       "                 Predicted Negative  Predicted Postive\n",
       "Actual Negative                2191                298\n",
       "Actual Postive                   64                 74"
      ]
     },
     "metadata": {},
     "output_type": "display_data"
    },
    {
     "name": "stdout",
     "output_type": "stream",
     "text": [
      "True Negatives: 2191\n",
      "False Negatives: 64\n",
      "True Positives: 74\n",
      "False Positives: 298\n",
      "\n",
      "Wall time: 23.1 s\n"
     ]
    }
   ],
   "source": [
    "%%time\n",
    "gb = run_model(X_train, X_test, y_train, y_test, 'gb', gb_params, grid_search = True)"
   ]
  },
  {
   "cell_type": "code",
   "execution_count": 238,
   "metadata": {
    "ExecuteTime": {
     "end_time": "2022-02-01T16:07:05.212701Z",
     "start_time": "2022-02-01T16:07:04.983875Z"
    }
   },
   "outputs": [
    {
     "data": {
      "image/png": "[encoded data removed]",
      "text/plain": [
       "<Figure size 1152x648 with 1 Axes>"
      ]
     },
     "metadata": {
      "needs_background": "light"
     },
     "output_type": "display_data"
    }
   ],
   "source": [
    "features_plot(gb, 'Gradient Boosting Model')"
   ]
  },
  {
   "cell_type": "code",
   "execution_count": null,
   "metadata": {},
   "outputs": [],
   "source": []
  },
  {
   "cell_type": "markdown",
   "metadata": {},
   "source": [
    "#### XGBoost Classifier"
   ]
  },
  {
   "cell_type": "code",
   "execution_count": 268,
   "metadata": {
    "ExecuteTime": {
     "end_time": "2022-02-01T16:55:31.682718Z",
     "start_time": "2022-02-01T16:55:31.670704Z"
    }
   },
   "outputs": [],
   "source": [
    "xgb_params = {'sampling__sampling_strategy': ['minority'], # ['minority', 'auto']\n",
    "              'sampling__k_neighbors': [4], #[2, 3, 4, 5, 6]\n",
    "              'xgb__max_depth' : [4], # [2, 3, 4, 6, 8]\n",
    "              'xgb__gamma' : [0], # [0 , 0.01 , 0.05]\n",
    "              'xgb__learning_rate' : [0.1], # [.05, 0.1, 0.2, 0.3]\n",
    "              'xgb__n_estimators' : [60], # [40, 60, 80]\n",
    "              'xgb__subsample' : [0.5], # [0.3, 0.5, 1]\n",
    "              'xgb__colsample_bytree' : [1], # [0.5, 1]\n",
    "              'xgb__lambda' : [0.5], # [0.1, 0.3, 0.5, 1, 5]\n",
    "              'xgb__alpha' : [0.5] # [0, 0.5, 1]\n",
    "             }"
   ]
  },
  {
   "cell_type": "code",
   "execution_count": 269,
   "metadata": {
    "ExecuteTime": {
     "end_time": "2022-02-01T16:55:33.573289Z",
     "start_time": "2022-02-01T16:55:32.607871Z"
    }
   },
   "outputs": [
    {
     "name": "stdout",
     "output_type": "stream",
     "text": [
      "Fitting 5 folds for each of 1 candidates, totalling 5 fits\n",
      "[00:55:33] WARNING: C:/Users/Administrator/workspace/xgboost-win64_release_1.5.1/src/learner.cc:1115: Starting in XGBoost 1.3.0, the default evaluation metric used with the objective 'binary:logistic' was changed from 'error' to 'logloss'. Explicitly set eval_metric if you'd like to restore the old behavior.\n",
      "---Best Parameters---\n"
     ]
    },
    {
     "data": {
      "text/plain": [
       "{'sampling__k_neighbors': 4,\n",
       " 'sampling__sampling_strategy': 'minority',\n",
       " 'xgb__alpha': 0.5,\n",
       " 'xgb__colsample_bytree': 1,\n",
       " 'xgb__gamma': 0,\n",
       " 'xgb__lambda': 0.5,\n",
       " 'xgb__learning_rate': 0.1,\n",
       " 'xgb__max_depth': 4,\n",
       " 'xgb__n_estimators': 60,\n",
       " 'xgb__subsample': 0.5}"
      ]
     },
     "metadata": {},
     "output_type": "display_data"
    },
    {
     "name": "stdout",
     "output_type": "stream",
     "text": [
      "Model: XGBClassifier(base_score=None, booster=None, colsample_bylevel=None,\n",
      "              colsample_bynode=None, colsample_bytree=None,\n",
      "              enable_categorical=False, gamma=None, gpu_id=None,\n",
      "              importance_type=None, interaction_constraints=None,\n",
      "              learning_rate=None, max_delta_step=None, max_depth=None,\n",
      "              min_child_weight=None, missing=nan, monotone_constraints=None,\n",
      "              n_estimators=100, n_jobs=None, num_parallel_tree=None,\n",
      "              predictor=None, random_state=42, reg_alpha=None, reg_lambda=None,\n",
      "              scale_pos_weight=None, subsample=None, tree_method=None,\n",
      "              use_label_encoder=False, validate_parameters=None,\n",
      "              verbosity=None)\n",
      "---Model Metrics---\n"
     ]
    },
    {
     "data": {
      "text/plain": [
       "{'model': 'xgb',\n",
       " 'train_auc': 0.8805845579865204,\n",
       " 'test_auc': 0.8231130015546666,\n",
       " 'precision': 0.15520282186948853,\n",
       " 'specificity': 0.8075532342306148,\n",
       " 'recall': 0.6376811594202898,\n",
       " 'f_score': 0.24964539007092196}"
      ]
     },
     "metadata": {},
     "output_type": "display_data"
    },
    {
     "data": {
      "text/html": [
       "<div>\n",
       "<style scoped>\n",
       "    .dataframe tbody tr th:only-of-type {\n",
       "        vertical-align: middle;\n",
       "    }\n",
       "\n",
       "    .dataframe tbody tr th {\n",
       "        vertical-align: top;\n",
       "    }\n",
       "\n",
       "    .dataframe thead th {\n",
       "        text-align: right;\n",
       "    }\n",
       "</style>\n",
       "<table border=\"1\" class=\"dataframe\">\n",
       "  <thead>\n",
       "    <tr style=\"text-align: right;\">\n",
       "      <th></th>\n",
       "      <th>Predicted Negative</th>\n",
       "      <th>Predicted Postive</th>\n",
       "    </tr>\n",
       "  </thead>\n",
       "  <tbody>\n",
       "    <tr>\n",
       "      <th>Actual Negative</th>\n",
       "      <td>2010</td>\n",
       "      <td>479</td>\n",
       "    </tr>\n",
       "    <tr>\n",
       "      <th>Actual Postive</th>\n",
       "      <td>50</td>\n",
       "      <td>88</td>\n",
       "    </tr>\n",
       "  </tbody>\n",
       "</table>\n",
       "</div>"
      ],
      "text/plain": [
       "                 Predicted Negative  Predicted Postive\n",
       "Actual Negative                2010                479\n",
       "Actual Postive                   50                 88"
      ]
     },
     "metadata": {},
     "output_type": "display_data"
    },
    {
     "name": "stdout",
     "output_type": "stream",
     "text": [
      "True Negatives: 2010\n",
      "False Negatives: 50\n",
      "True Positives: 88\n",
      "False Positives: 479\n",
      "\n",
      "Wall time: 953 ms\n"
     ]
    }
   ],
   "source": [
    "%%time\n",
    "xgb = run_model(X_train, X_test, y_train, y_test, 'xgb', xgb_params, grid_search = True)"
   ]
  },
  {
   "cell_type": "code",
   "execution_count": 270,
   "metadata": {
    "ExecuteTime": {
     "end_time": "2022-02-01T16:55:40.304749Z",
     "start_time": "2022-02-01T16:55:40.063395Z"
    }
   },
   "outputs": [
    {
     "data": {
      "image/png": "[encoded data removed]",
      "text/plain": [
       "<Figure size 1152x648 with 1 Axes>"
      ]
     },
     "metadata": {
      "needs_background": "light"
     },
     "output_type": "display_data"
    }
   ],
   "source": [
    "features_plot(xgb, 'XGBoost Model')"
   ]
  },
  {
   "cell_type": "code",
   "execution_count": null,
   "metadata": {},
   "outputs": [],
   "source": []
  },
  {
   "cell_type": "code",
   "execution_count": null,
   "metadata": {},
   "outputs": [],
   "source": []
  },
  {
   "cell_type": "code",
   "execution_count": null,
   "metadata": {},
   "outputs": [],
   "source": []
  },
  {
   "cell_type": "markdown",
   "metadata": {},
   "source": [
    "# Kaggle Submission"
   ]
  },
  {
   "cell_type": "code",
   "execution_count": 239,
   "metadata": {
    "ExecuteTime": {
     "end_time": "2022-02-01T16:08:12.736293Z",
     "start_time": "2022-02-01T16:08:12.726320Z"
    }
   },
   "outputs": [],
   "source": [
    "# drop date column\n",
    "test.drop(columns = ['date'], inplace = True)"
   ]
  },
  {
   "cell_type": "code",
   "execution_count": 244,
   "metadata": {
    "ExecuteTime": {
     "end_time": "2022-02-01T16:18:16.154970Z",
     "start_time": "2022-02-01T16:18:16.129982Z"
    }
   },
   "outputs": [],
   "source": [
    "# change species column\n",
    "minority_species = ['CULEX PIPIENS', 'CULEX PIPIENS/RESTUANS', 'CULEX RESTUANS']\n",
    "test['species'] = test['species'].apply(lambda x: 'OTHERS' if x not in minority_species else x)"
   ]
  },
  {
   "cell_type": "code",
   "execution_count": 246,
   "metadata": {
    "ExecuteTime": {
     "end_time": "2022-02-01T16:18:23.361776Z",
     "start_time": "2022-02-01T16:18:23.347789Z"
    }
   },
   "outputs": [
    {
     "data": {
      "text/plain": [
       "OTHERS                    71743\n",
       "CULEX PIPIENS/RESTUANS    15359\n",
       "CULEX RESTUANS            14670\n",
       "CULEX PIPIENS             14521\n",
       "Name: species, dtype: int64"
      ]
     },
     "execution_count": 246,
     "metadata": {},
     "output_type": "execute_result"
    }
   ],
   "source": [
    "test.species.value_counts()"
   ]
  },
  {
   "cell_type": "code",
   "execution_count": 252,
   "metadata": {
    "ExecuteTime": {
     "end_time": "2022-02-01T16:19:36.845262Z",
     "start_time": "2022-02-01T16:19:36.583993Z"
    }
   },
   "outputs": [
    {
     "data": {
      "text/plain": [
       "array([0, 0, 0, ..., 0, 0, 0], dtype=int64)"
      ]
     },
     "execution_count": 252,
     "metadata": {},
     "output_type": "execute_result"
    }
   ],
   "source": [
    "kaggle_pred = gb.predict(test)\n",
    "kaggle_pred"
   ]
  },
  {
   "cell_type": "code",
   "execution_count": 253,
   "metadata": {
    "ExecuteTime": {
     "end_time": "2022-02-01T16:19:41.905539Z",
     "start_time": "2022-02-01T16:19:41.746221Z"
    }
   },
   "outputs": [],
   "source": [
    "# Reimport test dataset for ID Column\n",
    "kaggle_df = pd.read_csv('data/test.csv')\n",
    "kaggle_df = kaggle_df[['Id']]\n",
    "kaggle_df['WnvPresent'] = kaggle_pred"
   ]
  },
  {
   "cell_type": "code",
   "execution_count": 254,
   "metadata": {
    "ExecuteTime": {
     "end_time": "2022-02-01T16:19:42.695386Z",
     "start_time": "2022-02-01T16:19:42.583966Z"
    }
   },
   "outputs": [],
   "source": [
    "kaggle_df.to_csv('data/kaggle_df.csv', index = False)"
   ]
  },
  {
   "cell_type": "code",
   "execution_count": null,
   "metadata": {},
   "outputs": [],
   "source": []
  },
  {
   "cell_type": "code",
   "execution_count": null,
   "metadata": {},
   "outputs": [],
   "source": []
  },
  {
   "cell_type": "markdown",
   "metadata": {
    "id": "iX4wWGkbsNaH"
   },
   "source": [
    "# Conclusion"
   ]
  },
  {
   "cell_type": "markdown",
   "metadata": {
    "id": "Zh7sDe7qsRhn"
   },
   "source": []
  }
 ],
 "metadata": {
  "colab": {
   "collapsed_sections": [],
   "name": "GA Project 4.ipynb",
   "provenance": [],
   "toc_visible": true
  },
  "kernelspec": {
   "display_name": "Python 3",
   "language": "python",
   "name": "python3"
  },
  "language_info": {
   "codemirror_mode": {
    "name": "ipython",
    "version": 3
   },
   "file_extension": ".py",
   "mimetype": "text/x-python",
   "name": "python",
   "nbconvert_exporter": "python",
   "pygments_lexer": "ipython3",
   "version": "3.8.8"
  },
  "toc": {
   "base_numbering": 1,
   "nav_menu": {},
   "number_sections": false,
   "sideBar": true,
   "skip_h1_title": false,
   "title_cell": "Table of Contents",
   "title_sidebar": "Contents",
   "toc_cell": false,
   "toc_position": {
    "height": "calc(100% - 180px)",
    "left": "10px",
    "top": "150px",
    "width": "406.225px"
   },
   "toc_section_display": true,
   "toc_window_display": true
  }
 },
 "nbformat": 4,
 "nbformat_minor": 4
}
