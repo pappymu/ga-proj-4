{
 "cells": [
  {
   "cell_type": "markdown",
   "metadata": {
    "id": "2N9RHJ8foS8n"
   },
   "source": [
    "# GA Project 4: West Nile Virus\n",
    "by: Nicholas Lim, Kwek Jun Hong, Malcolm Lau\n",
    "***\n",
    "\n",
    "## Notebook organisation\n",
    "- **Notebook 1: Data Cleaning, EDA and Feature Engineering (current notebook)**\n",
    "- Notebook 2: Model Tuning, Evaluation and Cost Benefit Analysis\n"
   ]
  },
  {
   "cell_type": "markdown",
   "metadata": {
    "id": "HbeW-JbtqKN7"
   },
   "source": [
    "# Background\n",
    "***\n",
    "The city of Chicago has been having to deal with seasonal upticks of incidences of the West Nile virus, and it is becoming a health hazard. We have been tasked by the Chicago Department of Public Health to come up with a predictive model to identify locations where mosquitoes would have a higher chance of carrying the disease, so that resources can be effectively allocated to stop its spread.\n",
    "\n",
    "One of the more efficient ways to prevent the disease would be to spray Zenivex, a pesticide, and by identifying the potential hotspots we can find an effective balance between preventability and cost. To this end, we will be examining the [West Nile Virus dataset](www.kaggle.com/c/predict-west-nile-virus/data) to train a model which can effectively predict the prevalence of the virus in certain areas.\n",
    "\n"
   ]
  },
  {
   "cell_type": "markdown",
   "metadata": {
    "id": "Xnt4uGqkqMU7"
   },
   "source": [
    "# Problem Statement\n",
    "***\n",
    "To train a model which can predict the prevalence of the West Nile virus amongst mosquitoes within the Chicago city area, and to run a cost-benefit analysis to determine the most effective way to apply pesticides."
   ]
  },
  {
   "cell_type": "markdown",
   "metadata": {},
   "source": [
    "# Approach\n",
    "---\n",
    "\n",
    "We will be looking at the seasonal trends of the incidences of the West Nile virus amongst mosquitoes in the Chicago city center area, and to understand the effects of weather on the prevalence of the virus. We will then examine four models (logistic regression, random forest, gradient boost classifier, and XGBoost classifier) to predict the probability of the virus being present in the even-valued years missing in our dataset. Finally, the models will be scored based on their ROC-AUC and F1 scores, and we will submit our model predictions to the [kaggle competition](https://www.kaggle.com/c/predict-west-nile-virus/overview) to be graded."
   ]
  },
  {
   "cell_type": "markdown",
   "metadata": {
    "id": "pBNKkV3h9CqU"
   },
   "source": [
    "# Imports"
   ]
  },
  {
   "cell_type": "code",
   "execution_count": 1,
   "metadata": {
    "ExecuteTime": {
     "end_time": "2022-02-04T02:07:20.420669Z",
     "start_time": "2022-02-04T02:07:18.673518Z"
    },
    "id": "4Z--CRVh9FBU"
   },
   "outputs": [],
   "source": [
    "# fabulous four\n",
    "import numpy as np\n",
    "import pandas as pd\n",
    "import matplotlib.pyplot as plt\n",
    "import seaborn as sns\n",
    "\n",
    "# etc\n",
    "import re\n",
    "import datetime as dt\n",
    "import warnings\n",
    "warnings.filterwarnings('ignore')"
   ]
  },
  {
   "cell_type": "markdown",
   "metadata": {
    "id": "ZFrxlDZd85yu"
   },
   "source": [
    "# Load Data"
   ]
  },
  {
   "cell_type": "markdown",
   "metadata": {
    "id": "WbXXoH5YJDfH"
   },
   "source": [
    "We can start by cleaning up the column names. We can create a function to clean them at one go that will\n",
    "1. remove whitespaces at the front and end\n",
    "2. change whitespaces in the middle to `_`\n",
    "3. change capitals to lowercase"
   ]
  },
  {
   "cell_type": "code",
   "execution_count": 2,
   "metadata": {
    "ExecuteTime": {
     "end_time": "2022-02-04T02:07:20.436018Z",
     "start_time": "2022-02-04T02:07:20.422088Z"
    },
    "id": "d_bL6tfRBMCI"
   },
   "outputs": [],
   "source": [
    "def pythonic_cols(df):\n",
    "    new_cols = [re.sub(r'(?<!^)(?=[A-Z])', '_', name).strip().lower() for name in df.columns]\n",
    "    df.columns = new_cols"
   ]
  },
  {
   "cell_type": "code",
   "execution_count": 3,
   "metadata": {
    "ExecuteTime": {
     "end_time": "2022-02-04T02:07:20.481921Z",
     "start_time": "2022-02-04T02:07:20.438009Z"
    },
    "colab": {
     "base_uri": "https://localhost:8080/",
     "height": 206
    },
    "id": "caiqLYuTJOBx",
    "outputId": "d6a330ee-1a98-47cc-aa02-3b4b0f7f60d5"
   },
   "outputs": [
    {
     "data": {
      "text/html": [
       "<div>\n",
       "<style scoped>\n",
       "    .dataframe tbody tr th:only-of-type {\n",
       "        vertical-align: middle;\n",
       "    }\n",
       "\n",
       "    .dataframe tbody tr th {\n",
       "        vertical-align: top;\n",
       "    }\n",
       "\n",
       "    .dataframe thead th {\n",
       "        text-align: right;\n",
       "    }\n",
       "</style>\n",
       "<table border=\"1\" class=\"dataframe\">\n",
       "  <thead>\n",
       "    <tr style=\"text-align: right;\">\n",
       "      <th></th>\n",
       "      <th>date</th>\n",
       "      <th>address</th>\n",
       "      <th>species</th>\n",
       "      <th>block</th>\n",
       "      <th>street</th>\n",
       "      <th>trap</th>\n",
       "      <th>address_number_and_street</th>\n",
       "      <th>latitude</th>\n",
       "      <th>longitude</th>\n",
       "      <th>address_accuracy</th>\n",
       "      <th>num_mosquitos</th>\n",
       "      <th>wnv_present</th>\n",
       "    </tr>\n",
       "  </thead>\n",
       "  <tbody>\n",
       "    <tr>\n",
       "      <th>0</th>\n",
       "      <td>2007-05-29</td>\n",
       "      <td>4100 North Oak Park Avenue, Chicago, IL 60634,...</td>\n",
       "      <td>CULEX PIPIENS/RESTUANS</td>\n",
       "      <td>41</td>\n",
       "      <td>N OAK PARK AVE</td>\n",
       "      <td>T002</td>\n",
       "      <td>4100  N OAK PARK AVE, Chicago, IL</td>\n",
       "      <td>41.954690</td>\n",
       "      <td>-87.800991</td>\n",
       "      <td>9</td>\n",
       "      <td>1</td>\n",
       "      <td>0</td>\n",
       "    </tr>\n",
       "    <tr>\n",
       "      <th>1</th>\n",
       "      <td>2007-05-29</td>\n",
       "      <td>4100 North Oak Park Avenue, Chicago, IL 60634,...</td>\n",
       "      <td>CULEX RESTUANS</td>\n",
       "      <td>41</td>\n",
       "      <td>N OAK PARK AVE</td>\n",
       "      <td>T002</td>\n",
       "      <td>4100  N OAK PARK AVE, Chicago, IL</td>\n",
       "      <td>41.954690</td>\n",
       "      <td>-87.800991</td>\n",
       "      <td>9</td>\n",
       "      <td>1</td>\n",
       "      <td>0</td>\n",
       "    </tr>\n",
       "    <tr>\n",
       "      <th>2</th>\n",
       "      <td>2007-05-29</td>\n",
       "      <td>6200 North Mandell Avenue, Chicago, IL 60646, USA</td>\n",
       "      <td>CULEX RESTUANS</td>\n",
       "      <td>62</td>\n",
       "      <td>N MANDELL AVE</td>\n",
       "      <td>T007</td>\n",
       "      <td>6200  N MANDELL AVE, Chicago, IL</td>\n",
       "      <td>41.994991</td>\n",
       "      <td>-87.769279</td>\n",
       "      <td>9</td>\n",
       "      <td>1</td>\n",
       "      <td>0</td>\n",
       "    </tr>\n",
       "    <tr>\n",
       "      <th>3</th>\n",
       "      <td>2007-05-29</td>\n",
       "      <td>7900 West Foster Avenue, Chicago, IL 60656, USA</td>\n",
       "      <td>CULEX PIPIENS/RESTUANS</td>\n",
       "      <td>79</td>\n",
       "      <td>W FOSTER AVE</td>\n",
       "      <td>T015</td>\n",
       "      <td>7900  W FOSTER AVE, Chicago, IL</td>\n",
       "      <td>41.974089</td>\n",
       "      <td>-87.824812</td>\n",
       "      <td>8</td>\n",
       "      <td>1</td>\n",
       "      <td>0</td>\n",
       "    </tr>\n",
       "    <tr>\n",
       "      <th>4</th>\n",
       "      <td>2007-05-29</td>\n",
       "      <td>7900 West Foster Avenue, Chicago, IL 60656, USA</td>\n",
       "      <td>CULEX RESTUANS</td>\n",
       "      <td>79</td>\n",
       "      <td>W FOSTER AVE</td>\n",
       "      <td>T015</td>\n",
       "      <td>7900  W FOSTER AVE, Chicago, IL</td>\n",
       "      <td>41.974089</td>\n",
       "      <td>-87.824812</td>\n",
       "      <td>8</td>\n",
       "      <td>4</td>\n",
       "      <td>0</td>\n",
       "    </tr>\n",
       "  </tbody>\n",
       "</table>\n",
       "</div>"
      ],
      "text/plain": [
       "         date                                            address  \\\n",
       "0  2007-05-29  4100 North Oak Park Avenue, Chicago, IL 60634,...   \n",
       "1  2007-05-29  4100 North Oak Park Avenue, Chicago, IL 60634,...   \n",
       "2  2007-05-29  6200 North Mandell Avenue, Chicago, IL 60646, USA   \n",
       "3  2007-05-29    7900 West Foster Avenue, Chicago, IL 60656, USA   \n",
       "4  2007-05-29    7900 West Foster Avenue, Chicago, IL 60656, USA   \n",
       "\n",
       "                  species  block           street  trap  \\\n",
       "0  CULEX PIPIENS/RESTUANS     41   N OAK PARK AVE  T002   \n",
       "1          CULEX RESTUANS     41   N OAK PARK AVE  T002   \n",
       "2          CULEX RESTUANS     62    N MANDELL AVE  T007   \n",
       "3  CULEX PIPIENS/RESTUANS     79     W FOSTER AVE  T015   \n",
       "4          CULEX RESTUANS     79     W FOSTER AVE  T015   \n",
       "\n",
       "           address_number_and_street   latitude  longitude  address_accuracy  \\\n",
       "0  4100  N OAK PARK AVE, Chicago, IL  41.954690 -87.800991                 9   \n",
       "1  4100  N OAK PARK AVE, Chicago, IL  41.954690 -87.800991                 9   \n",
       "2   6200  N MANDELL AVE, Chicago, IL  41.994991 -87.769279                 9   \n",
       "3    7900  W FOSTER AVE, Chicago, IL  41.974089 -87.824812                 8   \n",
       "4    7900  W FOSTER AVE, Chicago, IL  41.974089 -87.824812                 8   \n",
       "\n",
       "   num_mosquitos  wnv_present  \n",
       "0              1            0  \n",
       "1              1            0  \n",
       "2              1            0  \n",
       "3              1            0  \n",
       "4              4            0  "
      ]
     },
     "metadata": {},
     "output_type": "display_data"
    },
    {
     "data": {
      "text/plain": [
       "(10506, 12)"
      ]
     },
     "execution_count": 3,
     "metadata": {},
     "output_type": "execute_result"
    }
   ],
   "source": [
    "train = pd.read_csv('data/train.csv')\n",
    "pythonic_cols(train)\n",
    "display(train.head())\n",
    "train.shape"
   ]
  },
  {
   "cell_type": "code",
   "execution_count": 4,
   "metadata": {
    "ExecuteTime": {
     "end_time": "2022-02-04T02:07:20.529704Z",
     "start_time": "2022-02-04T02:07:20.482925Z"
    },
    "colab": {
     "base_uri": "https://localhost:8080/",
     "height": 424
    },
    "id": "EJLPKdz79zI6",
    "outputId": "299fd3e3-facb-4e65-da9a-05ac0562bc46",
    "tags": []
   },
   "outputs": [
    {
     "data": {
      "text/html": [
       "<div>\n",
       "<style scoped>\n",
       "    .dataframe tbody tr th:only-of-type {\n",
       "        vertical-align: middle;\n",
       "    }\n",
       "\n",
       "    .dataframe tbody tr th {\n",
       "        vertical-align: top;\n",
       "    }\n",
       "\n",
       "    .dataframe thead th {\n",
       "        text-align: right;\n",
       "    }\n",
       "</style>\n",
       "<table border=\"1\" class=\"dataframe\">\n",
       "  <thead>\n",
       "    <tr style=\"text-align: right;\">\n",
       "      <th></th>\n",
       "      <th>station</th>\n",
       "      <th>date</th>\n",
       "      <th>tmax</th>\n",
       "      <th>tmin</th>\n",
       "      <th>tavg</th>\n",
       "      <th>depart</th>\n",
       "      <th>dew_point</th>\n",
       "      <th>wet_bulb</th>\n",
       "      <th>heat</th>\n",
       "      <th>cool</th>\n",
       "      <th>...</th>\n",
       "      <th>code_sum</th>\n",
       "      <th>depth</th>\n",
       "      <th>water1</th>\n",
       "      <th>snow_fall</th>\n",
       "      <th>precip_total</th>\n",
       "      <th>stn_pressure</th>\n",
       "      <th>sea_level</th>\n",
       "      <th>result_speed</th>\n",
       "      <th>result_dir</th>\n",
       "      <th>avg_speed</th>\n",
       "    </tr>\n",
       "  </thead>\n",
       "  <tbody>\n",
       "    <tr>\n",
       "      <th>0</th>\n",
       "      <td>1</td>\n",
       "      <td>2007-05-01</td>\n",
       "      <td>83</td>\n",
       "      <td>50</td>\n",
       "      <td>67</td>\n",
       "      <td>14</td>\n",
       "      <td>51</td>\n",
       "      <td>56</td>\n",
       "      <td>0</td>\n",
       "      <td>2</td>\n",
       "      <td>...</td>\n",
       "      <td></td>\n",
       "      <td>0</td>\n",
       "      <td>M</td>\n",
       "      <td>0.0</td>\n",
       "      <td>0.00</td>\n",
       "      <td>29.10</td>\n",
       "      <td>29.82</td>\n",
       "      <td>1.7</td>\n",
       "      <td>27</td>\n",
       "      <td>9.2</td>\n",
       "    </tr>\n",
       "    <tr>\n",
       "      <th>1</th>\n",
       "      <td>2</td>\n",
       "      <td>2007-05-01</td>\n",
       "      <td>84</td>\n",
       "      <td>52</td>\n",
       "      <td>68</td>\n",
       "      <td>M</td>\n",
       "      <td>51</td>\n",
       "      <td>57</td>\n",
       "      <td>0</td>\n",
       "      <td>3</td>\n",
       "      <td>...</td>\n",
       "      <td></td>\n",
       "      <td>M</td>\n",
       "      <td>M</td>\n",
       "      <td>M</td>\n",
       "      <td>0.00</td>\n",
       "      <td>29.18</td>\n",
       "      <td>29.82</td>\n",
       "      <td>2.7</td>\n",
       "      <td>25</td>\n",
       "      <td>9.6</td>\n",
       "    </tr>\n",
       "    <tr>\n",
       "      <th>2</th>\n",
       "      <td>1</td>\n",
       "      <td>2007-05-02</td>\n",
       "      <td>59</td>\n",
       "      <td>42</td>\n",
       "      <td>51</td>\n",
       "      <td>-3</td>\n",
       "      <td>42</td>\n",
       "      <td>47</td>\n",
       "      <td>14</td>\n",
       "      <td>0</td>\n",
       "      <td>...</td>\n",
       "      <td>BR</td>\n",
       "      <td>0</td>\n",
       "      <td>M</td>\n",
       "      <td>0.0</td>\n",
       "      <td>0.00</td>\n",
       "      <td>29.38</td>\n",
       "      <td>30.09</td>\n",
       "      <td>13.0</td>\n",
       "      <td>4</td>\n",
       "      <td>13.4</td>\n",
       "    </tr>\n",
       "    <tr>\n",
       "      <th>3</th>\n",
       "      <td>2</td>\n",
       "      <td>2007-05-02</td>\n",
       "      <td>60</td>\n",
       "      <td>43</td>\n",
       "      <td>52</td>\n",
       "      <td>M</td>\n",
       "      <td>42</td>\n",
       "      <td>47</td>\n",
       "      <td>13</td>\n",
       "      <td>0</td>\n",
       "      <td>...</td>\n",
       "      <td>BR HZ</td>\n",
       "      <td>M</td>\n",
       "      <td>M</td>\n",
       "      <td>M</td>\n",
       "      <td>0.00</td>\n",
       "      <td>29.44</td>\n",
       "      <td>30.08</td>\n",
       "      <td>13.3</td>\n",
       "      <td>2</td>\n",
       "      <td>13.4</td>\n",
       "    </tr>\n",
       "    <tr>\n",
       "      <th>4</th>\n",
       "      <td>1</td>\n",
       "      <td>2007-05-03</td>\n",
       "      <td>66</td>\n",
       "      <td>46</td>\n",
       "      <td>56</td>\n",
       "      <td>2</td>\n",
       "      <td>40</td>\n",
       "      <td>48</td>\n",
       "      <td>9</td>\n",
       "      <td>0</td>\n",
       "      <td>...</td>\n",
       "      <td></td>\n",
       "      <td>0</td>\n",
       "      <td>M</td>\n",
       "      <td>0.0</td>\n",
       "      <td>0.00</td>\n",
       "      <td>29.39</td>\n",
       "      <td>30.12</td>\n",
       "      <td>11.7</td>\n",
       "      <td>7</td>\n",
       "      <td>11.9</td>\n",
       "    </tr>\n",
       "  </tbody>\n",
       "</table>\n",
       "<p>5 rows × 22 columns</p>\n",
       "</div>"
      ],
      "text/plain": [
       "   station        date  tmax  tmin tavg depart  dew_point wet_bulb heat cool  \\\n",
       "0        1  2007-05-01    83    50   67     14         51       56    0    2   \n",
       "1        2  2007-05-01    84    52   68      M         51       57    0    3   \n",
       "2        1  2007-05-02    59    42   51     -3         42       47   14    0   \n",
       "3        2  2007-05-02    60    43   52      M         42       47   13    0   \n",
       "4        1  2007-05-03    66    46   56      2         40       48    9    0   \n",
       "\n",
       "   ... code_sum depth water1 snow_fall precip_total stn_pressure sea_level  \\\n",
       "0  ...              0      M       0.0         0.00        29.10     29.82   \n",
       "1  ...              M      M         M         0.00        29.18     29.82   \n",
       "2  ...       BR     0      M       0.0         0.00        29.38     30.09   \n",
       "3  ...    BR HZ     M      M         M         0.00        29.44     30.08   \n",
       "4  ...              0      M       0.0         0.00        29.39     30.12   \n",
       "\n",
       "  result_speed result_dir  avg_speed  \n",
       "0          1.7         27        9.2  \n",
       "1          2.7         25        9.6  \n",
       "2         13.0          4       13.4  \n",
       "3         13.3          2       13.4  \n",
       "4         11.7          7       11.9  \n",
       "\n",
       "[5 rows x 22 columns]"
      ]
     },
     "metadata": {},
     "output_type": "display_data"
    },
    {
     "data": {
      "text/plain": [
       "(2944, 22)"
      ]
     },
     "execution_count": 4,
     "metadata": {},
     "output_type": "execute_result"
    }
   ],
   "source": [
    "weather = pd.read_csv('data/weather.csv')\n",
    "pythonic_cols(weather)\n",
    "display(weather.head())\n",
    "weather.shape"
   ]
  },
  {
   "cell_type": "code",
   "execution_count": 5,
   "metadata": {
    "ExecuteTime": {
     "end_time": "2022-02-04T02:07:20.561582Z",
     "start_time": "2022-02-04T02:07:20.530666Z"
    },
    "colab": {
     "base_uri": "https://localhost:8080/",
     "height": 206
    },
    "id": "St_yvbAZ96hk",
    "outputId": "bfac411a-0ceb-4f66-97db-c816fec33d1c"
   },
   "outputs": [
    {
     "data": {
      "text/html": [
       "<div>\n",
       "<style scoped>\n",
       "    .dataframe tbody tr th:only-of-type {\n",
       "        vertical-align: middle;\n",
       "    }\n",
       "\n",
       "    .dataframe tbody tr th {\n",
       "        vertical-align: top;\n",
       "    }\n",
       "\n",
       "    .dataframe thead th {\n",
       "        text-align: right;\n",
       "    }\n",
       "</style>\n",
       "<table border=\"1\" class=\"dataframe\">\n",
       "  <thead>\n",
       "    <tr style=\"text-align: right;\">\n",
       "      <th></th>\n",
       "      <th>date</th>\n",
       "      <th>time</th>\n",
       "      <th>latitude</th>\n",
       "      <th>longitude</th>\n",
       "    </tr>\n",
       "  </thead>\n",
       "  <tbody>\n",
       "    <tr>\n",
       "      <th>0</th>\n",
       "      <td>2011-08-29</td>\n",
       "      <td>6:56:58 PM</td>\n",
       "      <td>42.391623</td>\n",
       "      <td>-88.089163</td>\n",
       "    </tr>\n",
       "    <tr>\n",
       "      <th>1</th>\n",
       "      <td>2011-08-29</td>\n",
       "      <td>6:57:08 PM</td>\n",
       "      <td>42.391348</td>\n",
       "      <td>-88.089163</td>\n",
       "    </tr>\n",
       "    <tr>\n",
       "      <th>2</th>\n",
       "      <td>2011-08-29</td>\n",
       "      <td>6:57:18 PM</td>\n",
       "      <td>42.391022</td>\n",
       "      <td>-88.089157</td>\n",
       "    </tr>\n",
       "    <tr>\n",
       "      <th>3</th>\n",
       "      <td>2011-08-29</td>\n",
       "      <td>6:57:28 PM</td>\n",
       "      <td>42.390637</td>\n",
       "      <td>-88.089158</td>\n",
       "    </tr>\n",
       "    <tr>\n",
       "      <th>4</th>\n",
       "      <td>2011-08-29</td>\n",
       "      <td>6:57:38 PM</td>\n",
       "      <td>42.390410</td>\n",
       "      <td>-88.088858</td>\n",
       "    </tr>\n",
       "  </tbody>\n",
       "</table>\n",
       "</div>"
      ],
      "text/plain": [
       "         date        time   latitude  longitude\n",
       "0  2011-08-29  6:56:58 PM  42.391623 -88.089163\n",
       "1  2011-08-29  6:57:08 PM  42.391348 -88.089163\n",
       "2  2011-08-29  6:57:18 PM  42.391022 -88.089157\n",
       "3  2011-08-29  6:57:28 PM  42.390637 -88.089158\n",
       "4  2011-08-29  6:57:38 PM  42.390410 -88.088858"
      ]
     },
     "metadata": {},
     "output_type": "display_data"
    },
    {
     "data": {
      "text/plain": [
       "(14835, 4)"
      ]
     },
     "execution_count": 5,
     "metadata": {},
     "output_type": "execute_result"
    }
   ],
   "source": [
    "spray = pd.read_csv('data/spray.csv')\n",
    "pythonic_cols(spray)\n",
    "display(spray.head())\n",
    "spray.shape"
   ]
  },
  {
   "cell_type": "code",
   "execution_count": 6,
   "metadata": {
    "ExecuteTime": {
     "end_time": "2022-02-04T02:07:20.764457Z",
     "start_time": "2022-02-04T02:07:20.562580Z"
    },
    "colab": {
     "base_uri": "https://localhost:8080/"
    },
    "id": "u93lFijkRyLP",
    "outputId": "7f717e9c-cea8-4ac7-d4ce-648da79bc468"
   },
   "outputs": [
    {
     "data": {
      "text/html": [
       "<div>\n",
       "<style scoped>\n",
       "    .dataframe tbody tr th:only-of-type {\n",
       "        vertical-align: middle;\n",
       "    }\n",
       "\n",
       "    .dataframe tbody tr th {\n",
       "        vertical-align: top;\n",
       "    }\n",
       "\n",
       "    .dataframe thead th {\n",
       "        text-align: right;\n",
       "    }\n",
       "</style>\n",
       "<table border=\"1\" class=\"dataframe\">\n",
       "  <thead>\n",
       "    <tr style=\"text-align: right;\">\n",
       "      <th></th>\n",
       "      <th>id</th>\n",
       "      <th>date</th>\n",
       "      <th>address</th>\n",
       "      <th>species</th>\n",
       "      <th>block</th>\n",
       "      <th>street</th>\n",
       "      <th>trap</th>\n",
       "      <th>address_number_and_street</th>\n",
       "      <th>latitude</th>\n",
       "      <th>longitude</th>\n",
       "      <th>address_accuracy</th>\n",
       "    </tr>\n",
       "  </thead>\n",
       "  <tbody>\n",
       "    <tr>\n",
       "      <th>0</th>\n",
       "      <td>1</td>\n",
       "      <td>2008-06-11</td>\n",
       "      <td>4100 North Oak Park Avenue, Chicago, IL 60634,...</td>\n",
       "      <td>CULEX PIPIENS/RESTUANS</td>\n",
       "      <td>41</td>\n",
       "      <td>N OAK PARK AVE</td>\n",
       "      <td>T002</td>\n",
       "      <td>4100  N OAK PARK AVE, Chicago, IL</td>\n",
       "      <td>41.95469</td>\n",
       "      <td>-87.800991</td>\n",
       "      <td>9</td>\n",
       "    </tr>\n",
       "    <tr>\n",
       "      <th>1</th>\n",
       "      <td>2</td>\n",
       "      <td>2008-06-11</td>\n",
       "      <td>4100 North Oak Park Avenue, Chicago, IL 60634,...</td>\n",
       "      <td>CULEX RESTUANS</td>\n",
       "      <td>41</td>\n",
       "      <td>N OAK PARK AVE</td>\n",
       "      <td>T002</td>\n",
       "      <td>4100  N OAK PARK AVE, Chicago, IL</td>\n",
       "      <td>41.95469</td>\n",
       "      <td>-87.800991</td>\n",
       "      <td>9</td>\n",
       "    </tr>\n",
       "    <tr>\n",
       "      <th>2</th>\n",
       "      <td>3</td>\n",
       "      <td>2008-06-11</td>\n",
       "      <td>4100 North Oak Park Avenue, Chicago, IL 60634,...</td>\n",
       "      <td>CULEX PIPIENS</td>\n",
       "      <td>41</td>\n",
       "      <td>N OAK PARK AVE</td>\n",
       "      <td>T002</td>\n",
       "      <td>4100  N OAK PARK AVE, Chicago, IL</td>\n",
       "      <td>41.95469</td>\n",
       "      <td>-87.800991</td>\n",
       "      <td>9</td>\n",
       "    </tr>\n",
       "    <tr>\n",
       "      <th>3</th>\n",
       "      <td>4</td>\n",
       "      <td>2008-06-11</td>\n",
       "      <td>4100 North Oak Park Avenue, Chicago, IL 60634,...</td>\n",
       "      <td>CULEX SALINARIUS</td>\n",
       "      <td>41</td>\n",
       "      <td>N OAK PARK AVE</td>\n",
       "      <td>T002</td>\n",
       "      <td>4100  N OAK PARK AVE, Chicago, IL</td>\n",
       "      <td>41.95469</td>\n",
       "      <td>-87.800991</td>\n",
       "      <td>9</td>\n",
       "    </tr>\n",
       "    <tr>\n",
       "      <th>4</th>\n",
       "      <td>5</td>\n",
       "      <td>2008-06-11</td>\n",
       "      <td>4100 North Oak Park Avenue, Chicago, IL 60634,...</td>\n",
       "      <td>CULEX TERRITANS</td>\n",
       "      <td>41</td>\n",
       "      <td>N OAK PARK AVE</td>\n",
       "      <td>T002</td>\n",
       "      <td>4100  N OAK PARK AVE, Chicago, IL</td>\n",
       "      <td>41.95469</td>\n",
       "      <td>-87.800991</td>\n",
       "      <td>9</td>\n",
       "    </tr>\n",
       "  </tbody>\n",
       "</table>\n",
       "</div>"
      ],
      "text/plain": [
       "   id        date                                            address  \\\n",
       "0   1  2008-06-11  4100 North Oak Park Avenue, Chicago, IL 60634,...   \n",
       "1   2  2008-06-11  4100 North Oak Park Avenue, Chicago, IL 60634,...   \n",
       "2   3  2008-06-11  4100 North Oak Park Avenue, Chicago, IL 60634,...   \n",
       "3   4  2008-06-11  4100 North Oak Park Avenue, Chicago, IL 60634,...   \n",
       "4   5  2008-06-11  4100 North Oak Park Avenue, Chicago, IL 60634,...   \n",
       "\n",
       "                  species  block           street  trap  \\\n",
       "0  CULEX PIPIENS/RESTUANS     41   N OAK PARK AVE  T002   \n",
       "1          CULEX RESTUANS     41   N OAK PARK AVE  T002   \n",
       "2           CULEX PIPIENS     41   N OAK PARK AVE  T002   \n",
       "3        CULEX SALINARIUS     41   N OAK PARK AVE  T002   \n",
       "4         CULEX TERRITANS     41   N OAK PARK AVE  T002   \n",
       "\n",
       "           address_number_and_street  latitude  longitude  address_accuracy  \n",
       "0  4100  N OAK PARK AVE, Chicago, IL  41.95469 -87.800991                 9  \n",
       "1  4100  N OAK PARK AVE, Chicago, IL  41.95469 -87.800991                 9  \n",
       "2  4100  N OAK PARK AVE, Chicago, IL  41.95469 -87.800991                 9  \n",
       "3  4100  N OAK PARK AVE, Chicago, IL  41.95469 -87.800991                 9  \n",
       "4  4100  N OAK PARK AVE, Chicago, IL  41.95469 -87.800991                 9  "
      ]
     },
     "metadata": {},
     "output_type": "display_data"
    },
    {
     "data": {
      "text/plain": [
       "(116293, 11)"
      ]
     },
     "execution_count": 6,
     "metadata": {},
     "output_type": "execute_result"
    }
   ],
   "source": [
    "test = pd.read_csv('data/test.csv')\n",
    "pythonic_cols(test)\n",
    "display(test.head())\n",
    "test.shape"
   ]
  },
  {
   "cell_type": "markdown",
   "metadata": {},
   "source": [
    "# Dependent Variable\n",
    "\n",
    "Let's first take a look at the dependent variable. We can see that it is severely imbalanced, which will have to be addressed later."
   ]
  },
  {
   "cell_type": "code",
   "execution_count": 7,
   "metadata": {
    "ExecuteTime": {
     "end_time": "2022-02-04T02:07:20.780415Z",
     "start_time": "2022-02-04T02:07:20.765455Z"
    }
   },
   "outputs": [
    {
     "data": {
      "text/plain": [
       "0    0.947554\n",
       "1    0.052446\n",
       "Name: wnv_present, dtype: float64"
      ]
     },
     "execution_count": 7,
     "metadata": {},
     "output_type": "execute_result"
    }
   ],
   "source": [
    "train.wnv_present.value_counts(normalize=True)"
   ]
  },
  {
   "cell_type": "markdown",
   "metadata": {
    "id": "3mDzeeE8rubm"
   },
   "source": [
    "# Feature Selection\n",
    "\n",
    "We can choose the features that are relevant to our analysis from each dataset and combine them for easier data cleaning and analysis."
   ]
  },
  {
   "cell_type": "markdown",
   "metadata": {},
   "source": [
    "## `train`/`test` datasets\n",
    "\n",
    "The `train` and `test` datasets can be examined and cleaned at the same time as both datasets contain similar columns (except for the dependent variable). "
   ]
  },
  {
   "cell_type": "code",
   "execution_count": 8,
   "metadata": {
    "ExecuteTime": {
     "end_time": "2022-02-04T02:07:20.796373Z",
     "start_time": "2022-02-04T02:07:20.782409Z"
    }
   },
   "outputs": [
    {
     "data": {
      "text/html": [
       "<div>\n",
       "<style scoped>\n",
       "    .dataframe tbody tr th:only-of-type {\n",
       "        vertical-align: middle;\n",
       "    }\n",
       "\n",
       "    .dataframe tbody tr th {\n",
       "        vertical-align: top;\n",
       "    }\n",
       "\n",
       "    .dataframe thead th {\n",
       "        text-align: right;\n",
       "    }\n",
       "</style>\n",
       "<table border=\"1\" class=\"dataframe\">\n",
       "  <thead>\n",
       "    <tr style=\"text-align: right;\">\n",
       "      <th></th>\n",
       "      <th>date</th>\n",
       "      <th>address</th>\n",
       "      <th>species</th>\n",
       "      <th>block</th>\n",
       "      <th>street</th>\n",
       "      <th>trap</th>\n",
       "      <th>address_number_and_street</th>\n",
       "      <th>latitude</th>\n",
       "      <th>longitude</th>\n",
       "      <th>address_accuracy</th>\n",
       "      <th>num_mosquitos</th>\n",
       "      <th>wnv_present</th>\n",
       "    </tr>\n",
       "  </thead>\n",
       "  <tbody>\n",
       "    <tr>\n",
       "      <th>0</th>\n",
       "      <td>2007-05-29</td>\n",
       "      <td>4100 North Oak Park Avenue, Chicago, IL 60634,...</td>\n",
       "      <td>CULEX PIPIENS/RESTUANS</td>\n",
       "      <td>41</td>\n",
       "      <td>N OAK PARK AVE</td>\n",
       "      <td>T002</td>\n",
       "      <td>4100  N OAK PARK AVE, Chicago, IL</td>\n",
       "      <td>41.954690</td>\n",
       "      <td>-87.800991</td>\n",
       "      <td>9</td>\n",
       "      <td>1</td>\n",
       "      <td>0</td>\n",
       "    </tr>\n",
       "    <tr>\n",
       "      <th>1</th>\n",
       "      <td>2007-05-29</td>\n",
       "      <td>4100 North Oak Park Avenue, Chicago, IL 60634,...</td>\n",
       "      <td>CULEX RESTUANS</td>\n",
       "      <td>41</td>\n",
       "      <td>N OAK PARK AVE</td>\n",
       "      <td>T002</td>\n",
       "      <td>4100  N OAK PARK AVE, Chicago, IL</td>\n",
       "      <td>41.954690</td>\n",
       "      <td>-87.800991</td>\n",
       "      <td>9</td>\n",
       "      <td>1</td>\n",
       "      <td>0</td>\n",
       "    </tr>\n",
       "    <tr>\n",
       "      <th>2</th>\n",
       "      <td>2007-05-29</td>\n",
       "      <td>6200 North Mandell Avenue, Chicago, IL 60646, USA</td>\n",
       "      <td>CULEX RESTUANS</td>\n",
       "      <td>62</td>\n",
       "      <td>N MANDELL AVE</td>\n",
       "      <td>T007</td>\n",
       "      <td>6200  N MANDELL AVE, Chicago, IL</td>\n",
       "      <td>41.994991</td>\n",
       "      <td>-87.769279</td>\n",
       "      <td>9</td>\n",
       "      <td>1</td>\n",
       "      <td>0</td>\n",
       "    </tr>\n",
       "    <tr>\n",
       "      <th>3</th>\n",
       "      <td>2007-05-29</td>\n",
       "      <td>7900 West Foster Avenue, Chicago, IL 60656, USA</td>\n",
       "      <td>CULEX PIPIENS/RESTUANS</td>\n",
       "      <td>79</td>\n",
       "      <td>W FOSTER AVE</td>\n",
       "      <td>T015</td>\n",
       "      <td>7900  W FOSTER AVE, Chicago, IL</td>\n",
       "      <td>41.974089</td>\n",
       "      <td>-87.824812</td>\n",
       "      <td>8</td>\n",
       "      <td>1</td>\n",
       "      <td>0</td>\n",
       "    </tr>\n",
       "    <tr>\n",
       "      <th>4</th>\n",
       "      <td>2007-05-29</td>\n",
       "      <td>7900 West Foster Avenue, Chicago, IL 60656, USA</td>\n",
       "      <td>CULEX RESTUANS</td>\n",
       "      <td>79</td>\n",
       "      <td>W FOSTER AVE</td>\n",
       "      <td>T015</td>\n",
       "      <td>7900  W FOSTER AVE, Chicago, IL</td>\n",
       "      <td>41.974089</td>\n",
       "      <td>-87.824812</td>\n",
       "      <td>8</td>\n",
       "      <td>4</td>\n",
       "      <td>0</td>\n",
       "    </tr>\n",
       "  </tbody>\n",
       "</table>\n",
       "</div>"
      ],
      "text/plain": [
       "         date                                            address  \\\n",
       "0  2007-05-29  4100 North Oak Park Avenue, Chicago, IL 60634,...   \n",
       "1  2007-05-29  4100 North Oak Park Avenue, Chicago, IL 60634,...   \n",
       "2  2007-05-29  6200 North Mandell Avenue, Chicago, IL 60646, USA   \n",
       "3  2007-05-29    7900 West Foster Avenue, Chicago, IL 60656, USA   \n",
       "4  2007-05-29    7900 West Foster Avenue, Chicago, IL 60656, USA   \n",
       "\n",
       "                  species  block           street  trap  \\\n",
       "0  CULEX PIPIENS/RESTUANS     41   N OAK PARK AVE  T002   \n",
       "1          CULEX RESTUANS     41   N OAK PARK AVE  T002   \n",
       "2          CULEX RESTUANS     62    N MANDELL AVE  T007   \n",
       "3  CULEX PIPIENS/RESTUANS     79     W FOSTER AVE  T015   \n",
       "4          CULEX RESTUANS     79     W FOSTER AVE  T015   \n",
       "\n",
       "           address_number_and_street   latitude  longitude  address_accuracy  \\\n",
       "0  4100  N OAK PARK AVE, Chicago, IL  41.954690 -87.800991                 9   \n",
       "1  4100  N OAK PARK AVE, Chicago, IL  41.954690 -87.800991                 9   \n",
       "2   6200  N MANDELL AVE, Chicago, IL  41.994991 -87.769279                 9   \n",
       "3    7900  W FOSTER AVE, Chicago, IL  41.974089 -87.824812                 8   \n",
       "4    7900  W FOSTER AVE, Chicago, IL  41.974089 -87.824812                 8   \n",
       "\n",
       "   num_mosquitos  wnv_present  \n",
       "0              1            0  \n",
       "1              1            0  \n",
       "2              1            0  \n",
       "3              1            0  \n",
       "4              4            0  "
      ]
     },
     "execution_count": 8,
     "metadata": {},
     "output_type": "execute_result"
    }
   ],
   "source": [
    "train.head()"
   ]
  },
  {
   "cell_type": "code",
   "execution_count": 9,
   "metadata": {
    "ExecuteTime": {
     "end_time": "2022-02-04T02:07:20.827845Z",
     "start_time": "2022-02-04T02:07:20.799364Z"
    }
   },
   "outputs": [
    {
     "name": "stdout",
     "output_type": "stream",
     "text": [
      "<class 'pandas.core.frame.DataFrame'>\n",
      "RangeIndex: 10506 entries, 0 to 10505\n",
      "Data columns (total 12 columns):\n",
      " #   Column                     Non-Null Count  Dtype  \n",
      "---  ------                     --------------  -----  \n",
      " 0   date                       10506 non-null  object \n",
      " 1   address                    10506 non-null  object \n",
      " 2   species                    10506 non-null  object \n",
      " 3   block                      10506 non-null  int64  \n",
      " 4   street                     10506 non-null  object \n",
      " 5   trap                       10506 non-null  object \n",
      " 6   address_number_and_street  10506 non-null  object \n",
      " 7   latitude                   10506 non-null  float64\n",
      " 8   longitude                  10506 non-null  float64\n",
      " 9   address_accuracy           10506 non-null  int64  \n",
      " 10  num_mosquitos              10506 non-null  int64  \n",
      " 11  wnv_present                10506 non-null  int64  \n",
      "dtypes: float64(2), int64(4), object(6)\n",
      "memory usage: 985.1+ KB\n"
     ]
    }
   ],
   "source": [
    "train.info()"
   ]
  },
  {
   "cell_type": "code",
   "execution_count": 10,
   "metadata": {},
   "outputs": [
    {
     "name": "stdout",
     "output_type": "stream",
     "text": [
      "<class 'pandas.core.frame.DataFrame'>\n",
      "RangeIndex: 116293 entries, 0 to 116292\n",
      "Data columns (total 11 columns):\n",
      " #   Column                     Non-Null Count   Dtype  \n",
      "---  ------                     --------------   -----  \n",
      " 0   id                         116293 non-null  int64  \n",
      " 1   date                       116293 non-null  object \n",
      " 2   address                    116293 non-null  object \n",
      " 3   species                    116293 non-null  object \n",
      " 4   block                      116293 non-null  int64  \n",
      " 5   street                     116293 non-null  object \n",
      " 6   trap                       116293 non-null  object \n",
      " 7   address_number_and_street  116293 non-null  object \n",
      " 8   latitude                   116293 non-null  float64\n",
      " 9   longitude                  116293 non-null  float64\n",
      " 10  address_accuracy           116293 non-null  int64  \n",
      "dtypes: float64(2), int64(3), object(6)\n",
      "memory usage: 9.8+ MB\n"
     ]
    }
   ],
   "source": [
    "test.info()"
   ]
  },
  {
   "cell_type": "markdown",
   "metadata": {},
   "source": [
    "### Address Columns\n",
    "\n",
    "The address details are not as important to us because location information is sufficiently captured in the Lat/Long provided in the dataset. "
   ]
  },
  {
   "cell_type": "markdown",
   "metadata": {},
   "source": [
    "### Trap Column\n",
    "\n",
    "From the `train` dataset, we can see that the most tested traps were T900 & T115. The top ten tested traps are shown below.\n",
    "\n",
    "We also observe that there are some traps which exist only in the `test` dataset but not in the `train` dataset. As we will be one-hot encoding nominal variables such as traps, having features that do not exist in the `train` dataset will not be useful. Therefore, we can drop the `trap` column."
   ]
  },
  {
   "cell_type": "code",
   "execution_count": 11,
   "metadata": {
    "ExecuteTime": {
     "end_time": "2022-02-04T02:07:20.843033Z",
     "start_time": "2022-02-04T02:07:20.830102Z"
    }
   },
   "outputs": [
    {
     "name": "stdout",
     "output_type": "stream",
     "text": [
      "T900    750\n",
      "T115    542\n",
      "T138    314\n",
      "T002    185\n",
      "T135    183\n",
      "T054    163\n",
      "T128    160\n",
      "T151    156\n",
      "T212    152\n",
      "T090    151\n",
      "Name: trap, dtype: int64\n"
     ]
    },
    {
     "data": {
      "text/plain": [
       "<Figure size 1584x576 with 0 Axes>"
      ]
     },
     "metadata": {},
     "output_type": "display_data"
    }
   ],
   "source": [
    "plt.figure(figsize=(22,8))\n",
    "print(train['trap'].value_counts().head(10))"
   ]
  },
  {
   "cell_type": "code",
   "execution_count": 12,
   "metadata": {
    "ExecuteTime": {
     "end_time": "2022-02-04T02:07:20.934644Z",
     "start_time": "2022-02-04T02:07:20.843972Z"
    }
   },
   "outputs": [
    {
     "name": "stdout",
     "output_type": "stream",
     "text": [
      "T090A\n",
      "T090B\n",
      "T090C\n",
      "T200A\n",
      "T128A\n",
      "T200B\n",
      "T218A\n",
      "T218C\n",
      "T218B\n",
      "T002A\n",
      "T002B\n",
      "T234\n",
      "T065A\n"
     ]
    }
   ],
   "source": [
    "for trap in test['trap'].unique():\n",
    "    if trap not in train['trap'].unique():\n",
    "        print(trap)"
   ]
  },
  {
   "cell_type": "markdown",
   "metadata": {
    "id": "500sUBwAInZW"
   },
   "source": [
    "### Features selected for `train`/`test`\n",
    "\n",
    "Based on the above analysis and our domain knowledge, we will keep the features that are most relevant to us:\n",
    "1. date\n",
    "2. species\n",
    "3. latitude\n",
    "4. longitude\n",
    "5. wnv_present (dependent variable)"
   ]
  },
  {
   "cell_type": "code",
   "execution_count": 13,
   "metadata": {
    "ExecuteTime": {
     "end_time": "2022-02-04T02:07:20.949639Z",
     "start_time": "2022-02-04T02:07:20.935641Z"
    },
    "colab": {
     "base_uri": "https://localhost:8080/",
     "height": 206
    },
    "id": "9eREEzQZJe72",
    "outputId": "2815e2e4-40e0-4532-dbde-ff95f17a7578"
   },
   "outputs": [
    {
     "data": {
      "text/html": [
       "<div>\n",
       "<style scoped>\n",
       "    .dataframe tbody tr th:only-of-type {\n",
       "        vertical-align: middle;\n",
       "    }\n",
       "\n",
       "    .dataframe tbody tr th {\n",
       "        vertical-align: top;\n",
       "    }\n",
       "\n",
       "    .dataframe thead th {\n",
       "        text-align: right;\n",
       "    }\n",
       "</style>\n",
       "<table border=\"1\" class=\"dataframe\">\n",
       "  <thead>\n",
       "    <tr style=\"text-align: right;\">\n",
       "      <th></th>\n",
       "      <th>date</th>\n",
       "      <th>species</th>\n",
       "      <th>latitude</th>\n",
       "      <th>longitude</th>\n",
       "      <th>num_mosquitos</th>\n",
       "      <th>wnv_present</th>\n",
       "    </tr>\n",
       "  </thead>\n",
       "  <tbody>\n",
       "    <tr>\n",
       "      <th>0</th>\n",
       "      <td>2007-05-29</td>\n",
       "      <td>CULEX PIPIENS/RESTUANS</td>\n",
       "      <td>41.954690</td>\n",
       "      <td>-87.800991</td>\n",
       "      <td>1</td>\n",
       "      <td>0</td>\n",
       "    </tr>\n",
       "    <tr>\n",
       "      <th>1</th>\n",
       "      <td>2007-05-29</td>\n",
       "      <td>CULEX RESTUANS</td>\n",
       "      <td>41.954690</td>\n",
       "      <td>-87.800991</td>\n",
       "      <td>1</td>\n",
       "      <td>0</td>\n",
       "    </tr>\n",
       "    <tr>\n",
       "      <th>2</th>\n",
       "      <td>2007-05-29</td>\n",
       "      <td>CULEX RESTUANS</td>\n",
       "      <td>41.994991</td>\n",
       "      <td>-87.769279</td>\n",
       "      <td>1</td>\n",
       "      <td>0</td>\n",
       "    </tr>\n",
       "    <tr>\n",
       "      <th>3</th>\n",
       "      <td>2007-05-29</td>\n",
       "      <td>CULEX PIPIENS/RESTUANS</td>\n",
       "      <td>41.974089</td>\n",
       "      <td>-87.824812</td>\n",
       "      <td>1</td>\n",
       "      <td>0</td>\n",
       "    </tr>\n",
       "    <tr>\n",
       "      <th>4</th>\n",
       "      <td>2007-05-29</td>\n",
       "      <td>CULEX RESTUANS</td>\n",
       "      <td>41.974089</td>\n",
       "      <td>-87.824812</td>\n",
       "      <td>4</td>\n",
       "      <td>0</td>\n",
       "    </tr>\n",
       "  </tbody>\n",
       "</table>\n",
       "</div>"
      ],
      "text/plain": [
       "         date                 species   latitude  longitude  num_mosquitos  \\\n",
       "0  2007-05-29  CULEX PIPIENS/RESTUANS  41.954690 -87.800991              1   \n",
       "1  2007-05-29          CULEX RESTUANS  41.954690 -87.800991              1   \n",
       "2  2007-05-29          CULEX RESTUANS  41.994991 -87.769279              1   \n",
       "3  2007-05-29  CULEX PIPIENS/RESTUANS  41.974089 -87.824812              1   \n",
       "4  2007-05-29          CULEX RESTUANS  41.974089 -87.824812              4   \n",
       "\n",
       "   wnv_present  \n",
       "0            0  \n",
       "1            0  \n",
       "2            0  \n",
       "3            0  \n",
       "4            0  "
      ]
     },
     "execution_count": 13,
     "metadata": {},
     "output_type": "execute_result"
    }
   ],
   "source": [
    "train = train[['date', 'species', 'latitude', 'longitude','num_mosquitos', 'wnv_present']]\n",
    "train.head()"
   ]
  },
  {
   "cell_type": "code",
   "execution_count": 14,
   "metadata": {
    "ExecuteTime": {
     "end_time": "2022-02-04T02:07:20.980557Z",
     "start_time": "2022-02-04T02:07:20.950602Z"
    }
   },
   "outputs": [
    {
     "name": "stdout",
     "output_type": "stream",
     "text": [
      "<class 'pandas.core.frame.DataFrame'>\n",
      "RangeIndex: 10506 entries, 0 to 10505\n",
      "Data columns (total 6 columns):\n",
      " #   Column         Non-Null Count  Dtype  \n",
      "---  ------         --------------  -----  \n",
      " 0   date           10506 non-null  object \n",
      " 1   species        10506 non-null  object \n",
      " 2   latitude       10506 non-null  float64\n",
      " 3   longitude      10506 non-null  float64\n",
      " 4   num_mosquitos  10506 non-null  int64  \n",
      " 5   wnv_present    10506 non-null  int64  \n",
      "dtypes: float64(2), int64(2), object(2)\n",
      "memory usage: 492.6+ KB\n"
     ]
    }
   ],
   "source": [
    "train.info()"
   ]
  },
  {
   "cell_type": "markdown",
   "metadata": {},
   "source": [
    "Whatever we do for `train`, we have to do unto `test` too, except without the dependent variable."
   ]
  },
  {
   "cell_type": "code",
   "execution_count": 15,
   "metadata": {
    "ExecuteTime": {
     "end_time": "2022-02-04T02:07:20.996478Z",
     "start_time": "2022-02-04T02:07:20.981549Z"
    }
   },
   "outputs": [
    {
     "data": {
      "text/html": [
       "<div>\n",
       "<style scoped>\n",
       "    .dataframe tbody tr th:only-of-type {\n",
       "        vertical-align: middle;\n",
       "    }\n",
       "\n",
       "    .dataframe tbody tr th {\n",
       "        vertical-align: top;\n",
       "    }\n",
       "\n",
       "    .dataframe thead th {\n",
       "        text-align: right;\n",
       "    }\n",
       "</style>\n",
       "<table border=\"1\" class=\"dataframe\">\n",
       "  <thead>\n",
       "    <tr style=\"text-align: right;\">\n",
       "      <th></th>\n",
       "      <th>date</th>\n",
       "      <th>species</th>\n",
       "      <th>latitude</th>\n",
       "      <th>longitude</th>\n",
       "    </tr>\n",
       "  </thead>\n",
       "  <tbody>\n",
       "    <tr>\n",
       "      <th>0</th>\n",
       "      <td>2008-06-11</td>\n",
       "      <td>CULEX PIPIENS/RESTUANS</td>\n",
       "      <td>41.95469</td>\n",
       "      <td>-87.800991</td>\n",
       "    </tr>\n",
       "    <tr>\n",
       "      <th>1</th>\n",
       "      <td>2008-06-11</td>\n",
       "      <td>CULEX RESTUANS</td>\n",
       "      <td>41.95469</td>\n",
       "      <td>-87.800991</td>\n",
       "    </tr>\n",
       "    <tr>\n",
       "      <th>2</th>\n",
       "      <td>2008-06-11</td>\n",
       "      <td>CULEX PIPIENS</td>\n",
       "      <td>41.95469</td>\n",
       "      <td>-87.800991</td>\n",
       "    </tr>\n",
       "    <tr>\n",
       "      <th>3</th>\n",
       "      <td>2008-06-11</td>\n",
       "      <td>CULEX SALINARIUS</td>\n",
       "      <td>41.95469</td>\n",
       "      <td>-87.800991</td>\n",
       "    </tr>\n",
       "    <tr>\n",
       "      <th>4</th>\n",
       "      <td>2008-06-11</td>\n",
       "      <td>CULEX TERRITANS</td>\n",
       "      <td>41.95469</td>\n",
       "      <td>-87.800991</td>\n",
       "    </tr>\n",
       "  </tbody>\n",
       "</table>\n",
       "</div>"
      ],
      "text/plain": [
       "         date                 species  latitude  longitude\n",
       "0  2008-06-11  CULEX PIPIENS/RESTUANS  41.95469 -87.800991\n",
       "1  2008-06-11          CULEX RESTUANS  41.95469 -87.800991\n",
       "2  2008-06-11           CULEX PIPIENS  41.95469 -87.800991\n",
       "3  2008-06-11        CULEX SALINARIUS  41.95469 -87.800991\n",
       "4  2008-06-11         CULEX TERRITANS  41.95469 -87.800991"
      ]
     },
     "execution_count": 15,
     "metadata": {},
     "output_type": "execute_result"
    }
   ],
   "source": [
    "test = test[['date', 'species', 'latitude', 'longitude']]\n",
    "test.head()"
   ]
  },
  {
   "cell_type": "markdown",
   "metadata": {},
   "source": [
    "## `weather` dataset"
   ]
  },
  {
   "cell_type": "code",
   "execution_count": 16,
   "metadata": {
    "ExecuteTime": {
     "end_time": "2022-02-04T02:07:21.027396Z",
     "start_time": "2022-02-04T02:07:20.997476Z"
    }
   },
   "outputs": [
    {
     "data": {
      "text/html": [
       "<div>\n",
       "<style scoped>\n",
       "    .dataframe tbody tr th:only-of-type {\n",
       "        vertical-align: middle;\n",
       "    }\n",
       "\n",
       "    .dataframe tbody tr th {\n",
       "        vertical-align: top;\n",
       "    }\n",
       "\n",
       "    .dataframe thead th {\n",
       "        text-align: right;\n",
       "    }\n",
       "</style>\n",
       "<table border=\"1\" class=\"dataframe\">\n",
       "  <thead>\n",
       "    <tr style=\"text-align: right;\">\n",
       "      <th></th>\n",
       "      <th>station</th>\n",
       "      <th>date</th>\n",
       "      <th>tmax</th>\n",
       "      <th>tmin</th>\n",
       "      <th>tavg</th>\n",
       "      <th>depart</th>\n",
       "      <th>dew_point</th>\n",
       "      <th>wet_bulb</th>\n",
       "      <th>heat</th>\n",
       "      <th>cool</th>\n",
       "      <th>...</th>\n",
       "      <th>code_sum</th>\n",
       "      <th>depth</th>\n",
       "      <th>water1</th>\n",
       "      <th>snow_fall</th>\n",
       "      <th>precip_total</th>\n",
       "      <th>stn_pressure</th>\n",
       "      <th>sea_level</th>\n",
       "      <th>result_speed</th>\n",
       "      <th>result_dir</th>\n",
       "      <th>avg_speed</th>\n",
       "    </tr>\n",
       "  </thead>\n",
       "  <tbody>\n",
       "    <tr>\n",
       "      <th>0</th>\n",
       "      <td>1</td>\n",
       "      <td>2007-05-01</td>\n",
       "      <td>83</td>\n",
       "      <td>50</td>\n",
       "      <td>67</td>\n",
       "      <td>14</td>\n",
       "      <td>51</td>\n",
       "      <td>56</td>\n",
       "      <td>0</td>\n",
       "      <td>2</td>\n",
       "      <td>...</td>\n",
       "      <td></td>\n",
       "      <td>0</td>\n",
       "      <td>M</td>\n",
       "      <td>0.0</td>\n",
       "      <td>0.00</td>\n",
       "      <td>29.10</td>\n",
       "      <td>29.82</td>\n",
       "      <td>1.7</td>\n",
       "      <td>27</td>\n",
       "      <td>9.2</td>\n",
       "    </tr>\n",
       "    <tr>\n",
       "      <th>1</th>\n",
       "      <td>2</td>\n",
       "      <td>2007-05-01</td>\n",
       "      <td>84</td>\n",
       "      <td>52</td>\n",
       "      <td>68</td>\n",
       "      <td>M</td>\n",
       "      <td>51</td>\n",
       "      <td>57</td>\n",
       "      <td>0</td>\n",
       "      <td>3</td>\n",
       "      <td>...</td>\n",
       "      <td></td>\n",
       "      <td>M</td>\n",
       "      <td>M</td>\n",
       "      <td>M</td>\n",
       "      <td>0.00</td>\n",
       "      <td>29.18</td>\n",
       "      <td>29.82</td>\n",
       "      <td>2.7</td>\n",
       "      <td>25</td>\n",
       "      <td>9.6</td>\n",
       "    </tr>\n",
       "    <tr>\n",
       "      <th>2</th>\n",
       "      <td>1</td>\n",
       "      <td>2007-05-02</td>\n",
       "      <td>59</td>\n",
       "      <td>42</td>\n",
       "      <td>51</td>\n",
       "      <td>-3</td>\n",
       "      <td>42</td>\n",
       "      <td>47</td>\n",
       "      <td>14</td>\n",
       "      <td>0</td>\n",
       "      <td>...</td>\n",
       "      <td>BR</td>\n",
       "      <td>0</td>\n",
       "      <td>M</td>\n",
       "      <td>0.0</td>\n",
       "      <td>0.00</td>\n",
       "      <td>29.38</td>\n",
       "      <td>30.09</td>\n",
       "      <td>13.0</td>\n",
       "      <td>4</td>\n",
       "      <td>13.4</td>\n",
       "    </tr>\n",
       "    <tr>\n",
       "      <th>3</th>\n",
       "      <td>2</td>\n",
       "      <td>2007-05-02</td>\n",
       "      <td>60</td>\n",
       "      <td>43</td>\n",
       "      <td>52</td>\n",
       "      <td>M</td>\n",
       "      <td>42</td>\n",
       "      <td>47</td>\n",
       "      <td>13</td>\n",
       "      <td>0</td>\n",
       "      <td>...</td>\n",
       "      <td>BR HZ</td>\n",
       "      <td>M</td>\n",
       "      <td>M</td>\n",
       "      <td>M</td>\n",
       "      <td>0.00</td>\n",
       "      <td>29.44</td>\n",
       "      <td>30.08</td>\n",
       "      <td>13.3</td>\n",
       "      <td>2</td>\n",
       "      <td>13.4</td>\n",
       "    </tr>\n",
       "    <tr>\n",
       "      <th>4</th>\n",
       "      <td>1</td>\n",
       "      <td>2007-05-03</td>\n",
       "      <td>66</td>\n",
       "      <td>46</td>\n",
       "      <td>56</td>\n",
       "      <td>2</td>\n",
       "      <td>40</td>\n",
       "      <td>48</td>\n",
       "      <td>9</td>\n",
       "      <td>0</td>\n",
       "      <td>...</td>\n",
       "      <td></td>\n",
       "      <td>0</td>\n",
       "      <td>M</td>\n",
       "      <td>0.0</td>\n",
       "      <td>0.00</td>\n",
       "      <td>29.39</td>\n",
       "      <td>30.12</td>\n",
       "      <td>11.7</td>\n",
       "      <td>7</td>\n",
       "      <td>11.9</td>\n",
       "    </tr>\n",
       "  </tbody>\n",
       "</table>\n",
       "<p>5 rows × 22 columns</p>\n",
       "</div>"
      ],
      "text/plain": [
       "   station        date  tmax  tmin tavg depart  dew_point wet_bulb heat cool  \\\n",
       "0        1  2007-05-01    83    50   67     14         51       56    0    2   \n",
       "1        2  2007-05-01    84    52   68      M         51       57    0    3   \n",
       "2        1  2007-05-02    59    42   51     -3         42       47   14    0   \n",
       "3        2  2007-05-02    60    43   52      M         42       47   13    0   \n",
       "4        1  2007-05-03    66    46   56      2         40       48    9    0   \n",
       "\n",
       "   ... code_sum depth water1 snow_fall precip_total stn_pressure sea_level  \\\n",
       "0  ...              0      M       0.0         0.00        29.10     29.82   \n",
       "1  ...              M      M         M         0.00        29.18     29.82   \n",
       "2  ...       BR     0      M       0.0         0.00        29.38     30.09   \n",
       "3  ...    BR HZ     M      M         M         0.00        29.44     30.08   \n",
       "4  ...              0      M       0.0         0.00        29.39     30.12   \n",
       "\n",
       "  result_speed result_dir  avg_speed  \n",
       "0          1.7         27        9.2  \n",
       "1          2.7         25        9.6  \n",
       "2         13.0          4       13.4  \n",
       "3         13.3          2       13.4  \n",
       "4         11.7          7       11.9  \n",
       "\n",
       "[5 rows x 22 columns]"
      ]
     },
     "execution_count": 16,
     "metadata": {},
     "output_type": "execute_result"
    }
   ],
   "source": [
    "weather.head()"
   ]
  },
  {
   "cell_type": "code",
   "execution_count": 17,
   "metadata": {
    "ExecuteTime": {
     "end_time": "2022-02-04T02:07:21.042865Z",
     "start_time": "2022-02-04T02:07:21.028918Z"
    }
   },
   "outputs": [
    {
     "name": "stdout",
     "output_type": "stream",
     "text": [
      "<class 'pandas.core.frame.DataFrame'>\n",
      "RangeIndex: 2944 entries, 0 to 2943\n",
      "Data columns (total 22 columns):\n",
      " #   Column        Non-Null Count  Dtype  \n",
      "---  ------        --------------  -----  \n",
      " 0   station       2944 non-null   int64  \n",
      " 1   date          2944 non-null   object \n",
      " 2   tmax          2944 non-null   int64  \n",
      " 3   tmin          2944 non-null   int64  \n",
      " 4   tavg          2944 non-null   object \n",
      " 5   depart        2944 non-null   object \n",
      " 6   dew_point     2944 non-null   int64  \n",
      " 7   wet_bulb      2944 non-null   object \n",
      " 8   heat          2944 non-null   object \n",
      " 9   cool          2944 non-null   object \n",
      " 10  sunrise       2944 non-null   object \n",
      " 11  sunset        2944 non-null   object \n",
      " 12  code_sum      2944 non-null   object \n",
      " 13  depth         2944 non-null   object \n",
      " 14  water1        2944 non-null   object \n",
      " 15  snow_fall     2944 non-null   object \n",
      " 16  precip_total  2944 non-null   object \n",
      " 17  stn_pressure  2944 non-null   object \n",
      " 18  sea_level     2944 non-null   object \n",
      " 19  result_speed  2944 non-null   float64\n",
      " 20  result_dir    2944 non-null   int64  \n",
      " 21  avg_speed     2944 non-null   object \n",
      "dtypes: float64(1), int64(5), object(16)\n",
      "memory usage: 506.1+ KB\n"
     ]
    }
   ],
   "source": [
    "weather.info()"
   ]
  },
  {
   "cell_type": "markdown",
   "metadata": {
    "id": "IHBPTEbUuvyY"
   },
   "source": [
    "Taking a look at the nominal variable `code_sum`, we notice that it is a description of weather patterns captured by the weather station on a certain day. However for our case, the rest of the information suffices in giving us an overview of the weather conditions on a particular day, and thus we do not need it."
   ]
  },
  {
   "cell_type": "code",
   "execution_count": 18,
   "metadata": {
    "ExecuteTime": {
     "end_time": "2022-02-04T02:07:21.058821Z",
     "start_time": "2022-02-04T02:07:21.043874Z"
    },
    "colab": {
     "base_uri": "https://localhost:8080/"
    },
    "id": "jRuCps2ojofd",
    "outputId": "958f807d-bac4-49f4-f5ad-ffc1aeb72074"
   },
   "outputs": [
    {
     "data": {
      "text/plain": [
       "                    1609\n",
       "RA                   296\n",
       "RA BR                238\n",
       "BR                   110\n",
       "TSRA RA BR            92\n",
       "                    ... \n",
       "RA DZ SN               1\n",
       "TS TSRA RA FG BR       1\n",
       "BR HZ VCFG             1\n",
       "TS RA FG+ FG BR        1\n",
       "RA SN BR               1\n",
       "Name: code_sum, Length: 98, dtype: int64"
      ]
     },
     "execution_count": 18,
     "metadata": {},
     "output_type": "execute_result"
    }
   ],
   "source": [
    "weather.code_sum.value_counts()"
   ]
  },
  {
   "cell_type": "markdown",
   "metadata": {
    "id": "rtLIyPP34g5h"
   },
   "source": [
    "We can also do a check on the precipitation columns. It seems like out of all of them, only the total precipitation column gives the most useful information - the rest are null values."
   ]
  },
  {
   "cell_type": "code",
   "execution_count": 19,
   "metadata": {
    "ExecuteTime": {
     "end_time": "2022-02-04T02:07:21.074778Z",
     "start_time": "2022-02-04T02:07:21.059818Z"
    },
    "colab": {
     "base_uri": "https://localhost:8080/"
    },
    "id": "wZmUlKK4cp_E",
    "outputId": "a29bae38-2ac4-4ada-e0c4-09861b470661"
   },
   "outputs": [
    {
     "name": "stdout",
     "output_type": "stream",
     "text": [
      "depth\n",
      "0    1472\n",
      "M    1472\n",
      "Name: depth, dtype: int64\n",
      "===============\n",
      "water1\n",
      "M    2944\n",
      "Name: water1, dtype: int64\n",
      "===============\n",
      "snow_fall\n",
      "M      1472\n",
      "0.0    1459\n",
      "  T      12\n",
      "0.1       1\n",
      "Name: snow_fall, dtype: int64\n",
      "===============\n",
      "precip_total\n",
      "0.00    1577\n",
      "  T      318\n",
      "0.01     127\n",
      "0.02      63\n",
      "0.03      46\n",
      "        ... \n",
      "3.64       1\n",
      "4.73       1\n",
      "1.60       1\n",
      "2.24       1\n",
      "1.18       1\n",
      "Name: precip_total, Length: 168, dtype: int64\n",
      "===============\n"
     ]
    }
   ],
   "source": [
    "for col in ['depth', 'water1', 'snow_fall', 'precip_total']:\n",
    "  print(col)\n",
    "  print(weather[col].value_counts())\n",
    "  print('===============')"
   ]
  },
  {
   "cell_type": "markdown",
   "metadata": {
    "id": "IrXbc3C-IsBX"
   },
   "source": [
    "According to this [website](https://www.differencebetween.com/difference-between-dewpoint-and-wet-bulb-temperature/), there is a direct correlation between temperature and dewpoint which indicates the humidity. We can then remove the wet bulb temperature. Furthermore, air pressure has a significant impact on the weather patterns in the area.\n",
    "\n",
    "Based on the above analysis, we will be choosing a few relevant columns for our analysis. The pertinent ones are:\n",
    "1. station\n",
    "2. date\n",
    "3. tavg\n",
    "4. dew_point\n",
    "5. sunrise\n",
    "6. sunset\n",
    "7. precip_total\n",
    "8. stn_pressure\n",
    "9. avg_speed"
   ]
  },
  {
   "cell_type": "code",
   "execution_count": 20,
   "metadata": {
    "ExecuteTime": {
     "end_time": "2022-02-04T02:07:21.105722Z",
     "start_time": "2022-02-04T02:07:21.075775Z"
    },
    "colab": {
     "base_uri": "https://localhost:8080/",
     "height": 206
    },
    "id": "DphdvgCML2ey",
    "outputId": "9167f168-c9da-4aa3-bb9e-64117459a1c1"
   },
   "outputs": [
    {
     "data": {
      "text/html": [
       "<div>\n",
       "<style scoped>\n",
       "    .dataframe tbody tr th:only-of-type {\n",
       "        vertical-align: middle;\n",
       "    }\n",
       "\n",
       "    .dataframe tbody tr th {\n",
       "        vertical-align: top;\n",
       "    }\n",
       "\n",
       "    .dataframe thead th {\n",
       "        text-align: right;\n",
       "    }\n",
       "</style>\n",
       "<table border=\"1\" class=\"dataframe\">\n",
       "  <thead>\n",
       "    <tr style=\"text-align: right;\">\n",
       "      <th></th>\n",
       "      <th>station</th>\n",
       "      <th>date</th>\n",
       "      <th>tavg</th>\n",
       "      <th>dew_point</th>\n",
       "      <th>precip_total</th>\n",
       "      <th>sunrise</th>\n",
       "      <th>sunset</th>\n",
       "      <th>stn_pressure</th>\n",
       "      <th>avg_speed</th>\n",
       "    </tr>\n",
       "  </thead>\n",
       "  <tbody>\n",
       "    <tr>\n",
       "      <th>0</th>\n",
       "      <td>1</td>\n",
       "      <td>2007-05-01</td>\n",
       "      <td>67</td>\n",
       "      <td>51</td>\n",
       "      <td>0.00</td>\n",
       "      <td>0448</td>\n",
       "      <td>1849</td>\n",
       "      <td>29.10</td>\n",
       "      <td>9.2</td>\n",
       "    </tr>\n",
       "    <tr>\n",
       "      <th>1</th>\n",
       "      <td>2</td>\n",
       "      <td>2007-05-01</td>\n",
       "      <td>68</td>\n",
       "      <td>51</td>\n",
       "      <td>0.00</td>\n",
       "      <td>-</td>\n",
       "      <td>-</td>\n",
       "      <td>29.18</td>\n",
       "      <td>9.6</td>\n",
       "    </tr>\n",
       "    <tr>\n",
       "      <th>2</th>\n",
       "      <td>1</td>\n",
       "      <td>2007-05-02</td>\n",
       "      <td>51</td>\n",
       "      <td>42</td>\n",
       "      <td>0.00</td>\n",
       "      <td>0447</td>\n",
       "      <td>1850</td>\n",
       "      <td>29.38</td>\n",
       "      <td>13.4</td>\n",
       "    </tr>\n",
       "    <tr>\n",
       "      <th>3</th>\n",
       "      <td>2</td>\n",
       "      <td>2007-05-02</td>\n",
       "      <td>52</td>\n",
       "      <td>42</td>\n",
       "      <td>0.00</td>\n",
       "      <td>-</td>\n",
       "      <td>-</td>\n",
       "      <td>29.44</td>\n",
       "      <td>13.4</td>\n",
       "    </tr>\n",
       "    <tr>\n",
       "      <th>4</th>\n",
       "      <td>1</td>\n",
       "      <td>2007-05-03</td>\n",
       "      <td>56</td>\n",
       "      <td>40</td>\n",
       "      <td>0.00</td>\n",
       "      <td>0446</td>\n",
       "      <td>1851</td>\n",
       "      <td>29.39</td>\n",
       "      <td>11.9</td>\n",
       "    </tr>\n",
       "  </tbody>\n",
       "</table>\n",
       "</div>"
      ],
      "text/plain": [
       "   station        date tavg  dew_point precip_total sunrise sunset  \\\n",
       "0        1  2007-05-01   67         51         0.00    0448   1849   \n",
       "1        2  2007-05-01   68         51         0.00       -      -   \n",
       "2        1  2007-05-02   51         42         0.00    0447   1850   \n",
       "3        2  2007-05-02   52         42         0.00       -      -   \n",
       "4        1  2007-05-03   56         40         0.00    0446   1851   \n",
       "\n",
       "  stn_pressure avg_speed  \n",
       "0        29.10       9.2  \n",
       "1        29.18       9.6  \n",
       "2        29.38      13.4  \n",
       "3        29.44      13.4  \n",
       "4        29.39      11.9  "
      ]
     },
     "execution_count": 20,
     "metadata": {},
     "output_type": "execute_result"
    }
   ],
   "source": [
    "weather = weather[['station', 'date', 'tavg', 'dew_point', 'precip_total', 'sunrise','sunset', 'stn_pressure', 'avg_speed']]\n",
    "weather.head()"
   ]
  },
  {
   "cell_type": "markdown",
   "metadata": {
    "id": "9_zqF36oqP3u"
   },
   "source": [
    "# Data Cleaning for `train`, `test` ,`weather` & `spray` datasets\n",
    "\n",
    "Our data cleaning will involve two steps:\n",
    "1. imputing missing values\n",
    "2. changing datatypes"
   ]
  },
  {
   "cell_type": "markdown",
   "metadata": {},
   "source": [
    "### Missing values"
   ]
  },
  {
   "cell_type": "markdown",
   "metadata": {},
   "source": [
    "#### `Weather` dataset\n",
    "It seems like everything is in order and there are no null values, but that is a cruel trick. According to the [data dictionary](https://www.kaggle.com/c/predict-west-nile-virus/data?select=noaa_weather_qclcd_documentation.pdf), there are three types of missing values:\n",
    "1. `*`: Not all stations report snow totals\n",
    "2. `M`: Missing Data, or data that are not normally reported for the station\n",
    "3. `-`: values not available for sunrise/sunset\n",
    "\n",
    "And additional `T` values for trace amounts. We can write a function to replace them with suitable values."
   ]
  },
  {
   "cell_type": "code",
   "execution_count": 21,
   "metadata": {
    "ExecuteTime": {
     "end_time": "2022-02-04T02:07:21.120657Z",
     "start_time": "2022-02-04T02:07:21.106720Z"
    }
   },
   "outputs": [],
   "source": [
    " def missing_no(df):\n",
    "    df.replace(r'\\s*M+\\s*', 0, regex=True, inplace=True)\n",
    "    df.replace('-', 0, inplace=True)\n",
    "    df.replace('*', 0, inplace=True)\n",
    "    df.replace(r'^\\s*T+(?!\\d)+', 1e-5, regex=True, inplace=True)"
   ]
  },
  {
   "cell_type": "code",
   "execution_count": 22,
   "metadata": {},
   "outputs": [
    {
     "data": {
      "text/html": [
       "<div>\n",
       "<style scoped>\n",
       "    .dataframe tbody tr th:only-of-type {\n",
       "        vertical-align: middle;\n",
       "    }\n",
       "\n",
       "    .dataframe tbody tr th {\n",
       "        vertical-align: top;\n",
       "    }\n",
       "\n",
       "    .dataframe thead th {\n",
       "        text-align: right;\n",
       "    }\n",
       "</style>\n",
       "<table border=\"1\" class=\"dataframe\">\n",
       "  <thead>\n",
       "    <tr style=\"text-align: right;\">\n",
       "      <th></th>\n",
       "      <th>station</th>\n",
       "      <th>date</th>\n",
       "      <th>tavg</th>\n",
       "      <th>dew_point</th>\n",
       "      <th>precip_total</th>\n",
       "      <th>sunrise</th>\n",
       "      <th>sunset</th>\n",
       "      <th>stn_pressure</th>\n",
       "      <th>avg_speed</th>\n",
       "    </tr>\n",
       "  </thead>\n",
       "  <tbody>\n",
       "    <tr>\n",
       "      <th>0</th>\n",
       "      <td>1</td>\n",
       "      <td>2007-05-01</td>\n",
       "      <td>67</td>\n",
       "      <td>51</td>\n",
       "      <td>0.00</td>\n",
       "      <td>0448</td>\n",
       "      <td>1849</td>\n",
       "      <td>29.10</td>\n",
       "      <td>9.2</td>\n",
       "    </tr>\n",
       "    <tr>\n",
       "      <th>1</th>\n",
       "      <td>2</td>\n",
       "      <td>2007-05-01</td>\n",
       "      <td>68</td>\n",
       "      <td>51</td>\n",
       "      <td>0.00</td>\n",
       "      <td>0</td>\n",
       "      <td>0</td>\n",
       "      <td>29.18</td>\n",
       "      <td>9.6</td>\n",
       "    </tr>\n",
       "    <tr>\n",
       "      <th>2</th>\n",
       "      <td>1</td>\n",
       "      <td>2007-05-02</td>\n",
       "      <td>51</td>\n",
       "      <td>42</td>\n",
       "      <td>0.00</td>\n",
       "      <td>0447</td>\n",
       "      <td>1850</td>\n",
       "      <td>29.38</td>\n",
       "      <td>13.4</td>\n",
       "    </tr>\n",
       "    <tr>\n",
       "      <th>3</th>\n",
       "      <td>2</td>\n",
       "      <td>2007-05-02</td>\n",
       "      <td>52</td>\n",
       "      <td>42</td>\n",
       "      <td>0.00</td>\n",
       "      <td>0</td>\n",
       "      <td>0</td>\n",
       "      <td>29.44</td>\n",
       "      <td>13.4</td>\n",
       "    </tr>\n",
       "    <tr>\n",
       "      <th>4</th>\n",
       "      <td>1</td>\n",
       "      <td>2007-05-03</td>\n",
       "      <td>56</td>\n",
       "      <td>40</td>\n",
       "      <td>0.00</td>\n",
       "      <td>0446</td>\n",
       "      <td>1851</td>\n",
       "      <td>29.39</td>\n",
       "      <td>11.9</td>\n",
       "    </tr>\n",
       "  </tbody>\n",
       "</table>\n",
       "</div>"
      ],
      "text/plain": [
       "   station        date tavg  dew_point precip_total sunrise sunset  \\\n",
       "0        1  2007-05-01   67         51         0.00    0448   1849   \n",
       "1        2  2007-05-01   68         51         0.00       0      0   \n",
       "2        1  2007-05-02   51         42         0.00    0447   1850   \n",
       "3        2  2007-05-02   52         42         0.00       0      0   \n",
       "4        1  2007-05-03   56         40         0.00    0446   1851   \n",
       "\n",
       "  stn_pressure avg_speed  \n",
       "0        29.10       9.2  \n",
       "1        29.18       9.6  \n",
       "2        29.38      13.4  \n",
       "3        29.44      13.4  \n",
       "4        29.39      11.9  "
      ]
     },
     "execution_count": 22,
     "metadata": {},
     "output_type": "execute_result"
    }
   ],
   "source": [
    "missing_no(weather)\n",
    "weather.head()"
   ]
  },
  {
   "cell_type": "markdown",
   "metadata": {},
   "source": [
    "#### `train` dataset\n",
    "\n",
    "There are no missing values in the train dataset. No missing value imputation is required."
   ]
  },
  {
   "cell_type": "code",
   "execution_count": 23,
   "metadata": {},
   "outputs": [
    {
     "data": {
      "text/plain": [
       "date             0\n",
       "species          0\n",
       "latitude         0\n",
       "longitude        0\n",
       "num_mosquitos    0\n",
       "wnv_present      0\n",
       "dtype: int64"
      ]
     },
     "execution_count": 23,
     "metadata": {},
     "output_type": "execute_result"
    }
   ],
   "source": [
    "train.isnull().sum()"
   ]
  },
  {
   "cell_type": "markdown",
   "metadata": {},
   "source": [
    "#### `spray` dataset\n",
    "\n",
    "There are missing values in the spray dataset - the time information of certain rows are null. It is observed that the rows all come from the same day that spraying was conducted and for some reason, the time information was not specified. As the main temporal feature of the other datasets are in terms of days, time information is not useful and we will drop the time column."
   ]
  },
  {
   "cell_type": "code",
   "execution_count": 24,
   "metadata": {},
   "outputs": [
    {
     "name": "stdout",
     "output_type": "stream",
     "text": [
      "date           0\n",
      "time         584\n",
      "latitude       0\n",
      "longitude      0\n",
      "dtype: int64\n"
     ]
    },
    {
     "data": {
      "text/html": [
       "<div>\n",
       "<style scoped>\n",
       "    .dataframe tbody tr th:only-of-type {\n",
       "        vertical-align: middle;\n",
       "    }\n",
       "\n",
       "    .dataframe tbody tr th {\n",
       "        vertical-align: top;\n",
       "    }\n",
       "\n",
       "    .dataframe thead th {\n",
       "        text-align: right;\n",
       "    }\n",
       "</style>\n",
       "<table border=\"1\" class=\"dataframe\">\n",
       "  <thead>\n",
       "    <tr style=\"text-align: right;\">\n",
       "      <th></th>\n",
       "      <th>date</th>\n",
       "      <th>time</th>\n",
       "      <th>latitude</th>\n",
       "      <th>longitude</th>\n",
       "    </tr>\n",
       "  </thead>\n",
       "  <tbody>\n",
       "    <tr>\n",
       "      <th>1030</th>\n",
       "      <td>2011-09-07</td>\n",
       "      <td>NaN</td>\n",
       "      <td>41.987092</td>\n",
       "      <td>-87.794286</td>\n",
       "    </tr>\n",
       "    <tr>\n",
       "      <th>1031</th>\n",
       "      <td>2011-09-07</td>\n",
       "      <td>NaN</td>\n",
       "      <td>41.987620</td>\n",
       "      <td>-87.794382</td>\n",
       "    </tr>\n",
       "    <tr>\n",
       "      <th>1032</th>\n",
       "      <td>2011-09-07</td>\n",
       "      <td>NaN</td>\n",
       "      <td>41.988004</td>\n",
       "      <td>-87.794574</td>\n",
       "    </tr>\n",
       "    <tr>\n",
       "      <th>1033</th>\n",
       "      <td>2011-09-07</td>\n",
       "      <td>NaN</td>\n",
       "      <td>41.988292</td>\n",
       "      <td>-87.795486</td>\n",
       "    </tr>\n",
       "    <tr>\n",
       "      <th>1034</th>\n",
       "      <td>2011-09-07</td>\n",
       "      <td>NaN</td>\n",
       "      <td>41.988100</td>\n",
       "      <td>-87.796014</td>\n",
       "    </tr>\n",
       "    <tr>\n",
       "      <th>...</th>\n",
       "      <td>...</td>\n",
       "      <td>...</td>\n",
       "      <td>...</td>\n",
       "      <td>...</td>\n",
       "    </tr>\n",
       "    <tr>\n",
       "      <th>1609</th>\n",
       "      <td>2011-09-07</td>\n",
       "      <td>NaN</td>\n",
       "      <td>41.995876</td>\n",
       "      <td>-87.811615</td>\n",
       "    </tr>\n",
       "    <tr>\n",
       "      <th>1610</th>\n",
       "      <td>2011-09-07</td>\n",
       "      <td>NaN</td>\n",
       "      <td>41.995972</td>\n",
       "      <td>-87.810271</td>\n",
       "    </tr>\n",
       "    <tr>\n",
       "      <th>1611</th>\n",
       "      <td>2011-09-07</td>\n",
       "      <td>NaN</td>\n",
       "      <td>41.995684</td>\n",
       "      <td>-87.810319</td>\n",
       "    </tr>\n",
       "    <tr>\n",
       "      <th>1612</th>\n",
       "      <td>2011-09-07</td>\n",
       "      <td>NaN</td>\n",
       "      <td>41.994724</td>\n",
       "      <td>-87.810415</td>\n",
       "    </tr>\n",
       "    <tr>\n",
       "      <th>1613</th>\n",
       "      <td>2011-09-07</td>\n",
       "      <td>NaN</td>\n",
       "      <td>41.993092</td>\n",
       "      <td>-87.810415</td>\n",
       "    </tr>\n",
       "  </tbody>\n",
       "</table>\n",
       "<p>584 rows × 4 columns</p>\n",
       "</div>"
      ],
      "text/plain": [
       "            date time   latitude  longitude\n",
       "1030  2011-09-07  NaN  41.987092 -87.794286\n",
       "1031  2011-09-07  NaN  41.987620 -87.794382\n",
       "1032  2011-09-07  NaN  41.988004 -87.794574\n",
       "1033  2011-09-07  NaN  41.988292 -87.795486\n",
       "1034  2011-09-07  NaN  41.988100 -87.796014\n",
       "...          ...  ...        ...        ...\n",
       "1609  2011-09-07  NaN  41.995876 -87.811615\n",
       "1610  2011-09-07  NaN  41.995972 -87.810271\n",
       "1611  2011-09-07  NaN  41.995684 -87.810319\n",
       "1612  2011-09-07  NaN  41.994724 -87.810415\n",
       "1613  2011-09-07  NaN  41.993092 -87.810415\n",
       "\n",
       "[584 rows x 4 columns]"
      ]
     },
     "metadata": {},
     "output_type": "display_data"
    }
   ],
   "source": [
    "print(spray.isnull().sum())\n",
    "display(spray[spray['time'].isnull()])\n",
    "\n",
    "spray.drop('time', axis=1, inplace=True)"
   ]
  },
  {
   "cell_type": "markdown",
   "metadata": {},
   "source": [
    "There are also duplicate records from 2011-09-07 from 2 different locations at 2 different times. The records at each location at each time are identical, it is highly likely that this may be a recording error. As such, we will remove these duplicate records."
   ]
  },
  {
   "cell_type": "code",
   "execution_count": 25,
   "metadata": {},
   "outputs": [
    {
     "data": {
      "text/html": [
       "<div>\n",
       "<style scoped>\n",
       "    .dataframe tbody tr th:only-of-type {\n",
       "        vertical-align: middle;\n",
       "    }\n",
       "\n",
       "    .dataframe tbody tr th {\n",
       "        vertical-align: top;\n",
       "    }\n",
       "\n",
       "    .dataframe thead th {\n",
       "        text-align: right;\n",
       "    }\n",
       "</style>\n",
       "<table border=\"1\" class=\"dataframe\">\n",
       "  <thead>\n",
       "    <tr style=\"text-align: right;\">\n",
       "      <th></th>\n",
       "      <th>date</th>\n",
       "      <th>latitude</th>\n",
       "      <th>longitude</th>\n",
       "    </tr>\n",
       "  </thead>\n",
       "  <tbody>\n",
       "    <tr>\n",
       "      <th>484</th>\n",
       "      <td>2011-09-07</td>\n",
       "      <td>41.983917</td>\n",
       "      <td>-87.793088</td>\n",
       "    </tr>\n",
       "    <tr>\n",
       "      <th>485</th>\n",
       "      <td>2011-09-07</td>\n",
       "      <td>41.983917</td>\n",
       "      <td>-87.793088</td>\n",
       "    </tr>\n",
       "    <tr>\n",
       "      <th>489</th>\n",
       "      <td>2011-09-07</td>\n",
       "      <td>41.986460</td>\n",
       "      <td>-87.794225</td>\n",
       "    </tr>\n",
       "    <tr>\n",
       "      <th>490</th>\n",
       "      <td>2011-09-07</td>\n",
       "      <td>41.986460</td>\n",
       "      <td>-87.794225</td>\n",
       "    </tr>\n",
       "    <tr>\n",
       "      <th>491</th>\n",
       "      <td>2011-09-07</td>\n",
       "      <td>41.986460</td>\n",
       "      <td>-87.794225</td>\n",
       "    </tr>\n",
       "    <tr>\n",
       "      <th>...</th>\n",
       "      <td>...</td>\n",
       "      <td>...</td>\n",
       "      <td>...</td>\n",
       "    </tr>\n",
       "    <tr>\n",
       "      <th>1025</th>\n",
       "      <td>2011-09-07</td>\n",
       "      <td>41.986460</td>\n",
       "      <td>-87.794225</td>\n",
       "    </tr>\n",
       "    <tr>\n",
       "      <th>1026</th>\n",
       "      <td>2011-09-07</td>\n",
       "      <td>41.986460</td>\n",
       "      <td>-87.794225</td>\n",
       "    </tr>\n",
       "    <tr>\n",
       "      <th>1027</th>\n",
       "      <td>2011-09-07</td>\n",
       "      <td>41.986460</td>\n",
       "      <td>-87.794225</td>\n",
       "    </tr>\n",
       "    <tr>\n",
       "      <th>1028</th>\n",
       "      <td>2011-09-07</td>\n",
       "      <td>41.986460</td>\n",
       "      <td>-87.794225</td>\n",
       "    </tr>\n",
       "    <tr>\n",
       "      <th>1029</th>\n",
       "      <td>2011-09-07</td>\n",
       "      <td>41.986460</td>\n",
       "      <td>-87.794225</td>\n",
       "    </tr>\n",
       "  </tbody>\n",
       "</table>\n",
       "<p>543 rows × 3 columns</p>\n",
       "</div>"
      ],
      "text/plain": [
       "            date   latitude  longitude\n",
       "484   2011-09-07  41.983917 -87.793088\n",
       "485   2011-09-07  41.983917 -87.793088\n",
       "489   2011-09-07  41.986460 -87.794225\n",
       "490   2011-09-07  41.986460 -87.794225\n",
       "491   2011-09-07  41.986460 -87.794225\n",
       "...          ...        ...        ...\n",
       "1025  2011-09-07  41.986460 -87.794225\n",
       "1026  2011-09-07  41.986460 -87.794225\n",
       "1027  2011-09-07  41.986460 -87.794225\n",
       "1028  2011-09-07  41.986460 -87.794225\n",
       "1029  2011-09-07  41.986460 -87.794225\n",
       "\n",
       "[543 rows x 3 columns]"
      ]
     },
     "metadata": {},
     "output_type": "display_data"
    }
   ],
   "source": [
    "display(spray[spray.duplicated(keep=False)])\n",
    "\n",
    "spray.drop_duplicates(inplace=True)"
   ]
  },
  {
   "cell_type": "markdown",
   "metadata": {},
   "source": [
    "### Changing dtypes\n",
    "\n",
    "From the information table, some of the columns aren't in the right dtype. We can create a function to correct all the wrong datatypes."
   ]
  },
  {
   "cell_type": "code",
   "execution_count": 26,
   "metadata": {
    "ExecuteTime": {
     "end_time": "2022-02-04T02:07:21.862034Z",
     "start_time": "2022-02-04T02:07:21.847071Z"
    }
   },
   "outputs": [],
   "source": [
    "def changing_types(df):\n",
    "    df['date'] = pd.to_datetime(df['date'])\n",
    "    try:\n",
    "        df['tavg'] = df['tavg'].astype(int)\n",
    "        df['avg_speed'] = df['avg_speed'].astype(float)\n",
    "        df['stn_pressure'] = df['stn_pressure'].astype(float)\n",
    "        df['precip_total'] = df['precip_total'].astype(float)\n",
    "        df.info()\n",
    "    except:\n",
    "        pass"
   ]
  },
  {
   "cell_type": "code",
   "execution_count": 27,
   "metadata": {
    "ExecuteTime": {
     "end_time": "2022-02-04T02:07:21.908548Z",
     "start_time": "2022-02-04T02:07:21.867018Z"
    }
   },
   "outputs": [
    {
     "name": "stdout",
     "output_type": "stream",
     "text": [
      "<class 'pandas.core.frame.DataFrame'>\n",
      "RangeIndex: 2944 entries, 0 to 2943\n",
      "Data columns (total 9 columns):\n",
      " #   Column        Non-Null Count  Dtype         \n",
      "---  ------        --------------  -----         \n",
      " 0   station       2944 non-null   int64         \n",
      " 1   date          2944 non-null   datetime64[ns]\n",
      " 2   tavg          2944 non-null   int64         \n",
      " 3   dew_point     2944 non-null   int64         \n",
      " 4   precip_total  2944 non-null   float64       \n",
      " 5   sunrise       2944 non-null   object        \n",
      " 6   sunset        2944 non-null   object        \n",
      " 7   stn_pressure  2944 non-null   float64       \n",
      " 8   avg_speed     2944 non-null   float64       \n",
      "dtypes: datetime64[ns](1), float64(3), int64(3), object(2)\n",
      "memory usage: 207.1+ KB\n"
     ]
    }
   ],
   "source": [
    "changing_types(weather)\n",
    "changing_types(train)\n",
    "changing_types(test)\n",
    "changing_types(spray)"
   ]
  },
  {
   "cell_type": "markdown",
   "metadata": {},
   "source": [
    "### Creating `year`, `month` and `week` columns\n",
    "\n",
    "Additional time related columns will be created from the `date` columns for a more fine-grained analysis of the time periods. Furthermore, since the lifespan of the mosquitoes are about a few weeks, observing a week-by-week change would suffice."
   ]
  },
  {
   "cell_type": "code",
   "execution_count": 28,
   "metadata": {
    "ExecuteTime": {
     "end_time": "2022-02-04T02:07:21.939550Z",
     "start_time": "2022-02-04T02:07:21.926121Z"
    }
   },
   "outputs": [],
   "source": [
    "def preprocess_date(df):\n",
    "    \"\"\"Function to create additional time related columns\"\"\"\n",
    "    df['year'] = pd.to_datetime(df['date']).dt.year\n",
    "    df['month'] = pd.to_datetime(df['date']).dt.month\n",
    "    df['week_of_year'] = pd.to_datetime(df['date']).dt.isocalendar().week\n",
    "    return df"
   ]
  },
  {
   "cell_type": "code",
   "execution_count": 29,
   "metadata": {
    "ExecuteTime": {
     "end_time": "2022-02-04T02:07:22.110669Z",
     "start_time": "2022-02-04T02:07:21.942455Z"
    }
   },
   "outputs": [],
   "source": [
    "# create the columns for both train and test datasets\n",
    "preprocess_date(train)\n",
    "preprocess_date(test)\n",
    "preprocess_date(weather)\n",
    "preprocess_date(spray);"
   ]
  },
  {
   "cell_type": "markdown",
   "metadata": {},
   "source": [
    "## Feature Engineering\n",
    "\n",
    "* Relative Humidity (RH) - High RH leads to [reduced water evaporation rates](https://parasitesandvectors.biomedcentral.com/articles/10.1186/s13071-018-2808-6), which increases the longevity of stagnant water, resulting in more areas for mosquitos to breed and grow. It can be derived from the average temperature and dew point features.\n",
    "\n",
    "\n",
    "* Daylight Hours - Mosquito activity is shown to be [higher at night](https://pubmed.ncbi.nlm.nih.gov/18047212/). Using the sunrise and sunset timings, the hours of daylight can be derived (i.e. the lower the value, the longer the night-time hours)\n",
    "\n",
    "\n",
    "There were incorrect records where '60' minutes were recorded for Sunset. We will correct these mistakes, create a new column called `daylight_hours`, and append it to weather. We will also create an `RH` column below using the formula for [RH](https://iridl.ldeo.columbia.edu/dochelp/QA/Basic/dewpoint.html)."
   ]
  },
  {
   "cell_type": "code",
   "execution_count": 30,
   "metadata": {
    "ExecuteTime": {
     "end_time": "2022-02-04T02:07:22.174539Z",
     "start_time": "2022-02-04T02:07:22.111629Z"
    }
   },
   "outputs": [
    {
     "name": "stdout",
     "output_type": "stream",
     "text": [
      "The unique values of sunrise and sunset for station 1:\n",
      "['1849' '1850' '1851' '1852' '1853' '1855' '1856' '1857' '1858' '1859'\n",
      " '1860' '1901' '1902' '1903' '1904' '1905' '1906' '1907' '1908' '1909'\n",
      " '1910' '1911' '1912' '1913' '1914' '1915' '1916' '1917' '1918' '1919'\n",
      " '1920' '1921' '1922' '1923' '1924' '1925' '1926' '1927' '1928' '1929'\n",
      " '1930' '1931' '1900' '1854' '1848' '1846' '1845' '1843' '1842' '1840'\n",
      " '1839' '1837' '1835' '1834' '1832' '1831' '1829' '1827' '1826' '1824'\n",
      " '1822' '1821' '1819' '1817' '1815' '1814' '1812' '1810' '1809' '1807'\n",
      " '1805' '1803' '1760' '1758' '1756' '1755' '1753' '1751' '1749' '1748'\n",
      " '1746' '1744' '1742' '1741' '1739' '1737' '1735' '1734' '1732' '1730'\n",
      " '1729' '1727' '1725' '1724' '1722' '1720' '1719' '1717' '1715' '1714'\n",
      " '1712' '1711' '1709' '1707' '1706' '1704' '1703' '1701' '1660' '1658'\n",
      " '1657' '1656' '1654' '1653' '1651' '1650' '1649' '1647']\n"
     ]
    }
   ],
   "source": [
    "# Only station 1 records sunrise and sunset hours\n",
    "weather_1 = weather.loc[weather['station'] == 1]\n",
    "print('The unique values of sunrise and sunset for station 1:')\n",
    "print(weather_1['sunset'].unique())\n",
    "\n",
    "# creating the daylight_hours column\n",
    "weather_1['sunset'] = weather_1['sunset'].map(lambda x : (str(int(x[0:2]) + 1) + '00') if x[2:4] == '60' else x)\n",
    "\n",
    "weather_1['sunrise_time'] = weather_1['sunrise'].map(lambda x : dt.datetime.strptime(x, '%H%M'))\n",
    "weather_1['sunset_time'] = weather_1['sunset'].map(lambda x : dt.datetime.strptime(x, '%H%M'))\n",
    "weather_1['daylight_hours'] = (weather_1['sunset_time'] - weather_1['sunrise_time']).map(lambda x : round((x.seconds/3600),2))\n",
    "\n",
    "weather = weather.merge(weather_1[['date','daylight_hours']], on='date')"
   ]
  },
  {
   "cell_type": "code",
   "execution_count": 31,
   "metadata": {
    "ExecuteTime": {
     "end_time": "2022-02-04T02:07:22.206403Z",
     "start_time": "2022-02-04T02:07:22.175461Z"
    }
   },
   "outputs": [
    {
     "data": {
      "text/html": [
       "<div>\n",
       "<style scoped>\n",
       "    .dataframe tbody tr th:only-of-type {\n",
       "        vertical-align: middle;\n",
       "    }\n",
       "\n",
       "    .dataframe tbody tr th {\n",
       "        vertical-align: top;\n",
       "    }\n",
       "\n",
       "    .dataframe thead th {\n",
       "        text-align: right;\n",
       "    }\n",
       "</style>\n",
       "<table border=\"1\" class=\"dataframe\">\n",
       "  <thead>\n",
       "    <tr style=\"text-align: right;\">\n",
       "      <th></th>\n",
       "      <th>station</th>\n",
       "      <th>date</th>\n",
       "      <th>tavg</th>\n",
       "      <th>dew_point</th>\n",
       "      <th>precip_total</th>\n",
       "      <th>sunrise</th>\n",
       "      <th>sunset</th>\n",
       "      <th>stn_pressure</th>\n",
       "      <th>avg_speed</th>\n",
       "      <th>year</th>\n",
       "      <th>month</th>\n",
       "      <th>week_of_year</th>\n",
       "      <th>daylight_hours</th>\n",
       "      <th>r_humidity</th>\n",
       "    </tr>\n",
       "  </thead>\n",
       "  <tbody>\n",
       "    <tr>\n",
       "      <th>0</th>\n",
       "      <td>1</td>\n",
       "      <td>2007-05-01</td>\n",
       "      <td>67</td>\n",
       "      <td>51</td>\n",
       "      <td>0.0</td>\n",
       "      <td>0448</td>\n",
       "      <td>1849</td>\n",
       "      <td>29.10</td>\n",
       "      <td>9.2</td>\n",
       "      <td>2007</td>\n",
       "      <td>5</td>\n",
       "      <td>18</td>\n",
       "      <td>14.02</td>\n",
       "      <td>56.44</td>\n",
       "    </tr>\n",
       "    <tr>\n",
       "      <th>1</th>\n",
       "      <td>2</td>\n",
       "      <td>2007-05-01</td>\n",
       "      <td>68</td>\n",
       "      <td>51</td>\n",
       "      <td>0.0</td>\n",
       "      <td>0</td>\n",
       "      <td>0</td>\n",
       "      <td>29.18</td>\n",
       "      <td>9.6</td>\n",
       "      <td>2007</td>\n",
       "      <td>5</td>\n",
       "      <td>18</td>\n",
       "      <td>14.02</td>\n",
       "      <td>54.53</td>\n",
       "    </tr>\n",
       "    <tr>\n",
       "      <th>2</th>\n",
       "      <td>1</td>\n",
       "      <td>2007-05-02</td>\n",
       "      <td>51</td>\n",
       "      <td>42</td>\n",
       "      <td>0.0</td>\n",
       "      <td>0447</td>\n",
       "      <td>1850</td>\n",
       "      <td>29.38</td>\n",
       "      <td>13.4</td>\n",
       "      <td>2007</td>\n",
       "      <td>5</td>\n",
       "      <td>18</td>\n",
       "      <td>14.05</td>\n",
       "      <td>71.20</td>\n",
       "    </tr>\n",
       "    <tr>\n",
       "      <th>3</th>\n",
       "      <td>2</td>\n",
       "      <td>2007-05-02</td>\n",
       "      <td>52</td>\n",
       "      <td>42</td>\n",
       "      <td>0.0</td>\n",
       "      <td>0</td>\n",
       "      <td>0</td>\n",
       "      <td>29.44</td>\n",
       "      <td>13.4</td>\n",
       "      <td>2007</td>\n",
       "      <td>5</td>\n",
       "      <td>18</td>\n",
       "      <td>14.05</td>\n",
       "      <td>68.61</td>\n",
       "    </tr>\n",
       "    <tr>\n",
       "      <th>4</th>\n",
       "      <td>1</td>\n",
       "      <td>2007-05-03</td>\n",
       "      <td>56</td>\n",
       "      <td>40</td>\n",
       "      <td>0.0</td>\n",
       "      <td>0446</td>\n",
       "      <td>1851</td>\n",
       "      <td>29.39</td>\n",
       "      <td>11.9</td>\n",
       "      <td>2007</td>\n",
       "      <td>5</td>\n",
       "      <td>18</td>\n",
       "      <td>14.08</td>\n",
       "      <td>54.87</td>\n",
       "    </tr>\n",
       "  </tbody>\n",
       "</table>\n",
       "</div>"
      ],
      "text/plain": [
       "   station       date  tavg  dew_point  precip_total sunrise sunset  \\\n",
       "0        1 2007-05-01    67         51           0.0    0448   1849   \n",
       "1        2 2007-05-01    68         51           0.0       0      0   \n",
       "2        1 2007-05-02    51         42           0.0    0447   1850   \n",
       "3        2 2007-05-02    52         42           0.0       0      0   \n",
       "4        1 2007-05-03    56         40           0.0    0446   1851   \n",
       "\n",
       "   stn_pressure  avg_speed  year  month  week_of_year  daylight_hours  \\\n",
       "0         29.10        9.2  2007      5            18           14.02   \n",
       "1         29.18        9.6  2007      5            18           14.02   \n",
       "2         29.38       13.4  2007      5            18           14.05   \n",
       "3         29.44       13.4  2007      5            18           14.05   \n",
       "4         29.39       11.9  2007      5            18           14.08   \n",
       "\n",
       "   r_humidity  \n",
       "0       56.44  \n",
       "1       54.53  \n",
       "2       71.20  \n",
       "3       68.61  \n",
       "4       54.87  "
      ]
     },
     "execution_count": 31,
     "metadata": {},
     "output_type": "execute_result"
    }
   ],
   "source": [
    "# creating the humidity column\n",
    "tavg_celsius = ((weather['tavg'] - 32) * 5 / 9)\n",
    "dew_point_celsius = ((weather['dew_point'] - 32) * 5 / 9)\n",
    "vap_press_sat = np.exp((17.625 * tavg_celsius) / (tavg_celsius + 243.04))\n",
    "vap_press_act = np.exp((17.625 * dew_point_celsius) / (dew_point_celsius + 243.04))\n",
    "r_humidity = round(((vap_press_act / vap_press_sat) * 100),2)\n",
    "\n",
    "weather['r_humidity'] = r_humidity\n",
    "weather.head()"
   ]
  },
  {
   "cell_type": "markdown",
   "metadata": {},
   "source": [
    "# Exploratory Data Analysis"
   ]
  },
  {
   "cell_type": "markdown",
   "metadata": {},
   "source": [
    "## Distribution of Weather Information for Stations 1 & 2\n",
    "\n",
    "From the summary statistics below, the distributions of weather information from Stations 1 & 2 are very similar. The measurements will be consolidated into a single measure using the means of the measures of both stations for each day."
   ]
  },
  {
   "cell_type": "code",
   "execution_count": 32,
   "metadata": {
    "ExecuteTime": {
     "end_time": "2022-02-04T02:07:22.283681Z",
     "start_time": "2022-02-04T02:07:22.207431Z"
    }
   },
   "outputs": [
    {
     "name": "stdout",
     "output_type": "stream",
     "text": [
      "High-level statistics for weather at Station 1: O'Hare Airport\n"
     ]
    },
    {
     "data": {
      "text/html": [
       "<div>\n",
       "<style scoped>\n",
       "    .dataframe tbody tr th:only-of-type {\n",
       "        vertical-align: middle;\n",
       "    }\n",
       "\n",
       "    .dataframe tbody tr th {\n",
       "        vertical-align: top;\n",
       "    }\n",
       "\n",
       "    .dataframe thead th {\n",
       "        text-align: right;\n",
       "    }\n",
       "</style>\n",
       "<table border=\"1\" class=\"dataframe\">\n",
       "  <thead>\n",
       "    <tr style=\"text-align: right;\">\n",
       "      <th></th>\n",
       "      <th>station</th>\n",
       "      <th>tavg</th>\n",
       "      <th>dew_point</th>\n",
       "      <th>precip_total</th>\n",
       "      <th>stn_pressure</th>\n",
       "      <th>avg_speed</th>\n",
       "      <th>year</th>\n",
       "      <th>month</th>\n",
       "      <th>week_of_year</th>\n",
       "      <th>daylight_hours</th>\n",
       "      <th>r_humidity</th>\n",
       "    </tr>\n",
       "  </thead>\n",
       "  <tbody>\n",
       "    <tr>\n",
       "      <th>count</th>\n",
       "      <td>1472.0</td>\n",
       "      <td>1472.000000</td>\n",
       "      <td>1472.000000</td>\n",
       "      <td>1472.000000</td>\n",
       "      <td>1472.000000</td>\n",
       "      <td>1472.000000</td>\n",
       "      <td>1472.000000</td>\n",
       "      <td>1472.000000</td>\n",
       "      <td>1472.000000</td>\n",
       "      <td>1472.000000</td>\n",
       "      <td>1472.000000</td>\n",
       "    </tr>\n",
       "    <tr>\n",
       "      <th>mean</th>\n",
       "      <td>1.0</td>\n",
       "      <td>66.606658</td>\n",
       "      <td>53.377717</td>\n",
       "      <td>0.134539</td>\n",
       "      <td>29.214457</td>\n",
       "      <td>8.570788</td>\n",
       "      <td>2010.500000</td>\n",
       "      <td>7.500000</td>\n",
       "      <td>30.838995</td>\n",
       "      <td>13.669728</td>\n",
       "      <td>63.403736</td>\n",
       "    </tr>\n",
       "    <tr>\n",
       "      <th>std</th>\n",
       "      <td>0.0</td>\n",
       "      <td>10.511437</td>\n",
       "      <td>10.670263</td>\n",
       "      <td>0.421066</td>\n",
       "      <td>1.089193</td>\n",
       "      <td>3.187250</td>\n",
       "      <td>2.292067</td>\n",
       "      <td>1.710526</td>\n",
       "      <td>7.602052</td>\n",
       "      <td>1.489801</td>\n",
       "      <td>11.318025</td>\n",
       "    </tr>\n",
       "    <tr>\n",
       "      <th>min</th>\n",
       "      <td>1.0</td>\n",
       "      <td>36.000000</td>\n",
       "      <td>22.000000</td>\n",
       "      <td>0.000000</td>\n",
       "      <td>0.000000</td>\n",
       "      <td>1.900000</td>\n",
       "      <td>2007.000000</td>\n",
       "      <td>5.000000</td>\n",
       "      <td>17.000000</td>\n",
       "      <td>10.400000</td>\n",
       "      <td>32.110000</td>\n",
       "    </tr>\n",
       "    <tr>\n",
       "      <th>25%</th>\n",
       "      <td>1.0</td>\n",
       "      <td>60.000000</td>\n",
       "      <td>46.000000</td>\n",
       "      <td>0.000000</td>\n",
       "      <td>29.160000</td>\n",
       "      <td>6.200000</td>\n",
       "      <td>2008.750000</td>\n",
       "      <td>6.000000</td>\n",
       "      <td>24.000000</td>\n",
       "      <td>12.515000</td>\n",
       "      <td>55.355000</td>\n",
       "    </tr>\n",
       "    <tr>\n",
       "      <th>50%</th>\n",
       "      <td>1.0</td>\n",
       "      <td>68.000000</td>\n",
       "      <td>54.000000</td>\n",
       "      <td>0.000000</td>\n",
       "      <td>29.260000</td>\n",
       "      <td>8.100000</td>\n",
       "      <td>2010.500000</td>\n",
       "      <td>7.500000</td>\n",
       "      <td>31.000000</td>\n",
       "      <td>14.235000</td>\n",
       "      <td>63.130000</td>\n",
       "    </tr>\n",
       "    <tr>\n",
       "      <th>75%</th>\n",
       "      <td>1.0</td>\n",
       "      <td>75.000000</td>\n",
       "      <td>61.250000</td>\n",
       "      <td>0.060000</td>\n",
       "      <td>29.350000</td>\n",
       "      <td>10.400000</td>\n",
       "      <td>2012.250000</td>\n",
       "      <td>9.000000</td>\n",
       "      <td>37.000000</td>\n",
       "      <td>14.955000</td>\n",
       "      <td>70.890000</td>\n",
       "    </tr>\n",
       "    <tr>\n",
       "      <th>max</th>\n",
       "      <td>1.0</td>\n",
       "      <td>93.000000</td>\n",
       "      <td>75.000000</td>\n",
       "      <td>6.860000</td>\n",
       "      <td>29.790000</td>\n",
       "      <td>26.300000</td>\n",
       "      <td>2014.000000</td>\n",
       "      <td>10.000000</td>\n",
       "      <td>44.000000</td>\n",
       "      <td>15.230000</td>\n",
       "      <td>103.700000</td>\n",
       "    </tr>\n",
       "  </tbody>\n",
       "</table>\n",
       "</div>"
      ],
      "text/plain": [
       "       station         tavg    dew_point  precip_total  stn_pressure  \\\n",
       "count   1472.0  1472.000000  1472.000000   1472.000000   1472.000000   \n",
       "mean       1.0    66.606658    53.377717      0.134539     29.214457   \n",
       "std        0.0    10.511437    10.670263      0.421066      1.089193   \n",
       "min        1.0    36.000000    22.000000      0.000000      0.000000   \n",
       "25%        1.0    60.000000    46.000000      0.000000     29.160000   \n",
       "50%        1.0    68.000000    54.000000      0.000000     29.260000   \n",
       "75%        1.0    75.000000    61.250000      0.060000     29.350000   \n",
       "max        1.0    93.000000    75.000000      6.860000     29.790000   \n",
       "\n",
       "         avg_speed         year        month  week_of_year  daylight_hours  \\\n",
       "count  1472.000000  1472.000000  1472.000000   1472.000000     1472.000000   \n",
       "mean      8.570788  2010.500000     7.500000     30.838995       13.669728   \n",
       "std       3.187250     2.292067     1.710526      7.602052        1.489801   \n",
       "min       1.900000  2007.000000     5.000000     17.000000       10.400000   \n",
       "25%       6.200000  2008.750000     6.000000     24.000000       12.515000   \n",
       "50%       8.100000  2010.500000     7.500000     31.000000       14.235000   \n",
       "75%      10.400000  2012.250000     9.000000     37.000000       14.955000   \n",
       "max      26.300000  2014.000000    10.000000     44.000000       15.230000   \n",
       "\n",
       "        r_humidity  \n",
       "count  1472.000000  \n",
       "mean     63.403736  \n",
       "std      11.318025  \n",
       "min      32.110000  \n",
       "25%      55.355000  \n",
       "50%      63.130000  \n",
       "75%      70.890000  \n",
       "max     103.700000  "
      ]
     },
     "metadata": {},
     "output_type": "display_data"
    },
    {
     "name": "stdout",
     "output_type": "stream",
     "text": [
      "High-level statistics for weather at Station 2: Midway International Airport\n"
     ]
    },
    {
     "data": {
      "text/html": [
       "<div>\n",
       "<style scoped>\n",
       "    .dataframe tbody tr th:only-of-type {\n",
       "        vertical-align: middle;\n",
       "    }\n",
       "\n",
       "    .dataframe tbody tr th {\n",
       "        vertical-align: top;\n",
       "    }\n",
       "\n",
       "    .dataframe thead th {\n",
       "        text-align: right;\n",
       "    }\n",
       "</style>\n",
       "<table border=\"1\" class=\"dataframe\">\n",
       "  <thead>\n",
       "    <tr style=\"text-align: right;\">\n",
       "      <th></th>\n",
       "      <th>station</th>\n",
       "      <th>tavg</th>\n",
       "      <th>dew_point</th>\n",
       "      <th>precip_total</th>\n",
       "      <th>stn_pressure</th>\n",
       "      <th>avg_speed</th>\n",
       "      <th>year</th>\n",
       "      <th>month</th>\n",
       "      <th>week_of_year</th>\n",
       "      <th>daylight_hours</th>\n",
       "      <th>r_humidity</th>\n",
       "    </tr>\n",
       "  </thead>\n",
       "  <tbody>\n",
       "    <tr>\n",
       "      <th>count</th>\n",
       "      <td>1472.0</td>\n",
       "      <td>1472.000000</td>\n",
       "      <td>1472.000000</td>\n",
       "      <td>1472.000000</td>\n",
       "      <td>1472.000000</td>\n",
       "      <td>1472.000000</td>\n",
       "      <td>1472.000000</td>\n",
       "      <td>1472.000000</td>\n",
       "      <td>1472.000000</td>\n",
       "      <td>1472.000000</td>\n",
       "      <td>1472.000000</td>\n",
       "    </tr>\n",
       "    <tr>\n",
       "      <th>mean</th>\n",
       "      <td>2.0</td>\n",
       "      <td>67.370924</td>\n",
       "      <td>53.538043</td>\n",
       "      <td>0.127943</td>\n",
       "      <td>29.274823</td>\n",
       "      <td>8.572622</td>\n",
       "      <td>2010.500000</td>\n",
       "      <td>7.500000</td>\n",
       "      <td>30.838995</td>\n",
       "      <td>13.669728</td>\n",
       "      <td>67.495482</td>\n",
       "    </tr>\n",
       "    <tr>\n",
       "      <th>std</th>\n",
       "      <td>0.0</td>\n",
       "      <td>12.023190</td>\n",
       "      <td>10.683121</td>\n",
       "      <td>0.363335</td>\n",
       "      <td>1.091259</td>\n",
       "      <td>3.128732</td>\n",
       "      <td>2.292067</td>\n",
       "      <td>1.710526</td>\n",
       "      <td>7.602052</td>\n",
       "      <td>1.489801</td>\n",
       "      <td>82.207548</td>\n",
       "    </tr>\n",
       "    <tr>\n",
       "      <th>min</th>\n",
       "      <td>2.0</td>\n",
       "      <td>0.000000</td>\n",
       "      <td>23.000000</td>\n",
       "      <td>0.000000</td>\n",
       "      <td>0.000000</td>\n",
       "      <td>0.000000</td>\n",
       "      <td>2007.000000</td>\n",
       "      <td>5.000000</td>\n",
       "      <td>17.000000</td>\n",
       "      <td>10.400000</td>\n",
       "      <td>29.990000</td>\n",
       "    </tr>\n",
       "    <tr>\n",
       "      <th>25%</th>\n",
       "      <td>2.0</td>\n",
       "      <td>61.000000</td>\n",
       "      <td>46.000000</td>\n",
       "      <td>0.000000</td>\n",
       "      <td>29.230000</td>\n",
       "      <td>6.300000</td>\n",
       "      <td>2008.750000</td>\n",
       "      <td>6.000000</td>\n",
       "      <td>24.000000</td>\n",
       "      <td>12.515000</td>\n",
       "      <td>53.187500</td>\n",
       "    </tr>\n",
       "    <tr>\n",
       "      <th>50%</th>\n",
       "      <td>2.0</td>\n",
       "      <td>70.000000</td>\n",
       "      <td>55.000000</td>\n",
       "      <td>0.000000</td>\n",
       "      <td>29.320000</td>\n",
       "      <td>8.100000</td>\n",
       "      <td>2010.500000</td>\n",
       "      <td>7.500000</td>\n",
       "      <td>31.000000</td>\n",
       "      <td>14.235000</td>\n",
       "      <td>60.635000</td>\n",
       "    </tr>\n",
       "    <tr>\n",
       "      <th>75%</th>\n",
       "      <td>2.0</td>\n",
       "      <td>76.000000</td>\n",
       "      <td>62.000000</td>\n",
       "      <td>0.050000</td>\n",
       "      <td>29.410000</td>\n",
       "      <td>10.400000</td>\n",
       "      <td>2012.250000</td>\n",
       "      <td>9.000000</td>\n",
       "      <td>37.000000</td>\n",
       "      <td>14.955000</td>\n",
       "      <td>68.660000</td>\n",
       "    </tr>\n",
       "    <tr>\n",
       "      <th>max</th>\n",
       "      <td>2.0</td>\n",
       "      <td>94.000000</td>\n",
       "      <td>74.000000</td>\n",
       "      <td>4.730000</td>\n",
       "      <td>29.860000</td>\n",
       "      <td>22.600000</td>\n",
       "      <td>2014.000000</td>\n",
       "      <td>10.000000</td>\n",
       "      <td>44.000000</td>\n",
       "      <td>15.230000</td>\n",
       "      <td>1643.760000</td>\n",
       "    </tr>\n",
       "  </tbody>\n",
       "</table>\n",
       "</div>"
      ],
      "text/plain": [
       "       station         tavg    dew_point  precip_total  stn_pressure  \\\n",
       "count   1472.0  1472.000000  1472.000000   1472.000000   1472.000000   \n",
       "mean       2.0    67.370924    53.538043      0.127943     29.274823   \n",
       "std        0.0    12.023190    10.683121      0.363335      1.091259   \n",
       "min        2.0     0.000000    23.000000      0.000000      0.000000   \n",
       "25%        2.0    61.000000    46.000000      0.000000     29.230000   \n",
       "50%        2.0    70.000000    55.000000      0.000000     29.320000   \n",
       "75%        2.0    76.000000    62.000000      0.050000     29.410000   \n",
       "max        2.0    94.000000    74.000000      4.730000     29.860000   \n",
       "\n",
       "         avg_speed         year        month  week_of_year  daylight_hours  \\\n",
       "count  1472.000000  1472.000000  1472.000000   1472.000000     1472.000000   \n",
       "mean      8.572622  2010.500000     7.500000     30.838995       13.669728   \n",
       "std       3.128732     2.292067     1.710526      7.602052        1.489801   \n",
       "min       0.000000  2007.000000     5.000000     17.000000       10.400000   \n",
       "25%       6.300000  2008.750000     6.000000     24.000000       12.515000   \n",
       "50%       8.100000  2010.500000     7.500000     31.000000       14.235000   \n",
       "75%      10.400000  2012.250000     9.000000     37.000000       14.955000   \n",
       "max      22.600000  2014.000000    10.000000     44.000000       15.230000   \n",
       "\n",
       "        r_humidity  \n",
       "count  1472.000000  \n",
       "mean     67.495482  \n",
       "std      82.207548  \n",
       "min      29.990000  \n",
       "25%      53.187500  \n",
       "50%      60.635000  \n",
       "75%      68.660000  \n",
       "max    1643.760000  "
      ]
     },
     "metadata": {},
     "output_type": "display_data"
    }
   ],
   "source": [
    "print(\"High-level statistics for weather at Station 1: O'Hare Airport\")\n",
    "display(weather[weather['station']==1].describe())\n",
    "print(\"High-level statistics for weather at Station 2: Midway International Airport\")\n",
    "display(weather[weather['station']==2].describe())"
   ]
  },
  {
   "cell_type": "code",
   "execution_count": 33,
   "metadata": {
    "ExecuteTime": {
     "end_time": "2022-02-04T02:07:22.313599Z",
     "start_time": "2022-02-04T02:07:22.285675Z"
    }
   },
   "outputs": [
    {
     "data": {
      "text/html": [
       "<div>\n",
       "<style scoped>\n",
       "    .dataframe tbody tr th:only-of-type {\n",
       "        vertical-align: middle;\n",
       "    }\n",
       "\n",
       "    .dataframe tbody tr th {\n",
       "        vertical-align: top;\n",
       "    }\n",
       "\n",
       "    .dataframe thead th {\n",
       "        text-align: right;\n",
       "    }\n",
       "</style>\n",
       "<table border=\"1\" class=\"dataframe\">\n",
       "  <thead>\n",
       "    <tr style=\"text-align: right;\">\n",
       "      <th></th>\n",
       "      <th>date</th>\n",
       "      <th>tavg</th>\n",
       "      <th>dew_point</th>\n",
       "      <th>precip_total</th>\n",
       "      <th>stn_pressure</th>\n",
       "      <th>avg_speed</th>\n",
       "      <th>year</th>\n",
       "      <th>month</th>\n",
       "      <th>week_of_year</th>\n",
       "      <th>daylight_hours</th>\n",
       "      <th>r_humidity</th>\n",
       "    </tr>\n",
       "  </thead>\n",
       "  <tbody>\n",
       "    <tr>\n",
       "      <th>0</th>\n",
       "      <td>2007-05-01</td>\n",
       "      <td>67.5</td>\n",
       "      <td>51.0</td>\n",
       "      <td>0.000000</td>\n",
       "      <td>29.140</td>\n",
       "      <td>9.40</td>\n",
       "      <td>2007.0</td>\n",
       "      <td>5.0</td>\n",
       "      <td>18.0</td>\n",
       "      <td>14.02</td>\n",
       "      <td>55.485</td>\n",
       "    </tr>\n",
       "    <tr>\n",
       "      <th>1</th>\n",
       "      <td>2007-05-02</td>\n",
       "      <td>51.5</td>\n",
       "      <td>42.0</td>\n",
       "      <td>0.000000</td>\n",
       "      <td>29.410</td>\n",
       "      <td>13.40</td>\n",
       "      <td>2007.0</td>\n",
       "      <td>5.0</td>\n",
       "      <td>18.0</td>\n",
       "      <td>14.05</td>\n",
       "      <td>69.905</td>\n",
       "    </tr>\n",
       "    <tr>\n",
       "      <th>2</th>\n",
       "      <td>2007-05-03</td>\n",
       "      <td>57.0</td>\n",
       "      <td>40.0</td>\n",
       "      <td>0.000000</td>\n",
       "      <td>29.425</td>\n",
       "      <td>12.55</td>\n",
       "      <td>2007.0</td>\n",
       "      <td>5.0</td>\n",
       "      <td>18.0</td>\n",
       "      <td>14.08</td>\n",
       "      <td>52.965</td>\n",
       "    </tr>\n",
       "    <tr>\n",
       "      <th>3</th>\n",
       "      <td>2007-05-04</td>\n",
       "      <td>29.0</td>\n",
       "      <td>41.5</td>\n",
       "      <td>0.000005</td>\n",
       "      <td>29.335</td>\n",
       "      <td>10.60</td>\n",
       "      <td>2007.0</td>\n",
       "      <td>5.0</td>\n",
       "      <td>18.0</td>\n",
       "      <td>14.13</td>\n",
       "      <td>324.475</td>\n",
       "    </tr>\n",
       "    <tr>\n",
       "      <th>4</th>\n",
       "      <td>2007-05-05</td>\n",
       "      <td>60.0</td>\n",
       "      <td>38.5</td>\n",
       "      <td>0.000010</td>\n",
       "      <td>29.430</td>\n",
       "      <td>11.75</td>\n",
       "      <td>2007.0</td>\n",
       "      <td>5.0</td>\n",
       "      <td>18.0</td>\n",
       "      <td>14.17</td>\n",
       "      <td>44.845</td>\n",
       "    </tr>\n",
       "  </tbody>\n",
       "</table>\n",
       "</div>"
      ],
      "text/plain": [
       "        date  tavg  dew_point  precip_total  stn_pressure  avg_speed    year  \\\n",
       "0 2007-05-01  67.5       51.0      0.000000        29.140       9.40  2007.0   \n",
       "1 2007-05-02  51.5       42.0      0.000000        29.410      13.40  2007.0   \n",
       "2 2007-05-03  57.0       40.0      0.000000        29.425      12.55  2007.0   \n",
       "3 2007-05-04  29.0       41.5      0.000005        29.335      10.60  2007.0   \n",
       "4 2007-05-05  60.0       38.5      0.000010        29.430      11.75  2007.0   \n",
       "\n",
       "   month  week_of_year  daylight_hours  r_humidity  \n",
       "0    5.0          18.0           14.02      55.485  \n",
       "1    5.0          18.0           14.05      69.905  \n",
       "2    5.0          18.0           14.08      52.965  \n",
       "3    5.0          18.0           14.13     324.475  \n",
       "4    5.0          18.0           14.17      44.845  "
      ]
     },
     "execution_count": 33,
     "metadata": {},
     "output_type": "execute_result"
    }
   ],
   "source": [
    "weather_agg = weather.groupby('date').mean()\n",
    "weather_agg.drop(columns=['station'], inplace=True)\n",
    "weather_agg.reset_index(inplace=True)\n",
    "weather_agg.head()"
   ]
  },
  {
   "cell_type": "markdown",
   "metadata": {},
   "source": [
    "The `weather` and `train` datasets will be merged on the dates when there are records of testing. The same will be done for the `test` dataset."
   ]
  },
  {
   "cell_type": "code",
   "execution_count": 34,
   "metadata": {
    "ExecuteTime": {
     "end_time": "2022-02-04T02:07:22.405741Z",
     "start_time": "2022-02-04T02:07:22.314597Z"
    }
   },
   "outputs": [
    {
     "data": {
      "text/html": [
       "<div>\n",
       "<style scoped>\n",
       "    .dataframe tbody tr th:only-of-type {\n",
       "        vertical-align: middle;\n",
       "    }\n",
       "\n",
       "    .dataframe tbody tr th {\n",
       "        vertical-align: top;\n",
       "    }\n",
       "\n",
       "    .dataframe thead th {\n",
       "        text-align: right;\n",
       "    }\n",
       "</style>\n",
       "<table border=\"1\" class=\"dataframe\">\n",
       "  <thead>\n",
       "    <tr style=\"text-align: right;\">\n",
       "      <th></th>\n",
       "      <th>date</th>\n",
       "      <th>species</th>\n",
       "      <th>latitude</th>\n",
       "      <th>longitude</th>\n",
       "      <th>num_mosquitos</th>\n",
       "      <th>wnv_present</th>\n",
       "      <th>tavg</th>\n",
       "      <th>dew_point</th>\n",
       "      <th>precip_total</th>\n",
       "      <th>stn_pressure</th>\n",
       "      <th>avg_speed</th>\n",
       "      <th>year</th>\n",
       "      <th>month</th>\n",
       "      <th>week_of_year</th>\n",
       "      <th>daylight_hours</th>\n",
       "      <th>r_humidity</th>\n",
       "    </tr>\n",
       "  </thead>\n",
       "  <tbody>\n",
       "    <tr>\n",
       "      <th>0</th>\n",
       "      <td>2007-05-29</td>\n",
       "      <td>CULEX PIPIENS/RESTUANS</td>\n",
       "      <td>41.954690</td>\n",
       "      <td>-87.800991</td>\n",
       "      <td>1</td>\n",
       "      <td>0</td>\n",
       "      <td>75.5</td>\n",
       "      <td>58.5</td>\n",
       "      <td>0.0</td>\n",
       "      <td>29.415</td>\n",
       "      <td>6.95</td>\n",
       "      <td>2007.0</td>\n",
       "      <td>5.0</td>\n",
       "      <td>22.0</td>\n",
       "      <td>14.93</td>\n",
       "      <td>55.615</td>\n",
       "    </tr>\n",
       "    <tr>\n",
       "      <th>1</th>\n",
       "      <td>2007-05-29</td>\n",
       "      <td>CULEX RESTUANS</td>\n",
       "      <td>41.954690</td>\n",
       "      <td>-87.800991</td>\n",
       "      <td>1</td>\n",
       "      <td>0</td>\n",
       "      <td>75.5</td>\n",
       "      <td>58.5</td>\n",
       "      <td>0.0</td>\n",
       "      <td>29.415</td>\n",
       "      <td>6.95</td>\n",
       "      <td>2007.0</td>\n",
       "      <td>5.0</td>\n",
       "      <td>22.0</td>\n",
       "      <td>14.93</td>\n",
       "      <td>55.615</td>\n",
       "    </tr>\n",
       "    <tr>\n",
       "      <th>2</th>\n",
       "      <td>2007-05-29</td>\n",
       "      <td>CULEX RESTUANS</td>\n",
       "      <td>41.994991</td>\n",
       "      <td>-87.769279</td>\n",
       "      <td>1</td>\n",
       "      <td>0</td>\n",
       "      <td>75.5</td>\n",
       "      <td>58.5</td>\n",
       "      <td>0.0</td>\n",
       "      <td>29.415</td>\n",
       "      <td>6.95</td>\n",
       "      <td>2007.0</td>\n",
       "      <td>5.0</td>\n",
       "      <td>22.0</td>\n",
       "      <td>14.93</td>\n",
       "      <td>55.615</td>\n",
       "    </tr>\n",
       "    <tr>\n",
       "      <th>3</th>\n",
       "      <td>2007-05-29</td>\n",
       "      <td>CULEX PIPIENS/RESTUANS</td>\n",
       "      <td>41.974089</td>\n",
       "      <td>-87.824812</td>\n",
       "      <td>1</td>\n",
       "      <td>0</td>\n",
       "      <td>75.5</td>\n",
       "      <td>58.5</td>\n",
       "      <td>0.0</td>\n",
       "      <td>29.415</td>\n",
       "      <td>6.95</td>\n",
       "      <td>2007.0</td>\n",
       "      <td>5.0</td>\n",
       "      <td>22.0</td>\n",
       "      <td>14.93</td>\n",
       "      <td>55.615</td>\n",
       "    </tr>\n",
       "    <tr>\n",
       "      <th>4</th>\n",
       "      <td>2007-05-29</td>\n",
       "      <td>CULEX RESTUANS</td>\n",
       "      <td>41.974089</td>\n",
       "      <td>-87.824812</td>\n",
       "      <td>4</td>\n",
       "      <td>0</td>\n",
       "      <td>75.5</td>\n",
       "      <td>58.5</td>\n",
       "      <td>0.0</td>\n",
       "      <td>29.415</td>\n",
       "      <td>6.95</td>\n",
       "      <td>2007.0</td>\n",
       "      <td>5.0</td>\n",
       "      <td>22.0</td>\n",
       "      <td>14.93</td>\n",
       "      <td>55.615</td>\n",
       "    </tr>\n",
       "  </tbody>\n",
       "</table>\n",
       "</div>"
      ],
      "text/plain": [
       "        date                 species   latitude  longitude  num_mosquitos  \\\n",
       "0 2007-05-29  CULEX PIPIENS/RESTUANS  41.954690 -87.800991              1   \n",
       "1 2007-05-29          CULEX RESTUANS  41.954690 -87.800991              1   \n",
       "2 2007-05-29          CULEX RESTUANS  41.994991 -87.769279              1   \n",
       "3 2007-05-29  CULEX PIPIENS/RESTUANS  41.974089 -87.824812              1   \n",
       "4 2007-05-29          CULEX RESTUANS  41.974089 -87.824812              4   \n",
       "\n",
       "   wnv_present  tavg  dew_point  precip_total  stn_pressure  avg_speed  \\\n",
       "0            0  75.5       58.5           0.0        29.415       6.95   \n",
       "1            0  75.5       58.5           0.0        29.415       6.95   \n",
       "2            0  75.5       58.5           0.0        29.415       6.95   \n",
       "3            0  75.5       58.5           0.0        29.415       6.95   \n",
       "4            0  75.5       58.5           0.0        29.415       6.95   \n",
       "\n",
       "     year  month  week_of_year  daylight_hours  r_humidity  \n",
       "0  2007.0    5.0          22.0           14.93      55.615  \n",
       "1  2007.0    5.0          22.0           14.93      55.615  \n",
       "2  2007.0    5.0          22.0           14.93      55.615  \n",
       "3  2007.0    5.0          22.0           14.93      55.615  \n",
       "4  2007.0    5.0          22.0           14.93      55.615  "
      ]
     },
     "execution_count": 34,
     "metadata": {},
     "output_type": "execute_result"
    }
   ],
   "source": [
    "# merging the weather_agg and train columns + deleting duplicated columns + renaming columns\n",
    "\n",
    "train = train.merge(weather_agg, on='date')\n",
    "test = test.merge(weather_agg, on ='date')\n",
    "\n",
    "train.drop(columns=['year_x', 'month_x', 'week_of_year_x'],inplace=True)\n",
    "train.rename(columns={'year_y':'year', 'month_y':'month','week_of_year_y':'week_of_year'},inplace=True)\n",
    "test.drop(columns=['year_x', 'month_x', 'week_of_year_x'],inplace=True)\n",
    "test.rename(columns={'year_y':'year', 'month_y':'month','week_of_year_y':'week_of_year'},inplace=True)\n",
    "train.head()"
   ]
  },
  {
   "cell_type": "code",
   "execution_count": 35,
   "metadata": {
    "ExecuteTime": {
     "end_time": "2022-02-04T02:07:22.421246Z",
     "start_time": "2022-02-04T02:07:22.406746Z"
    }
   },
   "outputs": [
    {
     "data": {
      "text/html": [
       "<div>\n",
       "<style scoped>\n",
       "    .dataframe tbody tr th:only-of-type {\n",
       "        vertical-align: middle;\n",
       "    }\n",
       "\n",
       "    .dataframe tbody tr th {\n",
       "        vertical-align: top;\n",
       "    }\n",
       "\n",
       "    .dataframe thead th {\n",
       "        text-align: right;\n",
       "    }\n",
       "</style>\n",
       "<table border=\"1\" class=\"dataframe\">\n",
       "  <thead>\n",
       "    <tr style=\"text-align: right;\">\n",
       "      <th></th>\n",
       "      <th>date</th>\n",
       "      <th>species</th>\n",
       "      <th>latitude</th>\n",
       "      <th>longitude</th>\n",
       "      <th>tavg</th>\n",
       "      <th>dew_point</th>\n",
       "      <th>precip_total</th>\n",
       "      <th>stn_pressure</th>\n",
       "      <th>avg_speed</th>\n",
       "      <th>year</th>\n",
       "      <th>month</th>\n",
       "      <th>week_of_year</th>\n",
       "      <th>daylight_hours</th>\n",
       "      <th>r_humidity</th>\n",
       "    </tr>\n",
       "  </thead>\n",
       "  <tbody>\n",
       "    <tr>\n",
       "      <th>0</th>\n",
       "      <td>2008-06-11</td>\n",
       "      <td>CULEX PIPIENS/RESTUANS</td>\n",
       "      <td>41.95469</td>\n",
       "      <td>-87.800991</td>\n",
       "      <td>75.0</td>\n",
       "      <td>55.5</td>\n",
       "      <td>0.0</td>\n",
       "      <td>29.31</td>\n",
       "      <td>10.2</td>\n",
       "      <td>2008.0</td>\n",
       "      <td>6.0</td>\n",
       "      <td>24.0</td>\n",
       "      <td>15.17</td>\n",
       "      <td>50.79</td>\n",
       "    </tr>\n",
       "    <tr>\n",
       "      <th>1</th>\n",
       "      <td>2008-06-11</td>\n",
       "      <td>CULEX RESTUANS</td>\n",
       "      <td>41.95469</td>\n",
       "      <td>-87.800991</td>\n",
       "      <td>75.0</td>\n",
       "      <td>55.5</td>\n",
       "      <td>0.0</td>\n",
       "      <td>29.31</td>\n",
       "      <td>10.2</td>\n",
       "      <td>2008.0</td>\n",
       "      <td>6.0</td>\n",
       "      <td>24.0</td>\n",
       "      <td>15.17</td>\n",
       "      <td>50.79</td>\n",
       "    </tr>\n",
       "    <tr>\n",
       "      <th>2</th>\n",
       "      <td>2008-06-11</td>\n",
       "      <td>CULEX PIPIENS</td>\n",
       "      <td>41.95469</td>\n",
       "      <td>-87.800991</td>\n",
       "      <td>75.0</td>\n",
       "      <td>55.5</td>\n",
       "      <td>0.0</td>\n",
       "      <td>29.31</td>\n",
       "      <td>10.2</td>\n",
       "      <td>2008.0</td>\n",
       "      <td>6.0</td>\n",
       "      <td>24.0</td>\n",
       "      <td>15.17</td>\n",
       "      <td>50.79</td>\n",
       "    </tr>\n",
       "    <tr>\n",
       "      <th>3</th>\n",
       "      <td>2008-06-11</td>\n",
       "      <td>CULEX SALINARIUS</td>\n",
       "      <td>41.95469</td>\n",
       "      <td>-87.800991</td>\n",
       "      <td>75.0</td>\n",
       "      <td>55.5</td>\n",
       "      <td>0.0</td>\n",
       "      <td>29.31</td>\n",
       "      <td>10.2</td>\n",
       "      <td>2008.0</td>\n",
       "      <td>6.0</td>\n",
       "      <td>24.0</td>\n",
       "      <td>15.17</td>\n",
       "      <td>50.79</td>\n",
       "    </tr>\n",
       "    <tr>\n",
       "      <th>4</th>\n",
       "      <td>2008-06-11</td>\n",
       "      <td>CULEX TERRITANS</td>\n",
       "      <td>41.95469</td>\n",
       "      <td>-87.800991</td>\n",
       "      <td>75.0</td>\n",
       "      <td>55.5</td>\n",
       "      <td>0.0</td>\n",
       "      <td>29.31</td>\n",
       "      <td>10.2</td>\n",
       "      <td>2008.0</td>\n",
       "      <td>6.0</td>\n",
       "      <td>24.0</td>\n",
       "      <td>15.17</td>\n",
       "      <td>50.79</td>\n",
       "    </tr>\n",
       "  </tbody>\n",
       "</table>\n",
       "</div>"
      ],
      "text/plain": [
       "        date                 species  latitude  longitude  tavg  dew_point  \\\n",
       "0 2008-06-11  CULEX PIPIENS/RESTUANS  41.95469 -87.800991  75.0       55.5   \n",
       "1 2008-06-11          CULEX RESTUANS  41.95469 -87.800991  75.0       55.5   \n",
       "2 2008-06-11           CULEX PIPIENS  41.95469 -87.800991  75.0       55.5   \n",
       "3 2008-06-11        CULEX SALINARIUS  41.95469 -87.800991  75.0       55.5   \n",
       "4 2008-06-11         CULEX TERRITANS  41.95469 -87.800991  75.0       55.5   \n",
       "\n",
       "   precip_total  stn_pressure  avg_speed    year  month  week_of_year  \\\n",
       "0           0.0         29.31       10.2  2008.0    6.0          24.0   \n",
       "1           0.0         29.31       10.2  2008.0    6.0          24.0   \n",
       "2           0.0         29.31       10.2  2008.0    6.0          24.0   \n",
       "3           0.0         29.31       10.2  2008.0    6.0          24.0   \n",
       "4           0.0         29.31       10.2  2008.0    6.0          24.0   \n",
       "\n",
       "   daylight_hours  r_humidity  \n",
       "0           15.17       50.79  \n",
       "1           15.17       50.79  \n",
       "2           15.17       50.79  \n",
       "3           15.17       50.79  \n",
       "4           15.17       50.79  "
      ]
     },
     "execution_count": 35,
     "metadata": {},
     "output_type": "execute_result"
    }
   ],
   "source": [
    "test.head()"
   ]
  },
  {
   "cell_type": "markdown",
   "metadata": {},
   "source": [
    "## Macro Trends by Year\n",
    "\n",
    "From Fig 1, we can observe that 2007 & 2013 showed a marked increase in WNV cases over 2009 & 2011. Fig 2 below shows an increase in cases recorded in 2007, which likely resulted from increased testing efforts as the number of tests performed were much higher than the proceeding years. Testing efforts from 2009 onwards were quite similar, but the spike in WNV cases in 2013 is likely to have arisen due to other factors, not because more tests were performed. "
   ]
  },
  {
   "cell_type": "code",
   "execution_count": 36,
   "metadata": {
    "ExecuteTime": {
     "end_time": "2022-02-04T02:07:22.636687Z",
     "start_time": "2022-02-04T02:07:22.422224Z"
    }
   },
   "outputs": [
    {
     "data": {
      "image/png": "[encoded data removed]",
      "text/plain": [
       "<Figure size 1008x432 with 1 Axes>"
      ]
     },
     "metadata": {
      "needs_background": "light"
     },
     "output_type": "display_data"
    }
   ],
   "source": [
    "wnv_avg = train.groupby(['year'], as_index=False)['wnv_present'].sum()\n",
    "plt.figure(figsize=(14,6))\n",
    "plt.ylabel('WNV Cases')\n",
    "plt.xlabel('Year')\n",
    "plt.bar(wnv_avg['year'], wnv_avg['wnv_present'])\n",
    "plt.title('Fig 1: Average Number of WNV Cases by Year for Odd Years 2007-2013', fontsize=14);"
   ]
  },
  {
   "cell_type": "code",
   "execution_count": 37,
   "metadata": {
    "ExecuteTime": {
     "end_time": "2022-02-04T02:07:22.809362Z",
     "start_time": "2022-02-04T02:07:22.638226Z"
    }
   },
   "outputs": [
    {
     "data": {
      "image/png": "[encoded data removed]",
      "text/plain": [
       "<Figure size 1008x432 with 1 Axes>"
      ]
     },
     "metadata": {
      "needs_background": "light"
     },
     "output_type": "display_data"
    }
   ],
   "source": [
    "wnv_avg = train.groupby(['year'], as_index=False)['date'].count()\n",
    "plt.figure(figsize=(14,6))\n",
    "plt.bar(wnv_avg['year'], wnv_avg['date'])\n",
    "plt.ylabel('Testing records')\n",
    "plt.xlabel('Year')\n",
    "plt.title('Fig 2: Number of Records by Year for Odd Years 2007-2013', fontsize=14);"
   ]
  },
  {
   "cell_type": "markdown",
   "metadata": {},
   "source": [
    "### Weather Trends on WNV Cases\n",
    "\n",
    "From **Figs 3-6** below, weather features were plotted against the number of WNV cases to examine if there are any patterns. Weather features which show certain patterns are ideal candidates to add into our model's features."
   ]
  },
  {
   "cell_type": "code",
   "execution_count": 38,
   "metadata": {
    "ExecuteTime": {
     "end_time": "2022-02-04T02:07:23.015292Z",
     "start_time": "2022-02-04T02:07:22.810354Z"
    }
   },
   "outputs": [
    {
     "data": {
      "image/png": "[encoded data removed]",
      "text/plain": [
       "<Figure size 1008x432 with 1 Axes>"
      ]
     },
     "metadata": {
      "needs_background": "light"
     },
     "output_type": "display_data"
    }
   ],
   "source": [
    "temp = train.groupby(['tavg'], as_index=False)['wnv_present'].sum()\n",
    "plt.figure(figsize=(14,6))\n",
    "plt.bar(temp['tavg'], temp['wnv_present'])\n",
    "plt.ylabel('WNV Cases')\n",
    "plt.xlabel('T_avg (°F)')\n",
    "plt.title('Fig 3: Temperature vs WNV Cases for Odd Years from 2007-2013', fontsize=14);"
   ]
  },
  {
   "cell_type": "markdown",
   "metadata": {},
   "source": [
    "Higher Temperatures (>70 deg F) is associated with increases in WNV cases\n"
   ]
  },
  {
   "cell_type": "code",
   "execution_count": 39,
   "metadata": {
    "ExecuteTime": {
     "end_time": "2022-02-04T02:07:23.263672Z",
     "start_time": "2022-02-04T02:07:23.016289Z"
    }
   },
   "outputs": [
    {
     "data": {
      "image/png": "[encoded data removed]",
      "text/plain": [
       "<Figure size 1008x432 with 1 Axes>"
      ]
     },
     "metadata": {
      "needs_background": "light"
     },
     "output_type": "display_data"
    }
   ],
   "source": [
    "wind= train.groupby(['avg_speed'], as_index=False)['wnv_present'].sum()\n",
    "plt.figure(figsize=(14,6))\n",
    "plt.bar(wind['avg_speed'], wind['wnv_present'])\n",
    "plt.ylabel('WNV Cases')\n",
    "plt.xlabel('Avg Wind Speed (mi/h)')\n",
    "plt.title('Fig 4: Wind Speed (mi/h) vs WNV Cases for Odd Years from 2007-2013', fontsize=14);"
   ]
  },
  {
   "cell_type": "markdown",
   "metadata": {},
   "source": [
    "It seems that lower wind speeds (<8 mi/hr) is associated with increases in WNV incidences in mosquitoes."
   ]
  },
  {
   "cell_type": "code",
   "execution_count": 40,
   "metadata": {
    "ExecuteTime": {
     "end_time": "2022-02-04T02:07:23.531988Z",
     "start_time": "2022-02-04T02:07:23.264668Z"
    }
   },
   "outputs": [
    {
     "data": {
      "image/png": "[encoded data removed]",
      "text/plain": [
       "<Figure size 1008x432 with 1 Axes>"
      ]
     },
     "metadata": {
      "needs_background": "light"
     },
     "output_type": "display_data"
    }
   ],
   "source": [
    "stn_pressure = train.groupby(['stn_pressure'], as_index=False)['wnv_present'].sum()\n",
    "plt.figure(figsize=(14,6))\n",
    "plt.bar(stn_pressure['stn_pressure'], stn_pressure['wnv_present'])\n",
    "plt.xlim((28,31))\n",
    "plt.ylabel('WNV Cases')\n",
    "plt.xlabel('Avg Pressure (Hg/in)')\n",
    "plt.title('Fig 5: Average Pressure (Hg/in) vs WNV Cases in Odd Years from 2007-2013', fontsize=14);"
   ]
  },
  {
   "cell_type": "markdown",
   "metadata": {},
   "source": [
    "The majority of WNV cases were observed when the air pressure was between between 28.6-29.8 Hg."
   ]
  },
  {
   "cell_type": "code",
   "execution_count": 41,
   "metadata": {
    "ExecuteTime": {
     "end_time": "2022-02-04T02:07:23.761917Z",
     "start_time": "2022-02-04T02:07:23.533997Z"
    }
   },
   "outputs": [
    {
     "data": {
      "image/png": "[encoded data removed]",
      "text/plain": [
       "<Figure size 1008x432 with 1 Axes>"
      ]
     },
     "metadata": {
      "needs_background": "light"
     },
     "output_type": "display_data"
    }
   ],
   "source": [
    "daylight = train.groupby([\"daylight_hours\"], as_index=False)[\"wnv_present\"].sum()\n",
    "plt.figure(figsize=(14, 6))\n",
    "plt.bar(daylight[\"daylight_hours\"], daylight[\"wnv_present\"])\n",
    "plt.ylabel(\"WNV Cases\")\n",
    "plt.xlabel(\"Daylight Hours\")\n",
    "plt.title(\n",
    "    \"Fig 6: Daylight Hours (hrs) vs WNV Cases in Odd Years from 2007-2013\", fontsize=14\n",
    ");"
   ]
  },
  {
   "cell_type": "markdown",
   "metadata": {},
   "source": [
    "The majority of WNV cases were recorded between 13.5-14.2 daylight hours\n"
   ]
  },
  {
   "cell_type": "code",
   "execution_count": 42,
   "metadata": {
    "ExecuteTime": {
     "end_time": "2022-02-04T02:07:24.028214Z",
     "start_time": "2022-02-04T02:07:23.763879Z"
    }
   },
   "outputs": [
    {
     "data": {
      "image/png": "[encoded data removed]",
      "text/plain": [
       "<Figure size 1008x432 with 1 Axes>"
      ]
     },
     "metadata": {
      "needs_background": "light"
     },
     "output_type": "display_data"
    }
   ],
   "source": [
    "rh = train.groupby([\"r_humidity\"], as_index=False)[\"wnv_present\"].sum()\n",
    "plt.figure(figsize=(14, 6))\n",
    "plt.bar(rh[\"r_humidity\"], rh[\"wnv_present\"])\n",
    "plt.ylabel(\"WNV Cases\")\n",
    "plt.xlabel(\"Relative Humidity (%)\")\n",
    "plt.title(\n",
    "    \"Fig 7: Relative Humidity (%) vs WNV Cases in Odd Years from 2007-2013\", fontsize=14\n",
    ");"
   ]
  },
  {
   "cell_type": "markdown",
   "metadata": {},
   "source": [
    "There were no WNV cases when the RH was below 50."
   ]
  },
  {
   "cell_type": "markdown",
   "metadata": {},
   "source": [
    "## Seasonal Trends\n",
    "\n",
    "To see if there was any seasonal trend within a year for WNV cases, the mean cases per week of the year was plotted from the train dataset in **Fig 8** (i.e. number of WNV cases recorded per week/number of records per week)\n",
    "\n",
    "From **Fig 8**, a gradual build-up and peaking of mean WNV cases in weeks 33-35 can be observed, followed by a gradual tapering till week 40. The black lines indicate the rough weeks of the peaking of the virus incidences, and the red lines indicate the boundaries where the virus tapers off."
   ]
  },
  {
   "cell_type": "code",
   "execution_count": 43,
   "metadata": {
    "ExecuteTime": {
     "end_time": "2022-02-04T02:07:24.274522Z",
     "start_time": "2022-02-04T02:07:24.029246Z"
    }
   },
   "outputs": [
    {
     "data": {
      "image/png": "[encoded data removed]",
      "text/plain": [
       "<Figure size 1008x432 with 1 Axes>"
      ]
     },
     "metadata": {
      "needs_background": "light"
     },
     "output_type": "display_data"
    }
   ],
   "source": [
    "wnv_avg = train.groupby(['week_of_year'], as_index=False)['wnv_present'].mean()\n",
    "plt.figure(figsize=(14,6))\n",
    "plt.plot(wnv_avg['week_of_year'], wnv_avg['wnv_present'])\n",
    "plt.xticks(range(22,42))\n",
    "plt.ylabel('Average WNV Cases') \n",
    "plt.xlabel('Year-Week')\n",
    "plt.title('Fig 8: Average WNV Cases by Year-Week from Odd Years 2007-2013', fontsize=14)\n",
    "\n",
    "plt.axvline(27, linestyle='--', color='r')\n",
    "plt.axvline(40, linestyle='--', color='r')\n",
    "plt.axvline(33, linestyle='--', color='black')\n",
    "plt.axvline(35, linestyle='--', color='black');"
   ]
  },
  {
   "cell_type": "code",
   "execution_count": 44,
   "metadata": {
    "ExecuteTime": {
     "end_time": "2022-02-04T02:07:24.521860Z",
     "start_time": "2022-02-04T02:07:24.276516Z"
    }
   },
   "outputs": [
    {
     "data": {
      "image/png": "[encoded data removed]",
      "text/plain": [
       "<Figure size 1008x432 with 1 Axes>"
      ]
     },
     "metadata": {
      "needs_background": "light"
     },
     "output_type": "display_data"
    }
   ],
   "source": [
    "records = train.groupby(['week_of_year'], as_index=False)['date'].count()\n",
    "plt.figure(figsize=(14,6))\n",
    "plt.bar(records['week_of_year'], records['date'])\n",
    "plt.xticks(range(22,42))\n",
    "plt.ylabel('Number of Records')  \n",
    "plt.xlabel('Year-Week')\n",
    "plt.title('Fig 9: Number of Records by Year-Week from Odd Years 2007-2013', fontsize=14)\n",
    "\n",
    "plt.axvline(27, linestyle='--', color='r')\n",
    "plt.axvline(40, linestyle='--', color='r')\n",
    "plt.axvline(33, linestyle='--', color='black')\n",
    "plt.axvline(35, linestyle='--', color='black');"
   ]
  },
  {
   "cell_type": "markdown",
   "metadata": {},
   "source": [
    "**Fig 8** shows that the increased number of cases was not due to simply an increase in records as the distribution of the records by week of the year do not coincide with the build-up and tapering off the pattern in weeks 27 and 40 in **Fig 7**. "
   ]
  },
  {
   "cell_type": "code",
   "execution_count": 45,
   "metadata": {
    "ExecuteTime": {
     "end_time": "2022-02-04T02:07:24.752098Z",
     "start_time": "2022-02-04T02:07:24.522858Z"
    }
   },
   "outputs": [
    {
     "data": {
      "image/png": "[encoded data removed]",
      "text/plain": [
       "<Figure size 1008x432 with 1 Axes>"
      ]
     },
     "metadata": {
      "needs_background": "light"
     },
     "output_type": "display_data"
    }
   ],
   "source": [
    "precip_avg = train.groupby(['week_of_year'], as_index=False)['precip_total'].mean()\n",
    "plt.figure(figsize=(14,6))\n",
    "plt.plot(precip_avg['week_of_year'], precip_avg['precip_total'])\n",
    "plt.xticks(range(22,42))\n",
    "plt.ylabel('Average Precipitation') \n",
    "plt.xlabel('Year-Week')\n",
    "plt.title('Fig 9: Average Precipitation (inches) by Year-Week from Odd Years 2007-2013', fontsize=14)\n",
    "\n",
    "plt.axvline(25, linestyle='--', color='b')\n",
    "plt.axvline(27, linestyle='--', color='r')\n",
    "plt.axvline(40, linestyle='--', color='r')\n",
    "plt.axvline(33, linestyle='--', color='black')\n",
    "plt.axvline(35, linestyle='--', color='black');"
   ]
  },
  {
   "cell_type": "markdown",
   "metadata": {},
   "source": [
    "High precipitation rates generally results in greater generation of water surfaces for mosquito breeding, increasing the overall mosquito population and increase the chances of the spread of WNV. However, excessive precipitation also has also been known to ['flush' away mosquito larvae and decrease their life expectancy](https://journals.plos.org/plosntds/article?id=10.1371/journal.pntd.0006935). The typical time for mosquitoes of the Culex species to reach adulthood is about [2-4 weeks](https://www.in.gov/health/erc/zoonotic-and-vectorborne-epidemiology-entomology/pests/culex-species-mosquitoes/), and life expectancy of the Culex species of mosquitos ranges from [2 weeks to 4 months depending on temperature.](https://pubmed.ncbi.nlm.nih.gov/25284257/)\n",
    "\n",
    "\n",
    "From **Fig 9**, we observe that high precipitation usually occurs in week 25, followed by a prolonged period of low precipitation especially in weeks 27-40. It may be likely that the high rainfall from week 25 generates large amounts of suitable surfaces for mosquito breeding, with the lower precipitation in the proceeding 2 weeks (weeks 26-28) facilitating the growth of larvae into adult mosquitos and contributing to the buildup in cases from weeks 27-35."
   ]
  },
  {
   "cell_type": "code",
   "execution_count": 46,
   "metadata": {
    "ExecuteTime": {
     "end_time": "2022-02-04T02:07:25.019352Z",
     "start_time": "2022-02-04T02:07:24.753064Z"
    }
   },
   "outputs": [
    {
     "data": {
      "image/png": "[encoded data removed]",
      "text/plain": [
       "<Figure size 1008x432 with 1 Axes>"
      ]
     },
     "metadata": {
      "needs_background": "light"
     },
     "output_type": "display_data"
    }
   ],
   "source": [
    "temp_avg = train.groupby(['week_of_year'], as_index=False)['tavg'].mean()\n",
    "plt.figure(figsize=(14,6))\n",
    "plt.plot(temp_avg['week_of_year'], temp_avg['tavg'])\n",
    "plt.xticks(range(20,42))\n",
    "plt.ylabel('Average Temperature') \n",
    "plt.xlabel('Year-Week')\n",
    "plt.title('Fig 9: Average Temperature (F) by Year-Week from Odd Years 2007-2013', fontsize=14)\n",
    "\n",
    "plt.axvline(27, linestyle='--', color='r')\n",
    "plt.axvline(40, linestyle='--', color='r')\n",
    "plt.axhline(70, linestyle='--', color='g')\n",
    "plt.axhline(78, linestyle='--', color='g')\n",
    "plt.axvline(33, linestyle='--', color='black')\n",
    "plt.axvline(35, linestyle='--', color='black');"
   ]
  },
  {
   "cell_type": "markdown",
   "metadata": {},
   "source": [
    "Studies have shown that WNV cases generally occur when ambient temperature is between [70-79 degrees Fahrenheit](https://www.ncbi.nlm.nih.gov/pmc/articles/PMC7492091/) (indicated by the green lines). **Fig 9** seems to corroborate the studies as \n",
    "the temperature was within this band with during the peak of WNV cases (weeks 33-35)."
   ]
  },
  {
   "cell_type": "code",
   "execution_count": 47,
   "metadata": {
    "ExecuteTime": {
     "end_time": "2022-02-04T02:07:25.265723Z",
     "start_time": "2022-02-04T02:07:25.021348Z"
    }
   },
   "outputs": [
    {
     "data": {
      "image/png": "[encoded data removed]",
      "text/plain": [
       "<Figure size 1008x432 with 1 Axes>"
      ]
     },
     "metadata": {
      "needs_background": "light"
     },
     "output_type": "display_data"
    }
   ],
   "source": [
    "rh_avg = train.groupby(['week_of_year'], as_index=False)['r_humidity'].mean()\n",
    "plt.figure(figsize=(14,6))\n",
    "plt.plot(rh_avg['week_of_year'], rh_avg['r_humidity'])\n",
    "plt.xticks(range(20,42))\n",
    "plt.ylabel('Average Relative Humidity') \n",
    "plt.xlabel('Year-Week')\n",
    "plt.title('Fig 10: Average Relative Humidity(%) by Year-Week from Odd Years 2007-2013', fontsize=14)\n",
    "plt.axvline(27, linestyle='--', color='r')\n",
    "plt.axvline(40, linestyle='--', color='r')\n",
    "plt.axvline(33, linestyle='--', color='black')\n",
    "plt.axvline(35, linestyle='--', color='black');"
   ]
  },
  {
   "cell_type": "markdown",
   "metadata": {},
   "source": [
    "The RH values shown in **Fig 10** follows the trend of WNV cases in **Fig 8**."
   ]
  },
  {
   "cell_type": "code",
   "execution_count": 48,
   "metadata": {
    "ExecuteTime": {
     "end_time": "2022-02-04T02:07:25.558591Z",
     "start_time": "2022-02-04T02:07:25.267724Z"
    }
   },
   "outputs": [
    {
     "data": {
      "image/png": "[encoded data removed]",
      "text/plain": [
       "<Figure size 1008x432 with 1 Axes>"
      ]
     },
     "metadata": {
      "needs_background": "light"
     },
     "output_type": "display_data"
    }
   ],
   "source": [
    "daylight_avg = train.groupby(['week_of_year'], as_index=False)['daylight_hours'].mean()\n",
    "plt.figure(figsize=(14,6))\n",
    "plt.plot(daylight_avg['week_of_year'], daylight_avg['daylight_hours'])\n",
    "plt.xticks(range(20,42))\n",
    "plt.ylabel('Average Daylight Hours') \n",
    "plt.xlabel('Year-Week')\n",
    "plt.title('Fig 11: Average Daylight Hours (h) by Year-Week from Odd Years 2007-2013', fontsize=14)\n",
    "\n",
    "plt.axvline(27, linestyle='--', color='r')\n",
    "plt.axvline(40, linestyle='--', color='r')\n",
    "plt.axvline(33, linestyle='--', color='black')\n",
    "plt.axvline(35, linestyle='--', color='black');"
   ]
  },
  {
   "cell_type": "markdown",
   "metadata": {},
   "source": [
    "The average daylight hours recorded decreases from week 27 onwards as seen from **Fig 11**, which may indicate that the increase in nighttime hours/decrease in daytime hours may exacerbate mosquito activity and lead to an increase in WNV cases."
   ]
  },
  {
   "cell_type": "markdown",
   "metadata": {},
   "source": [
    "### WNV Cases by Mosquito Species\n",
    "\n",
    "From **Fig 12** & **Fig 13**, it can be seen that the main species which are trapped and found to have the WNV are the CULEX RESTUANS, CULEX PIPIENS, and CULEX PIPIENS/RESTUANS. WNV was not found on the other four species of mosquitoes despite records of trapping all 7 species.\n",
    "\n",
    "As the `num_mosquitos` feature is not in `test` dataset, we would need to impute values to create that feature for the `test` dataset, this would likely create an additional layer of complexity which may not improve our model. As such, we will drop the `num_mosquitos` feature before modelling.\n",
    "\n",
    "As the species feature is a nominal variable, we will create dummified variables and place the other mosquito species under the 'OTHERS' category to reduce the number of unnecessary features for modeling later."
   ]
  },
  {
   "cell_type": "code",
   "execution_count": 49,
   "metadata": {
    "ExecuteTime": {
     "end_time": "2022-02-04T02:07:25.870926Z",
     "start_time": "2022-02-04T02:07:25.560585Z"
    }
   },
   "outputs": [
    {
     "name": "stdout",
     "output_type": "stream",
     "text": [
      "                  species  num_mosquitos\n",
      "0         CULEX ERRATICUS              7\n",
      "1           CULEX PIPIENS          44671\n",
      "2  CULEX PIPIENS/RESTUANS          66268\n",
      "3          CULEX RESTUANS          23431\n",
      "4        CULEX SALINARIUS            145\n",
      "5          CULEX TARSALIS              7\n",
      "6         CULEX TERRITANS            510\n"
     ]
    },
    {
     "data": {
      "image/png": "[encoded data removed]",
      "text/plain": [
       "<Figure size 1008x288 with 1 Axes>"
      ]
     },
     "metadata": {
      "needs_background": "light"
     },
     "output_type": "display_data"
    }
   ],
   "source": [
    "species_trapped = train.groupby(['species'], as_index=False)['num_mosquitos'].sum()\n",
    "print(species_trapped)\n",
    "plt.figure(figsize=(14,4))\n",
    "sns.barplot(species_trapped['species'], species_trapped['num_mosquitos'])\n",
    "plt.xticks(rotation=30)\n",
    "plt.title('Fig 12: Mosquito Trapped by Species from Odd Years 2007-2013', fontsize=14);"
   ]
  },
  {
   "cell_type": "code",
   "execution_count": 50,
   "metadata": {
    "ExecuteTime": {
     "end_time": "2022-02-04T02:07:26.056163Z",
     "start_time": "2022-02-04T02:07:25.872892Z"
    }
   },
   "outputs": [
    {
     "name": "stdout",
     "output_type": "stream",
     "text": [
      "                  species  wnv_present\n",
      "0         CULEX ERRATICUS            0\n",
      "1           CULEX PIPIENS          240\n",
      "2  CULEX PIPIENS/RESTUANS          262\n",
      "3          CULEX RESTUANS           49\n",
      "4        CULEX SALINARIUS            0\n",
      "5          CULEX TARSALIS            0\n",
      "6         CULEX TERRITANS            0\n"
     ]
    },
    {
     "data": {
      "image/png": "[encoded data removed]",
      "text/plain": [
       "<Figure size 1008x288 with 1 Axes>"
      ]
     },
     "metadata": {
      "needs_background": "light"
     },
     "output_type": "display_data"
    }
   ],
   "source": [
    "species_wnv = train.groupby(['species'], as_index=False)['wnv_present'].sum()\n",
    "print(species_wnv)\n",
    "plt.figure(figsize=(14,4))\n",
    "sns.barplot(species_wnv['species'], species_wnv['wnv_present'])\n",
    "plt.xticks(rotation=30)\n",
    "plt.title('Fig 13: WNV Cases by Mosquito Species from Odd Years 2007-2013', fontsize=14);"
   ]
  },
  {
   "cell_type": "code",
   "execution_count": 51,
   "metadata": {
    "ExecuteTime": {
     "end_time": "2022-02-04T02:07:26.071161Z",
     "start_time": "2022-02-04T02:07:26.057159Z"
    }
   },
   "outputs": [],
   "source": [
    "# one-hot encoding the mosquito species\n",
    "majority_species = ['CULEX PIPIENS', 'CULEX PIPIENS/RESTUANS', 'CULEX RESTUANS']\n",
    "train['species'] = train['species'].apply(lambda x: 'OTHERS' if x not in majority_species else x)\n",
    "train = pd.get_dummies(train, columns=['species'], drop_first=True)\n",
    "test = pd.get_dummies(test, columns=['species'], drop_first=True)"
   ]
  },
  {
   "cell_type": "markdown",
   "metadata": {},
   "source": [
    "### Spray Effectiveness\n",
    "\n",
    "From the spray dataset, we observe that spraying was done in 2011 and 2013 on several occasions. In **Figs 14-17** we can see the weeks that the sprays were conducted for 2011 and 2013 respectively.\n",
    "\n",
    "From **Figs 14-15** we can observe that spraying was not seen to be effective as the number of mosquitos and WNV cases did not decrease (assuming that the number of mosquitoes trapped is a proxy measure of the mosquito population in Chicago)."
   ]
  },
  {
   "cell_type": "code",
   "execution_count": 52,
   "metadata": {},
   "outputs": [],
   "source": [
    "unique_spray_2011 = spray[spray['year']==2011]['week_of_year'].unique()\n",
    "unique_spray_2013 = spray[spray['year']==2013]['week_of_year'].unique()\n",
    "\n",
    "train2011 = train[train['year']==2011]\n",
    "spray2011 = train2011.groupby('week_of_year',as_index=False)['num_mosquitos'].sum()\n",
    "spray2011_wnv = train2011.groupby('week_of_year',as_index=False)['wnv_present'].sum()\n",
    "\n",
    "train2013 = train[train['year']==2013]\n",
    "spray2013 = train2013.groupby('week_of_year',as_index=False)['num_mosquitos'].sum()\n",
    "spray2013_wnv = train2013.groupby('week_of_year',as_index=False)['wnv_present'].sum()"
   ]
  },
  {
   "cell_type": "code",
   "execution_count": 53,
   "metadata": {},
   "outputs": [
    {
     "ename": "FileNotFoundError",
     "evalue": "[Errno 2] No such file or directory: 'plots/2011_spray.png'",
     "output_type": "error",
     "traceback": [
      "\u001b[0;31m---------------------------------------------------------------------------\u001b[0m",
      "\u001b[0;31mFileNotFoundError\u001b[0m                         Traceback (most recent call last)",
      "\u001b[0;32m/var/folders/j1/xsvj06t13klft0v6r5jcyv3r0000gp/T/ipykernel_20236/646684737.py\u001b[0m in \u001b[0;36m<module>\u001b[0;34m\u001b[0m\n\u001b[1;32m     18\u001b[0m \u001b[0;34m\u001b[0m\u001b[0m\n\u001b[1;32m     19\u001b[0m \u001b[0mplt\u001b[0m\u001b[0;34m.\u001b[0m\u001b[0mtight_layout\u001b[0m\u001b[0;34m(\u001b[0m\u001b[0;34m)\u001b[0m\u001b[0;34m\u001b[0m\u001b[0;34m\u001b[0m\u001b[0m\n\u001b[0;32m---> 20\u001b[0;31m \u001b[0mplt\u001b[0m\u001b[0;34m.\u001b[0m\u001b[0msavefig\u001b[0m\u001b[0;34m(\u001b[0m\u001b[0;34m'plots/2011_spray.png'\u001b[0m\u001b[0;34m)\u001b[0m\u001b[0;34m\u001b[0m\u001b[0;34m\u001b[0m\u001b[0m\n\u001b[0m",
      "\u001b[0;32m/opt/anaconda3/envs/python/lib/python3.9/site-packages/matplotlib/pyplot.py\u001b[0m in \u001b[0;36msavefig\u001b[0;34m(*args, **kwargs)\u001b[0m\n\u001b[1;32m    964\u001b[0m \u001b[0;32mdef\u001b[0m \u001b[0msavefig\u001b[0m\u001b[0;34m(\u001b[0m\u001b[0;34m*\u001b[0m\u001b[0margs\u001b[0m\u001b[0;34m,\u001b[0m \u001b[0;34m**\u001b[0m\u001b[0mkwargs\u001b[0m\u001b[0;34m)\u001b[0m\u001b[0;34m:\u001b[0m\u001b[0;34m\u001b[0m\u001b[0;34m\u001b[0m\u001b[0m\n\u001b[1;32m    965\u001b[0m     \u001b[0mfig\u001b[0m \u001b[0;34m=\u001b[0m \u001b[0mgcf\u001b[0m\u001b[0;34m(\u001b[0m\u001b[0;34m)\u001b[0m\u001b[0;34m\u001b[0m\u001b[0;34m\u001b[0m\u001b[0m\n\u001b[0;32m--> 966\u001b[0;31m     \u001b[0mres\u001b[0m \u001b[0;34m=\u001b[0m \u001b[0mfig\u001b[0m\u001b[0;34m.\u001b[0m\u001b[0msavefig\u001b[0m\u001b[0;34m(\u001b[0m\u001b[0;34m*\u001b[0m\u001b[0margs\u001b[0m\u001b[0;34m,\u001b[0m \u001b[0;34m**\u001b[0m\u001b[0mkwargs\u001b[0m\u001b[0;34m)\u001b[0m\u001b[0;34m\u001b[0m\u001b[0;34m\u001b[0m\u001b[0m\n\u001b[0m\u001b[1;32m    967\u001b[0m     \u001b[0mfig\u001b[0m\u001b[0;34m.\u001b[0m\u001b[0mcanvas\u001b[0m\u001b[0;34m.\u001b[0m\u001b[0mdraw_idle\u001b[0m\u001b[0;34m(\u001b[0m\u001b[0;34m)\u001b[0m   \u001b[0;31m# need this if 'transparent=True' to reset colors\u001b[0m\u001b[0;34m\u001b[0m\u001b[0;34m\u001b[0m\u001b[0m\n\u001b[1;32m    968\u001b[0m     \u001b[0;32mreturn\u001b[0m \u001b[0mres\u001b[0m\u001b[0;34m\u001b[0m\u001b[0;34m\u001b[0m\u001b[0m\n",
      "\u001b[0;32m/opt/anaconda3/envs/python/lib/python3.9/site-packages/matplotlib/figure.py\u001b[0m in \u001b[0;36msavefig\u001b[0;34m(self, fname, transparent, **kwargs)\u001b[0m\n\u001b[1;32m   3003\u001b[0m                 \u001b[0mpatch\u001b[0m\u001b[0;34m.\u001b[0m\u001b[0mset_edgecolor\u001b[0m\u001b[0;34m(\u001b[0m\u001b[0;34m'none'\u001b[0m\u001b[0;34m)\u001b[0m\u001b[0;34m\u001b[0m\u001b[0;34m\u001b[0m\u001b[0m\n\u001b[1;32m   3004\u001b[0m \u001b[0;34m\u001b[0m\u001b[0m\n\u001b[0;32m-> 3005\u001b[0;31m         \u001b[0mself\u001b[0m\u001b[0;34m.\u001b[0m\u001b[0mcanvas\u001b[0m\u001b[0;34m.\u001b[0m\u001b[0mprint_figure\u001b[0m\u001b[0;34m(\u001b[0m\u001b[0mfname\u001b[0m\u001b[0;34m,\u001b[0m \u001b[0;34m**\u001b[0m\u001b[0mkwargs\u001b[0m\u001b[0;34m)\u001b[0m\u001b[0;34m\u001b[0m\u001b[0;34m\u001b[0m\u001b[0m\n\u001b[0m\u001b[1;32m   3006\u001b[0m \u001b[0;34m\u001b[0m\u001b[0m\n\u001b[1;32m   3007\u001b[0m         \u001b[0;32mif\u001b[0m \u001b[0mtransparent\u001b[0m\u001b[0;34m:\u001b[0m\u001b[0;34m\u001b[0m\u001b[0;34m\u001b[0m\u001b[0m\n",
      "\u001b[0;32m/opt/anaconda3/envs/python/lib/python3.9/site-packages/matplotlib/backend_bases.py\u001b[0m in \u001b[0;36mprint_figure\u001b[0;34m(self, filename, dpi, facecolor, edgecolor, orientation, format, bbox_inches, pad_inches, bbox_extra_artists, backend, **kwargs)\u001b[0m\n\u001b[1;32m   2253\u001b[0m                 \u001b[0;31m# force the figure dpi to 72), so we need to set it again here.\u001b[0m\u001b[0;34m\u001b[0m\u001b[0;34m\u001b[0m\u001b[0m\n\u001b[1;32m   2254\u001b[0m                 \u001b[0;32mwith\u001b[0m \u001b[0mcbook\u001b[0m\u001b[0;34m.\u001b[0m\u001b[0m_setattr_cm\u001b[0m\u001b[0;34m(\u001b[0m\u001b[0mself\u001b[0m\u001b[0;34m.\u001b[0m\u001b[0mfigure\u001b[0m\u001b[0;34m,\u001b[0m \u001b[0mdpi\u001b[0m\u001b[0;34m=\u001b[0m\u001b[0mdpi\u001b[0m\u001b[0;34m)\u001b[0m\u001b[0;34m:\u001b[0m\u001b[0;34m\u001b[0m\u001b[0;34m\u001b[0m\u001b[0m\n\u001b[0;32m-> 2255\u001b[0;31m                     result = print_method(\n\u001b[0m\u001b[1;32m   2256\u001b[0m                         \u001b[0mfilename\u001b[0m\u001b[0;34m,\u001b[0m\u001b[0;34m\u001b[0m\u001b[0;34m\u001b[0m\u001b[0m\n\u001b[1;32m   2257\u001b[0m                         \u001b[0mfacecolor\u001b[0m\u001b[0;34m=\u001b[0m\u001b[0mfacecolor\u001b[0m\u001b[0;34m,\u001b[0m\u001b[0;34m\u001b[0m\u001b[0;34m\u001b[0m\u001b[0m\n",
      "\u001b[0;32m/opt/anaconda3/envs/python/lib/python3.9/site-packages/matplotlib/backend_bases.py\u001b[0m in \u001b[0;36mwrapper\u001b[0;34m(*args, **kwargs)\u001b[0m\n\u001b[1;32m   1667\u001b[0m             \u001b[0mkwargs\u001b[0m\u001b[0;34m.\u001b[0m\u001b[0mpop\u001b[0m\u001b[0;34m(\u001b[0m\u001b[0marg\u001b[0m\u001b[0;34m)\u001b[0m\u001b[0;34m\u001b[0m\u001b[0;34m\u001b[0m\u001b[0m\n\u001b[1;32m   1668\u001b[0m \u001b[0;34m\u001b[0m\u001b[0m\n\u001b[0;32m-> 1669\u001b[0;31m         \u001b[0;32mreturn\u001b[0m \u001b[0mfunc\u001b[0m\u001b[0;34m(\u001b[0m\u001b[0;34m*\u001b[0m\u001b[0margs\u001b[0m\u001b[0;34m,\u001b[0m \u001b[0;34m**\u001b[0m\u001b[0mkwargs\u001b[0m\u001b[0;34m)\u001b[0m\u001b[0;34m\u001b[0m\u001b[0;34m\u001b[0m\u001b[0m\n\u001b[0m\u001b[1;32m   1670\u001b[0m \u001b[0;34m\u001b[0m\u001b[0m\n\u001b[1;32m   1671\u001b[0m     \u001b[0;32mreturn\u001b[0m \u001b[0mwrapper\u001b[0m\u001b[0;34m\u001b[0m\u001b[0;34m\u001b[0m\u001b[0m\n",
      "\u001b[0;32m/opt/anaconda3/envs/python/lib/python3.9/site-packages/matplotlib/backends/backend_agg.py\u001b[0m in \u001b[0;36mprint_png\u001b[0;34m(self, filename_or_obj, metadata, pil_kwargs, *args)\u001b[0m\n\u001b[1;32m    507\u001b[0m         \"\"\"\n\u001b[1;32m    508\u001b[0m         \u001b[0mFigureCanvasAgg\u001b[0m\u001b[0;34m.\u001b[0m\u001b[0mdraw\u001b[0m\u001b[0;34m(\u001b[0m\u001b[0mself\u001b[0m\u001b[0;34m)\u001b[0m\u001b[0;34m\u001b[0m\u001b[0;34m\u001b[0m\u001b[0m\n\u001b[0;32m--> 509\u001b[0;31m         mpl.image.imsave(\n\u001b[0m\u001b[1;32m    510\u001b[0m             \u001b[0mfilename_or_obj\u001b[0m\u001b[0;34m,\u001b[0m \u001b[0mself\u001b[0m\u001b[0;34m.\u001b[0m\u001b[0mbuffer_rgba\u001b[0m\u001b[0;34m(\u001b[0m\u001b[0;34m)\u001b[0m\u001b[0;34m,\u001b[0m \u001b[0mformat\u001b[0m\u001b[0;34m=\u001b[0m\u001b[0;34m\"png\"\u001b[0m\u001b[0;34m,\u001b[0m \u001b[0morigin\u001b[0m\u001b[0;34m=\u001b[0m\u001b[0;34m\"upper\"\u001b[0m\u001b[0;34m,\u001b[0m\u001b[0;34m\u001b[0m\u001b[0;34m\u001b[0m\u001b[0m\n\u001b[1;32m    511\u001b[0m             dpi=self.figure.dpi, metadata=metadata, pil_kwargs=pil_kwargs)\n",
      "\u001b[0;32m/opt/anaconda3/envs/python/lib/python3.9/site-packages/matplotlib/image.py\u001b[0m in \u001b[0;36mimsave\u001b[0;34m(fname, arr, vmin, vmax, cmap, format, origin, dpi, metadata, pil_kwargs)\u001b[0m\n\u001b[1;32m   1614\u001b[0m         \u001b[0mpil_kwargs\u001b[0m\u001b[0;34m.\u001b[0m\u001b[0msetdefault\u001b[0m\u001b[0;34m(\u001b[0m\u001b[0;34m\"format\"\u001b[0m\u001b[0;34m,\u001b[0m \u001b[0mformat\u001b[0m\u001b[0;34m)\u001b[0m\u001b[0;34m\u001b[0m\u001b[0;34m\u001b[0m\u001b[0m\n\u001b[1;32m   1615\u001b[0m         \u001b[0mpil_kwargs\u001b[0m\u001b[0;34m.\u001b[0m\u001b[0msetdefault\u001b[0m\u001b[0;34m(\u001b[0m\u001b[0;34m\"dpi\"\u001b[0m\u001b[0;34m,\u001b[0m \u001b[0;34m(\u001b[0m\u001b[0mdpi\u001b[0m\u001b[0;34m,\u001b[0m \u001b[0mdpi\u001b[0m\u001b[0;34m)\u001b[0m\u001b[0;34m)\u001b[0m\u001b[0;34m\u001b[0m\u001b[0;34m\u001b[0m\u001b[0m\n\u001b[0;32m-> 1616\u001b[0;31m         \u001b[0mimage\u001b[0m\u001b[0;34m.\u001b[0m\u001b[0msave\u001b[0m\u001b[0;34m(\u001b[0m\u001b[0mfname\u001b[0m\u001b[0;34m,\u001b[0m \u001b[0;34m**\u001b[0m\u001b[0mpil_kwargs\u001b[0m\u001b[0;34m)\u001b[0m\u001b[0;34m\u001b[0m\u001b[0;34m\u001b[0m\u001b[0m\n\u001b[0m\u001b[1;32m   1617\u001b[0m \u001b[0;34m\u001b[0m\u001b[0m\n\u001b[1;32m   1618\u001b[0m \u001b[0;34m\u001b[0m\u001b[0m\n",
      "\u001b[0;32m/opt/anaconda3/envs/python/lib/python3.9/site-packages/PIL/Image.py\u001b[0m in \u001b[0;36msave\u001b[0;34m(self, fp, format, **params)\u001b[0m\n\u001b[1;32m   2235\u001b[0m                 \u001b[0mfp\u001b[0m \u001b[0;34m=\u001b[0m \u001b[0mbuiltins\u001b[0m\u001b[0;34m.\u001b[0m\u001b[0mopen\u001b[0m\u001b[0;34m(\u001b[0m\u001b[0mfilename\u001b[0m\u001b[0;34m,\u001b[0m \u001b[0;34m\"r+b\"\u001b[0m\u001b[0;34m)\u001b[0m\u001b[0;34m\u001b[0m\u001b[0;34m\u001b[0m\u001b[0m\n\u001b[1;32m   2236\u001b[0m             \u001b[0;32melse\u001b[0m\u001b[0;34m:\u001b[0m\u001b[0;34m\u001b[0m\u001b[0;34m\u001b[0m\u001b[0m\n\u001b[0;32m-> 2237\u001b[0;31m                 \u001b[0mfp\u001b[0m \u001b[0;34m=\u001b[0m \u001b[0mbuiltins\u001b[0m\u001b[0;34m.\u001b[0m\u001b[0mopen\u001b[0m\u001b[0;34m(\u001b[0m\u001b[0mfilename\u001b[0m\u001b[0;34m,\u001b[0m \u001b[0;34m\"w+b\"\u001b[0m\u001b[0;34m)\u001b[0m\u001b[0;34m\u001b[0m\u001b[0;34m\u001b[0m\u001b[0m\n\u001b[0m\u001b[1;32m   2238\u001b[0m \u001b[0;34m\u001b[0m\u001b[0m\n\u001b[1;32m   2239\u001b[0m         \u001b[0;32mtry\u001b[0m\u001b[0;34m:\u001b[0m\u001b[0;34m\u001b[0m\u001b[0;34m\u001b[0m\u001b[0m\n",
      "\u001b[0;31mFileNotFoundError\u001b[0m: [Errno 2] No such file or directory: 'plots/2011_spray.png'"
     ]
    },
    {
     "data": {
      "image/png": "[encoded data removed]",
      "text/plain": [
       "<Figure size 1080x432 with 2 Axes>"
      ]
     },
     "metadata": {
      "needs_background": "light"
     },
     "output_type": "display_data"
    }
   ],
   "source": [
    "# comparing num mosquitos trapped and wnv cases after spraying\n",
    "fig, ax = plt.subplots(nrows=2, figsize=(15,6))\n",
    "\n",
    "ax[0].plot(spray2011['week_of_year'], spray2011['num_mosquitos'])\n",
    "ax[0].set_title('Fig 14: Number of Mosquitos Trapped in 2011', fontsize=14)\n",
    "ax[0].set_xticks(range(20,42))\n",
    "for date in unique_spray_2011:\n",
    "    ax[0].axvline(date, linestyle='--', color='g')\n",
    "ax[0].legend(['mosquito', 'spray'], loc='upper right')\n",
    "\n",
    "    \n",
    "ax[1].plot(spray2011_wnv['week_of_year'], spray2011_wnv['wnv_present'])\n",
    "ax[1].set_title('Fig 15: Number of WNV Cases in 2011', fontsize=14)\n",
    "ax[1].set_xticks(range(20,42))\n",
    "for date in unique_spray_2011:\n",
    "    ax[1].axvline(date, linestyle='--', color='g')\n",
    "ax[1].legend(['mosquito', 'spray'], loc='upper right')\n",
    "\n",
    "plt.tight_layout()\n",
    "plt.savefig('plots/2011_spray.png')"
   ]
  },
  {
   "cell_type": "markdown",
   "metadata": {},
   "source": [
    "From **Figs 16-17** we can observe that there were more spraying conducted in 2013. The effectiveness of spraying was inconclusive as the number of mosquitos decreased in the proceeding weeks after spraying but the number of WNV cases did not decrease. This means that other factors are in play and responsible for the spread of the virus apart from the numbers in the mosquito population.\n",
    "\n",
    "We will be revisiting the plots below during the Cost-Benefit Analysis in Part 2."
   ]
  },
  {
   "cell_type": "code",
   "execution_count": 54,
   "metadata": {},
   "outputs": [
    {
     "ename": "FileNotFoundError",
     "evalue": "[Errno 2] No such file or directory: 'plots/2013_spray.png'",
     "output_type": "error",
     "traceback": [
      "\u001b[0;31m---------------------------------------------------------------------------\u001b[0m",
      "\u001b[0;31mFileNotFoundError\u001b[0m                         Traceback (most recent call last)",
      "\u001b[0;32m/var/folders/j1/xsvj06t13klft0v6r5jcyv3r0000gp/T/ipykernel_20236/621604202.py\u001b[0m in \u001b[0;36m<module>\u001b[0;34m\u001b[0m\n\u001b[1;32m     17\u001b[0m \u001b[0;34m\u001b[0m\u001b[0m\n\u001b[1;32m     18\u001b[0m \u001b[0mplt\u001b[0m\u001b[0;34m.\u001b[0m\u001b[0mtight_layout\u001b[0m\u001b[0;34m(\u001b[0m\u001b[0;34m)\u001b[0m\u001b[0;34m\u001b[0m\u001b[0;34m\u001b[0m\u001b[0m\n\u001b[0;32m---> 19\u001b[0;31m \u001b[0mplt\u001b[0m\u001b[0;34m.\u001b[0m\u001b[0msavefig\u001b[0m\u001b[0;34m(\u001b[0m\u001b[0;34m'plots/2013_spray.png'\u001b[0m\u001b[0;34m)\u001b[0m\u001b[0;34m\u001b[0m\u001b[0;34m\u001b[0m\u001b[0m\n\u001b[0m",
      "\u001b[0;32m/opt/anaconda3/envs/python/lib/python3.9/site-packages/matplotlib/pyplot.py\u001b[0m in \u001b[0;36msavefig\u001b[0;34m(*args, **kwargs)\u001b[0m\n\u001b[1;32m    964\u001b[0m \u001b[0;32mdef\u001b[0m \u001b[0msavefig\u001b[0m\u001b[0;34m(\u001b[0m\u001b[0;34m*\u001b[0m\u001b[0margs\u001b[0m\u001b[0;34m,\u001b[0m \u001b[0;34m**\u001b[0m\u001b[0mkwargs\u001b[0m\u001b[0;34m)\u001b[0m\u001b[0;34m:\u001b[0m\u001b[0;34m\u001b[0m\u001b[0;34m\u001b[0m\u001b[0m\n\u001b[1;32m    965\u001b[0m     \u001b[0mfig\u001b[0m \u001b[0;34m=\u001b[0m \u001b[0mgcf\u001b[0m\u001b[0;34m(\u001b[0m\u001b[0;34m)\u001b[0m\u001b[0;34m\u001b[0m\u001b[0;34m\u001b[0m\u001b[0m\n\u001b[0;32m--> 966\u001b[0;31m     \u001b[0mres\u001b[0m \u001b[0;34m=\u001b[0m \u001b[0mfig\u001b[0m\u001b[0;34m.\u001b[0m\u001b[0msavefig\u001b[0m\u001b[0;34m(\u001b[0m\u001b[0;34m*\u001b[0m\u001b[0margs\u001b[0m\u001b[0;34m,\u001b[0m \u001b[0;34m**\u001b[0m\u001b[0mkwargs\u001b[0m\u001b[0;34m)\u001b[0m\u001b[0;34m\u001b[0m\u001b[0;34m\u001b[0m\u001b[0m\n\u001b[0m\u001b[1;32m    967\u001b[0m     \u001b[0mfig\u001b[0m\u001b[0;34m.\u001b[0m\u001b[0mcanvas\u001b[0m\u001b[0;34m.\u001b[0m\u001b[0mdraw_idle\u001b[0m\u001b[0;34m(\u001b[0m\u001b[0;34m)\u001b[0m   \u001b[0;31m# need this if 'transparent=True' to reset colors\u001b[0m\u001b[0;34m\u001b[0m\u001b[0;34m\u001b[0m\u001b[0m\n\u001b[1;32m    968\u001b[0m     \u001b[0;32mreturn\u001b[0m \u001b[0mres\u001b[0m\u001b[0;34m\u001b[0m\u001b[0;34m\u001b[0m\u001b[0m\n",
      "\u001b[0;32m/opt/anaconda3/envs/python/lib/python3.9/site-packages/matplotlib/figure.py\u001b[0m in \u001b[0;36msavefig\u001b[0;34m(self, fname, transparent, **kwargs)\u001b[0m\n\u001b[1;32m   3003\u001b[0m                 \u001b[0mpatch\u001b[0m\u001b[0;34m.\u001b[0m\u001b[0mset_edgecolor\u001b[0m\u001b[0;34m(\u001b[0m\u001b[0;34m'none'\u001b[0m\u001b[0;34m)\u001b[0m\u001b[0;34m\u001b[0m\u001b[0;34m\u001b[0m\u001b[0m\n\u001b[1;32m   3004\u001b[0m \u001b[0;34m\u001b[0m\u001b[0m\n\u001b[0;32m-> 3005\u001b[0;31m         \u001b[0mself\u001b[0m\u001b[0;34m.\u001b[0m\u001b[0mcanvas\u001b[0m\u001b[0;34m.\u001b[0m\u001b[0mprint_figure\u001b[0m\u001b[0;34m(\u001b[0m\u001b[0mfname\u001b[0m\u001b[0;34m,\u001b[0m \u001b[0;34m**\u001b[0m\u001b[0mkwargs\u001b[0m\u001b[0;34m)\u001b[0m\u001b[0;34m\u001b[0m\u001b[0;34m\u001b[0m\u001b[0m\n\u001b[0m\u001b[1;32m   3006\u001b[0m \u001b[0;34m\u001b[0m\u001b[0m\n\u001b[1;32m   3007\u001b[0m         \u001b[0;32mif\u001b[0m \u001b[0mtransparent\u001b[0m\u001b[0;34m:\u001b[0m\u001b[0;34m\u001b[0m\u001b[0;34m\u001b[0m\u001b[0m\n",
      "\u001b[0;32m/opt/anaconda3/envs/python/lib/python3.9/site-packages/matplotlib/backend_bases.py\u001b[0m in \u001b[0;36mprint_figure\u001b[0;34m(self, filename, dpi, facecolor, edgecolor, orientation, format, bbox_inches, pad_inches, bbox_extra_artists, backend, **kwargs)\u001b[0m\n\u001b[1;32m   2253\u001b[0m                 \u001b[0;31m# force the figure dpi to 72), so we need to set it again here.\u001b[0m\u001b[0;34m\u001b[0m\u001b[0;34m\u001b[0m\u001b[0m\n\u001b[1;32m   2254\u001b[0m                 \u001b[0;32mwith\u001b[0m \u001b[0mcbook\u001b[0m\u001b[0;34m.\u001b[0m\u001b[0m_setattr_cm\u001b[0m\u001b[0;34m(\u001b[0m\u001b[0mself\u001b[0m\u001b[0;34m.\u001b[0m\u001b[0mfigure\u001b[0m\u001b[0;34m,\u001b[0m \u001b[0mdpi\u001b[0m\u001b[0;34m=\u001b[0m\u001b[0mdpi\u001b[0m\u001b[0;34m)\u001b[0m\u001b[0;34m:\u001b[0m\u001b[0;34m\u001b[0m\u001b[0;34m\u001b[0m\u001b[0m\n\u001b[0;32m-> 2255\u001b[0;31m                     result = print_method(\n\u001b[0m\u001b[1;32m   2256\u001b[0m                         \u001b[0mfilename\u001b[0m\u001b[0;34m,\u001b[0m\u001b[0;34m\u001b[0m\u001b[0;34m\u001b[0m\u001b[0m\n\u001b[1;32m   2257\u001b[0m                         \u001b[0mfacecolor\u001b[0m\u001b[0;34m=\u001b[0m\u001b[0mfacecolor\u001b[0m\u001b[0;34m,\u001b[0m\u001b[0;34m\u001b[0m\u001b[0;34m\u001b[0m\u001b[0m\n",
      "\u001b[0;32m/opt/anaconda3/envs/python/lib/python3.9/site-packages/matplotlib/backend_bases.py\u001b[0m in \u001b[0;36mwrapper\u001b[0;34m(*args, **kwargs)\u001b[0m\n\u001b[1;32m   1667\u001b[0m             \u001b[0mkwargs\u001b[0m\u001b[0;34m.\u001b[0m\u001b[0mpop\u001b[0m\u001b[0;34m(\u001b[0m\u001b[0marg\u001b[0m\u001b[0;34m)\u001b[0m\u001b[0;34m\u001b[0m\u001b[0;34m\u001b[0m\u001b[0m\n\u001b[1;32m   1668\u001b[0m \u001b[0;34m\u001b[0m\u001b[0m\n\u001b[0;32m-> 1669\u001b[0;31m         \u001b[0;32mreturn\u001b[0m \u001b[0mfunc\u001b[0m\u001b[0;34m(\u001b[0m\u001b[0;34m*\u001b[0m\u001b[0margs\u001b[0m\u001b[0;34m,\u001b[0m \u001b[0;34m**\u001b[0m\u001b[0mkwargs\u001b[0m\u001b[0;34m)\u001b[0m\u001b[0;34m\u001b[0m\u001b[0;34m\u001b[0m\u001b[0m\n\u001b[0m\u001b[1;32m   1670\u001b[0m \u001b[0;34m\u001b[0m\u001b[0m\n\u001b[1;32m   1671\u001b[0m     \u001b[0;32mreturn\u001b[0m \u001b[0mwrapper\u001b[0m\u001b[0;34m\u001b[0m\u001b[0;34m\u001b[0m\u001b[0m\n",
      "\u001b[0;32m/opt/anaconda3/envs/python/lib/python3.9/site-packages/matplotlib/backends/backend_agg.py\u001b[0m in \u001b[0;36mprint_png\u001b[0;34m(self, filename_or_obj, metadata, pil_kwargs, *args)\u001b[0m\n\u001b[1;32m    507\u001b[0m         \"\"\"\n\u001b[1;32m    508\u001b[0m         \u001b[0mFigureCanvasAgg\u001b[0m\u001b[0;34m.\u001b[0m\u001b[0mdraw\u001b[0m\u001b[0;34m(\u001b[0m\u001b[0mself\u001b[0m\u001b[0;34m)\u001b[0m\u001b[0;34m\u001b[0m\u001b[0;34m\u001b[0m\u001b[0m\n\u001b[0;32m--> 509\u001b[0;31m         mpl.image.imsave(\n\u001b[0m\u001b[1;32m    510\u001b[0m             \u001b[0mfilename_or_obj\u001b[0m\u001b[0;34m,\u001b[0m \u001b[0mself\u001b[0m\u001b[0;34m.\u001b[0m\u001b[0mbuffer_rgba\u001b[0m\u001b[0;34m(\u001b[0m\u001b[0;34m)\u001b[0m\u001b[0;34m,\u001b[0m \u001b[0mformat\u001b[0m\u001b[0;34m=\u001b[0m\u001b[0;34m\"png\"\u001b[0m\u001b[0;34m,\u001b[0m \u001b[0morigin\u001b[0m\u001b[0;34m=\u001b[0m\u001b[0;34m\"upper\"\u001b[0m\u001b[0;34m,\u001b[0m\u001b[0;34m\u001b[0m\u001b[0;34m\u001b[0m\u001b[0m\n\u001b[1;32m    511\u001b[0m             dpi=self.figure.dpi, metadata=metadata, pil_kwargs=pil_kwargs)\n",
      "\u001b[0;32m/opt/anaconda3/envs/python/lib/python3.9/site-packages/matplotlib/image.py\u001b[0m in \u001b[0;36mimsave\u001b[0;34m(fname, arr, vmin, vmax, cmap, format, origin, dpi, metadata, pil_kwargs)\u001b[0m\n\u001b[1;32m   1614\u001b[0m         \u001b[0mpil_kwargs\u001b[0m\u001b[0;34m.\u001b[0m\u001b[0msetdefault\u001b[0m\u001b[0;34m(\u001b[0m\u001b[0;34m\"format\"\u001b[0m\u001b[0;34m,\u001b[0m \u001b[0mformat\u001b[0m\u001b[0;34m)\u001b[0m\u001b[0;34m\u001b[0m\u001b[0;34m\u001b[0m\u001b[0m\n\u001b[1;32m   1615\u001b[0m         \u001b[0mpil_kwargs\u001b[0m\u001b[0;34m.\u001b[0m\u001b[0msetdefault\u001b[0m\u001b[0;34m(\u001b[0m\u001b[0;34m\"dpi\"\u001b[0m\u001b[0;34m,\u001b[0m \u001b[0;34m(\u001b[0m\u001b[0mdpi\u001b[0m\u001b[0;34m,\u001b[0m \u001b[0mdpi\u001b[0m\u001b[0;34m)\u001b[0m\u001b[0;34m)\u001b[0m\u001b[0;34m\u001b[0m\u001b[0;34m\u001b[0m\u001b[0m\n\u001b[0;32m-> 1616\u001b[0;31m         \u001b[0mimage\u001b[0m\u001b[0;34m.\u001b[0m\u001b[0msave\u001b[0m\u001b[0;34m(\u001b[0m\u001b[0mfname\u001b[0m\u001b[0;34m,\u001b[0m \u001b[0;34m**\u001b[0m\u001b[0mpil_kwargs\u001b[0m\u001b[0;34m)\u001b[0m\u001b[0;34m\u001b[0m\u001b[0;34m\u001b[0m\u001b[0m\n\u001b[0m\u001b[1;32m   1617\u001b[0m \u001b[0;34m\u001b[0m\u001b[0m\n\u001b[1;32m   1618\u001b[0m \u001b[0;34m\u001b[0m\u001b[0m\n",
      "\u001b[0;32m/opt/anaconda3/envs/python/lib/python3.9/site-packages/PIL/Image.py\u001b[0m in \u001b[0;36msave\u001b[0;34m(self, fp, format, **params)\u001b[0m\n\u001b[1;32m   2235\u001b[0m                 \u001b[0mfp\u001b[0m \u001b[0;34m=\u001b[0m \u001b[0mbuiltins\u001b[0m\u001b[0;34m.\u001b[0m\u001b[0mopen\u001b[0m\u001b[0;34m(\u001b[0m\u001b[0mfilename\u001b[0m\u001b[0;34m,\u001b[0m \u001b[0;34m\"r+b\"\u001b[0m\u001b[0;34m)\u001b[0m\u001b[0;34m\u001b[0m\u001b[0;34m\u001b[0m\u001b[0m\n\u001b[1;32m   2236\u001b[0m             \u001b[0;32melse\u001b[0m\u001b[0;34m:\u001b[0m\u001b[0;34m\u001b[0m\u001b[0;34m\u001b[0m\u001b[0m\n\u001b[0;32m-> 2237\u001b[0;31m                 \u001b[0mfp\u001b[0m \u001b[0;34m=\u001b[0m \u001b[0mbuiltins\u001b[0m\u001b[0;34m.\u001b[0m\u001b[0mopen\u001b[0m\u001b[0;34m(\u001b[0m\u001b[0mfilename\u001b[0m\u001b[0;34m,\u001b[0m \u001b[0;34m\"w+b\"\u001b[0m\u001b[0;34m)\u001b[0m\u001b[0;34m\u001b[0m\u001b[0;34m\u001b[0m\u001b[0m\n\u001b[0m\u001b[1;32m   2238\u001b[0m \u001b[0;34m\u001b[0m\u001b[0m\n\u001b[1;32m   2239\u001b[0m         \u001b[0;32mtry\u001b[0m\u001b[0;34m:\u001b[0m\u001b[0;34m\u001b[0m\u001b[0;34m\u001b[0m\u001b[0m\n",
      "\u001b[0;31mFileNotFoundError\u001b[0m: [Errno 2] No such file or directory: 'plots/2013_spray.png'"
     ]
    },
    {
     "data": {
      "image/png": "[encoded data removed]",
      "text/plain": [
       "<Figure size 1080x432 with 2 Axes>"
      ]
     },
     "metadata": {
      "needs_background": "light"
     },
     "output_type": "display_data"
    }
   ],
   "source": [
    "# comparing num mosquitos trapped and wnv cases after spraying\n",
    "fig, ax = plt.subplots(nrows=2, figsize=(15,6))\n",
    "\n",
    "ax[0].plot(spray2013['week_of_year'], spray2013['num_mosquitos'])\n",
    "ax[0].set_title('Fig 16: Number of Mosquitos Trapped in 2013', fontsize=14)\n",
    "ax[0].set_xticks(range(20,42))\n",
    "for date in unique_spray_2013:\n",
    "    ax[0].axvline(date, linestyle='--', color='g')\n",
    "ax[0].legend(['mosquito', 'spray'], loc='upper right')\n",
    "\n",
    "ax[1].plot(spray2013_wnv['week_of_year'], spray2013_wnv['wnv_present'])\n",
    "ax[1].set_title('Fig 17: Number of WNV Cases in 2013', fontsize=14)\n",
    "ax[1].set_xticks(range(20,42))\n",
    "for date in unique_spray_2013:\n",
    "    ax[1].axvline(date, linestyle='--', color='g')\n",
    "ax[1].legend(['mosquito', 'spray'], loc='upper right')\n",
    "\n",
    "plt.tight_layout()\n",
    "plt.savefig('plots/2013_spray.png')"
   ]
  },
  {
   "cell_type": "code",
   "execution_count": 58,
   "metadata": {},
   "outputs": [],
   "source": [
    "# drop num_mosquitos from train before finalizing train dataset for modelling\n",
    "train.drop('num_mosquitos', axis=1, inplace=True)"
   ]
  },
  {
   "cell_type": "markdown",
   "metadata": {},
   "source": [
    "# Export Data"
   ]
  },
  {
   "cell_type": "code",
   "execution_count": 59,
   "metadata": {
    "ExecuteTime": {
     "end_time": "2022-02-04T02:07:27.975352Z",
     "start_time": "2022-02-04T02:07:27.788679Z"
    }
   },
   "outputs": [],
   "source": [
    "train.to_csv('data/train_cleaned.csv', index = False)"
   ]
  },
  {
   "cell_type": "code",
   "execution_count": 60,
   "metadata": {
    "ExecuteTime": {
     "end_time": "2022-02-04T02:07:29.678958Z",
     "start_time": "2022-02-04T02:07:27.976349Z"
    }
   },
   "outputs": [],
   "source": [
    "test.to_csv('data/test_cleaned.csv', index = False)"
   ]
  },
  {
   "cell_type": "code",
   "execution_count": 61,
   "metadata": {},
   "outputs": [],
   "source": [
    "spray.to_csv('data/spray_cleaned.csv',index=False)"
   ]
  },
  {
   "cell_type": "markdown",
   "metadata": {},
   "source": [
    "# Next Step\n",
    "\n",
    "In the next notebook, we will be proceeding with the modeling process with the cleaned data sets that were exported."
   ]
  }
 ],
 "metadata": {
  "colab": {
   "collapsed_sections": [],
   "name": "GA Project 4.ipynb",
   "provenance": [],
   "toc_visible": true
  },
  "kernelspec": {
   "display_name": "Python 3 (ipykernel)",
   "language": "python",
   "name": "python3"
  },
  "language_info": {
   "codemirror_mode": {
    "name": "ipython",
    "version": 3
   },
   "file_extension": ".py",
   "mimetype": "text/x-python",
   "name": "python",
   "nbconvert_exporter": "python",
   "pygments_lexer": "ipython3",
   "version": "3.9.9"
  },
  "toc": {
   "base_numbering": 1,
   "nav_menu": {},
   "number_sections": false,
   "sideBar": true,
   "skip_h1_title": false,
   "title_cell": "Table of Contents",
   "title_sidebar": "Contents",
   "toc_cell": false,
   "toc_position": {
    "height": "calc(100% - 180px)",
    "left": "10px",
    "top": "150px",
    "width": "406.225px"
   },
   "toc_section_display": true,
   "toc_window_display": true
  }
 },
 "nbformat": 4,
 "nbformat_minor": 4
}
